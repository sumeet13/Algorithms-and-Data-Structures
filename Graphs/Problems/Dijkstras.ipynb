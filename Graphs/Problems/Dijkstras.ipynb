{
 "cells": [
  {
   "cell_type": "markdown",
   "metadata": {},
   "source": [
    "# Dijkstras \n",
    "\n",
    "It runs on directed and weighted graph. It is similar to prims and BFS. It is similar to BFS because it uses min priority queue. Similar to Prims because it uses the growing tree concept.\n",
    "\n"
   ]
  },
  {
   "cell_type": "code",
   "execution_count": 32,
   "metadata": {},
   "outputs": [
    {
     "name": "stdout",
     "output_type": "stream",
     "text": [
      "{'a': <__main__.Vertex object at 0x10794b748>, 'b': <__main__.Vertex object at 0x10e50f4a8>, 'c': <__main__.Vertex object at 0x10e50f2e8>, 'd': <__main__.Vertex object at 0x10e50f0f0>, 'e': <__main__.Vertex object at 0x10e50f3c8>, 'f': <__main__.Vertex object at 0x10e50f1d0>}\n"
     ]
    },
    {
     "data": {
      "text/plain": [
       "[('a', 'e', 10),\n",
       " ('a', 'c', 20),\n",
       " ('b', 'c', 30),\n",
       " ('b', 'e', 40),\n",
       " ('c', 'a', 20),\n",
       " ('c', 'b', 30),\n",
       " ('d', 'e', 50),\n",
       " ('e', 'a', 10),\n",
       " ('e', 'b', 40),\n",
       " ('e', 'd', 50),\n",
       " ('e', 'f', 60),\n",
       " ('f', 'e', 60)]"
      ]
     },
     "execution_count": 32,
     "metadata": {},
     "output_type": "execute_result"
    }
   ],
   "source": [
    "import math\n",
    "import sys\n",
    "\n",
    "class Vertex:\n",
    "    def __init__(self, node, weight=0):\n",
    "        self.id = node\n",
    "        self.visited = False\n",
    "        self.adjList = {}\n",
    "        self.weight = weight\n",
    "        self.distance = sys.maxsize\n",
    "        self.color = 'WHITE'\n",
    "        self.parent = None\n",
    "        self.start_time = -1\n",
    "        self.finish_time = -1\n",
    "\n",
    "    def set_start_time(self, start_time):\n",
    "        self.start_time = start_time\n",
    "\n",
    "    def get_start_time(self):\n",
    "        return self.start_time\n",
    "\n",
    "    def get_finish_time(self):\n",
    "        return self.finish_time\n",
    "\n",
    "    def set_finish_time(self, finish_time):\n",
    "        self.finish_time = finish_time\n",
    "\n",
    "    def add_neighbour(self, node, weight=0):\n",
    "        self.adjList[node] = weight\n",
    "\n",
    "    def set_distance(self, distance):\n",
    "        self.distance = distance\n",
    "\n",
    "    def get_distance(self):\n",
    "        return self.distance\n",
    "\n",
    "    def set_visited(self):\n",
    "        self.visited = True\n",
    "\n",
    "    def get_visited(self):\n",
    "        return self.visited\n",
    "\n",
    "    def set_id(self, node):\n",
    "        self.id = node\n",
    "\n",
    "    def get_id(self):\n",
    "        return self.id\n",
    "\n",
    "    def get_weight(self, neighbor):\n",
    "        return self.adjList[neighbor]\n",
    "\n",
    "    def get_neighbours(self):\n",
    "        return self.adjList\n",
    "\n",
    "    def set_parent(self, parent):\n",
    "        self.parent = parent\n",
    "\n",
    "    def get_parent(self):\n",
    "        return self.parent\n",
    "\n",
    "    def set_color(self, color):\n",
    "        self.color = color\n",
    "\n",
    "    def get_color(self):\n",
    "        return self.color\n",
    "\n",
    "\n",
    "class GraphAL():\n",
    "    def __init__(self, isDag=False):\n",
    "        self.numVertices = 0\n",
    "        self.isDag = isDag\n",
    "        self.vertices = {}\n",
    "\n",
    "    def add_vertex(self, ID):\n",
    "        self.numVertices += 1\n",
    "        new_vertex = Vertex(ID)\n",
    "        self.vertices[ID] = new_vertex\n",
    "\n",
    "    def add_edge(self, u, v, weight):\n",
    "        if u not in self.vertices:\n",
    "            self.add_vertex(u)\n",
    "\n",
    "        if v not in self.vertices:\n",
    "            self.add_vertex(v)\n",
    "\n",
    "        self.vertices[u].add_neighbour(self.vertices[v], weight)\n",
    "\n",
    "        if not self.isDag:\n",
    "            self.vertices[v].add_neighbour(self.vertices[u], weight)\n",
    "\n",
    "    def get_vertex(self, node):\n",
    "        if node in self.vertices:\n",
    "            return self.vertices[node]\n",
    "\n",
    "        return -1\n",
    "\n",
    "    def get_vertices(self):\n",
    "        return self.vertices\n",
    "\n",
    "    def get_edges(self):\n",
    "        edges = []\n",
    "        for u in self.vertices.values():\n",
    "            for v in u.get_neighbours():\n",
    "                edges.append((u.get_id(), v.get_id(), u.get_weight(v)))\n",
    "\n",
    "        return (edges)\n",
    "\n",
    "\n",
    "G = GraphAL()\n",
    "G.add_vertex('a')\n",
    "G.add_vertex('b')\n",
    "G.add_vertex('c')\n",
    "G.add_vertex('d')\n",
    "G.add_vertex('e')\n",
    "\n",
    "G.add_edge('a', 'e', 10)\n",
    "G.add_edge('a', 'c', 20)\n",
    "G.add_edge('c', 'b', 30)\n",
    "G.add_edge('b', 'e', 40)\n",
    "G.add_edge('e', 'd', 50)\n",
    "G.add_edge('f', 'e', 60)\n",
    "\n",
    "print(G.get_vertices())\n",
    "G.get_edges()"
   ]
  },
  {
   "cell_type": "code",
   "execution_count": 35,
   "metadata": {},
   "outputs": [
    {
     "name": "stdout",
     "output_type": "stream",
     "text": [
      "[('a', 0), ('b', 9223372036854775807), ('c', 9223372036854775807), ('d', 9223372036854775807), ('e', 9223372036854775807), ('f', 9223372036854775807)]\n",
      "('a', 0)\n",
      "('b', 9223372036854775807)\n",
      "('c', 9223372036854775807)\n",
      "('d', 9223372036854775807)\n",
      "('e', 9223372036854775807)\n",
      "('f', 9223372036854775807)\n"
     ]
    }
   ],
   "source": [
    "def relax(u, v):\n",
    "    \n",
    "    v.set_distance()\n",
    "\n",
    "\n",
    "import heapq, sys\n",
    "\n",
    "\n",
    "def dijkstra(G, s):\n",
    "    arr = [(s, 0)]\n",
    "    for u in G.get_vertices().values():\n",
    "        if u.get_id() not in arr[0]:\n",
    "            arr.append((u.get_id(), sys.maxsize))\n",
    "\n",
    "    print(arr)\n",
    "    heapq.heapify(arr)\n",
    "\n",
    "    while arr:\n",
    "        u = heapq.heappop(arr)\n",
    "        print(u)\n",
    "        for v in G.get_vertex(u[0]).get_neighbours():\n",
    "            relax(G.get_vertex(u[0]), v)\n",
    "\n",
    "\n",
    "dijkstra(G, 'a')"
   ]
  },
  {
   "cell_type": "code",
   "execution_count": 21,
   "metadata": {},
   "outputs": [
    {
     "name": "stdout",
     "output_type": "stream",
     "text": [
      "None\n"
     ]
    }
   ],
   "source": [
    "print(heapq.heapify([1, 0, 1]))"
   ]
  },
  {
   "cell_type": "code",
   "execution_count": 42,
   "metadata": {},
   "outputs": [
    {
     "name": "stdout",
     "output_type": "stream",
     "text": [
      "[<__main__.Vertex object at 0x10794b748>, <__main__.Vertex object at 0x10e50f4a8>, <__main__.Vertex object at 0x10e50f2e8>, <__main__.Vertex object at 0x10e50f0f0>, <__main__.Vertex object at 0x10e50f3c8>, <__main__.Vertex object at 0x10e50f1d0>]\n"
     ]
    },
    {
     "ename": "TypeError",
     "evalue": "'<' not supported between instances of 'Vertex' and 'Vertex'",
     "output_type": "error",
     "traceback": [
      "\u001b[0;31m---------------------------------------------------------------------------\u001b[0m",
      "\u001b[0;31mTypeError\u001b[0m                                 Traceback (most recent call last)",
      "\u001b[0;32m<ipython-input-42-cd01372c378d>\u001b[0m in \u001b[0;36m<module>\u001b[0;34m\u001b[0m\n\u001b[1;32m      1\u001b[0m \u001b[0ma\u001b[0m \u001b[0;34m=\u001b[0m \u001b[0mlist\u001b[0m\u001b[0;34m(\u001b[0m\u001b[0mG\u001b[0m\u001b[0;34m.\u001b[0m\u001b[0mget_vertices\u001b[0m\u001b[0;34m(\u001b[0m\u001b[0;34m)\u001b[0m\u001b[0;34m.\u001b[0m\u001b[0mvalues\u001b[0m\u001b[0;34m(\u001b[0m\u001b[0;34m)\u001b[0m\u001b[0;34m)\u001b[0m\u001b[0;34m\u001b[0m\u001b[0;34m\u001b[0m\u001b[0m\n\u001b[1;32m      2\u001b[0m \u001b[0mprint\u001b[0m\u001b[0;34m(\u001b[0m\u001b[0ma\u001b[0m\u001b[0;34m)\u001b[0m\u001b[0;34m\u001b[0m\u001b[0;34m\u001b[0m\u001b[0m\n\u001b[0;32m----> 3\u001b[0;31m \u001b[0mheapq\u001b[0m\u001b[0;34m.\u001b[0m\u001b[0mheapify\u001b[0m\u001b[0;34m(\u001b[0m\u001b[0ma\u001b[0m\u001b[0;34m)\u001b[0m\u001b[0;34m\u001b[0m\u001b[0;34m\u001b[0m\u001b[0m\n\u001b[0m\u001b[1;32m      4\u001b[0m \u001b[0mprint\u001b[0m\u001b[0;34m(\u001b[0m\u001b[0ma\u001b[0m\u001b[0;34m)\u001b[0m\u001b[0;34m\u001b[0m\u001b[0;34m\u001b[0m\u001b[0m\n",
      "\u001b[0;31mTypeError\u001b[0m: '<' not supported between instances of 'Vertex' and 'Vertex'"
     ]
    }
   ],
   "source": [
    "a = list(G.get_vertices().values())\n",
    "print(a)\n",
    "heapq.heapify(a)\n",
    "print(a)"
   ]
  },
  {
   "cell_type": "code",
   "execution_count": null,
   "metadata": {},
   "outputs": [],
   "source": []
  }
 ],
 "metadata": {
  "kernelspec": {
   "display_name": "Python 3",
   "language": "python",
   "name": "python3"
  },
  "language_info": {
   "codemirror_mode": {
    "name": "ipython",
    "version": 3
   },
   "file_extension": ".py",
   "mimetype": "text/x-python",
   "name": "python",
   "nbconvert_exporter": "python",
   "pygments_lexer": "ipython3",
   "version": "3.7.2"
  },
  "varInspector": {
   "cols": {
    "lenName": 16,
    "lenType": 16,
    "lenVar": 40
   },
   "kernels_config": {
    "python": {
     "delete_cmd_postfix": "",
     "delete_cmd_prefix": "del ",
     "library": "var_list.py",
     "varRefreshCmd": "print(var_dic_list())"
    },
    "r": {
     "delete_cmd_postfix": ") ",
     "delete_cmd_prefix": "rm(",
     "library": "var_list.r",
     "varRefreshCmd": "cat(var_dic_list()) "
    }
   },
   "types_to_exclude": [
    "module",
    "function",
    "builtin_function_or_method",
    "instance",
    "_Feature"
   ],
   "window_display": false
  }
 },
 "nbformat": 4,
 "nbformat_minor": 2
}
