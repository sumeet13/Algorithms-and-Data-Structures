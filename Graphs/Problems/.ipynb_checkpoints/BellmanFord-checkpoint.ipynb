{
 "cells": [
  {
   "cell_type": "code",
   "execution_count": 1,
   "metadata": {},
   "outputs": [
    {
     "name": "stdout",
     "output_type": "stream",
     "text": [
      "{'a': <__main__.Vertex object at 0x10819a208>, 'b': <__main__.Vertex object at 0x10819a278>, 'c': <__main__.Vertex object at 0x10819a0b8>, 'd': <__main__.Vertex object at 0x10819a2b0>, 'e': <__main__.Vertex object at 0x10819a2e8>, 'f': <__main__.Vertex object at 0x10819a320>}\n"
     ]
    },
    {
     "data": {
      "text/plain": [
       "[('a', 'e', 10),\n",
       " ('a', 'c', 20),\n",
       " ('b', 'e', 40),\n",
       " ('c', 'b', 30),\n",
       " ('e', 'd', 50),\n",
       " ('f', 'e', 60)]"
      ]
     },
     "execution_count": 1,
     "metadata": {},
     "output_type": "execute_result"
    }
   ],
   "source": [
    "import math\n",
    "import sys\n",
    "\n",
    "class Vertex:\n",
    "    def __init__(self, node, weight=0):\n",
    "        self.id = node\n",
    "        self.visited = False\n",
    "        self.adjList = {}\n",
    "        self.weight = weight\n",
    "        self.distance = sys.maxsize\n",
    "        self.color = 'WHITE'\n",
    "        self.parent = None\n",
    "        self.start_time = -1\n",
    "        self.finish_time = -1\n",
    "\n",
    "    def set_start_time(self, start_time):\n",
    "        self.start_time = start_time\n",
    "\n",
    "    def get_start_time(self):\n",
    "        return self.start_time\n",
    "\n",
    "    def get_finish_time(self):\n",
    "        return self.finish_time\n",
    "\n",
    "    def set_finish_time(self, finish_time):\n",
    "        self.finish_time = finish_time\n",
    "\n",
    "    def add_neighbour(self, node, weight=0):\n",
    "        self.adjList[node] = weight\n",
    "\n",
    "    def set_distance(self, distance):\n",
    "        self.distance = distance\n",
    "\n",
    "    def get_distance(self):\n",
    "        return self.distance\n",
    "\n",
    "    def set_visited(self):\n",
    "        self.visited = True\n",
    "\n",
    "    def get_visited(self):\n",
    "        return self.visited\n",
    "\n",
    "    def set_id(self, node):\n",
    "        self.id = node\n",
    "\n",
    "    def get_id(self):\n",
    "        return self.id\n",
    "\n",
    "    def get_weight(self, neighbor):\n",
    "        return self.adjList[neighbor]\n",
    "\n",
    "    def get_neighbours(self):\n",
    "        return self.adjList\n",
    "\n",
    "    def set_parent(self, parent):\n",
    "        self.parent = parent\n",
    "\n",
    "    def get_parent(self):\n",
    "        return self.parent\n",
    "\n",
    "    def set_color(self, color):\n",
    "        self.color = color\n",
    "\n",
    "    def get_color(self):\n",
    "        return self.color\n",
    "\n",
    "\n",
    "class GraphAL():\n",
    "    def __init__(self, isDag=False):\n",
    "        self.numVertices = 0\n",
    "        self.isDag = isDag\n",
    "        self.vertices = {}\n",
    "\n",
    "    def add_vertex(self, ID):\n",
    "        self.numVertices += 1\n",
    "        new_vertex = Vertex(ID)\n",
    "        self.vertices[ID] = new_vertex\n",
    "\n",
    "    def add_edge(self, u, v, weight):\n",
    "        if u not in self.vertices:\n",
    "            self.add_vertex(u)\n",
    "\n",
    "        if v not in self.vertices:\n",
    "            self.add_vertex(v)\n",
    "\n",
    "        self.vertices[u].add_neighbour(self.vertices[v], weight)\n",
    "\n",
    "        if not self.isDag:\n",
    "            self.vertices[v].add_neighbour(self.vertices[u], weight)\n",
    "\n",
    "    def get_vertex(self, node):\n",
    "        if node in self.vertices:\n",
    "            return self.vertices[node]\n",
    "\n",
    "        return -1\n",
    "\n",
    "    def get_vertices(self):\n",
    "        return self.vertices\n",
    "    \n",
    "    def get_num_verticies(self):\n",
    "        return self.numVertices\n",
    "\n",
    "    def get_edges(self):\n",
    "        edges = []\n",
    "        for u in self.vertices.values():\n",
    "            for v in u.get_neighbours():\n",
    "                edges.append((u.get_id(), v.get_id(), u.get_weight(v)))\n",
    "\n",
    "        return (edges)\n",
    "\n",
    "\n",
    "G = GraphAL(True)\n",
    "G.add_vertex('a')\n",
    "G.add_vertex('b')\n",
    "G.add_vertex('c')\n",
    "G.add_vertex('d')\n",
    "G.add_vertex('e')\n",
    "\n",
    "G.add_edge('a', 'e', 10)\n",
    "G.add_edge('a', 'c', 20)\n",
    "G.add_edge('c', 'b', 30)\n",
    "G.add_edge('b', 'e', 40)\n",
    "G.add_edge('e', 'd', 50)\n",
    "G.add_edge('f', 'e', 60)\n",
    "\n",
    "print(G.get_vertices())\n",
    "G.get_edges()"
   ]
  },
  {
   "cell_type": "code",
   "execution_count": 2,
   "metadata": {},
   "outputs": [
    {
     "name": "stdout",
     "output_type": "stream",
     "text": [
      "0 a\n",
      "50 b\n",
      "20 c\n",
      "60 d\n",
      "10 e\n",
      "9223372036854775807 f\n"
     ]
    },
    {
     "data": {
      "text/plain": [
       "True"
      ]
     },
     "execution_count": 2,
     "metadata": {},
     "output_type": "execute_result"
    }
   ],
   "source": [
    "def bellmanFord(G, s):\n",
    "    numVertices = G.get_num_verticies()\n",
    "\n",
    "    G.get_vertex(s).set_distance(0)\n",
    "\n",
    "    for n in range(numVertices - 1):\n",
    "        for e in G.get_edges():\n",
    "            u, v, w = e\n",
    "            u_vertex = G.get_vertex(u)\n",
    "            v_vertex = G.get_vertex(v)\n",
    "            v_vertex.set_distance(\n",
    "                min(u_vertex.get_distance() + u_vertex.get_weight(v_vertex),\n",
    "                    v_vertex.get_distance()))\n",
    "            \n",
    "            \n",
    "\n",
    "\n",
    "    for e in G.get_vertices():\n",
    "        print(G.get_vertex(e).get_distance(), e)\n",
    "        \n",
    "    for e in G.get_edges():\n",
    "        u, v, w = e\n",
    "        u_vertex = G.get_vertex(u)\n",
    "        v_vertex = G.get_vertex(v)\n",
    "        if v_vertex.get_distance() > u_vertex.get_distance() + u_vertex.get_weight(v_vertex):\n",
    "            print(v_vertex.get_distance(), v_vertex.get_id())\n",
    "            print(u_vertex.get_distance(), u_vertex.get_id(), \"weight: \", u_vertex.get_weight(v_vertex))\n",
    "            return False\n",
    "\n",
    "    return True\n",
    "bellmanFord(G, 'a')"
   ]
  }
 ],
 "metadata": {
  "kernelspec": {
   "display_name": "Python 3",
   "language": "python",
   "name": "python3"
  },
  "language_info": {
   "codemirror_mode": {
    "name": "ipython",
    "version": 3
   },
   "file_extension": ".py",
   "mimetype": "text/x-python",
   "name": "python",
   "nbconvert_exporter": "python",
   "pygments_lexer": "ipython3",
   "version": "3.7.2"
  },
  "varInspector": {
   "cols": {
    "lenName": 16,
    "lenType": 16,
    "lenVar": 40
   },
   "kernels_config": {
    "python": {
     "delete_cmd_postfix": "",
     "delete_cmd_prefix": "del ",
     "library": "var_list.py",
     "varRefreshCmd": "print(var_dic_list())"
    },
    "r": {
     "delete_cmd_postfix": ") ",
     "delete_cmd_prefix": "rm(",
     "library": "var_list.r",
     "varRefreshCmd": "cat(var_dic_list()) "
    }
   },
   "types_to_exclude": [
    "module",
    "function",
    "builtin_function_or_method",
    "instance",
    "_Feature"
   ],
   "window_display": false
  }
 },
 "nbformat": 4,
 "nbformat_minor": 2
}
