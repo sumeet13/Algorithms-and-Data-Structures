{
 "cells": [
  {
   "cell_type": "code",
   "execution_count": 2,
   "metadata": {},
   "outputs": [],
   "source": [
    "NINF = float('-inf')\n",
    "graph =[[0,NINF,NINF,1,NINF,NINF,NINF,NINF,NINF,NINF,NINF,NINF,NINF,NINF],\n",
    "[NINF,0,5,NINF,NINF,NINF,NINF,NINF,NINF,NINF,NINF,NINF,NINF,NINF],\n",
    "[NINF,NINF,0,NINF,NINF,NINF,NINF,NINF,3,2,1,NINF,NINF,NINF],\n",
    "[NINF,NINF,NINF,0,2,NINF,NINF,NINF,NINF,NINF,NINF,NINF,NINF,NINF],\n",
    "[NINF,NINF,NINF,NINF,0,3,5,3,NINF,NINF,NINF,NINF,NINF,NINF],\n",
    "[NINF,NINF,NINF,NINF,NINF,0,NINF,NINF,4,5,6,NINF,NINF,NINF],\n",
    "[NINF,NINF,NINF,NINF,NINF,NINF,0,NINF,3,NINF,NINF,NINF,NINF,NINF],\n",
    "[NINF,NINF,NINF,NINF,NINF,NINF,NINF,0,2,3,6,NINF,NINF,NINF],\n",
    "[NINF,NINF,NINF,NINF,NINF,NINF,NINF,NINF,0,NINF,NINF,8,NINF,NINF],\n",
    "[NINF,NINF,NINF,NINF,NINF,NINF,NINF,NINF,NINF,0,NINF,NINF,9,NINF],\n",
    "[NINF,NINF,NINF,NINF,NINF,NINF,NINF,NINF,NINF,NINF,0,NINF,NINF,7],\n",
    "[NINF,NINF,NINF,NINF,NINF,NINF,NINF,NINF,NINF,NINF,NINF,0,NINF,NINF],\n",
    "[NINF,NINF,NINF,NINF,NINF,NINF,NINF,NINF,NINF,NINF,NINF,NINF,0,NINF],\n",
    "[NINF,NINF,NINF,NINF,NINF,NINF,NINF,NINF,NINF,NINF,NINF,NINF,NINF,0]]\n",
    "\n",
    "V = len(graph)"
   ]
  },
  {
   "cell_type": "markdown",
   "metadata": {},
   "source": [
    "# Convert the graph into adjacency list format"
   ]
  },
  {
   "cell_type": "code",
   "execution_count": 15,
   "metadata": {},
   "outputs": [
    {
     "name": "stdout",
     "output_type": "stream",
     "text": [
      "defaultdict(<class 'list'>, {0: [(3, 1)], 1: [(2, 5)], 2: [(8, 3), (9, 2), (10, 1)], 3: [(4, 2)], 4: [(5, 3), (6, 5), (7, 3)], 5: [(8, 4), (9, 5), (10, 6)], 6: [(8, 3)], 7: [(8, 2), (9, 3), (10, 6)], 8: [(11, 8)], 9: [(12, 9)], 10: [(13, 7)], -1: [(0, 0), (1, 0)]})\n",
      "defaultdict(<class 'list'>, {0: [(3, 1)], 1: [(2, 5)], 2: [(8, 3), (9, 2), (10, 1)], 3: [(4, 2)], 4: [(6, 5), (5, 3), (7, 3)], 5: [(10, 6), (9, 5), (8, 4)], 6: [(8, 3)], 7: [(10, 6), (9, 3), (8, 2)], 8: [(11, 8)], 9: [(12, 9)], 10: [(13, 7)], -1: [(0, 0), (1, 0)]})\n"
     ]
    }
   ],
   "source": [
    "import collections\n",
    "adj_list = collections.defaultdict(list)\n",
    "for i in range(V):\n",
    "    for j in range(V):\n",
    "        \n",
    "        if graph[i][j] not in [0,NINF]:\n",
    "            adj_list[i].append((j,graph[i][j]))\n",
    "            \n",
    "\n",
    "adj_list[-1] = [(0,0),(1,0)]\n",
    "print(adj_list)\n",
    "\n",
    "\n",
    "for k in adj_list:\n",
    "    \n",
    "    adj_list[k].sort(key = lambda x: x[1], reverse = True)\n",
    "    \n",
    "print(adj_list)"
   ]
  },
  {
   "cell_type": "code",
   "execution_count": 16,
   "metadata": {},
   "outputs": [
    {
     "name": "stdout",
     "output_type": "stream",
     "text": [
      "[1, 2, 0, 3, 4, 7, 5, 9, 12, 10, 13, 6, 8, 11]\n"
     ]
    }
   ],
   "source": [
    "def dfs(s,path,time):\n",
    "    \n",
    "    visited[s+1] = True\n",
    "    if s in adj_list:\n",
    "        for n,w in adj_list[s]:\n",
    "            if visited[n+1]==False:\n",
    "                \n",
    "                dfs(n,path+[n],time+w)\n",
    "            \n",
    "    all_paths.append(s)\n",
    "    \n",
    "visited = [False for i in range(V+1)]\n",
    "all_paths = []\n",
    "dfs(-1, [],0)\n",
    "all_paths.reverse()\n",
    "\n",
    "print(all_paths[1:])\n",
    "        \n",
    "    "
   ]
  },
  {
   "cell_type": "code",
   "execution_count": null,
   "metadata": {},
   "outputs": [],
   "source": []
  }
 ],
 "metadata": {
  "kernelspec": {
   "display_name": "Python 3",
   "language": "python",
   "name": "python3"
  },
  "language_info": {
   "codemirror_mode": {
    "name": "ipython",
    "version": 3
   },
   "file_extension": ".py",
   "mimetype": "text/x-python",
   "name": "python",
   "nbconvert_exporter": "python",
   "pygments_lexer": "ipython3",
   "version": "3.7.2"
  },
  "varInspector": {
   "cols": {
    "lenName": 16,
    "lenType": 16,
    "lenVar": 40
   },
   "kernels_config": {
    "python": {
     "delete_cmd_postfix": "",
     "delete_cmd_prefix": "del ",
     "library": "var_list.py",
     "varRefreshCmd": "print(var_dic_list())"
    },
    "r": {
     "delete_cmd_postfix": ") ",
     "delete_cmd_prefix": "rm(",
     "library": "var_list.r",
     "varRefreshCmd": "cat(var_dic_list()) "
    }
   },
   "types_to_exclude": [
    "module",
    "function",
    "builtin_function_or_method",
    "instance",
    "_Feature"
   ],
   "window_display": false
  }
 },
 "nbformat": 4,
 "nbformat_minor": 2
}
