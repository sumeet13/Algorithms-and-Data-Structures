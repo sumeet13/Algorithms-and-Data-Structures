{
 "cells": [
  {
   "cell_type": "markdown",
   "metadata": {},
   "source": [
    "# Adjacency Matrix:\n",
    "\n",
    " Consists of the vertex class that has a track of whether it is visited or not, how many adjacent vertices it has, add_neighbour"
   ]
  },
  {
   "cell_type": "code",
   "execution_count": 11,
   "metadata": {},
   "outputs": [
    {
     "name": "stdout",
     "output_type": "stream",
     "text": [
      "Vertices:  [<__main__.Vertex object at 0x10e08b390>, <__main__.Vertex object at 0x10e08b400>, <__main__.Vertex object at 0x10e08b278>, <__main__.Vertex object at 0x10e08b2b0>, <__main__.Vertex object at 0x10e08b3c8>]\n",
      "[-1, -1, -1, -1, -1]\n",
      "[-1, -1, -1, -1, -1]\n",
      "[-1, -1, -1, -1, -1]\n",
      "[-1, -1, -1, -1, -1]\n",
      "[-1, -1, -1, -1, -1]\n",
      "None\n",
      "[-1, -1, 20, -1, 10]\n",
      "[-1, -1, 30, -1, 40]\n",
      "[20, 30, -1, -1, -1]\n",
      "[-1, -1, -1, -1, 50]\n",
      "[10, 40, -1, 50, -1]\n",
      "None\n",
      "[('a', 'c', 20), ('a', 'e', 10), ('b', 'c', 30), ('b', 'e', 40), ('c', 'a', 20), ('c', 'b', 30), ('d', 'e', 50), ('e', 'a', 10), ('e', 'b', 40), ('e', 'd', 50)]\n"
     ]
    }
   ],
   "source": [
    "class Vertex:\n",
    "    def __init__(self, node):\n",
    "        self.ID = node\n",
    "        setVisited = False\n",
    "\n",
    "    def add_neighbour(self, neighbour, G):\n",
    "        G.add_edge(self.ID, neighbour)\n",
    "\n",
    "    def get_connections(self, G):\n",
    "        return G.adjMatrix[self.ID]\n",
    "\n",
    "    def get_vertexID(self):\n",
    "        return self.ID\n",
    "\n",
    "    def set_vertexID(self, ID):\n",
    "        self.ID = ID\n",
    "\n",
    "    def set_visited(self):\n",
    "        self.visited = True\n",
    "\n",
    "    def __str__(self):\n",
    "        return str(self.ID)\n",
    "\n",
    "\n",
    "class Graph:\n",
    "    def __init__(self, numVertices, cost=0):\n",
    "        self.adjMatrix = [[-1] * numVertices for i in range(numVertices)]\n",
    "        self.numVertices = numVertices\n",
    "        self.vertices = []\n",
    "\n",
    "        for i in range(numVertices):\n",
    "            newVertex = Vertex(i)\n",
    "            self.vertices.append(newVertex)\n",
    "            \n",
    "        print(\"Vertices: \",self.vertices)\n",
    "\n",
    "    def get_vertex(self, n):\n",
    "        for v in range(self.numVertices):\n",
    "            if n == self.vertices[v].get_vertexID():\n",
    "                return v\n",
    "\n",
    "        return -1\n",
    "\n",
    "    def set_vertex(self, v, ID):\n",
    "        if 0 <= v < self.numVertices:\n",
    "            self.vertices[v].set_vertexID(ID)\n",
    "\n",
    "    def add_edge(self, u, v, cost=0):\n",
    "\n",
    "        if self.get_vertex(u) != -1 and self.get_vertex(v) != -1:\n",
    "            self.adjMatrix[self.get_vertex(u)][self.get_vertex(v)] = cost\n",
    "\n",
    "            # won't do this for directed graph\n",
    "            self.adjMatrix[self.get_vertex(v)][self.get_vertex(u)] = cost\n",
    "\n",
    "    def get_vertices(self):\n",
    "        vertices = []\n",
    "        for v in range(self.numVertices):\n",
    "            vertices.append(self.vertices[v].get_vertexID())\n",
    "\n",
    "        return vertices\n",
    "\n",
    "    def print_matrix(self):\n",
    "        for u in range(self.numVertices):\n",
    "            print(self.adjMatrix[u][:])\n",
    "\n",
    "    def get_edges(self):\n",
    "        edges = []\n",
    "        for u in range(self.numVertices):\n",
    "            for v in range(self.numVertices):\n",
    "\n",
    "                if self.adjMatrix[u][v] != -1:\n",
    "                    uid = self.vertices[u].get_vertexID()\n",
    "                    vid = self.vertices[v].get_vertexID()\n",
    "                    edges.append((uid, vid, self.adjMatrix[u][v]))\n",
    "\n",
    "        return edges\n",
    "\n",
    "\n",
    "G = Graph(5)\n",
    "G.set_vertex(0,'a')\n",
    "G.set_vertex(1,'b')\n",
    "G.set_vertex(2,'c')\n",
    "G.set_vertex(3,'d')\n",
    "G.set_vertex(4,'e')\n",
    "print(G.print_matrix())\n",
    "\n",
    "G.add_edge('a','e',10)\n",
    "G.add_edge('a','c',20)\n",
    "G.add_edge('c','b',30)\n",
    "G.add_edge('b','e',40)\n",
    "G.add_edge('e','d',50)\n",
    "G.add_edge('f','e',60)\n",
    "\n",
    "print(G.print_matrix())\n",
    "print(G.get_edges())"
   ]
  }
 ],
 "metadata": {
  "kernelspec": {
   "display_name": "Python 3",
   "language": "python",
   "name": "python3"
  },
  "language_info": {
   "codemirror_mode": {
    "name": "ipython",
    "version": 3
   },
   "file_extension": ".py",
   "mimetype": "text/x-python",
   "name": "python",
   "nbconvert_exporter": "python",
   "pygments_lexer": "ipython3",
   "version": "3.7.2"
  },
  "varInspector": {
   "cols": {
    "lenName": 16,
    "lenType": 16,
    "lenVar": 40
   },
   "kernels_config": {
    "python": {
     "delete_cmd_postfix": "",
     "delete_cmd_prefix": "del ",
     "library": "var_list.py",
     "varRefreshCmd": "print(var_dic_list())"
    },
    "r": {
     "delete_cmd_postfix": ") ",
     "delete_cmd_prefix": "rm(",
     "library": "var_list.r",
     "varRefreshCmd": "cat(var_dic_list()) "
    }
   },
   "types_to_exclude": [
    "module",
    "function",
    "builtin_function_or_method",
    "instance",
    "_Feature"
   ],
   "window_display": false
  }
 },
 "nbformat": 4,
 "nbformat_minor": 2
}
