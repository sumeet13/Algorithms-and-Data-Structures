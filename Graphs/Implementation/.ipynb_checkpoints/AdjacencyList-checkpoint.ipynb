{
 "cells": [
  {
   "cell_type": "code",
   "execution_count": 1,
   "metadata": {},
   "outputs": [
    {
     "name": "stdout",
     "output_type": "stream",
     "text": [
      "dict_keys(['a', 'b', 'c', 'd', 'e', 'f'])\n",
      "[('a', 'e', 10), ('a', 'c', 20), ('b', 'c', 30), ('b', 'e', 40), ('c', 'a', 20), ('c', 'b', 30), ('d', 'e', 50), ('e', 'a', 10), ('e', 'b', 40), ('e', 'd', 50), ('e', 'f', 60), ('f', 'e', 60)]\n"
     ]
    }
   ],
   "source": [
    "import sys\n",
    "\n",
    "\n",
    "class Vertex:\n",
    "    def __init__(self, node):\n",
    "        self.id = node\n",
    "        self.adjList = {}\n",
    "        self.visited = False\n",
    "        self.previous = None\n",
    "        self.weight = sys.maxsize\n",
    "\n",
    "    def set_visited(self):\n",
    "        self.visited = True\n",
    "\n",
    "    def add_neighbour(self, neighbor, weight=0):\n",
    "        self.adjList[neighbor] = weight\n",
    "\n",
    "    def get_connections(self):\n",
    "        return self.adjList.keys()\n",
    "\n",
    "    def get_vertexID(self):\n",
    "        return self.id\n",
    "\n",
    "    def get_weight(self, neighbor):\n",
    "        return self.adjList[neighbor]\n",
    "\n",
    "    def get_distance(self):\n",
    "        return self.distance\n",
    "\n",
    "    def set_previous(self, prev):\n",
    "        self.previous = prev\n",
    "\n",
    "    def __str__(self):\n",
    "        return str(self.id) + ' adjacent: ' + str([x.id for x in self.adjList])\n",
    "\n",
    "\n",
    "class Graph():\n",
    "    def __init__(self, isDag=False):\n",
    "        self.numVertices = 0\n",
    "        self.vertDictionary = {}\n",
    "        self.isDag = isDag\n",
    "\n",
    "    def add_vertex(self, node):\n",
    "        if node not in self.vertDictionary:\n",
    "            self.numVertices += 1\n",
    "            vertex = Vertex(node)\n",
    "            self.vertDictionary[node] = vertex\n",
    "            return vertex\n",
    "\n",
    "    def add_edge(self, u, v, weight):\n",
    "\n",
    "        if u not in self.vertDictionary:\n",
    "            self.add_vertex(u)\n",
    "\n",
    "        if v not in self.vertDictionary:\n",
    "            self.add_vertex(v)\n",
    "\n",
    "        self.vertDictionary[u].add_neighbour(self.vertDictionary[v], weight)\n",
    "\n",
    "        # don't do it in directed graphs\n",
    "\n",
    "        if not self.isDag:\n",
    "            self.vertDictionary[v].add_neighbour(self.vertDictionary[u],\n",
    "                                                 weight)\n",
    "\n",
    "    def get_vertex(self, n):\n",
    "        if n in self.vertDictionary:\n",
    "            return self.vertDictionary[n]\n",
    "\n",
    "        return -1\n",
    "\n",
    "    def get_vertices(self):\n",
    "        return self.vertDictionary.keys()\n",
    "\n",
    "    def get_edges(self):\n",
    "\n",
    "        edges = []\n",
    "\n",
    "        for u in self.vertDictionary.keys():\n",
    "            a = self.vertDictionary[u]\n",
    "            for v in a.get_connections():\n",
    "                edges.append((a.get_vertexID(), v.get_vertexID(),\n",
    "                              a.get_weight(v)))\n",
    "\n",
    "        return edges\n",
    "\n",
    "\n",
    "G = Graph()\n",
    "G.add_vertex('a')\n",
    "G.add_vertex('b')\n",
    "G.add_vertex('c')\n",
    "G.add_vertex('d')\n",
    "G.add_vertex('e')\n",
    "\n",
    "G.add_edge('a', 'e', 10)\n",
    "G.add_edge('a', 'c', 20)\n",
    "G.add_edge('c', 'b', 30)\n",
    "G.add_edge('b', 'e', 40)\n",
    "G.add_edge('e', 'd', 50)\n",
    "G.add_edge('f', 'e', 60)\n",
    "\n",
    "print(G.get_vertices())\n",
    "print(G.get_edges())"
   ]
  }
 ],
 "metadata": {
  "kernelspec": {
   "display_name": "Python 3",
   "language": "python",
   "name": "python3"
  },
  "language_info": {
   "codemirror_mode": {
    "name": "ipython",
    "version": 3
   },
   "file_extension": ".py",
   "mimetype": "text/x-python",
   "name": "python",
   "nbconvert_exporter": "python",
   "pygments_lexer": "ipython3",
   "version": "3.7.2"
  },
  "varInspector": {
   "cols": {
    "lenName": 16,
    "lenType": 16,
    "lenVar": 40
   },
   "kernels_config": {
    "python": {
     "delete_cmd_postfix": "",
     "delete_cmd_prefix": "del ",
     "library": "var_list.py",
     "varRefreshCmd": "print(var_dic_list())"
    },
    "r": {
     "delete_cmd_postfix": ") ",
     "delete_cmd_prefix": "rm(",
     "library": "var_list.r",
     "varRefreshCmd": "cat(var_dic_list()) "
    }
   },
   "types_to_exclude": [
    "module",
    "function",
    "builtin_function_or_method",
    "instance",
    "_Feature"
   ],
   "window_display": false
  }
 },
 "nbformat": 4,
 "nbformat_minor": 2
}
