{
 "cells": [
  {
   "cell_type": "code",
   "execution_count": 29,
   "metadata": {},
   "outputs": [
    {
     "name": "stdout",
     "output_type": "stream",
     "text": [
      "Before : q -1 i 0 n 3\n",
      "Before : q -1 i 0 n 2\n",
      "Before : q -1 i 0 n 1\n",
      "q 1 i 0 n 1\n",
      "q 2 i 0 n 2\n",
      "Before : q 2 i 1 n 2\n",
      "q 2 i 1 n 2\n",
      "q 3 i 0 n 3\n",
      "Before : q 3 i 1 n 3\n",
      "Before : q -1 i 0 n 1\n",
      "q 1 i 0 n 1\n",
      "q 3 i 1 n 3\n",
      "Before : q 3 i 2 n 3\n",
      "q 3 i 2 n 3\n"
     ]
    },
    {
     "data": {
      "text/plain": [
       "3"
      ]
     },
     "execution_count": 29,
     "metadata": {},
     "output_type": "execute_result"
    }
   ],
   "source": [
    "def cutRod(prices, n):\n",
    "    if n == 0:\n",
    "        return 0\n",
    "    q = -1\n",
    "    for i in range(0, n):\n",
    "        print(\"Before : q\", q, \"i\", i, \"n\", n)\n",
    "        q = max(q, prices[i] + cutRod(prices, n - i - 1))\n",
    "        print(\"q\", q, \"i\", i, \"n\", n)\n",
    "\n",
    "    return q\n",
    "\n",
    "\n",
    "a = [1, 1, 1]\n",
    "cutRod(a, len(a))"
   ]
  },
  {
   "cell_type": "markdown",
   "metadata": {},
   "source": [
    "# Top down Dynamic programming"
   ]
  },
  {
   "cell_type": "code",
   "execution_count": null,
   "metadata": {},
   "outputs": [],
   "source": []
  }
 ],
 "metadata": {
  "kernelspec": {
   "display_name": "Python 3",
   "language": "python",
   "name": "python3"
  },
  "language_info": {
   "codemirror_mode": {
    "name": "ipython",
    "version": 3
   },
   "file_extension": ".py",
   "mimetype": "text/x-python",
   "name": "python",
   "nbconvert_exporter": "python",
   "pygments_lexer": "ipython3",
   "version": "3.7.2"
  },
  "varInspector": {
   "cols": {
    "lenName": 16,
    "lenType": 16,
    "lenVar": 40
   },
   "kernels_config": {
    "python": {
     "delete_cmd_postfix": "",
     "delete_cmd_prefix": "del ",
     "library": "var_list.py",
     "varRefreshCmd": "print(var_dic_list())"
    },
    "r": {
     "delete_cmd_postfix": ") ",
     "delete_cmd_prefix": "rm(",
     "library": "var_list.r",
     "varRefreshCmd": "cat(var_dic_list()) "
    }
   },
   "types_to_exclude": [
    "module",
    "function",
    "builtin_function_or_method",
    "instance",
    "_Feature"
   ],
   "window_display": false
  }
 },
 "nbformat": 4,
 "nbformat_minor": 2
}
