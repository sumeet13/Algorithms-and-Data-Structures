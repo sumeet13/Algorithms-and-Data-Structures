{
 "cells": [
  {
   "cell_type": "code",
   "execution_count": 1,
   "metadata": {},
   "outputs": [
    {
     "name": "stdout",
     "output_type": "stream",
     "text": [
      "Before : q -1 i 0 n 3\n",
      "Before : q -1 i 0 n 2\n",
      "Before : q -1 i 0 n 1\n",
      "q 1 i 0 n 1\n",
      "q 2 i 0 n 2\n",
      "Before : q 2 i 1 n 2\n",
      "q 4 i 1 n 2\n",
      "q 5 i 0 n 3\n",
      "Before : q 5 i 1 n 3\n",
      "Before : q -1 i 0 n 1\n",
      "q 1 i 0 n 1\n",
      "q 5 i 1 n 3\n",
      "Before : q 5 i 2 n 3\n",
      "q 5 i 2 n 3\n"
     ]
    },
    {
     "data": {
      "text/plain": [
       "5"
      ]
     },
     "execution_count": 1,
     "metadata": {},
     "output_type": "execute_result"
    }
   ],
   "source": [
    "def cutRod(prices, n):\n",
    "    if n == 0:\n",
    "        return 0\n",
    "    q = -1\n",
    "    for i in range(0, n):\n",
    "        print(\"Before : q\", q, \"i\", i, \"n\", n)\n",
    "        q = max(q, prices[i] + cutRod(prices, n - i - 1))\n",
    "        print(\"q\", q, \"i\", i, \"n\", n)\n",
    "\n",
    "    return q\n",
    "\n",
    "\n",
    "a = [1, 4, 2]\n",
    "cutRod(a, len(a))"
   ]
  },
  {
   "cell_type": "markdown",
   "metadata": {},
   "source": [
    "# Top down Dynamic programming \n",
    "\n",
    "Memoized Rod cut"
   ]
  },
  {
   "cell_type": "code",
   "execution_count": 15,
   "metadata": {},
   "outputs": [
    {
     "name": "stdout",
     "output_type": "stream",
     "text": [
      "5\n",
      "[0, 1, 4, 5]\n"
     ]
    }
   ],
   "source": [
    "storeValue = [0] * 4\n",
    "\n",
    "\n",
    "def MemoizedRodCut(prices, storeValue, n):\n",
    "    if storeValue[n] > 0:\n",
    "        return storeValue[n]\n",
    "\n",
    "    if n == 0:\n",
    "        return 0\n",
    "    q = -1\n",
    "    for i in range(0, n):\n",
    "        q = max(q, prices[i] + MemoizedRodCut(prices, storeValue, n - i - 1))\n",
    "\n",
    "    storeValue[n] = q\n",
    "    return q\n",
    "\n",
    "\n",
    "prices = [1, 4, 2]\n",
    "print(MemoizedRodCut(prices, storeValue, len(prices)))\n",
    "print(storeValue)"
   ]
  },
  {
   "cell_type": "markdown",
   "metadata": {},
   "source": [
    "# Bottom up DP"
   ]
  },
  {
   "cell_type": "code",
   "execution_count": 27,
   "metadata": {},
   "outputs": [
    {
     "name": "stdout",
     "output_type": "stream",
     "text": [
      "[1, 2, 1, 0]\n",
      "5\n",
      "[0, 1, 4, 5]\n"
     ]
    }
   ],
   "source": [
    "def bottomUp(prices, store, n):\n",
    "    cuts = [0] * len(store)\n",
    "    q = -1\n",
    "    for i in range(n):\n",
    "\n",
    "        for j in range(i + 1):\n",
    "\n",
    "            if q < prices[j] + store[i - j]:\n",
    "                q = prices[j] + store[i - j]\n",
    "                cuts[i] = j + 1\n",
    "        store[i + 1] = q\n",
    "    print(cuts)\n",
    "    return q\n",
    "\n",
    "\n",
    "prices = [1, 4, 2]\n",
    "store = [0] * 4\n",
    "print(bottomUp(prices, store, len(prices)))\n",
    "print(store)"
   ]
  },
  {
   "cell_type": "code",
   "execution_count": 23,
   "metadata": {},
   "outputs": [],
   "source": []
  },
  {
   "cell_type": "code",
   "execution_count": null,
   "metadata": {},
   "outputs": [],
   "source": []
  }
 ],
 "metadata": {
  "kernelspec": {
   "display_name": "Python 3",
   "language": "python",
   "name": "python3"
  },
  "language_info": {
   "codemirror_mode": {
    "name": "ipython",
    "version": 3
   },
   "file_extension": ".py",
   "mimetype": "text/x-python",
   "name": "python",
   "nbconvert_exporter": "python",
   "pygments_lexer": "ipython3",
   "version": "3.7.2"
  },
  "varInspector": {
   "cols": {
    "lenName": 16,
    "lenType": 16,
    "lenVar": 40
   },
   "kernels_config": {
    "python": {
     "delete_cmd_postfix": "",
     "delete_cmd_prefix": "del ",
     "library": "var_list.py",
     "varRefreshCmd": "print(var_dic_list())"
    },
    "r": {
     "delete_cmd_postfix": ") ",
     "delete_cmd_prefix": "rm(",
     "library": "var_list.r",
     "varRefreshCmd": "cat(var_dic_list()) "
    }
   },
   "types_to_exclude": [
    "module",
    "function",
    "builtin_function_or_method",
    "instance",
    "_Feature"
   ],
   "window_display": false
  }
 },
 "nbformat": 4,
 "nbformat_minor": 2
}
