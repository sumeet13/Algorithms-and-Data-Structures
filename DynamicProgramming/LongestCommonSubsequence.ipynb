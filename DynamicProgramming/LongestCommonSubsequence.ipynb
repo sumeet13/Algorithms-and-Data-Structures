{
 "cells": [
  {
   "cell_type": "markdown",
   "metadata": {},
   "source": [
    "# Problem Statement: To find the longest common subsequence in two sequences in strictly increasing order"
   ]
  },
  {
   "cell_type": "code",
   "execution_count": 13,
   "metadata": {},
   "outputs": [
    {
     "name": "stdout",
     "output_type": "stream",
     "text": [
      "index 6 7\n",
      "index 6 6\n",
      "index 5 5\n",
      "index 5 4\n",
      "index 4 3\n",
      "index 3 3\n",
      "index 2 2\n",
      "index 1 2\n",
      "index 0 1\n",
      "A\n",
      "C\n",
      "D\n",
      "A\n",
      "None\n"
     ]
    },
    {
     "data": {
      "text/plain": [
       "([[0, 0, 0, 0, 0, 0, 0, 0],\n",
       "  [0, 0, 1, 1, 1, 1, 1, 1],\n",
       "  [0, 0, 1, 1, 1, 2, 2, 2],\n",
       "  [0, 0, 1, 2, 2, 2, 2, 2],\n",
       "  [0, 1, 1, 2, 2, 2, 3, 3],\n",
       "  [0, 1, 2, 2, 3, 3, 3, 4],\n",
       "  [0, 1, 2, 2, 3, 3, 4, 4]],\n",
       " [['', '', '', '', '', '', '', ''],\n",
       "  ['', '<', 'd', '<', 'd', '<', '<', 'd'],\n",
       "  ['', '<', '^', '<', '<', 'd', '<', '<'],\n",
       "  ['', '<', '^', 'd', '<', '<', '<', '<'],\n",
       "  ['', 'd', '<', '^', '<', '<', 'd', '<'],\n",
       "  ['', '^', 'd', '<', 'd', '<', '<', 'd'],\n",
       "  ['', 'd', '^', '<', '^', '<', 'd', '<']])"
      ]
     },
     "execution_count": 13,
     "metadata": {},
     "output_type": "execute_result"
    }
   ],
   "source": [
    "X = ['A', 'B', 'C', 'B', 'D', 'A', 'B']\n",
    "Y = ['B', 'D', 'C', 'A', 'B', 'A']\n",
    "\n",
    "\n",
    "def optimalSolution(arrows, X, i, j):\n",
    "    print(\"index\",i,j)\n",
    "    if i == 0 or j == 0:\n",
    "        return\n",
    "\n",
    "    if arrows[i][j] == 'd':\n",
    "        optimalSolution(arrows, X, i - 1, j - 1)\n",
    "        print(X[i - 1])\n",
    "\n",
    "    elif arrows[i][j] == '<':\n",
    "        optimalSolution(arrows, X, i, j - 1)\n",
    "\n",
    "    else:\n",
    "        optimalSolution(arrows, X, i - 1, j)\n",
    "\n",
    "\n",
    "def findLongestCommonSubsequence(X, Y):\n",
    "    # Initialize an empty array of size X+1, Y+1\n",
    "    x = len(X)\n",
    "    y = len(Y)\n",
    "    result = [[0] * (x + 1) for i in range(y + 1)]\n",
    "    arrows = [[''] * (x + 1) for i in range(y + 1)]\n",
    "    \n",
    "    for i in range(x):\n",
    "\n",
    "        for j in range(y):\n",
    "            if X[i] == Y[j]:\n",
    "                result[j + 1][i + 1] = result[j][i] + 1\n",
    "                arrows[j + 1][i + 1] = 'd'\n",
    "\n",
    "            elif X[i] != Y[j]:\n",
    "                result[j + 1][i + 1] = max(result[j][i + 1], result[j + 1][i])\n",
    "                if result[j][i + 1] <= result[j + 1][i]:\n",
    "                    arrows[j + 1][i + 1] = '<'\n",
    "\n",
    "                else:\n",
    "                    arrows[j + 1][i + 1] = '^'\n",
    "\n",
    "    print(optimalSolution(arrows, X,y,x))\n",
    "    return result, arrows\n",
    "\n",
    "\n",
    "findLongestCommonSubsequence(X, Y)"
   ]
  },
  {
   "cell_type": "code",
   "execution_count": 6,
   "metadata": {},
   "outputs": [
    {
     "name": "stdout",
     "output_type": "stream",
     "text": [
      "<class 'bool'>\n"
     ]
    },
    {
     "ename": "TypeError",
     "evalue": "unsupported operand type(s) for &: 'int' and 'type'",
     "output_type": "error",
     "traceback": [
      "\u001b[0;31m---------------------------------------------------------------------------\u001b[0m",
      "\u001b[0;31mTypeError\u001b[0m                                 Traceback (most recent call last)",
      "\u001b[0;32m<ipython-input-6-e227e4cd4d29>\u001b[0m in \u001b[0;36m<module>\u001b[0;34m\u001b[0m\n\u001b[1;32m      2\u001b[0m \u001b[0mprint\u001b[0m\u001b[0;34m(\u001b[0m\u001b[0mbi\u001b[0m\u001b[0;34m)\u001b[0m\u001b[0;34m\u001b[0m\u001b[0;34m\u001b[0m\u001b[0m\n\u001b[1;32m      3\u001b[0m \u001b[0;34m\u001b[0m\u001b[0m\n\u001b[0;32m----> 4\u001b[0;31m \u001b[0mprint\u001b[0m \u001b[0;34m(\u001b[0m\u001b[0;36m0\u001b[0m\u001b[0;34m&\u001b[0m\u001b[0mbi\u001b[0m\u001b[0;34m)\u001b[0m\u001b[0;34m\u001b[0m\u001b[0;34m\u001b[0m\u001b[0m\n\u001b[0m",
      "\u001b[0;31mTypeError\u001b[0m: unsupported operand type(s) for &: 'int' and 'type'"
     ]
    }
   ],
   "source": []
  },
  {
   "cell_type": "code",
   "execution_count": null,
   "metadata": {},
   "outputs": [],
   "source": []
  }
 ],
 "metadata": {
  "kernelspec": {
   "display_name": "Python 3",
   "language": "python",
   "name": "python3"
  },
  "language_info": {
   "codemirror_mode": {
    "name": "ipython",
    "version": 3
   },
   "file_extension": ".py",
   "mimetype": "text/x-python",
   "name": "python",
   "nbconvert_exporter": "python",
   "pygments_lexer": "ipython3",
   "version": "3.7.2"
  },
  "varInspector": {
   "cols": {
    "lenName": 16,
    "lenType": 16,
    "lenVar": 40
   },
   "kernels_config": {
    "python": {
     "delete_cmd_postfix": "",
     "delete_cmd_prefix": "del ",
     "library": "var_list.py",
     "varRefreshCmd": "print(var_dic_list())"
    },
    "r": {
     "delete_cmd_postfix": ") ",
     "delete_cmd_prefix": "rm(",
     "library": "var_list.r",
     "varRefreshCmd": "cat(var_dic_list()) "
    }
   },
   "types_to_exclude": [
    "module",
    "function",
    "builtin_function_or_method",
    "instance",
    "_Feature"
   ],
   "window_display": false
  }
 },
 "nbformat": 4,
 "nbformat_minor": 2
}
