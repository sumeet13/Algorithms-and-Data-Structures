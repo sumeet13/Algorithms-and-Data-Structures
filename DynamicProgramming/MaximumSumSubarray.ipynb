{
 "cells": [
  {
   "cell_type": "markdown",
   "metadata": {},
   "source": [
    "# Problem Statement: Find the maximum sum in the array \n",
    "\n",
    "Aprroach one: \n",
    "Time Complexity : O(n*n) <br>\n",
    "\n",
    "Space Complexity : O(1)"
   ]
  },
  {
   "cell_type": "code",
   "execution_count": 2,
   "metadata": {},
   "outputs": [
    {
     "data": {
      "text/plain": [
       "20"
      ]
     },
     "execution_count": 2,
     "metadata": {},
     "output_type": "execute_result"
    }
   ],
   "source": [
    "def maxSumSubArray(A):\n",
    "    total = 0\n",
    "    for i in range(len(A)):\n",
    "        temp = 0\n",
    "        for j in range(i,len(A)):\n",
    "            temp += A[j]\n",
    "            \n",
    "            if total< temp:\n",
    "                total = temp\n",
    "            \n",
    "            \n",
    "    return total\n",
    "A = [-2,11,-4,13,-5,2]\n",
    "maxSumSubArray(A)\n",
    "\n"
   ]
  },
  {
   "cell_type": "markdown",
   "metadata": {},
   "source": [
    "# Maximum sum of no two numbers are contiguous"
   ]
  },
  {
   "cell_type": "code",
   "execution_count": 5,
   "metadata": {},
   "outputs": [
    {
     "data": {
      "text/plain": [
       "108"
      ]
     },
     "execution_count": 5,
     "metadata": {},
     "output_type": "execute_result"
    }
   ],
   "source": [
    "def maxSumWithNoContiguousNumbers(A):\n",
    "    M = [0]*len(A)\n",
    "    M[0]= A[0]\n",
    "    M[1] = max(A[0],A[1])\n",
    "    \n",
    "    for i in range(2,len(A)):\n",
    "        M[i]= max(A[i]+M[i-2], M[i-1])\n",
    "    return M[len(A)-1]\n",
    "\n",
    "maxSumWithNoContiguousNumbers([-2,3,-16,100,-4,5])"
   ]
  },
  {
   "cell_type": "code",
   "execution_count": null,
   "metadata": {},
   "outputs": [],
   "source": []
  }
 ],
 "metadata": {
  "kernelspec": {
   "display_name": "Python 3",
   "language": "python",
   "name": "python3"
  },
  "language_info": {
   "codemirror_mode": {
    "name": "ipython",
    "version": 3
   },
   "file_extension": ".py",
   "mimetype": "text/x-python",
   "name": "python",
   "nbconvert_exporter": "python",
   "pygments_lexer": "ipython3",
   "version": "3.7.2"
  },
  "varInspector": {
   "cols": {
    "lenName": 16,
    "lenType": 16,
    "lenVar": 40
   },
   "kernels_config": {
    "python": {
     "delete_cmd_postfix": "",
     "delete_cmd_prefix": "del ",
     "library": "var_list.py",
     "varRefreshCmd": "print(var_dic_list())"
    },
    "r": {
     "delete_cmd_postfix": ") ",
     "delete_cmd_prefix": "rm(",
     "library": "var_list.r",
     "varRefreshCmd": "cat(var_dic_list()) "
    }
   },
   "types_to_exclude": [
    "module",
    "function",
    "builtin_function_or_method",
    "instance",
    "_Feature"
   ],
   "window_display": false
  }
 },
 "nbformat": 4,
 "nbformat_minor": 2
}
