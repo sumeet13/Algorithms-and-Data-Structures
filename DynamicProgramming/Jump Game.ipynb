{
 "cells": [
  {
   "cell_type": "markdown",
   "metadata": {},
   "source": [
    "# Backtracking"
   ]
  },
  {
   "cell_type": "code",
   "execution_count": 4,
   "metadata": {},
   "outputs": [
    {
     "data": {
      "text/plain": [
       "False"
      ]
     },
     "execution_count": 4,
     "metadata": {},
     "output_type": "execute_result"
    }
   ],
   "source": [
    "\n",
    "arr = [2,1,1,0,4]\n",
    "n = len(arr)-1\n",
    "def canJump(arr,index = 0):\n",
    "    if index == n:\n",
    "        return True\n",
    "    \n",
    "    forward_range = min(n,index+arr[index])+1\n",
    "    for i in range(index+1,forward_range):\n",
    "        if canJump(arr,i):\n",
    "            return True\n",
    "    \n",
    "    return False\n",
    "\n",
    "canJump(arr)\n",
    "    "
   ]
  },
  {
   "cell_type": "markdown",
   "metadata": {},
   "source": [
    "# Dynamic Programming: Top Down approach"
   ]
  },
  {
   "cell_type": "code",
   "execution_count": 12,
   "metadata": {},
   "outputs": [
    {
     "name": "stdout",
     "output_type": "stream",
     "text": [
      "0\n"
     ]
    }
   ],
   "source": [
    "print(0^1^1)"
   ]
  },
  {
   "cell_type": "code",
   "execution_count": 19,
   "metadata": {},
   "outputs": [
    {
     "name": "stdout",
     "output_type": "stream",
     "text": [
      "[1, 4, 5]\n",
      "[1, 4, 5, 2, 3, 7, 8, 6, 10, 9]\n",
      "[1, 2, 5, 2, 3, 7, 8, 6, 10, 9]\n",
      "[1, 2, 3, 2, 3, 7, 8, 6, 10, 9]\n",
      "[1, 2, 3, 4, 3, 7, 8, 6, 10, 9]\n",
      "[1, 2, 3, 4, 5, 7, 8, 6, 10, 9]\n",
      "[1, 2, 3, 4, 5, 6, 8, 6, 10, 9]\n",
      "[1, 2, 3, 4, 5, 6, 7, 6, 10, 9]\n",
      "[1, 2, 3, 4, 5, 6, 7, 8, 10, 9]\n",
      "[1, 2, 3, 4, 5, 6, 7, 8, 9, 9]\n",
      "[1, 2, 3, 4, 5, 6, 7, 8, 9, 10]\n"
     ]
    },
    {
     "data": {
      "text/plain": [
       "[1, 2, 3, 4, 5, 6, 7, 8, 9, 10]"
      ]
     },
     "execution_count": 19,
     "metadata": {},
     "output_type": "execute_result"
    }
   ],
   "source": [
    "import heapq\n",
    "\n",
    "def sort_k_messed_array(arr, k):\n",
    "    if not arr or not k: return arr\n",
    "    n = len(arr)\n",
    "    queue =arr[:k+1]\n",
    "    heapq.heapify(queue)\n",
    "    \n",
    "    i = 0\n",
    "    while queue:\n",
    "        item = heapq.heappop(queue)\n",
    "        arr[i] = item\n",
    "        i += 1\n",
    "        print(arr)\n",
    "        if i+k <n:\n",
    "            heapq.heappush(queue,arr[i+k])\n",
    "\n",
    "\n",
    "\n",
    "    return arr[:]\n",
    "    \n",
    "sort_k_messed_array([1, 4, 5, 2, 3, 7, 8, 6, 10, 9],2)"
   ]
  },
  {
   "cell_type": "code",
   "execution_count": null,
   "metadata": {},
   "outputs": [],
   "source": []
  }
 ],
 "metadata": {
  "kernelspec": {
   "display_name": "Python 3",
   "language": "python",
   "name": "python3"
  },
  "language_info": {
   "codemirror_mode": {
    "name": "ipython",
    "version": 3
   },
   "file_extension": ".py",
   "mimetype": "text/x-python",
   "name": "python",
   "nbconvert_exporter": "python",
   "pygments_lexer": "ipython3",
   "version": "3.7.2"
  },
  "varInspector": {
   "cols": {
    "lenName": 16,
    "lenType": 16,
    "lenVar": 40
   },
   "kernels_config": {
    "python": {
     "delete_cmd_postfix": "",
     "delete_cmd_prefix": "del ",
     "library": "var_list.py",
     "varRefreshCmd": "print(var_dic_list())"
    },
    "r": {
     "delete_cmd_postfix": ") ",
     "delete_cmd_prefix": "rm(",
     "library": "var_list.r",
     "varRefreshCmd": "cat(var_dic_list()) "
    }
   },
   "types_to_exclude": [
    "module",
    "function",
    "builtin_function_or_method",
    "instance",
    "_Feature"
   ],
   "window_display": false
  }
 },
 "nbformat": 4,
 "nbformat_minor": 2
}
