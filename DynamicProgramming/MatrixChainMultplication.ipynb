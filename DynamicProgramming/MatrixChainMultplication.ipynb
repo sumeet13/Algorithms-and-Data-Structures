{
 "cells": [
  {
   "cell_type": "code",
   "execution_count": 4,
   "metadata": {},
   "outputs": [
    {
     "name": "stdout",
     "output_type": "stream",
     "text": [
      "[[0, 0, 0, 0, 0, 0], [0, 0, 0, 0, 0, 0], [0, 0, 0, 0, 0, 0], [0, 0, 0, 0, 0, 0], [0, 0, 0, 0, 0, 0], [0, 0, 0, 0, 0, 0]]\n"
     ]
    }
   ],
   "source": [
    "def matrixChainDP(p,n):\n",
    "\n",
    "    cost = [[0]*(n-1) for i in range(n-1)]\n",
    "    print(cost)\n",
    "    \n",
    "    cut = [[0]*(n-1) for i in range(n-1)]\n",
    "    \n",
    "    \n",
    "    \n",
    "p = [30,35,15,5,10,20,25]  \n",
    "matrixChainDP(p,len(p))"
   ]
  },
  {
   "cell_type": "code",
   "execution_count": 3,
   "metadata": {},
   "outputs": [
    {
     "name": "stdout",
     "output_type": "stream",
     "text": [
      "i 1 nextbb:  0\n",
      "1 maxRev 0\n",
      "i 2 nextbb:  0\n",
      "1 maxRev 0\n",
      "i 3 nextbb:  0\n",
      "1 maxRev 0\n",
      "i 4 nextbb:  0\n",
      "1 maxRev 0\n",
      "i 5 nextbb:  0\n",
      "1 maxRev 0\n",
      "i 6 nextbb:  0\n",
      "3 maxRev 5\n",
      "i 7 nextbb:  1\n",
      "3 maxRev 6\n",
      "i 8 nextbb:  2\n",
      "1 maxRev 6\n",
      "i 9 nextbb:  2\n",
      "1 maxRev 6\n",
      "i 10 nextbb:  2\n",
      "1 maxRev 6\n",
      "i 11 nextbb:  2\n",
      "1 maxRev 6\n",
      "i 12 nextbb:  2\n",
      "3 maxRev 10\n",
      "i 13 nextbb:  3\n",
      "3 maxRev 10\n",
      "i 14 nextbb:  4\n",
      "3 maxRev 10\n",
      "i 15 nextbb:  5\n",
      "i 16 nextbb:  5\n",
      "i 17 nextbb:  5\n",
      "i 18 nextbb:  5\n",
      "i 19 nextbb:  5\n",
      "i 20 nextbb:  5\n",
      "10\n"
     ]
    }
   ],
   "source": [
    "def maxRevenue(m, x, revenue, n, t) : \n",
    "      \n",
    "    # Array to store maximum revenue  \n",
    "    # at each miles.  \n",
    "    maxRev = [0] * (m + 1) \n",
    "  \n",
    "    # actual minimum distance between  \n",
    "    # 2 billboards.  \n",
    "    nxtbb = 0;  \n",
    "    for i in range(1, m + 1) : \n",
    "          \n",
    "        # check if all billboards are  \n",
    "        # already placed. \n",
    "        print(\"i\",i,\"nextbb: \",nxtbb)\n",
    "        if (nxtbb < n) : \n",
    "              \n",
    "            # check if we have billboard for  \n",
    "            # that particular mile. If not,  \n",
    "            # copy the previous maximum revenue.  \n",
    "            if (x[nxtbb] != i) : \n",
    "                maxRev[i] = maxRev[i - 1] \n",
    "                print('1 maxRev',maxRev[i])\n",
    "  \n",
    "            # we do have billboard for this mile.  \n",
    "            else : \n",
    "              \n",
    "                # We have 2 options, we either take  \n",
    "                # current or we ignore current billboard.  \n",
    "  \n",
    "                # If current position is less than or  \n",
    "                # equal to t, then we can have only \n",
    "                # one billboard.  \n",
    "                if (i <= t) : \n",
    "                    maxRev[i] = max(maxRev[i - 1], \n",
    "                                    revenue[nxtbb]) \n",
    "                    print('2 maxRev',maxRev[i])\n",
    "  \n",
    "                # Else we may have to remove  \n",
    "                # previously placed billboard  \n",
    "                else : \n",
    "                    maxRev[i] = max(maxRev[i - t - 1] + \n",
    "                                    revenue[nxtbb],  \n",
    "                                    maxRev[i - 1]); \n",
    "                    print('3 maxRev',maxRev[i])\n",
    "  \n",
    "                nxtbb += 1\n",
    "      \n",
    "        else : \n",
    "              \n",
    "            maxRev[i] = maxRev[i - 1]  \n",
    "      \n",
    "    return maxRev[m]\n",
    "\n",
    "if __name__ == \"__main__\" : \n",
    "      \n",
    "    m = 20\n",
    "    x = [6, 7, 12, 13, 14] \n",
    "    revenue = [5, 6, 5, 3, 1]  \n",
    "    n = len(x) \n",
    "    t = 5\n",
    "    print(maxRevenue(m, x, revenue, n, t))"
   ]
  },
  {
   "cell_type": "code",
   "execution_count": null,
   "metadata": {},
   "outputs": [],
   "source": []
  }
 ],
 "metadata": {
  "kernelspec": {
   "display_name": "Python 3",
   "language": "python",
   "name": "python3"
  },
  "language_info": {
   "codemirror_mode": {
    "name": "ipython",
    "version": 3
   },
   "file_extension": ".py",
   "mimetype": "text/x-python",
   "name": "python",
   "nbconvert_exporter": "python",
   "pygments_lexer": "ipython3",
   "version": "3.7.2"
  },
  "varInspector": {
   "cols": {
    "lenName": 16,
    "lenType": 16,
    "lenVar": 40
   },
   "kernels_config": {
    "python": {
     "delete_cmd_postfix": "",
     "delete_cmd_prefix": "del ",
     "library": "var_list.py",
     "varRefreshCmd": "print(var_dic_list())"
    },
    "r": {
     "delete_cmd_postfix": ") ",
     "delete_cmd_prefix": "rm(",
     "library": "var_list.r",
     "varRefreshCmd": "cat(var_dic_list()) "
    }
   },
   "types_to_exclude": [
    "module",
    "function",
    "builtin_function_or_method",
    "instance",
    "_Feature"
   ],
   "window_display": false
  }
 },
 "nbformat": 4,
 "nbformat_minor": 2
}
