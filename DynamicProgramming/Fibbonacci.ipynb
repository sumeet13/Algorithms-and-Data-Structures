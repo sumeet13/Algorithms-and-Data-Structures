{
 "cells": [
  {
   "cell_type": "markdown",
   "metadata": {},
   "source": [
    "# Fibonacci Series is a series where number at any index is the sum of its previous two numbers.\n",
    "\n",
    "Fib(n) = 0,1,1,2,3,5,8....\n",
    "\n",
    "\n",
    "<br>\n",
    "<br>\n",
    "Recursive solution:"
   ]
  },
  {
   "cell_type": "code",
   "execution_count": 3,
   "metadata": {},
   "outputs": [
    {
     "data": {
      "text/plain": [
       "8"
      ]
     },
     "execution_count": 3,
     "metadata": {},
     "output_type": "execute_result"
    }
   ],
   "source": [
    "def fibRecursive(n):\n",
    "    if n == 0:\n",
    "        return 0\n",
    "\n",
    "    if n == 1:\n",
    "        return 1\n",
    "\n",
    "    return fibRecursive(n - 1) + fibRecursive(n - 2)\n",
    "\n",
    "\n",
    "fibRecursive(6)"
   ]
  },
  {
   "cell_type": "markdown",
   "metadata": {},
   "source": [
    "# Dynamic Programming Approach(Memoization):\n",
    "\n",
    "\n",
    "As we can see that the sub problems are being solved recursively. We can save the results of the series using memoization approach.\n"
   ]
  },
  {
   "cell_type": "code",
   "execution_count": 10,
   "metadata": {},
   "outputs": [
    {
     "name": "stdout",
     "output_type": "stream",
     "text": [
      "[0, 1, 1, -1, -1, -1, -1]\n",
      "[0, 1, 1, 2, -1, -1, -1]\n",
      "[0, 1, 1, 2, 3, -1, -1]\n",
      "[0, 1, 1, 2, 3, 5, -1]\n",
      "[0, 1, 1, 2, 3, 5, 8]\n"
     ]
    },
    {
     "data": {
      "text/plain": [
       "8"
      ]
     },
     "execution_count": 10,
     "metadata": {},
     "output_type": "execute_result"
    }
   ],
   "source": [
    "def fibMemoization(n, T):\n",
    "\n",
    "    if T[n] >= 0:\n",
    "        return T[n]\n",
    "\n",
    "\n",
    "    T[n] = fibMemoization(n - 1, T) + fibMemoization(n - 2, T)\n",
    "    print(T)\n",
    "    return T[n]\n",
    "\n",
    "\n",
    "n = 6\n",
    "T = [-1] * (n + 1)\n",
    "T[0] = 0\n",
    "T[1] = 1\n",
    "fibMemoization(n, T)"
   ]
  },
  {
   "cell_type": "markdown",
   "metadata": {},
   "source": [
    "# Dynamic Programming: Bottom Up Approach:"
   ]
  },
  {
   "cell_type": "code",
   "execution_count": 11,
   "metadata": {},
   "outputs": [
    {
     "data": {
      "text/plain": [
       "8"
      ]
     },
     "execution_count": 11,
     "metadata": {},
     "output_type": "execute_result"
    }
   ],
   "source": [
    "def fibBottomUp(n):\n",
    "    T = [-1] * (n + 1)\n",
    "    T[0] = 0\n",
    "    T[1] = 1\n",
    "\n",
    "    for i in range(2, n + 1):\n",
    "        T[i] = T[i - 1] + T[i - 2]\n",
    "\n",
    "    return T[n]\n",
    "\n",
    "\n",
    "fibBottomUp(6)"
   ]
  },
  {
   "cell_type": "markdown",
   "metadata": {},
   "source": [
    "# Observation:\n",
    "\n",
    "As we can see that the calculation is done only by using the previous two values. We can optimize the solution in terms of space.\n"
   ]
  },
  {
   "cell_type": "code",
   "execution_count": 17,
   "metadata": {},
   "outputs": [
    {
     "name": "stdout",
     "output_type": "stream",
     "text": [
      "0 0 1\n",
      "1 1 1\n",
      "2 1 2\n",
      "3 2 3\n",
      "4 3 5\n",
      "5 5 8\n",
      "6 8 13\n"
     ]
    },
    {
     "data": {
      "text/plain": [
       "8"
      ]
     },
     "execution_count": 17,
     "metadata": {},
     "output_type": "execute_result"
    }
   ],
   "source": [
    "def optimizedFib(n):\n",
    "\n",
    "    final = 1\n",
    "    temp = 0\n",
    "    for i in range(0, n + 1):\n",
    "        final, temp = temp, final + temp\n",
    "        print(i,final,temp)\n",
    "\n",
    "    return final\n",
    "\n",
    "\n",
    "optimizedFib(6)"
   ]
  },
  {
   "cell_type": "code",
   "execution_count": null,
   "metadata": {},
   "outputs": [],
   "source": []
  }
 ],
 "metadata": {
  "kernelspec": {
   "display_name": "Python 3",
   "language": "python",
   "name": "python3"
  },
  "language_info": {
   "codemirror_mode": {
    "name": "ipython",
    "version": 3
   },
   "file_extension": ".py",
   "mimetype": "text/x-python",
   "name": "python",
   "nbconvert_exporter": "python",
   "pygments_lexer": "ipython3",
   "version": "3.7.2"
  },
  "varInspector": {
   "cols": {
    "lenName": 16,
    "lenType": 16,
    "lenVar": 40
   },
   "kernels_config": {
    "python": {
     "delete_cmd_postfix": "",
     "delete_cmd_prefix": "del ",
     "library": "var_list.py",
     "varRefreshCmd": "print(var_dic_list())"
    },
    "r": {
     "delete_cmd_postfix": ") ",
     "delete_cmd_prefix": "rm(",
     "library": "var_list.r",
     "varRefreshCmd": "cat(var_dic_list()) "
    }
   },
   "types_to_exclude": [
    "module",
    "function",
    "builtin_function_or_method",
    "instance",
    "_Feature"
   ],
   "window_display": false
  }
 },
 "nbformat": 4,
 "nbformat_minor": 2
}
