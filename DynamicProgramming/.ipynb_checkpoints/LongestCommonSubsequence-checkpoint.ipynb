{
 "cells": [
  {
   "cell_type": "markdown",
   "metadata": {},
   "source": [
    "# Problem Statement: To find the longest common subsequence in two sequences in strictly increasing order"
   ]
  },
  {
   "cell_type": "code",
   "execution_count": 12,
   "metadata": {},
   "outputs": [
    {
     "name": "stdout",
     "output_type": "stream",
     "text": [
      "2 1 2 [[0, 0, 0], [0, 0, 0]]\n",
      "0 0\n",
      "1 0\n"
     ]
    },
    {
     "data": {
      "text/plain": [
       "[[0, 0, 0], [0, 0, 1]]"
      ]
     },
     "execution_count": 12,
     "metadata": {},
     "output_type": "execute_result"
    }
   ],
   "source": [
    "X = ['A', 'B']\n",
    "Y = ['B']\n",
    "\n",
    "\n",
    "def findLongestCommonSubsequence(X, Y):\n",
    "    # Initialize an empty array of size X+1, Y+1\n",
    "    x = len(X)\n",
    "    y = len(Y)\n",
    "    result = [[0] * (x + 1) for i in range(y + 1)]\n",
    "    print(x,y,len(result),result)\n",
    "    for i in range(x):\n",
    "\n",
    "        for j in range(y):\n",
    "            print(i,j)\n",
    "            if X[i] == Y[j]:\n",
    "                result[j + 1][ i + 1] = result[j] [i] + 1\n",
    "\n",
    "            elif X[i] != Y[j]:\n",
    "                result[j + 1] [i + 1] = max(result[j] [i + 1], result[j + 1] [i])\n",
    "    return result\n",
    "\n",
    "findLongestCommonSubsequence(X, Y)"
   ]
  },
  {
   "cell_type": "code",
   "execution_count": null,
   "metadata": {},
   "outputs": [],
   "source": []
  }
 ],
 "metadata": {
  "kernelspec": {
   "display_name": "Python 3",
   "language": "python",
   "name": "python3"
  },
  "language_info": {
   "codemirror_mode": {
    "name": "ipython",
    "version": 3
   },
   "file_extension": ".py",
   "mimetype": "text/x-python",
   "name": "python",
   "nbconvert_exporter": "python",
   "pygments_lexer": "ipython3",
   "version": "3.7.2"
  },
  "varInspector": {
   "cols": {
    "lenName": 16,
    "lenType": 16,
    "lenVar": 40
   },
   "kernels_config": {
    "python": {
     "delete_cmd_postfix": "",
     "delete_cmd_prefix": "del ",
     "library": "var_list.py",
     "varRefreshCmd": "print(var_dic_list())"
    },
    "r": {
     "delete_cmd_postfix": ") ",
     "delete_cmd_prefix": "rm(",
     "library": "var_list.r",
     "varRefreshCmd": "cat(var_dic_list()) "
    }
   },
   "types_to_exclude": [
    "module",
    "function",
    "builtin_function_or_method",
    "instance",
    "_Feature"
   ],
   "window_display": false
  }
 },
 "nbformat": 4,
 "nbformat_minor": 2
}
