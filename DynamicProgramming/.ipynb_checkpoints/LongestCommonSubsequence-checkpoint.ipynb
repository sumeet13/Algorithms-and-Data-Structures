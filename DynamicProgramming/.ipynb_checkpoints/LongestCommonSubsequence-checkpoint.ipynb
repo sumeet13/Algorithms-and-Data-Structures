{
 "cells": [
  {
   "cell_type": "markdown",
   "metadata": {},
   "source": [
    "# Problem Statement: To find the longest common subsequence in two sequences in strictly increasing order"
   ]
  },
  {
   "cell_type": "markdown",
   "metadata": {},
   "source": [
    "# Recursive Solution"
   ]
  },
  {
   "cell_type": "code",
   "execution_count": 1,
   "metadata": {},
   "outputs": [
    {
     "data": {
      "text/plain": [
       "'ts'"
      ]
     },
     "execution_count": 1,
     "metadata": {},
     "output_type": "execute_result"
    }
   ],
   "source": [
    "def LCS(X, Y):\n",
    "    if not X or not Y:\n",
    "        return \"\"\n",
    "\n",
    "    x, m, y, n = X[0], X[1:], Y[0], Y[1:]\n",
    "\n",
    "    if x == y:\n",
    "        return x + LCS(m, n)\n",
    "    return max(LCS(X, n), LCS(m, Y), key=len)\n",
    "\n",
    "\n",
    "LCS('ths', 'tis')"
   ]
  },
  {
   "cell_type": "markdown",
   "metadata": {},
   "source": [
    "# Bottom Up Dynamic Programming\n",
    "\n"
   ]
  },
  {
   "cell_type": "code",
   "execution_count": 2,
   "metadata": {},
   "outputs": [
    {
     "name": "stdout",
     "output_type": "stream",
     "text": [
      "B\n",
      "D\n",
      "A\n",
      "B\n",
      "None\n"
     ]
    },
    {
     "data": {
      "text/plain": [
       "4"
      ]
     },
     "execution_count": 2,
     "metadata": {},
     "output_type": "execute_result"
    }
   ],
   "source": [
    "X = ['A','B','C','B','D','A','B' ]\n",
    "Y = ['B','D','C','A','B','A']\n",
    "\n",
    "\n",
    "def optimalSolution(arrows, X, i, j):\n",
    "    \n",
    "    if i == 0 or j == 0:\n",
    "        return\n",
    "\n",
    "    if arrows[i][j] == 'd':\n",
    "        optimalSolution(arrows, X, i - 1, j - 1)\n",
    "        print(X[j - 1])\n",
    "\n",
    "    elif arrows[i][j] == '<':\n",
    "        optimalSolution(arrows, X, i, j - 1)\n",
    "\n",
    "    else:\n",
    "        optimalSolution(arrows, X, i - 1, j)\n",
    "\n",
    "\n",
    "def findLongestCommonSubsequence(X, Y):\n",
    "    # Initialize an empty array of size X+1, Y+1\n",
    "    x = len(X)\n",
    "    y = len(Y)\n",
    "    result = [[0] * (x + 1) for i in range(y + 1)]\n",
    "    arrows = [[''] * (x + 1) for i in range(y + 1)]\n",
    "    \n",
    "    for i in range(x):\n",
    "\n",
    "        for j in range(y):\n",
    "            if X[i] == Y[j]:\n",
    "                result[j + 1][i + 1] = result[j][i] + 1\n",
    "                arrows[j + 1][i + 1] = 'd'\n",
    "\n",
    "            elif X[i] != Y[j]:\n",
    "                result[j + 1][i + 1] = max(result[j][i + 1], result[j + 1][i])\n",
    "                if result[j][i + 1] < result[j + 1][i]:\n",
    "                    arrows[j + 1][i + 1] = '<'\n",
    "\n",
    "                else:\n",
    "                    arrows[j + 1][i + 1] = '^'\n",
    "\n",
    "    print(optimalSolution(arrows, X,y,x))\n",
    "    return result[y][x]\n",
    "\n",
    "\n",
    "findLongestCommonSubsequence(X, Y)"
   ]
  }
 ],
 "metadata": {
  "kernelspec": {
   "display_name": "Python 3",
   "language": "python",
   "name": "python3"
  },
  "language_info": {
   "codemirror_mode": {
    "name": "ipython",
    "version": 3
   },
   "file_extension": ".py",
   "mimetype": "text/x-python",
   "name": "python",
   "nbconvert_exporter": "python",
   "pygments_lexer": "ipython3",
   "version": "3.7.2"
  },
  "varInspector": {
   "cols": {
    "lenName": 16,
    "lenType": 16,
    "lenVar": 40
   },
   "kernels_config": {
    "python": {
     "delete_cmd_postfix": "",
     "delete_cmd_prefix": "del ",
     "library": "var_list.py",
     "varRefreshCmd": "print(var_dic_list())"
    },
    "r": {
     "delete_cmd_postfix": ") ",
     "delete_cmd_prefix": "rm(",
     "library": "var_list.r",
     "varRefreshCmd": "cat(var_dic_list()) "
    }
   },
   "types_to_exclude": [
    "module",
    "function",
    "builtin_function_or_method",
    "instance",
    "_Feature"
   ],
   "window_display": false
  }
 },
 "nbformat": 4,
 "nbformat_minor": 2
}
