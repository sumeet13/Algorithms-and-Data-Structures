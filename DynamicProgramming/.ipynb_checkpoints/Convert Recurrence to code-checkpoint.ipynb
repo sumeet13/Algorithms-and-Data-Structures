{
 "cells": [
  {
   "cell_type": "markdown",
   "metadata": {},
   "source": [
    "# Convert the following recurrence to code.\n",
    "\n",
    "T(n) = sum over 2(n)x(n-1)"
   ]
  },
  {
   "cell_type": "code",
   "execution_count": 5,
   "metadata": {},
   "outputs": [
    {
     "data": {
      "text/plain": [
       "680"
      ]
     },
     "execution_count": 5,
     "metadata": {},
     "output_type": "execute_result"
    }
   ],
   "source": [
    "def code(n):\n",
    "\n",
    "    if n <= 1:\n",
    "        return 2\n",
    "    \n",
    "    total = 0\n",
    "    for i in range(1, n):\n",
    "        total += 2 * code(i) * code(i - 1)\n",
    "\n",
    "    return total\n",
    "\n",
    "\n",
    "code(4)"
   ]
  },
  {
   "cell_type": "markdown",
   "metadata": {},
   "source": [
    "# Top Down Approach:"
   ]
  },
  {
   "cell_type": "code",
   "execution_count": 7,
   "metadata": {},
   "outputs": [
    {
     "name": "stdout",
     "output_type": "stream",
     "text": [
      "[2, 2, 0, 0, 0]\n",
      "r:  [2, 2, 8, 0, 0]\n",
      "r:  [2, 2, 8, 40, 0]\n",
      "r:  [2, 2, 8, 40, 680]\n"
     ]
    },
    {
     "data": {
      "text/plain": [
       "680"
      ]
     },
     "execution_count": 7,
     "metadata": {},
     "output_type": "execute_result"
    }
   ],
   "source": [
    "def code(n, r):\n",
    "\n",
    "    if r[n] != 0:\n",
    "        return r[n]\n",
    "\n",
    "    total = 0\n",
    "    for i in range(1, n):\n",
    "        total += 2 * code(i, r) * code(i - 1, r)\n",
    "    r[n] = total\n",
    "    print(\"r: \", r)\n",
    "    return r[n]\n",
    "\n",
    "\n",
    "n = 4\n",
    "r = [0] * (n + 1)\n",
    "r[0] = r[1] = 2\n",
    "print(r)\n",
    "\n",
    "code(n,r)"
   ]
  }
 ],
 "metadata": {
  "kernelspec": {
   "display_name": "Python 3",
   "language": "python",
   "name": "python3"
  },
  "language_info": {
   "codemirror_mode": {
    "name": "ipython",
    "version": 3
   },
   "file_extension": ".py",
   "mimetype": "text/x-python",
   "name": "python",
   "nbconvert_exporter": "python",
   "pygments_lexer": "ipython3",
   "version": "3.7.2"
  },
  "varInspector": {
   "cols": {
    "lenName": 16,
    "lenType": 16,
    "lenVar": 40
   },
   "kernels_config": {
    "python": {
     "delete_cmd_postfix": "",
     "delete_cmd_prefix": "del ",
     "library": "var_list.py",
     "varRefreshCmd": "print(var_dic_list())"
    },
    "r": {
     "delete_cmd_postfix": ") ",
     "delete_cmd_prefix": "rm(",
     "library": "var_list.r",
     "varRefreshCmd": "cat(var_dic_list()) "
    }
   },
   "types_to_exclude": [
    "module",
    "function",
    "builtin_function_or_method",
    "instance",
    "_Feature"
   ],
   "window_display": false
  }
 },
 "nbformat": 4,
 "nbformat_minor": 2
}
