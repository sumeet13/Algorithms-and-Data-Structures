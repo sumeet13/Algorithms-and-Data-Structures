{
 "cells": [
  {
   "cell_type": "markdown",
   "metadata": {},
   "source": [
    "# Recursion"
   ]
  },
  {
   "cell_type": "code",
   "execution_count": 1,
   "metadata": {},
   "outputs": [
    {
     "data": {
      "text/plain": [
       "6"
      ]
     },
     "execution_count": 1,
     "metadata": {},
     "output_type": "execute_result"
    }
   ],
   "source": [
    "def uniquePathsRecursion(m,n):\n",
    "    \n",
    "    if m == 0 and n == 0:\n",
    "        return 0\n",
    "    \n",
    "    if m == 0 or n == 0:\n",
    "        return 1\n",
    "    \n",
    "    return uniquePathsRecursion(m,n-1) + uniquePathsRecursion(m-1,n)\n",
    "\n",
    "uniquePathsRecursion(2,2)"
   ]
  },
  {
   "cell_type": "markdown",
   "metadata": {},
   "source": [
    "# Top-Down approach "
   ]
  },
  {
   "cell_type": "code",
   "execution_count": 2,
   "metadata": {},
   "outputs": [
    {
     "data": {
      "text/plain": [
       "6"
      ]
     },
     "execution_count": 2,
     "metadata": {},
     "output_type": "execute_result"
    }
   ],
   "source": [
    "def uniquePathsTopDowm(m, n, T):\n",
    "\n",
    "    if T[m][n] > -1: return T[m][n]\n",
    "\n",
    "    T[m][n] = uniquePathsTopDowm(m, n - 1, T) + uniquePathsTopDowm(\n",
    "        m - 1, n, T)\n",
    "    return T[m][n]\n",
    "\n",
    "\n",
    "m, n = 3, 3\n",
    "T = [[-1] * n for _ in range(m)]\n",
    "T[0][0] = 0\n",
    "\n",
    "#mark first column 1 leaving index 0\n",
    "for j in range(1, n):\n",
    "    T[0][j] = 1\n",
    "    \n",
    "#mark first row 1 leaving index 0\n",
    "for i in range(1, m):\n",
    "    T[i][0] = 1\n",
    "\n",
    "uniquePathsTopDowm(m-1, n-1, T)"
   ]
  },
  {
   "cell_type": "markdown",
   "metadata": {},
   "source": [
    "# Bottom Up Approach"
   ]
  },
  {
   "cell_type": "code",
   "execution_count": 3,
   "metadata": {},
   "outputs": [
    {
     "data": {
      "text/plain": [
       "6"
      ]
     },
     "execution_count": 3,
     "metadata": {},
     "output_type": "execute_result"
    }
   ],
   "source": [
    "m, n = 3, 3\n",
    "T = [[1] * n for _ in range(m)]\n",
    "T[0][0] = 0 \n",
    "\n",
    "\n",
    "def uniquePathsBottomUp(m,n):\n",
    "\n",
    "    for i in range(1,m):\n",
    "        for j in range(1,n):\n",
    "\n",
    "            T[i][j] = T[i-1][j] + T[i][j-1]\n",
    "\n",
    "    return T[i][j]\n",
    "\n",
    "uniquePathsBottomUp(m,n)"
   ]
  },
  {
   "cell_type": "markdown",
   "metadata": {},
   "source": [
    "# Optimized Space Bottom Up"
   ]
  },
  {
   "cell_type": "code",
   "execution_count": 4,
   "metadata": {},
   "outputs": [
    {
     "data": {
      "text/plain": [
       "6"
      ]
     },
     "execution_count": 4,
     "metadata": {},
     "output_type": "execute_result"
    }
   ],
   "source": [
    "def optimizedSpace(m, n):\n",
    "\n",
    "    prev = [1] * n\n",
    "    prev[0] = 0\n",
    "    curr = [1] * n\n",
    "    for i in range(1, m):\n",
    "\n",
    "        for j in range(1, n):\n",
    "\n",
    "            curr[j] = prev[j] + curr[j - 1]\n",
    "\n",
    "        prev = curr\n",
    "#         curr = [1] * n\n",
    "        \n",
    "    return prev[-1]\n",
    "\n",
    "\n",
    "m, n = 3, 3\n",
    "optimizedSpace(m, n)"
   ]
  }
 ],
 "metadata": {
  "kernelspec": {
   "display_name": "Python 3",
   "language": "python",
   "name": "python3"
  },
  "language_info": {
   "codemirror_mode": {
    "name": "ipython",
    "version": 3
   },
   "file_extension": ".py",
   "mimetype": "text/x-python",
   "name": "python",
   "nbconvert_exporter": "python",
   "pygments_lexer": "ipython3",
   "version": "3.7.2"
  },
  "varInspector": {
   "cols": {
    "lenName": 16,
    "lenType": 16,
    "lenVar": 40
   },
   "kernels_config": {
    "python": {
     "delete_cmd_postfix": "",
     "delete_cmd_prefix": "del ",
     "library": "var_list.py",
     "varRefreshCmd": "print(var_dic_list())"
    },
    "r": {
     "delete_cmd_postfix": ") ",
     "delete_cmd_prefix": "rm(",
     "library": "var_list.r",
     "varRefreshCmd": "cat(var_dic_list()) "
    }
   },
   "types_to_exclude": [
    "module",
    "function",
    "builtin_function_or_method",
    "instance",
    "_Feature"
   ],
   "window_display": false
  }
 },
 "nbformat": 4,
 "nbformat_minor": 2
}
