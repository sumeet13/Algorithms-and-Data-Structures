{
 "cells": [
  {
   "cell_type": "markdown",
   "metadata": {},
   "source": [
    "# Rabin Karp:\n",
    "\n",
    "It is a string matching algorithm. Here, there is Text T and Pattern P, whose lengths are n and m respectively.\n",
    "We pre-process P by calculating the hash for it and match it with the T[s+1 ... s+m+1] text where s is the shift from 0 to n-m+1. After we generate we repeatedly calculate the hash for the text until we find a match. and return the s. "
   ]
  },
  {
   "cell_type": "code",
   "execution_count": null,
   "metadata": {},
   "outputs": [],
   "source": [
    "\n",
    "\n",
    "def rabinKarp(T, P, d, q):\n",
    "    \n",
    "    # Base cases\n",
    "    if T is None or P is None:\n",
    "        return -1\n",
    "    \n",
    "    if T == '' or P == '':\n",
    "        return -1\n",
    "    \n",
    "    if len(P)> len(T):\n",
    "        return -1\n",
    "    \n",
    "    \n",
    "\n",
    "    \n",
    "    n = len(T)\n",
    "    m = len(P)\n",
    "    p=t=0\n",
    "    for i in range(m):\n",
    "         p = "
   ]
  }
 ],
 "metadata": {
  "kernelspec": {
   "display_name": "Python 3",
   "language": "python",
   "name": "python3"
  },
  "language_info": {
   "codemirror_mode": {
    "name": "ipython",
    "version": 3
   },
   "file_extension": ".py",
   "mimetype": "text/x-python",
   "name": "python",
   "nbconvert_exporter": "python",
   "pygments_lexer": "ipython3",
   "version": "3.7.2"
  },
  "varInspector": {
   "cols": {
    "lenName": 16,
    "lenType": 16,
    "lenVar": 40
   },
   "kernels_config": {
    "python": {
     "delete_cmd_postfix": "",
     "delete_cmd_prefix": "del ",
     "library": "var_list.py",
     "varRefreshCmd": "print(var_dic_list())"
    },
    "r": {
     "delete_cmd_postfix": ") ",
     "delete_cmd_prefix": "rm(",
     "library": "var_list.r",
     "varRefreshCmd": "cat(var_dic_list()) "
    }
   },
   "types_to_exclude": [
    "module",
    "function",
    "builtin_function_or_method",
    "instance",
    "_Feature"
   ],
   "window_display": false
  }
 },
 "nbformat": 4,
 "nbformat_minor": 2
}
