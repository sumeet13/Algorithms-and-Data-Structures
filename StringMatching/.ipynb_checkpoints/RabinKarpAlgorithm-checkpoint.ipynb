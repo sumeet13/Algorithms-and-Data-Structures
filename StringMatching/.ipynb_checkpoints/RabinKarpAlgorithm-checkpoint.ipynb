{
 "cells": [
  {
   "cell_type": "markdown",
   "metadata": {},
   "source": [
    "# Rabin Karp:\n",
    "\n",
    "It is a string matching algorithm. Here, there is Text T and Pattern P, whose lengths are n and m respectively.\n",
    "We pre-process P by calculating the hash for it and match it with the T[s+1 ... s+m+1] text where s is the shift from 0 to n-m+1. After we generate we repeatedly calculate the hash for the text until we find a match. and return the s. \n",
    "\n",
    "Worst case time complexity of the algorithm is O(n x m) because if we get spurious hits. Else the average case is O(m) processing time and O(n-m+1) for checking if pattern exists."
   ]
  },
  {
   "cell_type": "code",
   "execution_count": 1,
   "metadata": {},
   "outputs": [
    {
     "name": "stdout",
     "output_type": "stream",
     "text": [
      "Pattern occurs after shift 5\n"
     ]
    }
   ],
   "source": [
    "def rabinKarp(T, P, d, q):\n",
    "\n",
    "    # Base cases\n",
    "    if T is None or P is None:\n",
    "        return -1\n",
    "\n",
    "    if T == '' or P == '':\n",
    "        return -1\n",
    "\n",
    "    if len(P) > len(T):\n",
    "        return -1\n",
    "\n",
    "    n = len(T)\n",
    "    m = len(P)\n",
    "    p = t = 0\n",
    "    h = (10**(m - 1)) % q\n",
    "    for i in range(m):\n",
    "\n",
    "        p = (d * p + ord(P[i])) % q\n",
    "        t = (d * t + ord(T[i])) % q\n",
    "\n",
    "    for s in range(n - m + 1):\n",
    "        if p == t and P == T[s:s + m]:\n",
    "            return \"Pattern occurs after shift \" + str(s)\n",
    "\n",
    "        if s < n - m:\n",
    "\n",
    "            t = (d * (t - ord(T[s]) * h) + ord(T[s + m])) % q\n",
    "    return \"Pattern does not exists in text\"\n",
    "\n",
    "print((rabinKarp('abcdedew', 'dew', 10, 2)))"
   ]
  }
 ],
 "metadata": {
  "kernelspec": {
   "display_name": "Python 3",
   "language": "python",
   "name": "python3"
  },
  "language_info": {
   "codemirror_mode": {
    "name": "ipython",
    "version": 3
   },
   "file_extension": ".py",
   "mimetype": "text/x-python",
   "name": "python",
   "nbconvert_exporter": "python",
   "pygments_lexer": "ipython3",
   "version": "3.7.2"
  },
  "varInspector": {
   "cols": {
    "lenName": 16,
    "lenType": 16,
    "lenVar": 40
   },
   "kernels_config": {
    "python": {
     "delete_cmd_postfix": "",
     "delete_cmd_prefix": "del ",
     "library": "var_list.py",
     "varRefreshCmd": "print(var_dic_list())"
    },
    "r": {
     "delete_cmd_postfix": ") ",
     "delete_cmd_prefix": "rm(",
     "library": "var_list.r",
     "varRefreshCmd": "cat(var_dic_list()) "
    }
   },
   "types_to_exclude": [
    "module",
    "function",
    "builtin_function_or_method",
    "instance",
    "_Feature"
   ],
   "window_display": false
  }
 },
 "nbformat": 4,
 "nbformat_minor": 2
}
