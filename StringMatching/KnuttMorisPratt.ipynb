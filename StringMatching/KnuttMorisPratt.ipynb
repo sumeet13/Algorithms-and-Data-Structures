{
 "cells": [
  {
   "cell_type": "code",
   "execution_count": 14,
   "metadata": {},
   "outputs": [
    {
     "data": {
      "text/plain": [
       "'Pattern found at: 4'"
      ]
     },
     "execution_count": 14,
     "metadata": {},
     "output_type": "execute_result"
    }
   ],
   "source": [
    "def calculate_lps(pattern):\n",
    "    lps = [0] * len(pattern)\n",
    "\n",
    "    i, j = 0, 1\n",
    "    while j != len(pattern):\n",
    "\n",
    "        if pattern[i] == pattern[j]:\n",
    "            i = lps[j] = i + 1\n",
    "            j = j + 1\n",
    "\n",
    "        else:\n",
    "            if i != 0:\n",
    "                i = lps[i - 1]\n",
    "\n",
    "            else:\n",
    "                j = j + 1\n",
    "    return lps\n",
    "\n",
    "\n",
    "def KMP(text, pattern):\n",
    "\n",
    "    if not text or not pattern:\n",
    "        return -1\n",
    "\n",
    "    m, n = len(text), len(pattern)\n",
    "\n",
    "    if m < n or not m or not n:\n",
    "        return -1\n",
    "\n",
    "    lps = calculate_lps(pattern)\n",
    "\n",
    "    i, j = 0, 0\n",
    "\n",
    "    while i != m and j != n:\n",
    "        \n",
    "        if pattern[j] == text[i]:\n",
    "            i = i + 1\n",
    "            j = j + 1\n",
    "\n",
    "        else:\n",
    "            if j != 0:\n",
    "                j = lps[j - 1]\n",
    "\n",
    "            else:\n",
    "                i = i + 1\n",
    "\n",
    "    if j == n:\n",
    "        return \"Pattern found at: \" + str(i - n)\n",
    "\n",
    "    return \"Pattern not found\"\n",
    "\n",
    "\n",
    "KMP('BABDABACDABABCABAB', 'ABA')"
   ]
  }
 ],
 "metadata": {
  "kernelspec": {
   "display_name": "Python 3",
   "language": "python",
   "name": "python3"
  },
  "language_info": {
   "codemirror_mode": {
    "name": "ipython",
    "version": 3
   },
   "file_extension": ".py",
   "mimetype": "text/x-python",
   "name": "python",
   "nbconvert_exporter": "python",
   "pygments_lexer": "ipython3",
   "version": "3.7.2"
  },
  "varInspector": {
   "cols": {
    "lenName": 16,
    "lenType": 16,
    "lenVar": 40
   },
   "kernels_config": {
    "python": {
     "delete_cmd_postfix": "",
     "delete_cmd_prefix": "del ",
     "library": "var_list.py",
     "varRefreshCmd": "print(var_dic_list())"
    },
    "r": {
     "delete_cmd_postfix": ") ",
     "delete_cmd_prefix": "rm(",
     "library": "var_list.r",
     "varRefreshCmd": "cat(var_dic_list()) "
    }
   },
   "types_to_exclude": [
    "module",
    "function",
    "builtin_function_or_method",
    "instance",
    "_Feature"
   ],
   "window_display": false
  }
 },
 "nbformat": 4,
 "nbformat_minor": 2
}
