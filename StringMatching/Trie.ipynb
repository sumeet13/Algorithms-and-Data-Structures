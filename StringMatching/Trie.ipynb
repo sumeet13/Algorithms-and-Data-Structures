{
 "cells": [
  {
   "cell_type": "code",
   "execution_count": 29,
   "metadata": {},
   "outputs": [
    {
     "name": "stdout",
     "output_type": "stream",
     "text": [
      "{}\n",
      "before:  a 0\n",
      "{'a': <__main__.TrieNode object at 0x104d16f60>}\n",
      "after a 1\n",
      "before:  b 0\n",
      "{'b': <__main__.TrieNode object at 0x104e384a8>}\n",
      "after b 1\n",
      "before:  c 0\n",
      "{'c': <__main__.TrieNode object at 0x104e38f60>}\n",
      "after c 1\n",
      "before:  a 1\n",
      "after a 2\n",
      "before:  b 1\n",
      "after b 2\n",
      "before:  c 1\n",
      "after c 2\n",
      "before:  d 0\n",
      "{'d': <__main__.TrieNode object at 0x104d1b208>}\n",
      "after d 1\n",
      "before:  e 0\n",
      "{'e': <__main__.TrieNode object at 0x104d1b978>}\n",
      "after e 1\n"
     ]
    },
    {
     "data": {
      "text/plain": [
       "2"
      ]
     },
     "execution_count": 29,
     "metadata": {},
     "output_type": "execute_result"
    }
   ],
   "source": [
    "class TrieNode:\n",
    "    \n",
    "    \n",
    "    def __init__(self, endOfWord = False):\n",
    "        self.children = {}\n",
    "        self.endOfWord = endOfWord\n",
    "        self.counter = 0\n",
    "        \n",
    "class Trie:\n",
    "      \n",
    "    def __init__(self):\n",
    "        self.root = TrieNode()\n",
    "        print(self.root.children)\n",
    "        \n",
    "        \n",
    "    def addWord(self, word):\n",
    "        current = self.root\n",
    "        \n",
    "        for c in word:\n",
    "            print(\"before: \",c,current.counter)\n",
    "            node = current.children.get(c)\n",
    "            \n",
    "            if node is None:\n",
    "                node = TrieNode()\n",
    "                current.children[c] = node\n",
    "                print(current.children)\n",
    "            \n",
    "            current.counter += 1\n",
    "            print(\"after\",c,current.counter)\n",
    "            current = node\n",
    "            \n",
    "        current.endOfWord = True\n",
    "        \n",
    "        \n",
    "    def search(self, word):\n",
    "        current = self.root\n",
    "        \n",
    "        for c in word:\n",
    "            \n",
    "            node = current.children.get(c)\n",
    "            if node is None:\n",
    "                return False\n",
    "            \n",
    "            current = node\n",
    "            \n",
    "        return current.endOfWord\n",
    "    \n",
    "    \n",
    "    def isPrefix(self, word):\n",
    "        \n",
    "        current = self.root\n",
    "        \n",
    "        for c in word:\n",
    "            node = current.children.get(c)\n",
    "            \n",
    "            if node is None:\n",
    "                return False\n",
    "            \n",
    "            current = node\n",
    "            \n",
    "        return current.counter\n",
    "            \n",
    "          \n",
    "    def deleteWord(self, word):\n",
    "        current = self.root\n",
    "        \n",
    "        \n",
    "root = Trie()\n",
    "root.addWord('abc')\n",
    "root.addWord('abcde')\n",
    "root.search('abc')\n",
    "root.isPrefix('ab')"
   ]
  },
  {
   "cell_type": "code",
   "execution_count": null,
   "metadata": {},
   "outputs": [],
   "source": []
  }
 ],
 "metadata": {
  "kernelspec": {
   "display_name": "Python 3",
   "language": "python",
   "name": "python3"
  },
  "language_info": {
   "codemirror_mode": {
    "name": "ipython",
    "version": 3
   },
   "file_extension": ".py",
   "mimetype": "text/x-python",
   "name": "python",
   "nbconvert_exporter": "python",
   "pygments_lexer": "ipython3",
   "version": "3.7.2"
  },
  "varInspector": {
   "cols": {
    "lenName": 16,
    "lenType": 16,
    "lenVar": 40
   },
   "kernels_config": {
    "python": {
     "delete_cmd_postfix": "",
     "delete_cmd_prefix": "del ",
     "library": "var_list.py",
     "varRefreshCmd": "print(var_dic_list())"
    },
    "r": {
     "delete_cmd_postfix": ") ",
     "delete_cmd_prefix": "rm(",
     "library": "var_list.r",
     "varRefreshCmd": "cat(var_dic_list()) "
    }
   },
   "types_to_exclude": [
    "module",
    "function",
    "builtin_function_or_method",
    "instance",
    "_Feature"
   ],
   "window_display": false
  }
 },
 "nbformat": 4,
 "nbformat_minor": 2
}
