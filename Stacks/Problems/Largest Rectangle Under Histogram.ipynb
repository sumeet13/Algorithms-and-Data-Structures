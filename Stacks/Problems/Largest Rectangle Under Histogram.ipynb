{
 "cells": [
  {
   "cell_type": "markdown",
   "metadata": {},
   "source": [
    "# Problem: to find the largest rectangle under histogram\n",
    "\n",
    "Algorithm:\n",
    "\n",
    "1. Assign the first height as minimum.\n",
    "2. Check the area starting from that element and check the minimum height amongst all the elements.\n",
    "3. Keep a track of minimum and maximum area.\n",
    "4. Return the max area.\n",
    "\n",
    "Time Complexity: O(n^2) <br>\n",
    "Space Complexity: O(1)"
   ]
  },
  {
   "cell_type": "code",
   "execution_count": 2,
   "metadata": {},
   "outputs": [
    {
     "data": {
      "text/plain": [
       "10"
      ]
     },
     "execution_count": 2,
     "metadata": {},
     "output_type": "execute_result"
    }
   ],
   "source": [
    "def findLargestRectangleHistogram(heights):\n",
    "    max_area = 0\n",
    "    for i in range(len(heights)):\n",
    "        min_height = heights[i]\n",
    "\n",
    "        for j in range(i, len(heights)):\n",
    "            min_height = min(min_height, heights[j])\n",
    "            max_area = max(max_area, min_height * (j - i + 1))\n",
    "\n",
    "    return max_area\n",
    "\n",
    "findLargestRectangleHistogram([2,1,5,6,2,3])"
   ]
  },
  {
   "cell_type": "markdown",
   "metadata": {},
   "source": [
    "# Improvised Solution: This can be solved in linear time using stacks.\n",
    "\n"
   ]
  }
 ],
 "metadata": {
  "kernelspec": {
   "display_name": "Python 3",
   "language": "python",
   "name": "python3"
  },
  "language_info": {
   "codemirror_mode": {
    "name": "ipython",
    "version": 3
   },
   "file_extension": ".py",
   "mimetype": "text/x-python",
   "name": "python",
   "nbconvert_exporter": "python",
   "pygments_lexer": "ipython3",
   "version": "3.7.2"
  },
  "varInspector": {
   "cols": {
    "lenName": 16,
    "lenType": 16,
    "lenVar": 40
   },
   "kernels_config": {
    "python": {
     "delete_cmd_postfix": "",
     "delete_cmd_prefix": "del ",
     "library": "var_list.py",
     "varRefreshCmd": "print(var_dic_list())"
    },
    "r": {
     "delete_cmd_postfix": ") ",
     "delete_cmd_prefix": "rm(",
     "library": "var_list.r",
     "varRefreshCmd": "cat(var_dic_list()) "
    }
   },
   "types_to_exclude": [
    "module",
    "function",
    "builtin_function_or_method",
    "instance",
    "_Feature"
   ],
   "window_display": false
  }
 },
 "nbformat": 4,
 "nbformat_minor": 2
}
