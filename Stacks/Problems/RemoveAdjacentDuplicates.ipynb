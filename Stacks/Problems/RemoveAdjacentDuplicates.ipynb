{
 "cells": [
  {
   "cell_type": "markdown",
   "metadata": {},
   "source": [
    "# Implementation of stacks"
   ]
  },
  {
   "cell_type": "code",
   "execution_count": 1,
   "metadata": {},
   "outputs": [],
   "source": [
    "class Stack_Arrays:\n",
    "    def __init__(self, limit=10):\n",
    "        self.stack = []\n",
    "        self.limit = limit\n",
    "        self.minStack = []\n",
    "\n",
    "    def push(self, item):\n",
    "\n",
    "        if self.limit <= len(self.stack):\n",
    "            raise AttributeError(\"Cannot add item. Stack is full!\")\n",
    "\n",
    "        else:\n",
    "            self.stack.append(item)\n",
    "            print(\"Stack after push\", self.stack)\n",
    "\n",
    "        if not self.minStack or item <= self.minStack[-1]:\n",
    "            self.minStack.append(item)\n",
    "\n",
    "    def pop(self):\n",
    "\n",
    "        if len(self.stack) <= 0:\n",
    "            raise AttributeError(\"Cannot remove item. Stack is empty!\")\n",
    "\n",
    "        if self.minStack and self.stack[-1] == self.minStack[-1]:\n",
    "            self.minStack.pop()\n",
    "\n",
    "        return self.stack.pop()\n",
    "\n",
    "    def peek(self):\n",
    "\n",
    "        if len(self.stack) == 0:\n",
    "            raise AttributeError(\"Stack is empty!\")\n",
    "\n",
    "        return self.stack[-1]\n",
    "\n",
    "    def size(self):\n",
    "        return len(self.stack)\n",
    "\n",
    "    def print_stack(self):\n",
    "\n",
    "        for i in self.stack:\n",
    "            print(\"Data: \", i)\n",
    "\n",
    "    def getMinimum(self):\n",
    "\n",
    "        if self.minStack:\n",
    "            return self.minStack[-1]\n",
    "        \n",
    "    def isEmpty(self):        \n",
    "        return False if self.stack else True"
   ]
  },
  {
   "cell_type": "markdown",
   "metadata": {},
   "source": [
    "# Problem: Remove all adjacent duplicates from a string\n",
    "\n",
    "I would try to solve this problem using stacks.\n",
    "\n",
    "Algorithm:\n",
    "\n",
    "1. Scan the input string.\n",
    "2. Check if the stack is empty then push the character onto the stack\n",
    "3. If the stack is not empty then check if the character equal to top of the stack\n",
    "4. If the above condition is satisfied(which means it is equal) then pop from stack else push.\n",
    "\n",
    "Time Complexity: O(n)\n",
    "Space Complexity: O(n)"
   ]
  },
  {
   "cell_type": "code",
   "execution_count": 2,
   "metadata": {},
   "outputs": [
    {
     "name": "stdout",
     "output_type": "stream",
     "text": [
      "String in lowercase:  mississippi\n",
      "Stack after push ['m']\n",
      "Stack after push ['m', 'i']\n",
      "Stack after push ['m', 'i', 's']\n",
      "Stack after push ['m', 's']\n",
      "Stack after push ['m', 'i']\n",
      "Stack after push ['m', 'i', 'p']\n",
      "\n",
      "The string after duplicates removed\n",
      "Data:  m\n"
     ]
    }
   ],
   "source": [
    "def removeAdjacentDuplicatesStacks(input_string):\n",
    "    \n",
    "    if not input_string:\n",
    "        return\n",
    "    \n",
    "    input_string = input_string.lower()\n",
    "    \n",
    "    # input string converted to lowrer case for comparison\n",
    "    print(\"String in lowercase: \",input_string)\n",
    "    \n",
    "    stack = Stack_Arrays()\n",
    "    \n",
    "    for i in input_string:\n",
    "        \n",
    "        if stack.isEmpty() or i != stack.peek():\n",
    "            stack.push(i)\n",
    "            \n",
    "        elif i == stack.peek():\n",
    "            stack.pop()\n",
    "    print(\"\\nThe string after duplicates removed\")     \n",
    "    stack.print_stack()\n",
    "        \n",
    "removeAdjacentDuplicatesStacks(\"MiSsissippi\") "
   ]
  },
  {
   "cell_type": "code",
   "execution_count": null,
   "metadata": {},
   "outputs": [],
   "source": []
  }
 ],
 "metadata": {
  "kernelspec": {
   "display_name": "Python 3",
   "language": "python",
   "name": "python3"
  },
  "language_info": {
   "codemirror_mode": {
    "name": "ipython",
    "version": 3
   },
   "file_extension": ".py",
   "mimetype": "text/x-python",
   "name": "python",
   "nbconvert_exporter": "python",
   "pygments_lexer": "ipython3",
   "version": "3.7.2"
  }
 },
 "nbformat": 4,
 "nbformat_minor": 2
}
