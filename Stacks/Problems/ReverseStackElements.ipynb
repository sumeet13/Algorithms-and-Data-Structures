{
 "cells": [
  {
   "cell_type": "markdown",
   "metadata": {},
   "source": [
    "# Basic stack class implementation"
   ]
  },
  {
   "cell_type": "code",
   "execution_count": 1,
   "metadata": {},
   "outputs": [],
   "source": [
    "class Stack_Arrays:\n",
    "    def __init__(self, limit=10):\n",
    "        self.stack = []\n",
    "        self.limit = limit\n",
    "        self.minStack = []\n",
    "\n",
    "    def push(self, item):\n",
    "\n",
    "        if self.limit <= len(self.stack):\n",
    "            raise AttributeError(\"Cannot add item. Stack is full!\")\n",
    "\n",
    "        else:\n",
    "            self.stack.append(item)\n",
    "            print(\"Stack after push\", self.stack)\n",
    "\n",
    "        if not self.minStack or item <= self.minStack[-1]:\n",
    "            self.minStack.append(item)\n",
    "\n",
    "    def pop(self):\n",
    "\n",
    "        if len(self.stack) <= 0:\n",
    "            raise AttributeError(\"Cannot remove item. Stack is empty!\")\n",
    "\n",
    "        if self.minStack and self.stack[-1] == self.minStack[-1]:\n",
    "            self.minStack.pop()\n",
    "\n",
    "        return self.stack.pop()\n",
    "\n",
    "    def peek(self):\n",
    "\n",
    "        if len(self.stack) == 0:\n",
    "            raise AttributeError(\"Stack is empty!\")\n",
    "\n",
    "        return self.stack[-1]\n",
    "\n",
    "    def size(self):\n",
    "        return len(self.stack)\n",
    "\n",
    "    def print_stack(self):\n",
    "\n",
    "        for i in self.stack:\n",
    "            print(\"Data: \", i)\n",
    "\n",
    "    def getMinimum(self):\n",
    "\n",
    "        if self.minStack:\n",
    "            return self.minStack[-1]"
   ]
  },
  {
   "cell_type": "markdown",
   "metadata": {},
   "source": [
    "# Problem: Reverse stack elements using only stack operations\n",
    "\n",
    "This problem can be solved using recursion\n",
    "\n",
    "Algorithm:\n",
    "\n",
    "1. Use another stack and return that stack."
   ]
  },
  {
   "cell_type": "code",
   "execution_count": 2,
   "metadata": {},
   "outputs": [
    {
     "name": "stdout",
     "output_type": "stream",
     "text": [
      "Stack after push ['a']\n",
      "Stack after push ['a', 'b']\n",
      "Stack after push ['a', 'b', 'c']\n",
      "Stack after push ['a', 'b', 'c', 'd']\n",
      "Stack after push ['a', 'b', 'c', 'd', 'e']\n",
      "Stack after push ['e']\n",
      "Stack after push ['e', 'd']\n",
      "Stack after push ['e', 'd', 'c']\n",
      "Stack after push ['e', 'd', 'c', 'b']\n",
      "Stack after push ['e', 'd', 'c', 'b', 'a']\n",
      "Data:  e\n",
      "Data:  d\n",
      "Data:  c\n",
      "Data:  b\n",
      "Data:  a\n"
     ]
    }
   ],
   "source": [
    "def reverseStackElements(stack):\n",
    "\n",
    "    newStack = Stack_Arrays()\n",
    "    if stack.size() == 0:\n",
    "        return\n",
    "\n",
    "    count = stack.size()\n",
    "    i = 0\n",
    "    while i != count:\n",
    "        i += 1\n",
    "        newStack.push(stack.pop())\n",
    "\n",
    "    return newStack\n",
    "\n",
    "\n",
    "stack = Stack_Arrays()\n",
    "stack.push(\"a\")\n",
    "stack.push(\"b\")\n",
    "stack.push(\"c\")\n",
    "stack.push(\"d\")                                                                                                                                                                                                                                                                                                                                                                                                   \n",
    "stack.push(\"e\")\n",
    "\n",
    "s = reverseStackElements(stack)\n",
    "s.print_stack()"
   ]
  },
  {
   "cell_type": "markdown",
   "metadata": {},
   "source": [
    "# Reverse elements using queue.\n",
    "\n",
    "Algorithm:\n",
    "\n",
    "1. Pop elements of stack and enqueue in a queue.\n",
    "2. Dequeue elements and put them in stack.\n",
    "3. Return it.\n",
    "\n",
    "Time Complexity: O(n) <br>\n",
    "Space Complexity : O(n)"
   ]
  },
  {
   "cell_type": "code",
   "execution_count": 3,
   "metadata": {},
   "outputs": [
    {
     "data": {
      "text/plain": [
       "[5, 4, 3, 2, 1]"
      ]
     },
     "execution_count": 3,
     "metadata": {},
     "output_type": "execute_result"
    }
   ],
   "source": [
    "from collections import deque\n",
    "\n",
    "\n",
    "def reverseElementsStackIteratively(stack):\n",
    "\n",
    "    if stack is None:\n",
    "        return \"Input Stack is empty\"\n",
    "\n",
    "    queue = [stack.pop() for i in range(len(stack))]\n",
    "    stack= [i for i in queue]\n",
    "    \n",
    "    return stack\n",
    "\n",
    "reverseElementsStackIteratively([1, 2, 3, 4, 5])"
   ]
  },
  {
   "cell_type": "markdown",
   "metadata": {},
   "source": [
    "# Recursive solution without using any extra data structures.\n",
    "\n",
    "Algorithm:\n",
    "\n",
    "1. We would have to use two methods.\n",
    "2. One to pop the elements to get to the last element.\n",
    "3. Another method to insert the element at the bottom of the stack.\n",
    "\n",
    "Time Complexity : O(n^2) <br>\n",
    "Space Complexity : O(n)\n"
   ]
  },
  {
   "cell_type": "code",
   "execution_count": 4,
   "metadata": {},
   "outputs": [
    {
     "name": "stdout",
     "output_type": "stream",
     "text": [
      "[5, 4, 3, 2, 1]\n"
     ]
    }
   ],
   "source": [
    "def insertAtBottom(stack, item):\n",
    "    if not stack:\n",
    "        stack.append(item)\n",
    "    else:\n",
    "        temp = stack.pop()\n",
    "        insertAtBottom(stack, item)\n",
    "        stack.append(temp)\n",
    "\n",
    "# Below is the function that\n",
    "# reverses the given stack\n",
    "# using insertAtBottom()\n",
    "def reverse(stack):\n",
    "    if stack:\n",
    "        temp = stack.pop()\n",
    "        reverse(stack)\n",
    "        insertAtBottom(stack, temp)\n",
    "        \n",
    "\n",
    "stack =  [1,2,3,4,5]      \n",
    "reverse(stack)\n",
    "print(stack)"
   ]
  }
 ],
 "metadata": {
  "kernelspec": {
   "display_name": "Python 3",
   "language": "python",
   "name": "python3"
  },
  "language_info": {
   "codemirror_mode": {
    "name": "ipython",
    "version": 3
   },
   "file_extension": ".py",
   "mimetype": "text/x-python",
   "name": "python",
   "nbconvert_exporter": "python",
   "pygments_lexer": "ipython3",
   "version": "3.7.2"
  },
  "varInspector": {
   "cols": {
    "lenName": 16,
    "lenType": 16,
    "lenVar": 40
   },
   "kernels_config": {
    "python": {
     "delete_cmd_postfix": "",
     "delete_cmd_prefix": "del ",
     "library": "var_list.py",
     "varRefreshCmd": "print(var_dic_list())"
    },
    "r": {
     "delete_cmd_postfix": ") ",
     "delete_cmd_prefix": "rm(",
     "library": "var_list.r",
     "varRefreshCmd": "cat(var_dic_list()) "
    }
   },
   "types_to_exclude": [
    "module",
    "function",
    "builtin_function_or_method",
    "instance",
    "_Feature"
   ],
   "window_display": false
  }
 },
 "nbformat": 4,
 "nbformat_minor": 2
}
