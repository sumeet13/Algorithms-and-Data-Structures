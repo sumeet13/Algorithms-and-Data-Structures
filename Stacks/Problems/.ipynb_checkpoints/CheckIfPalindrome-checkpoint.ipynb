{
 "cells": [
  {
   "cell_type": "markdown",
   "metadata": {},
   "source": [
    "# Basic Stack Class implementation"
   ]
  },
  {
   "cell_type": "code",
   "execution_count": 1,
   "metadata": {},
   "outputs": [],
   "source": [
    "\n",
    "\n",
    "class Stack_Arrays:\n",
    "    def __init__(self, limit=10):\n",
    "        self.stack = []\n",
    "        self.limit = limit\n",
    "        self.minStack = []\n",
    "\n",
    "    def push(self, item):\n",
    "\n",
    "        if self.limit <= len(self.stack):\n",
    "            raise AttributeError(\"Cannot add item. Stack is full!\")\n",
    "\n",
    "        else:\n",
    "            self.stack.append(item)\n",
    "            print(\"Stack after push\", self.stack)\n",
    "\n",
    "        if not self.minStack or item <= self.minStack[-1]:\n",
    "            self.minStack.append(item)\n",
    "\n",
    "    def pop(self):\n",
    "\n",
    "        if len(self.stack) <= 0:\n",
    "            raise AttributeError(\"Cannot remove item. Stack is empty!\")\n",
    "\n",
    "        if self.minStack and self.stack[-1] == self.minStack[-1]:\n",
    "            self.minStack.pop()\n",
    "\n",
    "        return self.stack.pop()\n",
    "\n",
    "    def peek(self):\n",
    "\n",
    "        if len(self.stack) == 0:\n",
    "            raise AttributeError(\"Stack is empty!\")\n",
    "\n",
    "        return self.stack[-1]\n",
    "\n",
    "    def size(self):\n",
    "        return len(self.stack)\n",
    "\n",
    "    def print_stack(self):\n",
    "\n",
    "        for i in self.stack:\n",
    "            print(\"Data: \", i)\n",
    "\n",
    "    def getMinimum(self):\n",
    "        \n",
    "        if self.minStack:\n",
    "            return self.minStack[-1]"
   ]
  },
  {
   "cell_type": "markdown",
   "metadata": {},
   "source": [
    "# Problem: Check if a given string is palindrome or not( implement using arrays)\n",
    "\n",
    "Palindrome would be separated by X symbol"
   ]
  },
  {
   "cell_type": "code",
   "execution_count": 2,
   "metadata": {},
   "outputs": [],
   "source": [
    "def checkIfPalindromeArraysWay(input_string):\n",
    "\n",
    "    if input_string:\n",
    "\n",
    "        count = 0\n",
    "        reverse_count = len(input_string) - 1\n",
    "\n",
    "        while count < len(input_string):\n",
    "\n",
    "            if input_string[count] != input_string[reverse_count]:\n",
    "                break\n",
    "\n",
    "            if input_string[\n",
    "                    count] == \"X\" and input_string[reverse_count] != \"X\":\n",
    "                break\n",
    "\n",
    "            if input_string[\n",
    "                    reverse_count] == \"X\" and input_string[count] != \"X\":\n",
    "                break\n",
    "\n",
    "            if input_string[count] == \"X\" == input_string[reverse_count]:\n",
    "                return (\"String is a palindrome\")\n",
    "\n",
    "            count += 1\n",
    "            reverse_count -= 1\n",
    "\n",
    "    return (\"String is not a palindrome!\")"
   ]
  },
  {
   "cell_type": "code",
   "execution_count": 5,
   "metadata": {},
   "outputs": [
    {
     "data": {
      "text/plain": [
       "'String is not a palindrome!'"
      ]
     },
     "execution_count": 5,
     "metadata": {},
     "output_type": "execute_result"
    }
   ],
   "source": [
    "checkIfPalindromeArraysWay(\"abbba\")"
   ]
  },
  {
   "cell_type": "markdown",
   "metadata": {},
   "source": [
    "# Problem: Check if a given string is palindrome or not( implement using LinkedList)\n",
    "\n",
    "Palindrome would be separated by X symbol\n",
    "\n",
    "Algorithm:\n",
    "\n",
    "1. Traverse the list until we get X symbol\n",
    "2. Split the linked list by setting the element to the previous element as None\n",
    "3. And make a second linked list starting from next element of X\n",
    "4. Reverse the second list\n",
    "5. And compare both the lists"
   ]
  },
  {
   "cell_type": "markdown",
   "metadata": {},
   "source": [
    "# Problem: Check if a given string is palindrome or not( implement using Stacks)\n",
    "\n",
    "Palindrome would be separated by X symbol\n",
    "\n",
    "Algorithm:\n",
    "\n",
    "1. Keep adding elements until you find X.\n",
    "2. From that point leave X and keep popping elements until they are equal\n",
    "3. Anytime if the elements are not equal, then it is not a palindrome\n",
    "4. In the end check if the stack is empty then, the input was a palindrome"
   ]
  },
  {
   "cell_type": "code",
   "execution_count": 41,
   "metadata": {},
   "outputs": [
    {
     "name": "stdout",
     "output_type": "stream",
     "text": [
      "Stack after push ['a']\n",
      "Stack after push ['a', 'b']\n"
     ]
    },
    {
     "data": {
      "text/plain": [
       "'String is palindrome'"
      ]
     },
     "execution_count": 41,
     "metadata": {},
     "output_type": "execute_result"
    }
   ],
   "source": [
    "def checkIfPalindromeStacksWay(input_string):\n",
    "\n",
    "    if not input_string:\n",
    "        raise ValueError(\"Input string is empty\")\n",
    "\n",
    "    stack = Stack_Arrays()\n",
    "    found_X = False\n",
    "\n",
    "    for i in input_string:\n",
    "\n",
    "        if i == \"X\" and not found_X:\n",
    "            found_X = True\n",
    "\n",
    "        elif not found_X:\n",
    "            stack.push(i)\n",
    "\n",
    "        elif found_X and stack.size() != 0 and stack.peek() == i:\n",
    "            stack.pop()\n",
    "            continue\n",
    "\n",
    "        elif found_X and stack.size() != 0 and stack.peek() != i:\n",
    "            stack.pop()\n",
    "            return \"X String is not palindrome\"\n",
    "        else:\n",
    "            return \"Y String is not a palindrome\"\n",
    "\n",
    "    if stack.size() == 0:\n",
    "        return \"String is palindrome\"\n",
    "\n",
    "    else:\n",
    "        return \"String is not a palindrome\"\n",
    "\n",
    "\n",
    "checkIfPalindromeStacksWay(\"abXba\")\n",
    "\n",
    "# Time Complexity: O(n/2) ~ O(n)\n",
    "# Space Complexity: O(1)"
   ]
  },
  {
   "cell_type": "markdown",
   "metadata": {},
   "source": [
    "# Problem: Check if string is a palindrome using Stacks\n",
    "\n",
    "Algorithm:\n",
    "\n",
    "1. Add all elements of the string to the stack\n",
    "2. Scan the string again.\n",
    "3. If the elements do not match, it is not a palindrome else it is"
   ]
  },
  {
   "cell_type": "code",
   "execution_count": 47,
   "metadata": {},
   "outputs": [
    {
     "name": "stdout",
     "output_type": "stream",
     "text": [
      "Stack after push ['a']\n",
      "Stack after push ['a', 'b']\n",
      "Stack after push ['a', 'b', 'a']\n",
      "Stack after push ['a', 'b', 'a', 'c']\n",
      "Stack after push ['a', 'b', 'a', 'c', 'd']\n"
     ]
    },
    {
     "data": {
      "text/plain": [
       "'String is not palindrome'"
      ]
     },
     "execution_count": 47,
     "metadata": {},
     "output_type": "execute_result"
    }
   ],
   "source": [
    "def checkIfAnyStringIsPalindromeStacks(input_string):\n",
    "\n",
    "    if not input_string:\n",
    "        return\n",
    "\n",
    "    stack = Stack_Arrays()\n",
    "\n",
    "    for i in input_string:\n",
    "        stack.push(i)\n",
    "\n",
    "    for item in input_string:\n",
    "        if item != stack.pop():\n",
    "            return \"String is not palindrome\"\n",
    "\n",
    "    return \"String is a palindrome\"\n",
    "\n",
    "\n",
    "checkIfAnyStringIsPalindromeStacks(\"abacd\")\n",
    "\n",
    "# Time Complexity: O(n/2) ~ O(n)\n",
    "# Space Complexity: O(1)"
   ]
  },
  {
   "cell_type": "code",
   "execution_count": null,
   "metadata": {},
   "outputs": [],
   "source": []
  }
 ],
 "metadata": {
  "kernelspec": {
   "display_name": "Python 3",
   "language": "python",
   "name": "python3"
  },
  "language_info": {
   "codemirror_mode": {
    "name": "ipython",
    "version": 3
   },
   "file_extension": ".py",
   "mimetype": "text/x-python",
   "name": "python",
   "nbconvert_exporter": "python",
   "pygments_lexer": "ipython3",
   "version": "3.7.2"
  }
 },
 "nbformat": 4,
 "nbformat_minor": 2
}
