{
 "cells": [
  {
   "cell_type": "markdown",
   "metadata": {},
   "source": [
    "# Stock Span problem\n",
    "\n",
    "Find the maximum i - j span. Subjected to the fact that A[i] > A[j]\n",
    "\n",
    "Algorithm(Brute Force):\n",
    "\n",
    "1. Compare elements A[i] and A[j], A[j] being the preceding element. \n",
    "2. Keep a counter and keep increasing that until A[i] > A[j]. Keep decresing j.\n",
    "3. When the condition fails, update the counter/span to the span array.\n",
    "\n",
    "## Time Complexity : O(n^2)\n",
    "## Space Complexity : O(1)"
   ]
  },
  {
   "cell_type": "code",
   "execution_count": 1,
   "metadata": {},
   "outputs": [
    {
     "name": "stdout",
     "output_type": "stream",
     "text": [
      "[1, 1, 2, 3, 1]\n"
     ]
    },
    {
     "data": {
      "text/plain": [
       "5"
      ]
     },
     "execution_count": 1,
     "metadata": {},
     "output_type": "execute_result"
    }
   ],
   "source": [
    "def stockSpanProblemBruteForce(arr):\n",
    "\n",
    "    if not arr:\n",
    "        return (\"Array is empty!\")\n",
    "    maximum = [1]\n",
    "\n",
    "    i = 1\n",
    "\n",
    "    while i != len(arr):\n",
    "\n",
    "        j = i - 1\n",
    "        counter = 1\n",
    "\n",
    "        while j != -1:\n",
    "            \n",
    "            if arr[i] >= arr[j]:\n",
    "                counter += 1\n",
    "            else:\n",
    "                break\n",
    "            j -= 1\n",
    "                \n",
    "        maximum.append(counter)\n",
    "        i += 1\n",
    "    \n",
    "    print(maximum)\n",
    "    max_value = 0  \n",
    "    index = 0\n",
    "    \n",
    "    for i,value in enumerate(maximum):\n",
    "        if value > max_value:\n",
    "            max_value = value\n",
    "            index =i\n",
    "            \n",
    "    return arr[index]\n",
    "\n",
    "stockSpanProblemBruteForce([6,3,4,5,2])\n",
    "\n",
    "# Time Complexity : O(n^2)\n",
    "# Space Complexity : O(1)"
   ]
  },
  {
   "cell_type": "markdown",
   "metadata": {},
   "source": [
    "# Finding the stock span with improved complexity\n",
    "\n",
    "Finding the span would be going till the index where the condition A[i] > A[j] fails.\n",
    "\n",
    "To work this out we would use stacks that would store indexes to compare.\n",
    "\n",
    "Algorithm:\n",
    "\n",
    "1. Declare a stack to store indexes\n",
    "2. Loop through array and check if i is greater than j(previous element) and stack is empty\n",
    "3. If stack is empty, then declare p =-1 else p = last index on stack\n",
    "4. span of the array would be current index i - p\n",
    "5. push the current index to the stack.\n",
    "\n",
    "\n"
   ]
  },
  {
   "cell_type": "code",
   "execution_count": 2,
   "metadata": {},
   "outputs": [
    {
     "name": "stdout",
     "output_type": "stream",
     "text": [
      "[1, 1, 2, 3, 1]\n"
     ]
    }
   ],
   "source": [
    "from collections import deque\n",
    "\n",
    "\n",
    "def stockSpanProblem(arr):\n",
    "\n",
    "    if not arr:\n",
    "        raise ValueError(\"Array is empty!\")\n",
    "\n",
    "    indexStack = deque()\n",
    "\n",
    "    span = []\n",
    "    p = 0\n",
    "    for i in range(0, len(arr)):\n",
    "\n",
    "        if indexStack and arr[i] > arr[indexStack[-1]]:\n",
    "            indexStack.pop()\n",
    "\n",
    "        if not indexStack:\n",
    "            p = -1\n",
    "\n",
    "        else:\n",
    "            p = indexStack[-1]\n",
    "\n",
    "        span.append(i - p)\n",
    "        indexStack.append(i)\n",
    "\n",
    "    return span\n",
    "\n",
    "\n",
    "queue = deque([6, 3, 4, 5, 2])\n",
    "print(stockSpanProblem(queue))"
   ]
  }
 ],
 "metadata": {
  "kernelspec": {
   "display_name": "Python 3",
   "language": "python",
   "name": "python3"
  },
  "language_info": {
   "codemirror_mode": {
    "name": "ipython",
    "version": 3
   },
   "file_extension": ".py",
   "mimetype": "text/x-python",
   "name": "python",
   "nbconvert_exporter": "python",
   "pygments_lexer": "ipython3",
   "version": "3.7.2"
  }
 },
 "nbformat": 4,
 "nbformat_minor": 2
}
