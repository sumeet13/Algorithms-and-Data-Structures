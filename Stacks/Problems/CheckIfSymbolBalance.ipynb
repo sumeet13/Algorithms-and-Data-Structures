{
 "cells": [
  {
   "cell_type": "code",
   "execution_count": 1,
   "metadata": {},
   "outputs": [
    {
     "name": "stdout",
     "output_type": "stream",
     "text": [
      "Symbols match\n"
     ]
    }
   ],
   "source": [
    "def matches(input1, input2):\n",
    "  \n",
    "    if input1 in '[' and input2 in ']':\n",
    "        return True\n",
    "    \n",
    "    if input1 in '{' and input2 in '}':\n",
    "        return True\n",
    "        \n",
    "    if input1 in '(' and input2 in ')':\n",
    "        return True\n",
    "        \n",
    "    return False\n",
    "\n",
    "def checkIfSymbolBalance(input_symbols):\n",
    "    \n",
    "    p = [a if a in \"[{()}]\" else \"\" for a in input_symbols]\n",
    "\n",
    "    input_symbols = (''.join(p))\n",
    "    stack = []\n",
    "    balanced = 0\n",
    "    topSymbol = \"\"\n",
    "    # base case\n",
    "    if input_symbols is None:\n",
    "        raise ValueError(\"Input is empty!\")\n",
    "\n",
    "    for symbols in input_symbols:\n",
    "         \n",
    "        if symbols in ['{', '[', '(']:\n",
    "            stack.append(symbols)\n",
    "\n",
    "        else:\n",
    "\n",
    "            topSymbol = stack.pop()\n",
    "\n",
    "        # check if top symbol exists and matches\n",
    "        if matches(topSymbol, symbols) and topSymbol:\n",
    "            balanced = 1\n",
    "         \n",
    "        # check if top symbol exists and does not match\n",
    "        elif topSymbol and not matches(topSymbol, symbols):\n",
    "            balanced = 0\n",
    "            break\n",
    "            \n",
    "        else:\n",
    "            balanced = 0\n",
    "        \n",
    "        # check if the stack is empty\n",
    "        if stack:\n",
    "            balanced = 0\n",
    "            \n",
    "        else: \n",
    "            balanced = 1\n",
    "\n",
    "    if balanced:\n",
    "        print(\"Symbols match\")\n",
    "    else:\n",
    "        print(\"Symbols do not match\")\n",
    "        \n",
    "checkIfSymbolBalance('[vgfhf[]]')"
   ]
  },
  {
   "cell_type": "code",
   "execution_count": null,
   "metadata": {},
   "outputs": [],
   "source": []
  }
 ],
 "metadata": {
  "kernelspec": {
   "display_name": "Python 3",
   "language": "python",
   "name": "python3"
  },
  "language_info": {
   "codemirror_mode": {
    "name": "ipython",
    "version": 3
   },
   "file_extension": ".py",
   "mimetype": "text/x-python",
   "name": "python",
   "nbconvert_exporter": "python",
   "pygments_lexer": "ipython3",
   "version": "3.7.2"
  }
 },
 "nbformat": 4,
 "nbformat_minor": 2
}
