{
 "cells": [
  {
   "cell_type": "markdown",
   "metadata": {},
   "source": [
    "# Implement stack using arrays"
   ]
  },
  {
   "cell_type": "code",
   "execution_count": 1,
   "metadata": {},
   "outputs": [],
   "source": [
    "class Stack_Arrays:\n",
    "    def __init__(self, limit=10):\n",
    "        self.stack = []\n",
    "        self.limit = limit\n",
    "\n",
    "    def push(self, item):\n",
    "\n",
    "        if self.limit <= len(self.stack):\n",
    "            raise AttributeError(\"Cannot add item. Stack is full!\")\n",
    "\n",
    "        else:\n",
    "            self.stack.append(item)\n",
    "            print(\"Stack after push\", self.stack)\n",
    "\n",
    "    def pop(self):\n",
    "\n",
    "        if len(self.stack) <= 0:\n",
    "            raise AttributeError(\"Cannot remove item. Stack is empty!\")\n",
    "\n",
    "        else:\n",
    "\n",
    "            return self.stack.pop()\n",
    "\n",
    "    def peek(self):\n",
    "\n",
    "        if len(self.stack) == 0:\n",
    "            raise AttributeError(\"Stack is empty!\")\n",
    "\n",
    "        return self.stack[-1]\n",
    "\n",
    "    def size(self):\n",
    "        return len(self.stack)\n",
    "\n",
    "    def print_stack(self):\n",
    "\n",
    "        for i in self.stack:\n",
    "            print(\"Data: \", i)"
   ]
  },
  {
   "cell_type": "code",
   "execution_count": 2,
   "metadata": {},
   "outputs": [
    {
     "name": "stdout",
     "output_type": "stream",
     "text": [
      "Stack after push [8]\n",
      "Stack after push [8, 9]\n"
     ]
    }
   ],
   "source": [
    "stack = Stack_Arrays(7)\n",
    "stack.push(8)\n",
    "stack.push(9)\n"
   ]
  },
  {
   "cell_type": "code",
   "execution_count": 3,
   "metadata": {},
   "outputs": [
    {
     "name": "stdout",
     "output_type": "stream",
     "text": [
      "9\n",
      "Data:  8\n"
     ]
    }
   ],
   "source": [
    "print(stack.pop())\n",
    "stack.print_stack()"
   ]
  },
  {
   "cell_type": "code",
   "execution_count": 4,
   "metadata": {},
   "outputs": [
    {
     "name": "stdout",
     "output_type": "stream",
     "text": [
      "8\n"
     ]
    }
   ],
   "source": [
    "print(stack.peek())\n"
   ]
  },
  {
   "cell_type": "markdown",
   "metadata": {},
   "source": [
    "# Implement getMinimum() function in stack"
   ]
  },
  {
   "cell_type": "code",
   "execution_count": null,
   "metadata": {},
   "outputs": [],
   "source": [
    "def getMinimum():\n",
    "    "
   ]
  }
 ],
 "metadata": {
  "kernelspec": {
   "display_name": "Python 3",
   "language": "python",
   "name": "python3"
  },
  "language_info": {
   "codemirror_mode": {
    "name": "ipython",
    "version": 3
   },
   "file_extension": ".py",
   "mimetype": "text/x-python",
   "name": "python",
   "nbconvert_exporter": "python",
   "pygments_lexer": "ipython3",
   "version": "3.7.2"
  }
 },
 "nbformat": 4,
 "nbformat_minor": 2
}
