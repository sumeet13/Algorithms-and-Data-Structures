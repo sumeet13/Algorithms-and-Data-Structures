{
 "cells": [
  {
   "cell_type": "markdown",
   "metadata": {},
   "source": [
    "# Generate all binary strings of length n"
   ]
  },
  {
   "cell_type": "code",
   "execution_count": 1,
   "metadata": {},
   "outputs": [
    {
     "name": "stdout",
     "output_type": "stream",
     "text": [
      "3\n",
      "2\n",
      "1\n",
      "['00', '01']\n",
      "1\n",
      "['10', '11']\n",
      "['000', '001', '010', '011']\n",
      "2\n",
      "1\n",
      "['00', '01']\n",
      "1\n",
      "['10', '11']\n",
      "['100', '101', '110', '111']\n",
      "['000', '001', '010', '011', '100', '101', '110', '111']\n"
     ]
    }
   ],
   "source": [
    "def append_at_beginning_front(x,L):\n",
    "    n = [x + element for element in L]\n",
    "    print(n)\n",
    "    return n\n",
    "\n",
    "def bitStrings(n):\n",
    "    print(n)\n",
    "    if n==0: return []\n",
    "    \n",
    "    if n==1: return [\"0\", \"1\"]\n",
    "    \n",
    "    else:\n",
    "        return (append_at_beginning_front(\"0\", bitStrings(n-1)) + append_at_beginning_front(\"1\", bitStrings(n-1)))\n",
    "\n",
    "print(bitStrings(3))\n",
    "    \n"
   ]
  },
  {
   "cell_type": "markdown",
   "metadata": {},
   "source": [
    "# Alternative"
   ]
  },
  {
   "cell_type": "code",
   "execution_count": 2,
   "metadata": {},
   "outputs": [
    {
     "name": "stdout",
     "output_type": "stream",
     "text": [
      "3\n",
      "1\n",
      "2\n",
      "1\n",
      "1\n",
      "1\n",
      "2\n",
      "1\n",
      "1\n",
      "1\n",
      "['000', '001', '010', '011', '100', '101', '110', '111']\n"
     ]
    }
   ],
   "source": [
    "def bit_strings(n):\n",
    "    print(n)\n",
    "    if n==0: return []\n",
    "    \n",
    "    if n==1: return [\"0\", \"1\"] \n",
    "    \n",
    "    return [digit + bitstring for digit in bit_strings(1)\n",
    "           for bitstring in bit_strings(n-1)]\n",
    "\n",
    "print(bit_strings(3))"
   ]
  },
  {
   "cell_type": "code",
   "execution_count": 7,
   "metadata": {},
   "outputs": [
    {
     "name": "stdout",
     "output_type": "stream",
     "text": [
      "arr [0, 0]\n",
      "0 0 \n",
      "arr [0, 1]\n",
      "0 1 \n",
      "arr [1, 0]\n",
      "1 0 \n",
      "arr [1, 1]\n",
      "1 1 \n"
     ]
    }
   ],
   "source": [
    "def printTheArray(arr, n):  \n",
    "    print(\"arr\",arr)\n",
    "    for i in range(0, n):  \n",
    "        print(arr[i], end = \" \")  \n",
    "      \n",
    "    print()\n",
    "def generateAllBinaryStrings(n, arr, i):  \n",
    "  \n",
    "    if i == n: \n",
    "        printTheArray(arr, n)  \n",
    "        return\n",
    "      \n",
    "    # First assign \"0\" at ith position  \n",
    "    # and try for all other permutations  \n",
    "    # for remaining positions \n",
    "    \n",
    "    arr[i] = 0\n",
    "    generateAllBinaryStrings(n, arr, i + 1)  \n",
    "    \n",
    "    # And then assign \"1\" at ith position  \n",
    "    # and try for all other permutations  \n",
    "    # for remaining positions  \n",
    "    arr[i] = 1\n",
    "    generateAllBinaryStrings(n, arr, i + 1)\n",
    "    \n",
    "    \n",
    "generateAllBinaryStrings(2,[None]*2,0)"
   ]
  },
  {
   "cell_type": "code",
   "execution_count": null,
   "metadata": {},
   "outputs": [],
   "source": []
  }
 ],
 "metadata": {
  "kernelspec": {
   "display_name": "Python 3",
   "language": "python",
   "name": "python3"
  },
  "language_info": {
   "codemirror_mode": {
    "name": "ipython",
    "version": 3
   },
   "file_extension": ".py",
   "mimetype": "text/x-python",
   "name": "python",
   "nbconvert_exporter": "python",
   "pygments_lexer": "ipython3",
   "version": "3.7.2"
  },
  "varInspector": {
   "cols": {
    "lenName": 16,
    "lenType": 16,
    "lenVar": 40
   },
   "kernels_config": {
    "python": {
     "delete_cmd_postfix": "",
     "delete_cmd_prefix": "del ",
     "library": "var_list.py",
     "varRefreshCmd": "print(var_dic_list())"
    },
    "r": {
     "delete_cmd_postfix": ") ",
     "delete_cmd_prefix": "rm(",
     "library": "var_list.r",
     "varRefreshCmd": "cat(var_dic_list()) "
    }
   },
   "types_to_exclude": [
    "module",
    "function",
    "builtin_function_or_method",
    "instance",
    "_Feature"
   ],
   "window_display": false
  }
 },
 "nbformat": 4,
 "nbformat_minor": 2
}
