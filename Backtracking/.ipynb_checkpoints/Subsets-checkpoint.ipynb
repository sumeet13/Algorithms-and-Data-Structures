{
 "cells": [
  {
   "cell_type": "markdown",
   "metadata": {},
   "source": [
    "# Generate all possible Subsets\n"
   ]
  },
  {
   "cell_type": "code",
   "execution_count": 3,
   "metadata": {},
   "outputs": [
    {
     "name": "stdout",
     "output_type": "stream",
     "text": [
      "[[], [1], [1, 2], [1, 2, 3], [1, 3], [2], [2, 3], [3]]\n"
     ]
    }
   ],
   "source": [
    "\n",
    "nums= [1,2,3]\n",
    "n = len(nums)\n",
    "output = []\n",
    "def backtracking(s=0,ans=[]):\n",
    "    output.append(ans[:])\n",
    "    if s==n:\n",
    "        return\n",
    "    \n",
    "    for i in range(s,n):\n",
    "        backtracking(i+1,ans+[nums[i]])\n",
    "backtracking()    \n",
    "print(output)"
   ]
  },
  {
   "cell_type": "code",
   "execution_count": 3,
   "metadata": {},
   "outputs": [
    {
     "name": "stdout",
     "output_type": "stream",
     "text": [
      "Case #1:1\n"
     ]
    }
   ],
   "source": [
    "T = int(input())\n",
    "for x in range(1, T + 1):\n",
    "    N= int(input())\n",
    "    A = map(int, input().split())\n",
    "    \n",
    "    counter = 0\n",
    "    i = 0\n",
    "    \n",
    "    def checkValid(arr):\n",
    "        n = len(arr)\n",
    "        if n!=K:\n",
    "            return False\n",
    "        for i in range(len(arr)-1):\n",
    "            if arr[i]-1!=arr[i+1]:\n",
    "                return False\n",
    "                \n",
    "        return True\n",
    "    \n",
    "    while i <N:\n",
    "        \n",
    "        if A[i]==K and checkValid(A[i:i+K]):\n",
    "            counter += 1\n",
    "            i = i+K\n",
    "\n",
    "        else:\n",
    "             i+= 1\n",
    "             \n",
    "    print(\"Case #{}:{}\".format(x, counter), flush = True)\n",
    "            \n",
    "    \n"
   ]
  },
  {
   "cell_type": "code",
   "execution_count": 4,
   "metadata": {},
   "outputs": [
    {
     "ename": "SyntaxError",
     "evalue": "unexpected EOF while parsing (<ipython-input-4-45084c0cb63e>, line 9)",
     "output_type": "error",
     "traceback": [
      "\u001b[0;36m  File \u001b[0;32m\"<ipython-input-4-45084c0cb63e>\"\u001b[0;36m, line \u001b[0;32m9\u001b[0m\n\u001b[0;31m    \u001b[0m\n\u001b[0m    ^\u001b[0m\n\u001b[0;31mSyntaxError\u001b[0m\u001b[0;31m:\u001b[0m unexpected EOF while parsing\n"
     ]
    }
   ],
   "source": [
    "\n",
    "arr = []+[0]\n",
    "n = len(arr)+1\n",
    "max_ = arr[0]\n",
    "for i in range(1,n):\n",
    "    \n",
    "    if arr[i]>max_:\n",
    "        \n",
    "    "
   ]
  },
  {
   "cell_type": "code",
   "execution_count": null,
   "metadata": {},
   "outputs": [],
   "source": []
  }
 ],
 "metadata": {
  "kernelspec": {
   "display_name": "Python 3",
   "language": "python",
   "name": "python3"
  },
  "language_info": {
   "codemirror_mode": {
    "name": "ipython",
    "version": 3
   },
   "file_extension": ".py",
   "mimetype": "text/x-python",
   "name": "python",
   "nbconvert_exporter": "python",
   "pygments_lexer": "ipython3",
   "version": "3.7.2"
  },
  "varInspector": {
   "cols": {
    "lenName": 16,
    "lenType": 16,
    "lenVar": 40
   },
   "kernels_config": {
    "python": {
     "delete_cmd_postfix": "",
     "delete_cmd_prefix": "del ",
     "library": "var_list.py",
     "varRefreshCmd": "print(var_dic_list())"
    },
    "r": {
     "delete_cmd_postfix": ") ",
     "delete_cmd_prefix": "rm(",
     "library": "var_list.r",
     "varRefreshCmd": "cat(var_dic_list()) "
    }
   },
   "types_to_exclude": [
    "module",
    "function",
    "builtin_function_or_method",
    "instance",
    "_Feature"
   ],
   "window_display": false
  }
 },
 "nbformat": 4,
 "nbformat_minor": 2
}
