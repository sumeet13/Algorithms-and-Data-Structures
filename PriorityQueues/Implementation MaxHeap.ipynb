{
 "cells": [
  {
   "cell_type": "code",
   "execution_count": 18,
   "metadata": {},
   "outputs": [
    {
     "name": "stdout",
     "output_type": "stream",
     "text": [
      "[0, 100, 9, 5, 6, 4, 0]\n",
      "Before [0, 0, 9, 5, 6, 4, 100]\n",
      "After [0, 9, 6, 5, 0, 4, 100]\n",
      "Before [0, 4, 6, 5, 0, 9, 100]\n",
      "After [0, 6, 4, 5, 0, 9, 100]\n",
      "Before [0, 0, 4, 5, 6, 9, 100]\n",
      "After [0, 5, 4, 0, 6, 9, 100]\n",
      "Before [0, 0, 4, 5, 6, 9, 100]\n",
      "After [0, 4, 0, 5, 6, 9, 100]\n",
      "Before [0, 0, 4, 5, 6, 9, 100]\n",
      "After [0, 0, 4, 5, 6, 9, 100]\n",
      "Before [0, 0, 4, 5, 6, 9, 100]\n",
      "After [0, 0, 4, 5, 6, 9, 100]\n",
      "Sorted [0, 4, 5, 6, 9, 100]\n"
     ]
    }
   ],
   "source": [
    "class MaxHeap:\n",
    "    def __init__(self):\n",
    "        self.heapList = [0]\n",
    "        self.size = 0\n",
    "\n",
    "    def maxChild(self, i):\n",
    "\n",
    "        if i * 2 + 1 > self.size:\n",
    "            return i * 2\n",
    "\n",
    "        return i * 2 if self.heapList[i * 2] > self.heapList[i * 2 +\n",
    "                                                             1] else i * 2 + 1\n",
    "\n",
    "    def percolateDown(self, i):\n",
    "\n",
    "        while i * 2 <= self.size:\n",
    "            maxChildIndex = self.maxChild(i)\n",
    "\n",
    "            if self.heapList[i] < self.heapList[maxChildIndex]:\n",
    "                self.heapList[i], self.heapList[maxChildIndex] = self.heapList[\n",
    "                    maxChildIndex], self.heapList[i]\n",
    "\n",
    "            i = maxChildIndex\n",
    "\n",
    "    def percolateUp(self, i):\n",
    "        #floor division operation\n",
    "        while i // 2 > 0:\n",
    "            parentIndex = i // 2\n",
    "            if self.heapList[parentIndex] < self.heapList[i]:\n",
    "                #swap operation\n",
    "                self.heapList[i], self.heapList[parentIndex] = self.heapList[\n",
    "                    parentIndex], self.heapList[i]\n",
    "            i = parentIndex\n",
    "\n",
    "    def deleteMax(self):\n",
    "\n",
    "        if self.size > 0:\n",
    "            retVal = self.heapList[1]\n",
    "            self.heapList[1] = self.heapList.pop()\n",
    "\n",
    "            self.size = self.size - 1\n",
    "            self.percolateDown(1)\n",
    "        print(self.heapList[1:])\n",
    "        return retVal\n",
    "\n",
    "    def insert(self, val):\n",
    "        self.heapList.append(val)\n",
    "        self.size = self.size + 1\n",
    "        self.percolateUp(self.size)\n",
    "        print(self.heapList[1:])\n",
    "\n",
    "    def heapify(self, A):\n",
    "        i = len(A) // 2\n",
    "        self.heapList = [0] + A\n",
    "        self.size = len(A)\n",
    "        while (i > 0):\n",
    "            self.percolateDown(i)\n",
    "            i = i - 1\n",
    "        return ((self.heapList[1:]))\n",
    "\n",
    "    def heapSort(self, A):\n",
    "        self.size = len(A)\n",
    "        self.heapList = [0] + self.heapify(A)\n",
    "        print(self.heapList)\n",
    "        #swap first and last element\n",
    "\n",
    "\n",
    "        while self.size > 0:\n",
    "            self.heapList[1], self.heapList[self.size] = self.heapList[self.size], self.heapList[1]\n",
    "            self.size = self.size - 1\n",
    "            self.percolateDown(1)\n",
    "        self.size = len(A)-1\n",
    "        print(\"Sorted \"+str(self.heapList[1:]))\n",
    "maxHeap = MaxHeap()       \n",
    "maxHeap.heapSort([9,4,5,6,100,0])"
   ]
  },
  {
   "cell_type": "code",
   "execution_count": 2,
   "metadata": {},
   "outputs": [
    {
     "data": {
      "text/plain": [
       "[40, 30, 15, 10, 20]"
      ]
     },
     "execution_count": 2,
     "metadata": {},
     "output_type": "execute_result"
    }
   ],
   "source": [
    "\n",
    "maxHeap.heapify([10,20, 15,30,40])"
   ]
  },
  {
   "cell_type": "code",
   "execution_count": 3,
   "metadata": {},
   "outputs": [
    {
     "name": "stdout",
     "output_type": "stream",
     "text": [
      "[30, 20, 15, 10]\n"
     ]
    },
    {
     "data": {
      "text/plain": [
       "40"
      ]
     },
     "execution_count": 3,
     "metadata": {},
     "output_type": "execute_result"
    }
   ],
   "source": [
    "maxHeap.deleteMax()"
   ]
  },
  {
   "cell_type": "code",
   "execution_count": 6,
   "metadata": {},
   "outputs": [
    {
     "name": "stdout",
     "output_type": "stream",
     "text": [
      "[100, 6, 100, 0, 4, 9, 5]\n",
      "[100, 6, 5, 0, 4, 9]\n"
     ]
    }
   ],
   "source": [
    "maxHeap.insert(100)\n",
    "\n"
   ]
  },
  {
   "cell_type": "code",
   "execution_count": null,
   "metadata": {},
   "outputs": [],
   "source": []
  }
 ],
 "metadata": {
  "kernelspec": {
   "display_name": "Python 3",
   "language": "python",
   "name": "python3"
  },
  "language_info": {
   "codemirror_mode": {
    "name": "ipython",
    "version": 3
   },
   "file_extension": ".py",
   "mimetype": "text/x-python",
   "name": "python",
   "nbconvert_exporter": "python",
   "pygments_lexer": "ipython3",
   "version": "3.7.2"
  },
  "varInspector": {
   "cols": {
    "lenName": 16,
    "lenType": 16,
    "lenVar": 40
   },
   "kernels_config": {
    "python": {
     "delete_cmd_postfix": "",
     "delete_cmd_prefix": "del ",
     "library": "var_list.py",
     "varRefreshCmd": "print(var_dic_list())"
    },
    "r": {
     "delete_cmd_postfix": ") ",
     "delete_cmd_prefix": "rm(",
     "library": "var_list.r",
     "varRefreshCmd": "cat(var_dic_list()) "
    }
   },
   "types_to_exclude": [
    "module",
    "function",
    "builtin_function_or_method",
    "instance",
    "_Feature"
   ],
   "window_display": false
  }
 },
 "nbformat": 4,
 "nbformat_minor": 2
}
