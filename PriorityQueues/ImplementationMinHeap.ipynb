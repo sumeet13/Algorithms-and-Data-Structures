{
 "cells": [
  {
   "cell_type": "markdown",
   "metadata": {},
   "source": [
    "# Binary Min Heap with map\n",
    "\n",
    "Operations\n",
    "\n",
    "1. Insert\n",
    "2. DeleteMin\n",
    "3. Contains\n",
    "4. DecreaseKey"
   ]
  },
  {
   "cell_type": "code",
   "execution_count": 2,
   "metadata": {},
   "outputs": [
    {
     "name": "stdout",
     "output_type": "stream",
     "text": [
      "('a', 0)\n",
      "('b', -10)\n"
     ]
    }
   ],
   "source": [
    "class MinHeap():\n",
    "    def __init__(self):\n",
    "        self.minHeap = []\n",
    "        self.hashmap = {}\n",
    "        self.size = 0\n",
    "\n",
    "    def get_size(self):\n",
    "        return self.size\n",
    "\n",
    "    def get_min(self):\n",
    "        if self.minHeap:\n",
    "            return self.minHeap[0]\n",
    "\n",
    "    def percolate_up(self, index):\n",
    "        # If the parent is larger than the element at index then swap and update the hashmap\n",
    "\n",
    "        while (index - 1) // 2 >= 0:\n",
    "            if (self.minHeap[index])[1] < (self.minHeap[(index - 1) // 2])[1]:\n",
    "                # update the indexes in the map\n",
    "                self.hashmap[(self.minHeap[index])[0]] = (index - 1) // 2\n",
    "                self.hashmap[(self.minHeap[(index - 1) // 2])[0]] = index\n",
    "\n",
    "                # swap the elements\n",
    "                self.minHeap[index], self.minHeap[\n",
    "                    (index - 1) // 2] = self.minHeap[(index - 1) //\n",
    "                                                     2], self.minHeap[index]\n",
    "\n",
    "            index = (index - 1) // 2\n",
    "\n",
    "    def get_min_child(self, i):\n",
    "        if (self.minHeap[2 * i + 1])[1] < (self.minHeap[2 * i + 2])[1]:\n",
    "            return 2 * i + 1\n",
    "        else:\n",
    "            return 2 * i + 2\n",
    "\n",
    "    def percolate_down(self, i):\n",
    "        \n",
    "        while 2 * i + 1 < self.size:\n",
    "            index = self.get_min_child(i)\n",
    "            # update indexes in hashmap\n",
    "            self.hashmap[(self.minHeap[i])[0]] = index\n",
    "            self.hashmap[(self.minHeap[index][0])] = i\n",
    "\n",
    "            # swap the minheap array indexes\n",
    "            self.minHeap[i], self.minHeap[index] = self.minHeap[\n",
    "                index], self.minHeap[i]\n",
    "\n",
    "            i = index\n",
    "        \n",
    "\n",
    "    def insert(self, data):\n",
    "        # add the element to the end of the array and percolate up\n",
    "        self.size += 1\n",
    "        self.hashmap[data[0]] = self.size - 1\n",
    "        self.minHeap.append(data)\n",
    "\n",
    "        self.percolate_up(self.size - 1)\n",
    "\n",
    "    def contains(self, key):\n",
    "        if key in self.hashmap:\n",
    "            return True\n",
    "\n",
    "    def decrease_key(self, key, value):\n",
    "        if self.contains(key):\n",
    "            index = self.hashmap.get(key)\n",
    "            (self.minHeap[index]) = (key, value)\n",
    "            self.percolate_up(index)\n",
    "\n",
    "    def delete_min(self):\n",
    "\n",
    "        if self.contains((self.minHeap[0])[0]) :\n",
    "            key = self.minHeap[self.size - 1]\n",
    "            print(key)\n",
    "            self.hashmap[key[0]] = 0\n",
    "            del self.hashmap[(self.minHeap[0])[0]]\n",
    "\n",
    "        temp = (self.minHeap[0])\n",
    "        # copy the last element in the min heap to the front\n",
    "        self.minHeap[0] = self.minHeap[self.size - 1]\n",
    "        del self.minHeap[self.size - 1]\n",
    "        self.size -= 1\n",
    "        if self.size> 1:\n",
    "            self.percolate_down(0)\n",
    "\n",
    "        return temp\n",
    "\n",
    "\n",
    "m = MinHeap()\n",
    "m.insert(('a', 0))\n",
    "m.insert(('b', 11))\n",
    "m.insert(('c', 2))\n",
    "m.insert(('d', -1))\n",
    "m.decrease_key('b', -10)\n",
    "\n",
    "print(m.delete_min())"
   ]
  },
  {
   "cell_type": "code",
   "execution_count": null,
   "metadata": {},
   "outputs": [],
   "source": []
  }
 ],
 "metadata": {
  "kernelspec": {
   "display_name": "Python 3",
   "language": "python",
   "name": "python3"
  },
  "language_info": {
   "codemirror_mode": {
    "name": "ipython",
    "version": 3
   },
   "file_extension": ".py",
   "mimetype": "text/x-python",
   "name": "python",
   "nbconvert_exporter": "python",
   "pygments_lexer": "ipython3",
   "version": "3.7.2"
  },
  "varInspector": {
   "cols": {
    "lenName": 16,
    "lenType": 16,
    "lenVar": 40
   },
   "kernels_config": {
    "python": {
     "delete_cmd_postfix": "",
     "delete_cmd_prefix": "del ",
     "library": "var_list.py",
     "varRefreshCmd": "print(var_dic_list())"
    },
    "r": {
     "delete_cmd_postfix": ") ",
     "delete_cmd_prefix": "rm(",
     "library": "var_list.r",
     "varRefreshCmd": "cat(var_dic_list()) "
    }
   },
   "types_to_exclude": [
    "module",
    "function",
    "builtin_function_or_method",
    "instance",
    "_Feature"
   ],
   "window_display": false
  }
 },
 "nbformat": 4,
 "nbformat_minor": 2
}
