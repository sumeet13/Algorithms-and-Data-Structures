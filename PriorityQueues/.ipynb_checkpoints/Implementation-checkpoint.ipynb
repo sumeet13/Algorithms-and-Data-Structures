{
 "cells": [
  {
   "cell_type": "code",
   "execution_count": 1,
   "metadata": {},
   "outputs": [],
   "source": [
    "class MaxHeap:\n",
    "    def __init__(self):\n",
    "        self.heapList = [0]\n",
    "        self.size = 0\n",
    "\n",
    "    def maxChild(self, i):\n",
    "\n",
    "        if i * 2 + 1 > self.size:\n",
    "            return i * 2\n",
    "\n",
    "        return i * 2 if self.heapList[i * 2] > self.heapList[i * 2 +\n",
    "                                                             1] else i * 2 + 1\n",
    "\n",
    "    def percolateDown(self, i):\n",
    "\n",
    "        while i * 2 <= self.size:\n",
    "            maxChildIndex = self.maxChild(i)\n",
    "\n",
    "            if self.heapList[i] < self.heapList[maxChildIndex]:\n",
    "                self.heapList[i], self.heapList[maxChildIndex] = self.heapList[\n",
    "                    maxChildIndex], self.heapList[i]\n",
    "\n",
    "            i = maxChildIndex\n",
    "\n",
    "    def percolateUp(self, i):\n",
    "        #floor division operation\n",
    "        while i // 2 > 0:\n",
    "            parentIndex = i // 2\n",
    "            if self.heapList[parentIndex] < self.heapList[i]:\n",
    "                #swap operation\n",
    "                self.heapList[i], self.heapList[parentIndex] = self.heapList[\n",
    "                    parentIndex], self.heapList[i]\n",
    "            i = parentIndex\n",
    "\n",
    "    def deleteMax(self):\n",
    "\n",
    "        if self.size > 0:\n",
    "            retVal = self.heapList[1]\n",
    "            self.heapList[1] = self.heapList.pop()\n",
    "\n",
    "            self.size = self.size - 1\n",
    "            self.percolateDown(1)\n",
    "        print(self.heapList[1:])\n",
    "        return retVal\n",
    "\n",
    "    def insert(self, val):\n",
    "        self.heapList.append(val)\n",
    "        self.size = self.size + 1\n",
    "        self.percolateUp(self.size)\n",
    "        print(self.heapList[1:])\n",
    "\n",
    "    def heapify(self, A):\n",
    "        i = len(A) // 2\n",
    "        self.heapList = [0] + A\n",
    "        self.size = len(A)\n",
    "        while (i > 0):\n",
    "            self.percolateDown(i)\n",
    "            i = i - 1\n",
    "            \n",
    "        print(self.heapList[1:])"
   ]
  },
  {
   "cell_type": "code",
   "execution_count": 2,
   "metadata": {},
   "outputs": [
    {
     "name": "stdout",
     "output_type": "stream",
     "text": [
      "[40, 30, 15, 10, 20]\n"
     ]
    }
   ],
   "source": [
    "maxHeap = MaxHeap()\n",
    "maxHeap.heapify([10,20, 15,30,40])"
   ]
  },
  {
   "cell_type": "code",
   "execution_count": 3,
   "metadata": {},
   "outputs": [
    {
     "name": "stdout",
     "output_type": "stream",
     "text": [
      "[30, 20, 15, 10]\n"
     ]
    },
    {
     "data": {
      "text/plain": [
       "40"
      ]
     },
     "execution_count": 3,
     "metadata": {},
     "output_type": "execute_result"
    }
   ],
   "source": [
    "maxHeap.deleteMax()"
   ]
  },
  {
   "cell_type": "code",
   "execution_count": 4,
   "metadata": {},
   "outputs": [
    {
     "name": "stdout",
     "output_type": "stream",
     "text": [
      "[100, 30, 15, 10, 20]\n"
     ]
    }
   ],
   "source": [
    "maxHeap.insert(100)"
   ]
  }
 ],
 "metadata": {
  "kernelspec": {
   "display_name": "Python 3",
   "language": "python",
   "name": "python3"
  },
  "language_info": {
   "codemirror_mode": {
    "name": "ipython",
    "version": 3
   },
   "file_extension": ".py",
   "mimetype": "text/x-python",
   "name": "python",
   "nbconvert_exporter": "python",
   "pygments_lexer": "ipython3",
   "version": "3.7.2"
  },
  "varInspector": {
   "cols": {
    "lenName": 16,
    "lenType": 16,
    "lenVar": 40
   },
   "kernels_config": {
    "python": {
     "delete_cmd_postfix": "",
     "delete_cmd_prefix": "del ",
     "library": "var_list.py",
     "varRefreshCmd": "print(var_dic_list())"
    },
    "r": {
     "delete_cmd_postfix": ") ",
     "delete_cmd_prefix": "rm(",
     "library": "var_list.r",
     "varRefreshCmd": "cat(var_dic_list()) "
    }
   },
   "types_to_exclude": [
    "module",
    "function",
    "builtin_function_or_method",
    "instance",
    "_Feature"
   ],
   "window_display": false
  }
 },
 "nbformat": 4,
 "nbformat_minor": 2
}
