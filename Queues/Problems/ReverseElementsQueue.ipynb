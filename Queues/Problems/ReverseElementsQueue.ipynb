{
 "cells": [
  {
   "cell_type": "markdown",
   "metadata": {},
   "source": [
    "# Queues Implementation"
   ]
  },
  {
   "cell_type": "code",
   "execution_count": 19,
   "metadata": {},
   "outputs": [],
   "source": [
    "class QueueUsingArrays:\n",
    "    def __init__(self, limit=10):\n",
    "        self.queue = []\n",
    "        self.limit = limit\n",
    "        self.front = self.rear = None\n",
    "\n",
    "    def size(self):\n",
    "        return len(self.queue)\n",
    "\n",
    "    def isQueueEmpty(self):\n",
    "        return self.size() <= 0\n",
    "\n",
    "    def enqueue(self, data):\n",
    "\n",
    "        if self.size() == self.limit:\n",
    "            raise AttributeError(\"Queue is full\")\n",
    "\n",
    "        self.queue.append(data)\n",
    "\n",
    "        print(\"Queue after adding: \", self.queue)\n",
    "\n",
    "    def deque(self):\n",
    "\n",
    "        if self.isQueueEmpty():\n",
    "            raise AttributeError(\"Queue is empty!\")\n",
    "\n",
    "        return self.queue.pop(0)\n",
    "\n",
    "\n",
    "    def front(self):\n",
    "        return self.queue[0] if self.size() > 0 else \"Queue is Empty!\"\n",
    "\n",
    "    def rear(self):\n",
    "        return self.queue[-1] if self.size() > 0 else \"Queue is Empty!\""
   ]
  },
  {
   "cell_type": "markdown",
   "metadata": {},
   "source": [
    "# Stacks Implementation"
   ]
  },
  {
   "cell_type": "code",
   "execution_count": 14,
   "metadata": {},
   "outputs": [],
   "source": [
    "class StackArrays:\n",
    "    def __init__(self, limit=10):\n",
    "        self.stack = []\n",
    "        self.limit = limit\n",
    "        self.minStack = []\n",
    "\n",
    "    def push(self, item):\n",
    "\n",
    "        if self.limit <= len(self.stack):\n",
    "            raise AttributeError(\"Cannot add item. Stack is full!\")\n",
    "\n",
    "        else:\n",
    "            self.stack.append(item)\n",
    "            print(\"Stack after push\", self.stack)\n",
    "\n",
    "        if not self.minStack or item <= self.minStack[-1]:\n",
    "            self.minStack.append(item)\n",
    "\n",
    "    def pop(self):\n",
    "\n",
    "        if len(self.stack) <= 0:\n",
    "            raise AttributeError(\"Cannot remove item. Stack is empty!\")\n",
    "\n",
    "        if self.minStack and self.stack[-1] == self.minStack[-1]:\n",
    "            self.minStack.pop()\n",
    "\n",
    "        return self.stack.pop()\n",
    "\n",
    "    def peek(self):\n",
    "\n",
    "        if len(self.stack) == 0:\n",
    "            raise AttributeError(\"Stack is empty!\")\n",
    "\n",
    "        return self.stack[-1]\n",
    "\n",
    "    def size(self):\n",
    "        return len(self.stack)\n",
    "\n",
    "    def print_stack(self):\n",
    "\n",
    "        for i in self.stack:\n",
    "            print(\"Data: \", i)\n",
    "\n",
    "    def getMinimum(self):\n",
    "\n",
    "        if self.minStack:\n",
    "            return self.minStack[-1]\n",
    "        \n",
    "    def isEmpty(self):        \n",
    "        return False if self.stack else True"
   ]
  },
  {
   "cell_type": "markdown",
   "metadata": {},
   "source": [
    "# Problem: Reverse Elements of the Queue "
   ]
  },
  {
   "cell_type": "code",
   "execution_count": 21,
   "metadata": {},
   "outputs": [
    {
     "name": "stdout",
     "output_type": "stream",
     "text": [
      "Queue after adding:  [10]\n",
      "Queue after adding:  [10, 20]\n",
      "Queue after adding:  [10, 20, 30]\n",
      "Queue after adding:  [10, 20, 30, 40]\n",
      "Queue after adding:  [10, 20, 30, 40, 50]\n",
      "Stack after push [10]\n",
      "Stack after push [10, 20]\n",
      "Stack after push [10, 20, 30]\n",
      "Stack after push [10, 20, 30, 40]\n",
      "Stack after push [10, 20, 30, 40, 50]\n",
      "Queue after adding:  [50]\n",
      "Queue after adding:  [50, 40]\n",
      "Queue after adding:  [50, 40, 30]\n",
      "Queue after adding:  [50, 40, 30, 20]\n",
      "Queue after adding:  [50, 40, 30, 20, 10]\n"
     ]
    }
   ],
   "source": [
    "def reverseElementsOfQueue(queue):\n",
    "    \n",
    "    if queue.isQueueEmpty():\n",
    "        return \"Queue is empty!\"\n",
    "    \n",
    "    stack = StackArrays()\n",
    "    \n",
    "    while not queue.isQueueEmpty():\n",
    "        stack.push(queue.deque())\n",
    "        \n",
    "    \n",
    "    while not stack.isEmpty():\n",
    "        queue.enqueue(stack.pop())\n",
    "\n",
    "queue = QueueUsingArrays()\n",
    "queue.enqueue(10)\n",
    "queue.enqueue(20)\n",
    "queue.enqueue(30)\n",
    "queue.enqueue(40)\n",
    "queue.enqueue(50)\n",
    "\n",
    "reverseElementsOfQueue(queue)\n",
    "\n",
    "# Time Complexity : O(n)\n",
    "# Space Complexity : O(n)"
   ]
  },
  {
   "cell_type": "code",
   "execution_count": null,
   "metadata": {},
   "outputs": [],
   "source": []
  }
 ],
 "metadata": {
  "kernelspec": {
   "display_name": "Python 3",
   "language": "python",
   "name": "python3"
  },
  "language_info": {
   "codemirror_mode": {
    "name": "ipython",
    "version": 3
   },
   "file_extension": ".py",
   "mimetype": "text/x-python",
   "name": "python",
   "nbconvert_exporter": "python",
   "pygments_lexer": "ipython3",
   "version": "3.7.2"
  }
 },
 "nbformat": 4,
 "nbformat_minor": 2
}
