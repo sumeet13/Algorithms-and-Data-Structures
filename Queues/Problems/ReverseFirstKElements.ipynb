{
 "cells": [
  {
   "cell_type": "markdown",
   "metadata": {},
   "source": [
    "# Problem: Reverse First k elements.\n",
    "\n",
    "For instance, suppose we have a queue of integers [1,2,3,4,5,6]. The output should be [3,2,1,4,5,6]\n",
    "\n",
    "If we have to use stack.\n",
    "\n",
    "Algorithm:\n",
    "\n",
    "1. Dequeue k elements into a stack. s = [1,2,3]\n",
    "2. Empty stack and enqueue in queue q = [4,5,6,3,2,1]\n",
    "3. Go until queue.size -k elements of the queue and dequeue and enqueue in the main queue. q = [3,2,1,4,5,6]\n"
   ]
  },
  {
   "cell_type": "code",
   "execution_count": 3,
   "metadata": {},
   "outputs": [
    {
     "name": "stdout",
     "output_type": "stream",
     "text": [
      "7\n",
      "queue deque([5, 6, 7])\n",
      "stack deque([1, 2, 3, 4])\n",
      "Queue:  deque([5, 6, 7, 4, 3, 2, 1])\n",
      "deque([4, 3, 2, 1, 5, 6, 7])\n"
     ]
    }
   ],
   "source": [
    "from collections import deque\n",
    "\n",
    "\n",
    "def reverseKElements(queue, k):\n",
    "\n",
    "    if not queue:\n",
    "        return \"Queue is empty!\"\n",
    "\n",
    "    size = len(queue)\n",
    "    stack = deque()\n",
    "    print(size)\n",
    "    count = 0\n",
    "\n",
    "    while count != k:\n",
    "        count += 1\n",
    "        stack.append(queue.popleft())\n",
    "\n",
    "    print(\"queue\", queue)\n",
    "    print(\"stack\", stack)\n",
    "\n",
    "    while stack:\n",
    "        queue.append(stack.pop())\n",
    "\n",
    "    print(\"Queue: \", queue)\n",
    "\n",
    "    count = 0\n",
    "    while count != size - k:\n",
    "        count += 1\n",
    "        queue.append(queue.popleft())\n",
    "\n",
    "    return queue\n",
    "\n",
    "\n",
    "queue = deque([1, 2, 3, 4, 5, 6, 7])\n",
    "print(reverseKElements(queue, 4))"
   ]
  },
  {
   "cell_type": "code",
   "execution_count": null,
   "metadata": {},
   "outputs": [],
   "source": []
  }
 ],
 "metadata": {
  "kernelspec": {
   "display_name": "Python 3",
   "language": "python",
   "name": "python3"
  },
  "language_info": {
   "codemirror_mode": {
    "name": "ipython",
    "version": 3
   },
   "file_extension": ".py",
   "mimetype": "text/x-python",
   "name": "python",
   "nbconvert_exporter": "python",
   "pygments_lexer": "ipython3",
   "version": "3.7.2"
  }
 },
 "nbformat": 4,
 "nbformat_minor": 2
}
