{
 "cells": [
  {
   "cell_type": "markdown",
   "metadata": {},
   "source": [
    "# Problem: Implement Queue using two stacks\n",
    "\n",
    "I am implementing stack using arrays and not Stack Class\n",
    "\n",
    "Algorithm:\n",
    "\n",
    "1. Keep stack one for enqueuing. Append StackOne for enqueue operation\n",
    "2. Keep other stack for dequeuing elements.\n",
    "3. "
   ]
  },
  {
   "cell_type": "code",
   "execution_count": 8,
   "metadata": {},
   "outputs": [],
   "source": [
    "class QueueWithTwoStacks:\n",
    "    def __init__(self):\n",
    "        self.stackOne = []\n",
    "        self.stackTwo = []\n",
    "\n",
    "    def sizeStackOne(self):\n",
    "        return len(stackOne)\n",
    "\n",
    "    def sizeStackTwo(self):\n",
    "        return len(stackTwo)\n",
    "\n",
    "    def enqueue(self, data):\n",
    "        self.stackOne.append(data)\n",
    "\n",
    "    def deque(self):\n",
    "        x = None\n",
    "        if len(self.stackTwo) == 0:\n",
    "\n",
    "            for i in reversed(self.stackOne):\n",
    "                print(\"i stackOne: \", i)\n",
    "                self.stackTwo.append(i)\n",
    "\n",
    "            x = self.stackTwo.pop()\n",
    "\n",
    "            for i in reversed(self.stackTwo):\n",
    "                print(\"i stackTwo: \", i)\n",
    "                self.stackOne.append(i)\n",
    "\n",
    "            return x\n",
    "\n",
    "        else:\n",
    "            return self.stackTwo.pop()\n",
    "        \n",
    "    def printQueue(self):        \n",
    "        print(self.stackOne)"
   ]
  },
  {
   "cell_type": "code",
   "execution_count": 10,
   "metadata": {},
   "outputs": [
    {
     "name": "stdout",
     "output_type": "stream",
     "text": [
      "[10, 20, 30, 40, 50]\n",
      "i stackOne:  50\n",
      "i stackOne:  40\n",
      "i stackOne:  30\n",
      "i stackOne:  20\n",
      "i stackOne:  10\n",
      "i stackTwo:  20\n",
      "i stackTwo:  30\n",
      "i stackTwo:  40\n",
      "i stackTwo:  50\n"
     ]
    },
    {
     "data": {
      "text/plain": [
       "10"
      ]
     },
     "execution_count": 10,
     "metadata": {},
     "output_type": "execute_result"
    }
   ],
   "source": [
    "queue = QueueWithTwoStacks()\n",
    "queue.enqueue(10)\n",
    "queue.enqueue(20)\n",
    "queue.enqueue(30)\n",
    "queue.enqueue(40)\n",
    "queue.enqueue(50)\n",
    "\n",
    "queue.printQueue()\n",
    "queue.deque()"
   ]
  },
  {
   "cell_type": "code",
   "execution_count": null,
   "metadata": {},
   "outputs": [],
   "source": []
  }
 ],
 "metadata": {
  "kernelspec": {
   "display_name": "Python 3",
   "language": "python",
   "name": "python3"
  },
  "language_info": {
   "codemirror_mode": {
    "name": "ipython",
    "version": 3
   },
   "file_extension": ".py",
   "mimetype": "text/x-python",
   "name": "python",
   "nbconvert_exporter": "python",
   "pygments_lexer": "ipython3",
   "version": "3.7.2"
  }
 },
 "nbformat": 4,
 "nbformat_minor": 2
}
