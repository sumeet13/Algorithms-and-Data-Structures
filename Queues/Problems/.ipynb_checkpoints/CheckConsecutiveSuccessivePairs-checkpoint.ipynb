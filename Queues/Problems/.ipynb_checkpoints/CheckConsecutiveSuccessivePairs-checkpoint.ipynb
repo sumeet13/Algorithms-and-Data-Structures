{
 "cells": [
  {
   "cell_type": "markdown",
   "metadata": {},
   "source": [
    "# Problem:  check successive consecutive pairs in a stack. \n",
    "\n",
    "If there are odd number of integers. Leave the last one.\n",
    "For instance, [12,11,0,-1,1,2,11], this should return true because all the pairs are consecutive and last one is left.\n",
    "\n",
    "Algorithm:\n",
    "Case 1:\n",
    "\n",
    "If the length of the stack is unknown, then we would have to reverse the stack with the help of a queue.\n",
    "\n",
    "1. Empty the stack and fill elements in  the queue.\n",
    "2. Empty the queue and fill elements in the stack.\n",
    "3. Pop two elements and check if the absolute difference between them is 1.\n",
    "4. We need to check while popping the second element as the pop operation might throw stack underflow exception.\n",
    "5. Keep doing it until the stack is empty.\n",
    "6. If this is the case, then return true else false.\n",
    "\n",
    "\n",
    "Case 2:\n",
    "\n",
    "If the length of the stack in known.\n",
    "\n",
    "1. Then check the length of the stack and apply modulo 2.\n",
    "2. If the modulo is success then repeat steps 3 to 6 mentioned in case 1.\n",
    "3. Else pop the first element from the stack and repeat steps 3 to 6 mentioned in case 1.\n",
    "\n",
    "Time Complexity: O(n)\n",
    "Space Complexity: O(n) because we used queues to reverse the stack"
   ]
  },
  {
   "cell_type": "code",
   "execution_count": 1,
   "metadata": {},
   "outputs": [
    {
     "name": "stdout",
     "output_type": "stream",
     "text": [
      "False\n",
      "True\n"
     ]
    }
   ],
   "source": [
    "from collections import deque\n",
    "\n",
    "\n",
    "def checkSuccessivePairs(stack):\n",
    "\n",
    "    if not stack:\n",
    "        print(\"Stack is empty\")\n",
    "\n",
    "    queue = deque()\n",
    "    while stack:\n",
    "        queue.append(stack.pop())\n",
    "\n",
    "    while queue:\n",
    "        stack.append(queue.popleft())\n",
    "\n",
    "    while stack:\n",
    "        \n",
    "        x = stack.pop()\n",
    "        \n",
    "        if stack:\n",
    "            y = stack.pop()\n",
    "\n",
    "            if abs(x - y) != 1:\n",
    "                return False\n",
    "            \n",
    "    return True\n",
    "\n",
    "\n",
    "\n",
    "stack = deque([1, 4, 3, 4, 5])\n",
    "print(checkSuccessivePairs(stack))\n",
    "\n",
    "stack = deque([1, 0, 3, 4, 5])\n",
    "print(checkSuccessivePairs(stack))"
   ]
  },
  {
   "cell_type": "code",
   "execution_count": null,
   "metadata": {},
   "outputs": [],
   "source": []
  }
 ],
 "metadata": {
  "kernelspec": {
   "display_name": "Python 3",
   "language": "python",
   "name": "python3"
  },
  "language_info": {
   "codemirror_mode": {
    "name": "ipython",
    "version": 3
   },
   "file_extension": ".py",
   "mimetype": "text/x-python",
   "name": "python",
   "nbconvert_exporter": "python",
   "pygments_lexer": "ipython3",
   "version": "3.7.2"
  }
 },
 "nbformat": 4,
 "nbformat_minor": 2
}
