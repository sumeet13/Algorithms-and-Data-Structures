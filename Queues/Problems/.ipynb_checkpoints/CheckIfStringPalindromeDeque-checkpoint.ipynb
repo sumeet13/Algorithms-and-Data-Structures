{
 "cells": [
  {
   "cell_type": "markdown",
   "metadata": {},
   "source": [
    "# Problem: Check if string is palindrome or not using double ended queue.\n",
    "\n",
    "Algorithm:\n",
    "\n",
    "1. keep popping the queue from both the ends and check whether both the elements are equal or not\n",
    "2. If not, return false else true"
   ]
  },
  {
   "cell_type": "code",
   "execution_count": 1,
   "metadata": {},
   "outputs": [
    {
     "data": {
      "text/plain": [
       "True"
      ]
     },
     "execution_count": 1,
     "metadata": {},
     "output_type": "execute_result"
    }
   ],
   "source": [
    "from collections import deque\n",
    "\n",
    "\n",
    "def checkIfPalindrome(queue):\n",
    "\n",
    "    if not queue:\n",
    "        return \"Queue is empty!\"\n",
    "\n",
    "    while queue:\n",
    "        \n",
    "        x = queue.pop()\n",
    "\n",
    "        if queue and x != queue.popleft():\n",
    "            return False\n",
    "\n",
    "    return True\n",
    "\n",
    "\n",
    "checkIfPalindrome(deque('a'))"
   ]
  },
  {
   "cell_type": "code",
   "execution_count": null,
   "metadata": {},
   "outputs": [],
   "source": []
  }
 ],
 "metadata": {
  "kernelspec": {
   "display_name": "Python 3",
   "language": "python",
   "name": "python3"
  },
  "language_info": {
   "codemirror_mode": {
    "name": "ipython",
    "version": 3
   },
   "file_extension": ".py",
   "mimetype": "text/x-python",
   "name": "python",
   "nbconvert_exporter": "python",
   "pygments_lexer": "ipython3",
   "version": "3.7.2"
  }
 },
 "nbformat": 4,
 "nbformat_minor": 2
}
