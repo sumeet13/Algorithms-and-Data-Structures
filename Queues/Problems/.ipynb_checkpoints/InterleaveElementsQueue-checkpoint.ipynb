{
 "cells": [
  {
   "cell_type": "markdown",
   "metadata": {},
   "source": [
    "# Problem: Interleaving of elements\n",
    "\n",
    "For instance, suppose we have a queue of integers [1,2,3,4,5,6]. The output should be [1,4,2,5,3,6]\n",
    "\n",
    "Case 1:\n",
    "\n",
    "If we have to use another queue to solve this problem.\n",
    "\n",
    "1. Empty the queue till half into another queue.\n",
    "2. Then dequeue second queue and enqueue in first queue.\n",
    "3. Dequeue the main queue and enqueue into the main queue\n",
    "\n",
    "Case 2:\n",
    "\n",
    "If we have to use stacks.\n",
    "\n",
    "1. Dequeue half elements into a stack. q = [4,5,6] s = [1,2,3]\n",
    "2. Empty stack and enqueue in queue q = [4,5,6,3,2,1]\n",
    "3. Go until halfway of the queue and dequeue and enqueue in the main queue. q = [3,2,1,4,5,6]\n",
    "4. Again go halfway and put it on a stack. q = [4,5,6] and s = [3,2,1]\n",
    "5. Now pop stack and enqueue in the main queue and deque and enqueue in the main queue.\n",
    "\n",
    "Time Complexity: O(n)\n",
    "Space Complexity: O(n/2)~ O(n) for storing elements on the stack"
   ]
  },
  {
   "cell_type": "code",
   "execution_count": 1,
   "metadata": {},
   "outputs": [
    {
     "name": "stdout",
     "output_type": "stream",
     "text": [
      "deque([1, 4, 2, 5, 3, 6])\n"
     ]
    }
   ],
   "source": [
    "from collections import deque\n",
    "\n",
    "\n",
    "def interleavingQueueUsingQueue(queue):\n",
    "\n",
    "    if not queue:\n",
    "        return \"Queue is empty\"\n",
    "\n",
    "    main_size = len(queue)\n",
    "    size = len(queue) // 2\n",
    "\n",
    "    count = 0\n",
    "    tmpQueue = deque()\n",
    "\n",
    "    while count != size:\n",
    "        count = count + 1\n",
    "        tmpQueue.append(queue.popleft())\n",
    "\n",
    "    count = 0\n",
    "    size = main_size - size\n",
    "\n",
    "    while count != size:\n",
    "        \n",
    "        count += 1\n",
    "        if tmpQueue:\n",
    "            queue.append(tmpQueue.popleft())\n",
    "\n",
    "        queue.append(queue.popleft())\n",
    "\n",
    "    return queue\n",
    "\n",
    "\n",
    "queue = deque([1, 2, 3, 4, 5, 6])\n",
    "print(interleavingQueueUsingQueue(queue))"
   ]
  },
  {
   "cell_type": "markdown",
   "metadata": {},
   "source": [
    "# Solving using stacks"
   ]
  },
  {
   "cell_type": "code",
   "execution_count": 2,
   "metadata": {},
   "outputs": [
    {
     "name": "stdout",
     "output_type": "stream",
     "text": [
      "deque([1, 4, 2, 5, 3, 6, 7])\n"
     ]
    }
   ],
   "source": [
    "from collections import deque\n",
    "\n",
    "\n",
    "def interleavingQueueUsingStacks(queue):\n",
    "\n",
    "    if not queue:\n",
    "        return \"Queue is empty\"\n",
    "\n",
    "    stack = deque()\n",
    "    qHalfSize = len(queue) // 2\n",
    "    size = len(queue)\n",
    "\n",
    "    count = 0\n",
    "\n",
    "    while count != qHalfSize:\n",
    "        stack.append(queue.popleft())\n",
    "        count += 1\n",
    "    # stack = [1,2,3]\n",
    "    # queue = [4,5,6,7]\n",
    "\n",
    "    # Empty stack onto the queue\n",
    "\n",
    "    while stack:\n",
    "        queue.append(stack.pop())\n",
    "\n",
    "    # Now the stack is empty\n",
    "    # queue = [4,5,6,7,3,2,1]\n",
    "\n",
    "    # Now go until the rest of the size of the queue and dequeue and enqueue the queue.\n",
    "\n",
    "    count = 0\n",
    "    while count != size - qHalfSize:\n",
    "        count += 1\n",
    "        queue.append(queue.popleft())\n",
    "\n",
    "    count = 0\n",
    "    # queue = [3,2,1,4,5,6,7]\n",
    "    while count != qHalfSize:\n",
    "        stack.append(queue.popleft())\n",
    "        count += 1\n",
    "    # stack = [3,2,1]\n",
    "    # queue = [4,5,6,7]\n",
    "\n",
    "    count = 0\n",
    "    while count != size - qHalfSize:\n",
    "        count += 1\n",
    "        if stack:\n",
    "            queue.append(stack.pop())\n",
    "        queue.append(queue.popleft())\n",
    "\n",
    "    return queue\n",
    "\n",
    "\n",
    "queue = deque([1, 2, 3, 4, 5, 6, 7])\n",
    "print(interleavingQueueUsingStacks(queue))"
   ]
  },
  {
   "cell_type": "code",
   "execution_count": null,
   "metadata": {},
   "outputs": [],
   "source": []
  }
 ],
 "metadata": {
  "kernelspec": {
   "display_name": "Python 3",
   "language": "python",
   "name": "python3"
  },
  "language_info": {
   "codemirror_mode": {
    "name": "ipython",
    "version": 3
   },
   "file_extension": ".py",
   "mimetype": "text/x-python",
   "name": "python",
   "nbconvert_exporter": "python",
   "pygments_lexer": "ipython3",
   "version": "3.7.2"
  }
 },
 "nbformat": 4,
 "nbformat_minor": 2
}
