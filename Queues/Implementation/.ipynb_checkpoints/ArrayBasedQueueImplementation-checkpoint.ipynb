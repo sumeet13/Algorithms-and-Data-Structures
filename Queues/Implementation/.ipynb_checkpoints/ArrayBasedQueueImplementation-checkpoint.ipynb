{
 "cells": [
  {
   "cell_type": "code",
   "execution_count": 1,
   "metadata": {},
   "outputs": [],
   "source": [
    "class QueueUsingArrays:\n",
    "    def __init__(self, limit=10):\n",
    "        self.queue = []\n",
    "        self.limit = limit\n",
    "        self.front = self.rear = None\n",
    "\n",
    "    def size(self):\n",
    "        return len(self.queue)\n",
    "\n",
    "    def isQueueEmpty(self):\n",
    "        return self.size() <= 0\n",
    "\n",
    "    def enqueue(self, data):\n",
    "\n",
    "        if self.size() == self.limit:\n",
    "            raise AttributeError(\"Queue is full\")\n",
    "\n",
    "        self.queue.append(data)\n",
    "\n",
    "        print(\"Queue after adding: \", self.queue)\n",
    "\n",
    "    def deque(self):\n",
    "\n",
    "        if self.isQueueEmpty():\n",
    "            raise AttributeError(\"Queue is empty!\")\n",
    "\n",
    "        return self.queue.pop(0)\n",
    "\n",
    "\n",
    "    def front(self):\n",
    "        return self.queue[0] if self.size() > 0 else \"Queue is Empty!\"\n",
    "\n",
    "    def rear(self):\n",
    "        return self.queue[-1] if self.size() > 0 else \"Queue is Empty!\""
   ]
  },
  {
   "cell_type": "code",
   "execution_count": 2,
   "metadata": {},
   "outputs": [
    {
     "name": "stdout",
     "output_type": "stream",
     "text": [
      "Queue after adding:  [10]\n",
      "Queue after adding:  [10, 20]\n",
      "Queue after popping:  [20]\n"
     ]
    }
   ],
   "source": [
    "queue = QueueUsingArrays()\n",
    "\n",
    "queue.enqueue(10)\n",
    "\n",
    "queue.enqueue(20)\n",
    "\n",
    "queue.deque()"
   ]
  },
  {
   "cell_type": "code",
   "execution_count": null,
   "metadata": {},
   "outputs": [],
   "source": []
  }
 ],
 "metadata": {
  "kernelspec": {
   "display_name": "Python 3",
   "language": "python",
   "name": "python3"
  },
  "language_info": {
   "codemirror_mode": {
    "name": "ipython",
    "version": 3
   },
   "file_extension": ".py",
   "mimetype": "text/x-python",
   "name": "python",
   "nbconvert_exporter": "python",
   "pygments_lexer": "ipython3",
   "version": "3.7.2"
  }
 },
 "nbformat": 4,
 "nbformat_minor": 2
}
