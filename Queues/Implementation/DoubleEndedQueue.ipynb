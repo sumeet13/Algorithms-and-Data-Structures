{
 "cells": [
  {
   "cell_type": "code",
   "execution_count": 1,
   "metadata": {},
   "outputs": [],
   "source": [
    "class Deque:\n",
    "    def __init__(self):\n",
    "        self.deque = []\n",
    "\n",
    "    def append_left(self, data):\n",
    "        self.deque.insert(0, data)\n",
    "\n",
    "    def append_right(self, data):\n",
    "        self.deque.append(data)\n",
    "\n",
    "    def pop_left(self):\n",
    "        return self.deque.pop(0) if self.deque else \"Queue is empty!\"\n",
    "\n",
    "    def pop_right(self):\n",
    "        return self.deque.pop() if self.deque else \"Queue is empty!\"\n",
    "\n",
    "    def isEmpty(self):\n",
    "        return len(self.deque) <= 0\n",
    "\n",
    "    def size(self):\n",
    "        return len(self.deque)\n",
    "\n",
    "    def print_deque(self):\n",
    "        print(self.deque)"
   ]
  },
  {
   "cell_type": "code",
   "execution_count": 2,
   "metadata": {},
   "outputs": [],
   "source": [
    "deque = Deque()\n",
    "\n",
    "deque.append_left(1)\n",
    "deque.print_deque()\n",
    "\n",
    "deque.append_left(2)\n",
    "deque.print_deque()\n",
    "\n",
    "deque.append_right(3)\n",
    "deque.print_deque()\n",
    "\n",
    "print(deque.pop_left())\n",
    "print(deque.pop_right())\n",
    "print(deque.pop_left())\n",
    "print(deque.pop_left())"
   ]
  },
  {
   "cell_type": "code",
   "execution_count": null,
   "metadata": {},
   "outputs": [],
   "source": []
  }
 ],
 "metadata": {
  "kernelspec": {
   "display_name": "Python 3",
   "language": "python",
   "name": "python3"
  },
  "language_info": {
   "codemirror_mode": {
    "name": "ipython",
    "version": 3
   },
   "file_extension": ".py",
   "mimetype": "text/x-python",
   "name": "python",
   "nbconvert_exporter": "python",
   "pygments_lexer": "ipython3",
   "version": "3.7.2"
  }
 },
 "nbformat": 4,
 "nbformat_minor": 2
}
