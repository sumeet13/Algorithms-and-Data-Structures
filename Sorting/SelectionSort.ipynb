{
 "cells": [
  {
   "cell_type": "markdown",
   "metadata": {},
   "source": [
    "# Problem: Sort an array using selection sort\n",
    "\n",
    "1. Find the minimum element\n",
    "2. Place it into the first position.\n",
    "3. Similarly find the second minimum element and place it on position second.\n",
    "\n",
    "Time Complexity : O(n^2) <br>\n",
    "Space Complexity : O(1)"
   ]
  },
  {
   "cell_type": "code",
   "execution_count": 1,
   "metadata": {},
   "outputs": [
    {
     "name": "stdout",
     "output_type": "stream",
     "text": [
      "[1, 4, 3, 2, 5]\n",
      "[1, 2, 3, 4, 5]\n",
      "[1, 2, 3, 4, 5]\n",
      "[1, 2, 3, 4, 5]\n",
      "[1, 2, 3, 4, 5]\n"
     ]
    },
    {
     "data": {
      "text/plain": [
       "[1, 2, 3, 4, 5]"
      ]
     },
     "execution_count": 1,
     "metadata": {},
     "output_type": "execute_result"
    }
   ],
   "source": [
    "import sys \n",
    "\n",
    "def selectionSort(A):\n",
    "    \n",
    "    for i in range(len(A)):\n",
    "        \n",
    "        \n",
    "    # find the minimum element:\n",
    "        min_value = sys.maxsize\n",
    "        min_index = i\n",
    "        for j in range(i,len(A)):\n",
    "            \n",
    "            min_value = min(min_value,A[j])\n",
    "            min_index = A.index(min_value)\n",
    "         \n",
    "        A[i],A[min_index] = A[min_index], A[i]\n",
    "        print(A)\n",
    "        \n",
    "    return A\n",
    "        \n",
    "selectionSort([5,4,3,2,1])"
   ]
  },
  {
   "cell_type": "markdown",
   "metadata": {},
   "source": [
    "# Without using for loop"
   ]
  },
  {
   "cell_type": "code",
   "execution_count": 2,
   "metadata": {},
   "outputs": [
    {
     "name": "stdout",
     "output_type": "stream",
     "text": [
      "[1, 4, 3, 2, 5]\n",
      "[1, 2, 3, 4, 5]\n",
      "[1, 2, 3, 4, 5]\n",
      "[1, 2, 3, 4, 5]\n",
      "[1, 2, 3, 4, 5]\n"
     ]
    },
    {
     "data": {
      "text/plain": [
       "[1, 2, 3, 4, 5]"
      ]
     },
     "execution_count": 2,
     "metadata": {},
     "output_type": "execute_result"
    }
   ],
   "source": [
    "import sys\n",
    "\n",
    "\n",
    "def selectionSort(A):\n",
    "\n",
    "    for i in range(len(A)):\n",
    "\n",
    "        # find the minimum element:\n",
    "        min_value = sys.maxsize\n",
    "        min_index = i\n",
    "\n",
    "        min_value = min(A[i:])\n",
    "        min_index = A.index(min_value)\n",
    "\n",
    "        A[i], A[min_index] = A[min_index], A[i]\n",
    "        print(A)\n",
    "\n",
    "    return A\n",
    "\n",
    "\n",
    "selectionSort([5, 4, 3, 2, 1])"
   ]
  },
  {
   "cell_type": "markdown",
   "metadata": {},
   "source": [
    "# Solved using numpy"
   ]
  },
  {
   "cell_type": "code",
   "execution_count": 3,
   "metadata": {},
   "outputs": [
    {
     "name": "stdout",
     "output_type": "stream",
     "text": [
      "[1 4 3 2 5]\n",
      "[1 2 3 4 5]\n",
      "[1 2 3 4 5]\n",
      "[1 2 3 4 5]\n",
      "[1 2 3 4 5]\n"
     ]
    },
    {
     "data": {
      "text/plain": [
       "array([1, 2, 3, 4, 5])"
      ]
     },
     "execution_count": 3,
     "metadata": {},
     "output_type": "execute_result"
    }
   ],
   "source": [
    "import sys\n",
    "import numpy as np\n",
    "\n",
    "\n",
    "def selectionSort(A):\n",
    "\n",
    "    for i in range(len(A)):\n",
    "\n",
    "        # find the minimum element:\n",
    "        min_value = sys.maxsize\n",
    "        min_index = i\n",
    "\n",
    "        min_value = np.min(A[i:])\n",
    "        min_index = np.where(A == min_value)\n",
    "\n",
    "        A[i], A[min_index] = A[min_index], A[i]\n",
    "        print(A)\n",
    "\n",
    "    return A\n",
    "\n",
    "\n",
    "selectionSort(np.array([5, 4, 3, 2, 1]))"
   ]
  }
 ],
 "metadata": {
  "kernelspec": {
   "display_name": "Python 3",
   "language": "python",
   "name": "python3"
  },
  "language_info": {
   "codemirror_mode": {
    "name": "ipython",
    "version": 3
   },
   "file_extension": ".py",
   "mimetype": "text/x-python",
   "name": "python",
   "nbconvert_exporter": "python",
   "pygments_lexer": "ipython3",
   "version": "3.7.2"
  },
  "varInspector": {
   "cols": {
    "lenName": 16,
    "lenType": 16,
    "lenVar": 40
   },
   "kernels_config": {
    "python": {
     "delete_cmd_postfix": "",
     "delete_cmd_prefix": "del ",
     "library": "var_list.py",
     "varRefreshCmd": "print(var_dic_list())"
    },
    "r": {
     "delete_cmd_postfix": ") ",
     "delete_cmd_prefix": "rm(",
     "library": "var_list.r",
     "varRefreshCmd": "cat(var_dic_list()) "
    }
   },
   "types_to_exclude": [
    "module",
    "function",
    "builtin_function_or_method",
    "instance",
    "_Feature"
   ],
   "window_display": false
  }
 },
 "nbformat": 4,
 "nbformat_minor": 2
}
