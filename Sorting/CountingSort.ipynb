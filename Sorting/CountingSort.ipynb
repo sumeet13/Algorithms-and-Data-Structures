{
 "cells": [
  {
   "cell_type": "markdown",
   "metadata": {},
   "source": [
    "# Counting Sort.\n",
    "\n",
    "Counting sort can be done in linear time.\n",
    "\n",
    "Time Complexity : O(n+k) <br>\n",
    "Space Complexity : O(k)\n",
    "\n",
    "# Do not use counting sort if there is large range of the numbers to be sorted.\n",
    "\n",
    "For instance, [0,1,2,10^6].\n",
    "\n",
    "For this we would need to make an extra space of 10^6 and this would make counting sort very slow.\n",
    "\n"
   ]
  },
  {
   "cell_type": "code",
   "execution_count": 1,
   "metadata": {},
   "outputs": [
    {
     "name": "stdout",
     "output_type": "stream",
     "text": [
      "[0, 0, 0, 0, 0, 0]\n",
      "0 0\n",
      "0 1\n",
      "1 1\n",
      "0 2\n",
      "1 2\n",
      "0 5\n",
      "[1, 2, 2, 0, 0, 1]\n",
      "[0, 1, 1, 2, 2, 5]\n"
     ]
    }
   ],
   "source": [
    "def countingSort(A):\n",
    "\n",
    "    # find max element in array\n",
    "\n",
    "    C = [0] * (max(A) + 1)\n",
    "    print(C)\n",
    "\n",
    "    # find distinct elements and store its frequency in a separate array\n",
    "    for i in range(len(A)):\n",
    "        print(C[A[i]], A[i])\n",
    "        C[A[i]] = C[A[i]] + 1\n",
    "\n",
    "    print(C)\n",
    "    D = []\n",
    "    for i in range(len(C)):\n",
    "        if C[i] != 0:\n",
    "            D = D + ([i] * C[i])\n",
    "    print(D)\n",
    "\n",
    "\n",
    "countingSort([0, 1, 1, 2, 2, 5])"
   ]
  },
  {
   "cell_type": "code",
   "execution_count": 2,
   "metadata": {},
   "outputs": [
    {
     "name": "stdout",
     "output_type": "stream",
     "text": [
      "[1, 2, 2, 0, 0, 1]\n",
      "[1, 3, 5, 5, 5, 6]\n",
      "[0, 1, 1, 2, 2, 5]\n"
     ]
    }
   ],
   "source": [
    "def countingSort(A):\n",
    "    C = [0] * (max(A) + 1)\n",
    "\n",
    "    # find distinct elements and store its frequency in a separate array\n",
    "    for i in range(len(A)):\n",
    "        C[A[i]] = C[A[i]] + 1\n",
    "\n",
    "    print(C)\n",
    "    prev = 0\n",
    "    for i in range(len(C)):\n",
    "        C[i] = C[i] + prev\n",
    "        prev = C[i]\n",
    "    print(C)\n",
    "\n",
    "    D = []\n",
    "    prev = 0\n",
    "    for i in range(len(C)):\n",
    "        D = D + ([i] * (C[i] - prev))\n",
    "        prev = C[i]\n",
    "    print(D)\n",
    "\n",
    "\n",
    "countingSort([0, 1, 1, 2, 2, 5])"
   ]
  },
  {
   "cell_type": "code",
   "execution_count": null,
   "metadata": {},
   "outputs": [],
   "source": []
  }
 ],
 "metadata": {
  "kernelspec": {
   "display_name": "Python 3",
   "language": "python",
   "name": "python3"
  },
  "language_info": {
   "codemirror_mode": {
    "name": "ipython",
    "version": 3
   },
   "file_extension": ".py",
   "mimetype": "text/x-python",
   "name": "python",
   "nbconvert_exporter": "python",
   "pygments_lexer": "ipython3",
   "version": "3.7.2"
  },
  "varInspector": {
   "cols": {
    "lenName": 16,
    "lenType": 16,
    "lenVar": 40
   },
   "kernels_config": {
    "python": {
     "delete_cmd_postfix": "",
     "delete_cmd_prefix": "del ",
     "library": "var_list.py",
     "varRefreshCmd": "print(var_dic_list())"
    },
    "r": {
     "delete_cmd_postfix": ") ",
     "delete_cmd_prefix": "rm(",
     "library": "var_list.r",
     "varRefreshCmd": "cat(var_dic_list()) "
    }
   },
   "types_to_exclude": [
    "module",
    "function",
    "builtin_function_or_method",
    "instance",
    "_Feature"
   ],
   "window_display": false
  }
 },
 "nbformat": 4,
 "nbformat_minor": 2
}
