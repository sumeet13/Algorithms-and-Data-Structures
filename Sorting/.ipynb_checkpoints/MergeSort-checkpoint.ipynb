{
 "cells": [
  {
   "cell_type": "code",
   "execution_count": 25,
   "metadata": {},
   "outputs": [
    {
     "name": "stdout",
     "output_type": "stream",
     "text": [
      "L,R: [4] [3] [4, 3]\n",
      "0 0 0\n",
      "0 1 [4] [3] [3, 3]\n",
      "[3, 4] arr\n",
      "L,R: [2] [1] [2, 1]\n",
      "0 0 0\n",
      "0 1 [2] [1] [1, 1]\n",
      "[1, 2] arr\n",
      "L,R: [3, 4] [1, 2] [4, 3, 2, 1]\n",
      "0 0 0\n",
      "0 2 [3, 4] [1, 2] [1, 2, 2, 1]\n",
      "[1, 2, 3, 4] arr\n"
     ]
    }
   ],
   "source": [
    "def mergesort(arr):\n",
    "    if len(arr) > 1:\n",
    "\n",
    "        mid = len(arr) // 2\n",
    "\n",
    "        L = arr[:mid]\n",
    "        R = arr[mid:]\n",
    "        mergesort(L)\n",
    "        mergesort(R)\n",
    "        print(\"L,R:\", L, R,arr)\n",
    "        k = i = j = 0\n",
    "        print(k, i, j)\n",
    "        while i != len(L) and j != len(R):\n",
    "\n",
    "            if L[i] < R[j]:\n",
    "                arr[k] = L[i]\n",
    "                i = i + 1\n",
    "\n",
    "            else:\n",
    "                arr[k] = R[j]\n",
    "                j = j + 1\n",
    "\n",
    "            k = k + 1\n",
    "\n",
    "        # copy the elements\n",
    "        print(i, j, L, R, arr)\n",
    "        while i < len(L):\n",
    "\n",
    "            arr[k] = L[i]\n",
    "            i += 1\n",
    "            k += 1\n",
    "            \n",
    "        while j < len(R):\n",
    "            arr[k] = R[j]\n",
    "            j += 1\n",
    "            k += 1\n",
    "        print(arr, \"arr\")\n",
    "\n",
    "\n",
    "mergesort([4, 3, 2, 1])"
   ]
  }
 ],
 "metadata": {
  "kernelspec": {
   "display_name": "Python 3",
   "language": "python",
   "name": "python3"
  },
  "language_info": {
   "codemirror_mode": {
    "name": "ipython",
    "version": 3
   },
   "file_extension": ".py",
   "mimetype": "text/x-python",
   "name": "python",
   "nbconvert_exporter": "python",
   "pygments_lexer": "ipython3",
   "version": "3.7.2"
  },
  "varInspector": {
   "cols": {
    "lenName": 16,
    "lenType": 16,
    "lenVar": 40
   },
   "kernels_config": {
    "python": {
     "delete_cmd_postfix": "",
     "delete_cmd_prefix": "del ",
     "library": "var_list.py",
     "varRefreshCmd": "print(var_dic_list())"
    },
    "r": {
     "delete_cmd_postfix": ") ",
     "delete_cmd_prefix": "rm(",
     "library": "var_list.r",
     "varRefreshCmd": "cat(var_dic_list()) "
    }
   },
   "types_to_exclude": [
    "module",
    "function",
    "builtin_function_or_method",
    "instance",
    "_Feature"
   ],
   "window_display": false
  }
 },
 "nbformat": 4,
 "nbformat_minor": 2
}
