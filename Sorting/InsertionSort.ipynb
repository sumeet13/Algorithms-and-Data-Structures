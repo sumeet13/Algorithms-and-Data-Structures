{
 "cells": [
  {
   "cell_type": "markdown",
   "metadata": {},
   "source": [
    "Problem Statement: Sort the given array in increasing order using insertion sort\n",
    "\n",
    "Solution:\n",
    "1. Start from second position/pivot of the array.\n",
    "2. Store it as key and compare it with the previous values.\n",
    "3. If the swap is made. Update the key with the other swapped value.\n",
    "\n",
    "Time Complexity : O(n^2) <br>\n",
    "Space Complexity : O(n)\n"
   ]
  },
  {
   "cell_type": "code",
   "execution_count": 1,
   "metadata": {},
   "outputs": [
    {
     "data": {
      "text/plain": [
       "[1, 2, 3, 4, 5]"
      ]
     },
     "execution_count": 1,
     "metadata": {},
     "output_type": "execute_result"
    }
   ],
   "source": [
    "def insertionSort(A):\n",
    "\n",
    "    if len(A) <= 0:\n",
    "        return \"Array is Empty\"\n",
    "\n",
    "    for i in range(1, len(A)):\n",
    "\n",
    "        key = A[i]\n",
    "        j = i - 1\n",
    "\n",
    "        while j >= 0 and A[j] > key:\n",
    "            A[j + 1] = A[j]\n",
    "            j = j - 1\n",
    "\n",
    "        A[j + 1] = key\n",
    "    return A\n",
    "\n",
    "\n",
    "insertionSort([5, 4, 3, 2, 1])"
   ]
  },
  {
   "cell_type": "markdown",
   "metadata": {},
   "source": [
    "Problem Statement: Use insertion sort to sort the array in decreasing order\n",
    "\n"
   ]
  },
  {
   "cell_type": "code",
   "execution_count": 2,
   "metadata": {},
   "outputs": [
    {
     "data": {
      "text/plain": [
       "[5, 4, 3, 2, 1]"
      ]
     },
     "execution_count": 2,
     "metadata": {},
     "output_type": "execute_result"
    }
   ],
   "source": [
    "def insertionSort(A):\n",
    "\n",
    "    if len(A) <= 0:\n",
    "        return \"Array is Empty\"\n",
    "\n",
    "    for i in range(1, len(A)):\n",
    "\n",
    "        key = A[i]\n",
    "        j = i - 1\n",
    "\n",
    "        while j >= 0 and A[j] < key:\n",
    "            A[j + 1] = A[j]\n",
    "            j = j - 1\n",
    "\n",
    "        A[j + 1] = key\n",
    "    return A\n",
    "\n",
    "\n",
    "insertionSort([1, 2, 3, 4, 5])"
   ]
  }
 ],
 "metadata": {
  "kernelspec": {
   "display_name": "Python 3",
   "language": "python",
   "name": "python3"
  },
  "language_info": {
   "codemirror_mode": {
    "name": "ipython",
    "version": 3
   },
   "file_extension": ".py",
   "mimetype": "text/x-python",
   "name": "python",
   "nbconvert_exporter": "python",
   "pygments_lexer": "ipython3",
   "version": "3.7.2"
  },
  "varInspector": {
   "cols": {
    "lenName": 16,
    "lenType": 16,
    "lenVar": 40
   },
   "kernels_config": {
    "python": {
     "delete_cmd_postfix": "",
     "delete_cmd_prefix": "del ",
     "library": "var_list.py",
     "varRefreshCmd": "print(var_dic_list())"
    },
    "r": {
     "delete_cmd_postfix": ") ",
     "delete_cmd_prefix": "rm(",
     "library": "var_list.r",
     "varRefreshCmd": "cat(var_dic_list()) "
    }
   },
   "types_to_exclude": [
    "module",
    "function",
    "builtin_function_or_method",
    "instance",
    "_Feature"
   ],
   "window_display": false
  }
 },
 "nbformat": 4,
 "nbformat_minor": 2
}
