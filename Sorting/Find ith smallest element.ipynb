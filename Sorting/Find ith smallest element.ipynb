{
 "cells": [
  {
   "cell_type": "code",
   "execution_count": 14,
   "metadata": {},
   "outputs": [
    {
     "name": "stdout",
     "output_type": "stream",
     "text": [
      "choosePivotElement A [1, 2, 5, 0, 3, 4]\n",
      "choosePivotElement [2, 4]\n",
      "choosePivotElement A [2, 4]\n",
      "choosePivotElement [2]\n",
      "1 [1, 4, 5, 0, 3, 2]\n",
      "4 [1, 4, 5, 0, 3, 2]\n",
      "5 [1, 4, 5, 0, 3, 2]\n",
      "4 [1, 0, 5, 4, 3, 2]\n",
      "\n",
      "choosePivotElement A [1, 0, 2, 4, 3, 5]\n",
      "choosePivotElement [2, 5]\n",
      "choosePivotElement A [2, 5]\n",
      "choosePivotElement [2]\n",
      "4 [1, 0, 5, 4, 3, 2]\n",
      "\n",
      "choosePivotElement A [1, 0, 5, 2, 3, 4]\n",
      "choosePivotElement [2, 4]\n",
      "choosePivotElement A [2, 4]\n",
      "choosePivotElement [2]\n",
      "\n"
     ]
    },
    {
     "data": {
      "text/plain": [
       "0"
      ]
     },
     "execution_count": 14,
     "metadata": {},
     "output_type": "execute_result"
    }
   ],
   "source": [
    "# def choosePivotElement(A, low, high):\n",
    "#     # Find pivot element with median of medians\n",
    "#     m_arr = []\n",
    "#     for j in range((len(A) // 5) + 1):\n",
    "#         sort = (sorted(A[j * 5:(j * 5) + 5]))\n",
    "#         m_arr.append(sort[len(sort) // 2])\n",
    "#     print(\"Choose pivot element: \",m_arr)\n",
    "#     return Select(m_arr, 0, len(m_arr) - 1, len(m_arr) // 2)\n",
    "\n",
    "def choosePivotElement(A,low,high):\n",
    "    if low==high:\n",
    "        return A[low]\n",
    "    print(\"choosePivotElement A\",A)\n",
    "    m_arr = []\n",
    "    for j in range((len(A) // 5) + 1):\n",
    "        sort = (sorted(A[j * 5:(j * 5) + 5]))\n",
    "        m_arr.append(sort[(len(sort)-1) // 2])\n",
    "    print(\"choosePivotElement\",m_arr)  \n",
    "    return choosePivotElement(m_arr,0,len(m_arr)-1)\n",
    "\n",
    "    \n",
    "def partition(A, low, high):\n",
    "    pivot = choosePivotElement(A, low, high)\n",
    "    \n",
    "    pivot_index = A.index(pivot)\n",
    "\n",
    "    # copy it to the last element of the array\n",
    "    A[high], A[pivot_index] = A[pivot_index], A[high]\n",
    "    pivot_index = high\n",
    "\n",
    "    i = low - 1\n",
    "    for j in range(low, high - 1):\n",
    "        \n",
    "        if A[j] <= pivot:\n",
    "            i += 1\n",
    "            A[j], A[i] = A[i], A[j]\n",
    "        print(A[j], A)\n",
    "    A[i + 1], A[pivot_index] = A[pivot_index], A[i + 1]\n",
    "    print(\"\")\n",
    "    return i + 1\n",
    "\n",
    "\n",
    "def Select(A, low, high, i):\n",
    "\n",
    "    if low == high:\n",
    "        return A[low]\n",
    "    q = partition(A, low, high)\n",
    "    k = q - low + 1  # left side of the array\n",
    "    if k == i:\n",
    "        return A[k]\n",
    "\n",
    "    if i < k:\n",
    "        return Select(A, low, q - 1, i)\n",
    "    else:\n",
    "        return Select(A, q + 1, high, i-k)\n",
    "\n",
    "\n",
    "a = [1, 2, 5, 0, 3, 4]\n",
    "return Select(a, 0, len(a)-1, 5)"
   ]
  },
  {
   "cell_type": "code",
   "execution_count": null,
   "metadata": {},
   "outputs": [],
   "source": []
  }
 ],
 "metadata": {
  "kernelspec": {
   "display_name": "Python 3",
   "language": "python",
   "name": "python3"
  },
  "language_info": {
   "codemirror_mode": {
    "name": "ipython",
    "version": 3
   },
   "file_extension": ".py",
   "mimetype": "text/x-python",
   "name": "python",
   "nbconvert_exporter": "python",
   "pygments_lexer": "ipython3",
   "version": "3.7.2"
  },
  "varInspector": {
   "cols": {
    "lenName": 16,
    "lenType": 16,
    "lenVar": 40
   },
   "kernels_config": {
    "python": {
     "delete_cmd_postfix": "",
     "delete_cmd_prefix": "del ",
     "library": "var_list.py",
     "varRefreshCmd": "print(var_dic_list())"
    },
    "r": {
     "delete_cmd_postfix": ") ",
     "delete_cmd_prefix": "rm(",
     "library": "var_list.r",
     "varRefreshCmd": "cat(var_dic_list()) "
    }
   },
   "types_to_exclude": [
    "module",
    "function",
    "builtin_function_or_method",
    "instance",
    "_Feature"
   ],
   "window_display": false
  }
 },
 "nbformat": 4,
 "nbformat_minor": 2
}
