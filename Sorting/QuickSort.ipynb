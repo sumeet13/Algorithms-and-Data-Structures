{
 "cells": [
  {
   "cell_type": "code",
   "execution_count": 1,
   "metadata": {},
   "outputs": [
    {
     "name": "stdout",
     "output_type": "stream",
     "text": [
      "Before:  [10, 5, -31, -1, 40, 6] 5 0 5\n",
      "After:  [10, 5, -31, -1, 40, 6] 5 0 4\n",
      "while: [10, 5, -31, -1, 40, 6] 0 4\n",
      "high 4\n",
      "final [-1, 5, -31, 10, 40, 6] 0 3\n",
      "while: [-1, 5, -31, 10, 40, 6] 0 3\n",
      "low 0\n",
      "low 1\n",
      "low 2\n",
      "high 3\n",
      "final [-1, 5, 6, 10, 40, -31] 3 2\n",
      "partition 2\n",
      "Before:  [5, -1, 6, 10, 40, -31] 1 0 1\n",
      "After:  [5, -1, 6, 10, 40, -31] 1 0 0\n",
      "partition 0\n",
      "Before:  [5, -1, 6, 10, -31, 40] 5 3 5\n",
      "After:  [5, -1, 6, 10, -31, 40] 5 3 4\n",
      "while: [5, -1, 6, 10, -31, 40] 3 4\n",
      "low 3\n",
      "low 4\n",
      "final [5, -1, 6, 10, 40, -31] 5 4\n",
      "partition 4\n",
      "[5, -1, 6, 10, 40, -31]\n"
     ]
    }
   ],
   "source": [
    "def partition(arr, low, high):\n",
    "    pivot = (low + high) // 2\n",
    "    arr[pivot], arr[high] = arr[high], arr[pivot]\n",
    "    pivot = high\n",
    "    print(\"Before: \", arr, pivot, low, high)\n",
    "    high = high - 1\n",
    "    print(\"After: \", arr, pivot, low, high)\n",
    "    while (low < high):\n",
    "        print(\"while:\", arr, low, high)\n",
    "        while (arr[low] < arr[pivot]):\n",
    "            print(\"low\", low)\n",
    "            low += 1\n",
    "\n",
    "        while (arr[high] > arr[pivot]):\n",
    "            print(\"high\", high)\n",
    "            high -= 1\n",
    "\n",
    "        if low < high:\n",
    "            \n",
    "            arr[low], arr[high] = arr[high], arr[low]\n",
    "\n",
    "        else:\n",
    "            arr[pivot], arr[high] = arr[high], arr[pivot]\n",
    "        print(\"final\", arr, low, high)\n",
    "    return high\n",
    "\n",
    "\n",
    "def quickSort(arr, low, high):\n",
    "    if low < high:\n",
    "\n",
    "        p = partition(arr, low, high)\n",
    "        print('partition', p)\n",
    "        quickSort(arr, low, p - 1)\n",
    "        quickSort(arr, p + 1, high)\n",
    "\n",
    "\n",
    "arr = [10, 5, 6, -1, 40, -31]\n",
    "quickSort(arr, 0, len(arr) - 1)\n",
    "print(arr)"
   ]
  },
  {
   "cell_type": "markdown",
   "metadata": {},
   "source": [
    "# Optimized quicksort in one pass"
   ]
  },
  {
   "cell_type": "code",
   "execution_count": 4,
   "metadata": {},
   "outputs": [
    {
     "name": "stdout",
     "output_type": "stream",
     "text": [
      "[-31, -1, 5, 6, 10, 40]\n"
     ]
    }
   ],
   "source": [
    "def partition(arr, low, high):\n",
    "\n",
    "    pivot_index = (low + high) // 2\n",
    "    arr[pivot_index], arr[high] = arr[high], arr[pivot_index]\n",
    "    pivot = arr[high]\n",
    "    i = low - 1\n",
    "    for j in range(low, high):\n",
    "        if arr[j] <= pivot:\n",
    "            i = i + 1\n",
    "            arr[j], arr[i] = arr[i], arr[j]\n",
    "\n",
    "    arr[i + 1], arr[high] = arr[high], arr[i + 1]\n",
    "    return i + 1\n",
    "\n",
    "\n",
    "def quickSort(arr, low, high):\n",
    "    if low < high:\n",
    "\n",
    "        p = partition(arr, low, high)\n",
    "        quickSort(arr, low, p - 1)\n",
    "        quickSort(arr, p + 1, high)\n",
    "\n",
    "\n",
    "arr = [10, 5, 6, -1, 40, -31]\n",
    "quickSort(arr, 0, len(arr) - 1)\n",
    "print(arr)"
   ]
  },
  {
   "cell_type": "code",
   "execution_count": 9,
   "metadata": {},
   "outputs": [
    {
     "name": "stdout",
     "output_type": "stream",
     "text": [
      "pivot:  15\n"
     ]
    },
    {
     "data": {
      "text/plain": [
       "9"
      ]
     },
     "execution_count": 9,
     "metadata": {},
     "output_type": "execute_result"
    }
   ],
   "source": [
    "def partition(arr, low, high):\n",
    "    pivot_index = 9\n",
    "    print(\"pivot: \",arr[pivot_index])\n",
    "    arr[pivot_index], arr[high] = arr[high], arr[pivot_index]\n",
    "    pivot = arr[high]\n",
    "    i = low - 1\n",
    "    for j in range(low, high):\n",
    "        if arr[j] <= pivot:\n",
    "            i = i + 1\n",
    "            arr[j], arr[i] = arr[i], arr[j]\n",
    "\n",
    "    arr[i + 1], arr[high] = arr[high], arr[i + 1]\n",
    "    return i + 1\n",
    "\n",
    "partition([3,13,11,21,5,9,20,18,7,15,12,34,17,8,22,31,23,14],0,17)"
   ]
  },
  {
   "cell_type": "code",
   "execution_count": null,
   "metadata": {},
   "outputs": [],
   "source": []
  }
 ],
 "metadata": {
  "kernelspec": {
   "display_name": "Python 3",
   "language": "python",
   "name": "python3"
  },
  "language_info": {
   "codemirror_mode": {
    "name": "ipython",
    "version": 3
   },
   "file_extension": ".py",
   "mimetype": "text/x-python",
   "name": "python",
   "nbconvert_exporter": "python",
   "pygments_lexer": "ipython3",
   "version": "3.7.2"
  },
  "varInspector": {
   "cols": {
    "lenName": 16,
    "lenType": 16,
    "lenVar": 40
   },
   "kernels_config": {
    "python": {
     "delete_cmd_postfix": "",
     "delete_cmd_prefix": "del ",
     "library": "var_list.py",
     "varRefreshCmd": "print(var_dic_list())"
    },
    "r": {
     "delete_cmd_postfix": ") ",
     "delete_cmd_prefix": "rm(",
     "library": "var_list.r",
     "varRefreshCmd": "cat(var_dic_list()) "
    }
   },
   "types_to_exclude": [
    "module",
    "function",
    "builtin_function_or_method",
    "instance",
    "_Feature"
   ],
   "window_display": false
  }
 },
 "nbformat": 4,
 "nbformat_minor": 2
}
