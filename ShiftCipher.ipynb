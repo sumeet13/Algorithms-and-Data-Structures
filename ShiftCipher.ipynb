{
 "cells": [
  {
   "cell_type": "code",
   "execution_count": 1,
   "metadata": {},
   "outputs": [
    {
     "name": "stdout",
     "output_type": "stream",
     "text": [
      "1 znk yioktzoloi znkuxe o roqk hkyz oy zngz znk xotmy ul ygzaxt gxk iusvuykj ktzoxkre ul ruyz goxrotk rammgmk\n",
      "2 ymj xhnjsynknh ymjtwd n qnpj gjxy nx ymfy ymj wnslx tk xfyzws fwj htrutxji jsynwjqd tk qtxy fnwqnsj qzllflj\n",
      "3 xli wgmirxmjmg xlisvc m pmoi fiwx mw xlex xli vmrkw sj wexyvr evi gsqtswih irxmvipc sj pswx emvpmri pykkeki\n",
      "4 wkh vflhqwlilf wkhrub l olnh ehvw lv wkdw wkh ulqjv ri vdwxuq duh frpsrvhg hqwluhob ri orvw dluolqh oxjjdjh\n",
      "5 vjg uekgpvkhke vjgqta k nkmg dguv ku vjcv vjg tkpiu qh ucvwtp ctg eqorqugf gpvktgna qh nquv cktnkpg nwiicig\n",
      "6 uif tdjfoujgjd uifpsz j mjlf cftu jt uibu uif sjoht pg tbuvso bsf dpnqptfe foujsfmz pg mptu bjsmjof mvhhbhf\n",
      "7 the scientific theory i like best is that the rings of saturn are composed entirely of lost airline luggage\n",
      "8 sgd rbhdmshehb sgdnqx h khjd adrs hr sgzs sgd qhmfr ne rzstqm zqd bnlonrdc dmshqdkx ne knrs zhqkhmd ktffzfd\n",
      "9 rfc qagclrgdga rfcmpw g jgic zcqr gq rfyr rfc pgleq md qyrspl ypc amknmqcb clrgpcjw md jmqr ygpjglc jseeyec\n",
      "10 qeb pzfbkqfcfz qeblov f ifhb ybpq fp qexq qeb ofkdp lc pxqrok xob zljmlpba bkqfobiv lc ilpq xfoifkb irddxdb\n",
      "11 pda oyeajpebey pdaknu e hega xaop eo pdwp pda nejco kb owpqnj wna ykilkoaz ajpenahu kb hkop wenheja hqccwca\n",
      "12 ocz nxdziodadx oczjmt d gdfz wzno dn ocvo ocz mdibn ja nvopmi vmz xjhkjnzy ziodmzgt ja gjno vdmgdiz gpbbvbz\n",
      "13 nby mwcyhnczcw nbyils c fcey vymn cm nbun nby lcham iz munolh uly wigjimyx yhnclyfs iz fimn uclfchy foaauay\n",
      "14 max lvbxgmbybv maxhkr b ebdx uxlm bl matm max kbgzl hy ltmnkg tkx vhfihlxw xgmbkxer hy ehlm tbkebgx enzztzx\n",
      "15 lzw kuawflaxau lzwgjq a dacw twkl ak lzsl lzw jafyk gx kslmjf sjw ugehgkwv wflajwdq gx dgkl sajdafw dmyysyw\n",
      "16 kyv jtzvekzwzt kyvfip z czbv svjk zj kyrk kyv izexj fw jrklie riv tfdgfjvu vekzivcp fw cfjk rziczev clxxrxv\n",
      "17 jxu isyudjyvys jxueho y byau ruij yi jxqj jxu hydwi ev iqjkhd qhu secfeiut udjyhubo ev beij qyhbydu bkwwqwu\n",
      "18 iwt hrxtcixuxr iwtdgn x axzt qthi xh iwpi iwt gxcvh du hpijgc pgt rdbedhts tcixgtan du adhi pxgaxct ajvvpvt\n",
      "19 hvs gqwsbhwtwq hvscfm w zwys psgh wg hvoh hvs fwbug ct gohifb ofs qcadcgsr sbhwfszm ct zcgh owfzwbs ziuuous\n",
      "20 gur fpvragvsvp gurbel v yvxr orfg vf gung gur evatf bs fnghea ner pbzcbfrq ragveryl bs ybfg nveyvar yhttntr\n",
      "21 ftq eouqzfuruo ftqadk u xuwq nqef ue ftmf ftq duzse ar emfgdz mdq oaybaeqp qzfudqxk ar xaef mudxuzq xgssmsq\n",
      "22 esp dntpyetqtn espzcj t wtvp mpde td esle esp ctyrd zq dlefcy lcp nzxazdpo pyetcpwj zq wzde ltcwtyp wfrrlrp\n",
      "23 dro cmsoxdspsm droybi s vsuo locd sc drkd dro bsxqc yp ckdebx kbo mywzycon oxdsbovi yp vycd ksbvsxo veqqkqo\n",
      "24 cqn blrnwcrorl cqnxah r urtn knbc rb cqjc cqn arwpb xo bjcdaw jan lxvyxbnm nwcranuh xo uxbc jraurwn udppjpn\n",
      "25 bpm akqmvbqnqk bpmwzg q tqsm jmab qa bpib bpm zqvoa wn aibczv izm kwuxwaml mvbqzmtg wn twab iqztqvm tcooiom\n",
      "None\n"
     ]
    }
   ],
   "source": [
    "def decryptShiftCipher(cipher):\n",
    "    for i in range(1,26):\n",
    "        result = \"\"\n",
    "        for j in range(len(cipher)):\n",
    "            \n",
    "            if cipher[j]!=\" \":\n",
    "                result += chr((ord(cipher[j])-97-i)%26 +97)\n",
    "            else: \n",
    "                result += \" \"\n",
    "        print(i, result)\n",
    "    \n",
    "cipher = \"GUR FPVRAGVSVP GURBEL V YVXR ORFG VF GUNG GUR EVATF BS FNGHEA NER PBZCBFRQ RAGVERYL BS YBFG NVEYVAR YHTTNTR\"\n",
    "print(decryptShiftCipher(cipher))\n"
   ]
  },
  {
   "cell_type": "code",
   "execution_count": null,
   "metadata": {},
   "outputs": [],
   "source": []
  }
 ],
 "metadata": {
  "kernelspec": {
   "display_name": "Python 3",
   "language": "python",
   "name": "python3"
  },
  "language_info": {
   "codemirror_mode": {
    "name": "ipython",
    "version": 3
   },
   "file_extension": ".py",
   "mimetype": "text/x-python",
   "name": "python",
   "nbconvert_exporter": "python",
   "pygments_lexer": "ipython3",
   "version": "3.7.2"
  },
  "varInspector": {
   "cols": {
    "lenName": 16,
    "lenType": 16,
    "lenVar": 40
   },
   "kernels_config": {
    "python": {
     "delete_cmd_postfix": "",
     "delete_cmd_prefix": "del ",
     "library": "var_list.py",
     "varRefreshCmd": "print(var_dic_list())"
    },
    "r": {
     "delete_cmd_postfix": ") ",
     "delete_cmd_prefix": "rm(",
     "library": "var_list.r",
     "varRefreshCmd": "cat(var_dic_list()) "
    }
   },
   "types_to_exclude": [
    "module",
    "function",
    "builtin_function_or_method",
    "instance",
    "_Feature"
   ],
   "window_display": false
  }
 },
 "nbformat": 4,
 "nbformat_minor": 2
}
