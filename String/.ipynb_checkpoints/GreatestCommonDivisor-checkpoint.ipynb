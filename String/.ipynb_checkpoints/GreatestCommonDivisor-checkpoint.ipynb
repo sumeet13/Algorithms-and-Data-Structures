{
 "cells": [
  {
   "cell_type": "code",
   "execution_count": 12,
   "metadata": {},
   "outputs": [
    {
     "data": {
      "text/plain": [
       "'def'"
      ]
     },
     "execution_count": 12,
     "metadata": {},
     "output_type": "execute_result"
    }
   ],
   "source": [
    "def GCD(s1, s2):\n",
    "\n",
    "    if len(s1) > len(s2):\n",
    "        large = s1\n",
    "        small = s2\n",
    "\n",
    "    else:\n",
    "        large = s2\n",
    "        small = s1\n",
    "\n",
    "    len_small = len(small)\n",
    "\n",
    "    for i in range(len(large) - len_small):\n",
    "        if small in large[i:i + len_small]:\n",
    "            return large[0:i] + large[i + len_small:]\n",
    "\n",
    "    return \"\"\n",
    "\n",
    "\n",
    "GCD('abcdef', 'abc')"
   ]
  },
  {
   "cell_type": "code",
   "execution_count": 13,
   "metadata": {},
   "outputs": [
    {
     "data": {
      "text/plain": [
       "-1"
      ]
     },
     "execution_count": 13,
     "metadata": {},
     "output_type": "execute_result"
    }
   ],
   "source": [
    "s = 'abc'\n",
    "s.find('z')"
   ]
  },
  {
   "cell_type": "code",
   "execution_count": 14,
   "metadata": {},
   "outputs": [
    {
     "data": {
      "text/plain": [
       "'dabc'"
      ]
     },
     "execution_count": 14,
     "metadata": {},
     "output_type": "execute_result"
    }
   ],
   "source": [
    "def GCD(s1, s2):\n",
    "\n",
    "    if len(s1) > len(s2):\n",
    "        large = s1\n",
    "        small = s2\n",
    "\n",
    "    else:\n",
    "        large = s2\n",
    "        small = s1\n",
    "\n",
    "    len_small = len(small)\n",
    "\n",
    "    index = large.find(small)\n",
    "\n",
    "    if index == -1:\n",
    "        return \"\"\n",
    "    else:\n",
    "        return large[0:index] + large[index + len_small:]\n",
    "\n",
    "\n",
    "GCD('abcdabc', 'abc')"
   ]
  },
  {
   "cell_type": "code",
   "execution_count": null,
   "metadata": {},
   "outputs": [],
   "source": []
  }
 ],
 "metadata": {
  "kernelspec": {
   "display_name": "Python 3",
   "language": "python",
   "name": "python3"
  },
  "language_info": {
   "codemirror_mode": {
    "name": "ipython",
    "version": 3
   },
   "file_extension": ".py",
   "mimetype": "text/x-python",
   "name": "python",
   "nbconvert_exporter": "python",
   "pygments_lexer": "ipython3",
   "version": "3.7.2"
  },
  "varInspector": {
   "cols": {
    "lenName": 16,
    "lenType": 16,
    "lenVar": 40
   },
   "kernels_config": {
    "python": {
     "delete_cmd_postfix": "",
     "delete_cmd_prefix": "del ",
     "library": "var_list.py",
     "varRefreshCmd": "print(var_dic_list())"
    },
    "r": {
     "delete_cmd_postfix": ") ",
     "delete_cmd_prefix": "rm(",
     "library": "var_list.r",
     "varRefreshCmd": "cat(var_dic_list()) "
    }
   },
   "types_to_exclude": [
    "module",
    "function",
    "builtin_function_or_method",
    "instance",
    "_Feature"
   ],
   "window_display": false
  }
 },
 "nbformat": 4,
 "nbformat_minor": 2
}
