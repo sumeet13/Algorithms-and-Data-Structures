{
 "cells": [
  {
   "cell_type": "markdown",
   "metadata": {},
   "source": [
    "# Problem: Check if one string is permutation of another\n",
    "\n",
    "### Approach 1: Sort the Strings\n",
    "Base case: check if lengths of both strings match\n",
    "\n",
    "Check with interviewer if the approach should be case sensitive and does white space matter.\n",
    "\n",
    "Lets say it does in our case. \n",
    "\n",
    "Solution: I would like to sort the string and check if they match.\n",
    "\n"
   ]
  },
  {
   "cell_type": "code",
   "execution_count": 4,
   "metadata": {},
   "outputs": [
    {
     "name": "stdout",
     "output_type": "stream",
     "text": [
      "sorted_str1:  [' ', 'a', 'b', 'c']\n",
      "sorted_str2:  [' ', 'a', 'b', 'c']\n"
     ]
    },
    {
     "data": {
      "text/plain": [
       "True"
      ]
     },
     "execution_count": 4,
     "metadata": {},
     "output_type": "execute_result"
    }
   ],
   "source": [
    "def permutationChecker(str1, str2):\n",
    "    \n",
    "    if len(str1) != len(str2):\n",
    "        return False\n",
    "    \n",
    "    sorted_str1 = sorted(str1)\n",
    "    sorted_str2 = sorted(str2)\n",
    "    \n",
    "    print('sorted_str1: ', sorted_str1)\n",
    "    print('sorted_str2: ', sorted_str2)\n",
    "    if sorted_str1 == sorted_str2:\n",
    "        return True\n",
    "    \n",
    "    return False\n",
    "\n",
    "permutationChecker(\"abc \", \" acb\")\n",
    "    "
   ]
  },
  {
   "cell_type": "markdown",
   "metadata": {},
   "source": [
    "### Approach 2: Count the characters in both strings\n",
    "\n"
   ]
  },
  {
   "cell_type": "code",
   "execution_count": 14,
   "metadata": {},
   "outputs": [
    {
     "name": "stdout",
     "output_type": "stream",
     "text": [
      "Before:  {'a': 2, 'b': 1, 'c': 1, 'd': 1, ' ': 1}\n",
      "After:  {'a': 1, 'b': 0, 'c': 0, 'd': 1, ' ': 0, 'e': -2}\n",
      "1\n"
     ]
    },
    {
     "data": {
      "text/plain": [
       "False"
      ]
     },
     "execution_count": 14,
     "metadata": {},
     "output_type": "execute_result"
    }
   ],
   "source": [
    "def permutationCheckerCounter(str1, str2):\n",
    "    if len(str1) != len(str2):\n",
    "        return False\n",
    "\n",
    "    # create a dictionary\n",
    "    letters = {}\n",
    "    for s in str1:\n",
    "\n",
    "        if s in letters:\n",
    "            letters[s] = letters[s] + 1\n",
    "\n",
    "        else:\n",
    "            letters[s] = 1\n",
    "\n",
    "    print(\"Before: \", letters)\n",
    "\n",
    "    for s in str2:\n",
    "\n",
    "        if s in letters:\n",
    "            letters[s] = letters[s] - 1\n",
    "\n",
    "        else:\n",
    "            letters[s] = -1\n",
    "    print(\"After: \", letters)\n",
    "    for value in letters.values():\n",
    "        print(value)\n",
    "        if value != 0:\n",
    "            return False\n",
    "\n",
    "    return True\n",
    "\n",
    "\n",
    "permutationCheckerCounter(\"abcda \", \" acbee\")"
   ]
  },
  {
   "cell_type": "code",
   "execution_count": null,
   "metadata": {},
   "outputs": [],
   "source": []
  }
 ],
 "metadata": {
  "kernelspec": {
   "display_name": "Python 3",
   "language": "python",
   "name": "python3"
  },
  "language_info": {
   "codemirror_mode": {
    "name": "ipython",
    "version": 3
   },
   "file_extension": ".py",
   "mimetype": "text/x-python",
   "name": "python",
   "nbconvert_exporter": "python",
   "pygments_lexer": "ipython3",
   "version": "3.7.2"
  },
  "varInspector": {
   "cols": {
    "lenName": 16,
    "lenType": 16,
    "lenVar": 40
   },
   "kernels_config": {
    "python": {
     "delete_cmd_postfix": "",
     "delete_cmd_prefix": "del ",
     "library": "var_list.py",
     "varRefreshCmd": "print(var_dic_list())"
    },
    "r": {
     "delete_cmd_postfix": ") ",
     "delete_cmd_prefix": "rm(",
     "library": "var_list.r",
     "varRefreshCmd": "cat(var_dic_list()) "
    }
   },
   "types_to_exclude": [
    "module",
    "function",
    "builtin_function_or_method",
    "instance",
    "_Feature"
   ],
   "window_display": false
  }
 },
 "nbformat": 4,
 "nbformat_minor": 2
}
