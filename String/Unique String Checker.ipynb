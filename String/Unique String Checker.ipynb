{
 "cells": [
  {
   "cell_type": "markdown",
   "metadata": {},
   "source": [
    "# Problem: Check if the given string has unique characters.\n",
    "\n",
    "Approach 1: If the string is ASCII or extended ASCII then we can assign it a boolean array space and check if the value has appeared and mark it true. But if the true value is encountered which means we already visited it. Return False.\n",
    "\n",
    "\n",
    "\n"
   ]
  },
  {
   "cell_type": "code",
   "execution_count": 1,
   "metadata": {},
   "outputs": [
    {
     "data": {
      "text/plain": [
       "'String is not Unique'"
      ]
     },
     "execution_count": 1,
     "metadata": {},
     "output_type": "execute_result"
    }
   ],
   "source": [
    "def uniqueStringChecker(string):\n",
    "    flag = [False]*256\n",
    "    \n",
    "    for i in string:\n",
    "        ascii_value = ord(i)\n",
    "        \n",
    "        if not flag[ascii_value]:\n",
    "            flag[ascii_value] = True\n",
    "            \n",
    "        else:\n",
    "            return 'String is not Unique'\n",
    "        \n",
    "    return 'String is Unique'\n",
    "uniqueStringChecker(\"abcce\")      "
   ]
  },
  {
   "cell_type": "code",
   "execution_count": 2,
   "metadata": {},
   "outputs": [
    {
     "data": {
      "text/plain": [
       "2"
      ]
     },
     "execution_count": 2,
     "metadata": {},
     "output_type": "execute_result"
    }
   ],
   "source": [
    "import sys\n",
    "def max_sub(nums):\n",
    "    if not nums:\n",
    "        return\n",
    "\n",
    "\n",
    "    temp = -sys.maxsize\n",
    "    for i in range(len(nums)):\n",
    "\n",
    "        add = 0\n",
    "        for j in range(i, len(nums)):\n",
    "\n",
    "            add = add + nums[j]\n",
    "            temp = max(add, temp)\n",
    "\n",
    "\n",
    "    return temp\n",
    "\n",
    "\n",
    "max_sub([-1,2])"
   ]
  },
  {
   "cell_type": "code",
   "execution_count": 12,
   "metadata": {},
   "outputs": [
    {
     "data": {
      "text/plain": [
       "78497"
      ]
     },
     "execution_count": 12,
     "metadata": {},
     "output_type": "execute_result"
    }
   ],
   "source": [
    "def countPrimes( n):\n",
    "\n",
    "\n",
    "    def prime(n):\n",
    "        if n == 2:\n",
    "            return 1\n",
    "        a = \n",
    "        for i in range(2, a):\n",
    "            if n % i == 0:\n",
    "                return 0\n",
    "\n",
    "        return 1\n",
    "    counter = 0\n",
    "    for i in range(2,n):\n",
    "\n",
    "\n",
    "        counter += prime(i)\n",
    "\n",
    "    return counter\n",
    "\n",
    "countPrimes(999983)"
   ]
  },
  {
   "cell_type": "code",
   "execution_count": 22,
   "metadata": {},
   "outputs": [
    {
     "name": "stdout",
     "output_type": "stream",
     "text": [
      "amanaplanacanalpanama\n",
      "20\n",
      "a a 0 -1\n",
      "m m 1 -2\n",
      "a a 2 -3\n",
      "n n 3 -4\n",
      "a a 4 -5\n",
      "p p 5 -6\n",
      "l l 6 -7\n",
      "a a 7 -8\n",
      "n n 8 -9\n",
      "a a 9 -10\n",
      "c c 10 -11\n"
     ]
    },
    {
     "data": {
      "text/plain": [
       "True"
      ]
     },
     "execution_count": 22,
     "metadata": {},
     "output_type": "execute_result"
    }
   ],
   "source": [
    "def isPalindrome(s):\n",
    "    s = s.lower()\n",
    "    a = \"\".join([c for c in s if c.isalnum()])\n",
    "    print(a)\n",
    "    i = 0\n",
    "    j = len(a)-1\n",
    "    print(j)\n",
    "    while i<=j:\n",
    "        print(a[i],a[~i], i,~i)\n",
    "        \n",
    "        if a[i]!=a[j]:\n",
    "            return False\n",
    "        i+=1\n",
    "        j-=1\n",
    "        \n",
    "    return True\n",
    "    \n",
    "isPalindrome(\"A man, a plan, a canal: Panama\")\n"
   ]
  },
  {
   "cell_type": "code",
   "execution_count": null,
   "metadata": {},
   "outputs": [],
   "source": []
  }
 ],
 "metadata": {
  "kernelspec": {
   "display_name": "Python 3",
   "language": "python",
   "name": "python3"
  },
  "language_info": {
   "codemirror_mode": {
    "name": "ipython",
    "version": 3
   },
   "file_extension": ".py",
   "mimetype": "text/x-python",
   "name": "python",
   "nbconvert_exporter": "python",
   "pygments_lexer": "ipython3",
   "version": "3.7.2"
  },
  "varInspector": {
   "cols": {
    "lenName": 16,
    "lenType": 16,
    "lenVar": 40
   },
   "kernels_config": {
    "python": {
     "delete_cmd_postfix": "",
     "delete_cmd_prefix": "del ",
     "library": "var_list.py",
     "varRefreshCmd": "print(var_dic_list())"
    },
    "r": {
     "delete_cmd_postfix": ") ",
     "delete_cmd_prefix": "rm(",
     "library": "var_list.r",
     "varRefreshCmd": "cat(var_dic_list()) "
    }
   },
   "types_to_exclude": [
    "module",
    "function",
    "builtin_function_or_method",
    "instance",
    "_Feature"
   ],
   "window_display": false
  }
 },
 "nbformat": 4,
 "nbformat_minor": 2
}
