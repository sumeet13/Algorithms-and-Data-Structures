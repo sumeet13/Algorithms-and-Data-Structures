{
 "cells": [
  {
   "cell_type": "markdown",
   "metadata": {},
   "source": [
    "# Problem: Check if the given string has unique characters.\n",
    "\n",
    "Approach 1: If the string is ASCII or extended ASCII then we can assign it a boolean array space and check if the value has appeared and mark it true. But if the true value is encountered which means we already visited it. Return False.\n",
    "\n",
    "\n",
    "\n"
   ]
  },
  {
   "cell_type": "code",
   "execution_count": 1,
   "metadata": {},
   "outputs": [
    {
     "data": {
      "text/plain": [
       "'String is not Unique'"
      ]
     },
     "execution_count": 1,
     "metadata": {},
     "output_type": "execute_result"
    }
   ],
   "source": [
    "def uniqueStringChecker(string):\n",
    "    flag = [False]*256\n",
    "    \n",
    "    for i in string:\n",
    "        ascii_value = ord(i)\n",
    "        \n",
    "        if not flag[ascii_value]:\n",
    "            flag[ascii_value] = True\n",
    "            \n",
    "        else:\n",
    "            return 'String is not Unique'\n",
    "        \n",
    "    return 'String is Unique'\n",
    "uniqueStringChecker(\"abcce\")      "
   ]
  },
  {
   "cell_type": "code",
   "execution_count": 12,
   "metadata": {},
   "outputs": [
    {
     "data": {
      "text/plain": [
       "2"
      ]
     },
     "execution_count": 12,
     "metadata": {},
     "output_type": "execute_result"
    }
   ],
   "source": [
    "import sys\n",
    "def max_sub(nums):\n",
    "    if not nums:\n",
    "        return\n",
    "\n",
    "\n",
    "    temp = -sys.maxsize\n",
    "    for i in range(len(nums)):\n",
    "\n",
    "        add = 0\n",
    "        for j in range(i, len(nums)):\n",
    "\n",
    "            add = add + nums[j]\n",
    "            temp = max(add, temp)\n",
    "\n",
    "\n",
    "    return temp\n",
    "\n",
    "\n",
    "max_sub([-1,2])"
   ]
  },
  {
   "cell_type": "code",
   "execution_count": null,
   "metadata": {},
   "outputs": [],
   "source": []
  }
 ],
 "metadata": {
  "kernelspec": {
   "display_name": "Python 3",
   "language": "python",
   "name": "python3"
  },
  "language_info": {
   "codemirror_mode": {
    "name": "ipython",
    "version": 3
   },
   "file_extension": ".py",
   "mimetype": "text/x-python",
   "name": "python",
   "nbconvert_exporter": "python",
   "pygments_lexer": "ipython3",
   "version": "3.7.2"
  },
  "varInspector": {
   "cols": {
    "lenName": 16,
    "lenType": 16,
    "lenVar": 40
   },
   "kernels_config": {
    "python": {
     "delete_cmd_postfix": "",
     "delete_cmd_prefix": "del ",
     "library": "var_list.py",
     "varRefreshCmd": "print(var_dic_list())"
    },
    "r": {
     "delete_cmd_postfix": ") ",
     "delete_cmd_prefix": "rm(",
     "library": "var_list.r",
     "varRefreshCmd": "cat(var_dic_list()) "
    }
   },
   "types_to_exclude": [
    "module",
    "function",
    "builtin_function_or_method",
    "instance",
    "_Feature"
   ],
   "window_display": false
  }
 },
 "nbformat": 4,
 "nbformat_minor": 2
}
