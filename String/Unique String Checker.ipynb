{
 "cells": [
  {
   "cell_type": "markdown",
   "metadata": {},
   "source": [
    "# Problem: Check if the given string has unique characters.\n",
    "\n",
    "Approach 1: If the string is ASCII or extended ASCII then we can assign it a boolean array space and check if the value has appeared and mark it true. But if the true value is encountered which means we already visited it. Return False.\n",
    "\n",
    "\n",
    "\n"
   ]
  },
  {
   "cell_type": "code",
   "execution_count": 1,
   "metadata": {},
   "outputs": [
    {
     "data": {
      "text/plain": [
       "'String is not Unique'"
      ]
     },
     "execution_count": 1,
     "metadata": {},
     "output_type": "execute_result"
    }
   ],
   "source": [
    "def uniqueStringChecker(string):\n",
    "    flag = [False]*256\n",
    "    \n",
    "    for i in string:\n",
    "        ascii_value = ord(i)\n",
    "        \n",
    "        if not flag[ascii_value]:\n",
    "            flag[ascii_value] = True\n",
    "            \n",
    "        else:\n",
    "            return 'String is not Unique'\n",
    "        \n",
    "    return 'String is Unique'\n",
    "uniqueStringChecker(\"abcce\")      "
   ]
  },
  {
   "cell_type": "code",
   "execution_count": 24,
   "metadata": {},
   "outputs": [
    {
     "name": "stdout",
     "output_type": "stream",
     "text": [
      "a \n"
     ]
    },
    {
     "data": {
      "text/plain": [
       "False"
      ]
     },
     "execution_count": 24,
     "metadata": {},
     "output_type": "execute_result"
    }
   ],
   "source": [
    "def isOneEditDistance(s, t):\n",
    "\n",
    "    if (not s and not t) or abs(len(s) - len(t)) >1 :\n",
    "        return False\n",
    "\n",
    "    # 3 cases can be formed based on lengths\n",
    "\n",
    "\n",
    "\n",
    "    (s,t) = (s,t) if len(t) < len(s) else (t,s)\n",
    "    len_s = len(s)\n",
    "    len_t = len(t)\n",
    "    i =j=counter = 0\n",
    "    \n",
    "    if len_s == 1:\n",
    "        return True\n",
    "\n",
    "    print(s,t)\n",
    "    while i != len_t and j != len_t:\n",
    "        print(s[j],t[i],j,i)\n",
    "        if len_s == len_t and s[i]!=t[j]:\n",
    "            counter += 1\n",
    "\n",
    "\n",
    "        elif len_s > len_t and s[j]!=t[i]:\n",
    "            j += 1\n",
    "            counter += 1\n",
    "\n",
    "        else:\n",
    "            i += 1 \n",
    "            j += 1\n",
    "        \n",
    "\n",
    "    if counter != 1:\n",
    "        return False\n",
    "\n",
    "    \n",
    "    return len_s== len_t+1\n",
    "\n",
    "\n",
    "isOneEditDistance('a','')"
   ]
  },
  {
   "cell_type": "code",
   "execution_count": null,
   "metadata": {},
   "outputs": [],
   "source": []
  }
 ],
 "metadata": {
  "kernelspec": {
   "display_name": "Python 3",
   "language": "python",
   "name": "python3"
  },
  "language_info": {
   "codemirror_mode": {
    "name": "ipython",
    "version": 3
   },
   "file_extension": ".py",
   "mimetype": "text/x-python",
   "name": "python",
   "nbconvert_exporter": "python",
   "pygments_lexer": "ipython3",
   "version": "3.7.2"
  },
  "varInspector": {
   "cols": {
    "lenName": 16,
    "lenType": 16,
    "lenVar": 40
   },
   "kernels_config": {
    "python": {
     "delete_cmd_postfix": "",
     "delete_cmd_prefix": "del ",
     "library": "var_list.py",
     "varRefreshCmd": "print(var_dic_list())"
    },
    "r": {
     "delete_cmd_postfix": ") ",
     "delete_cmd_prefix": "rm(",
     "library": "var_list.r",
     "varRefreshCmd": "cat(var_dic_list()) "
    }
   },
   "types_to_exclude": [
    "module",
    "function",
    "builtin_function_or_method",
    "instance",
    "_Feature"
   ],
   "window_display": false
  }
 },
 "nbformat": 4,
 "nbformat_minor": 2
}
