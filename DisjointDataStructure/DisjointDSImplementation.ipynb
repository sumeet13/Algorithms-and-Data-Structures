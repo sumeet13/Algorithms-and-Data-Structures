{
 "cells": [
  {
   "cell_type": "markdown",
   "metadata": {},
   "source": [
    "# Operations of Disjoint Set Data Structure(DSDS)\n",
    "\n",
    "1. Union() : Adds elements of two sets and chooses the representative of the combined set by competing with each representive of set based on implementation <br>\n",
    "\n",
    "2. MakeSet() : Make the set of individual elements<br>\n",
    "\n",
    "3. FindSet() : Find the representatiev of the set<br>\n",
    "\n"
   ]
  },
  {
   "cell_type": "code",
   "execution_count": 2,
   "metadata": {},
   "outputs": [
    {
     "name": "stdout",
     "output_type": "stream",
     "text": [
      "1\n",
      "1\n",
      "3\n",
      "3\n",
      "5\n",
      "5\n",
      "7\n",
      "--------------------\n",
      "5\n",
      "5\n",
      "5\n",
      "--------------------\n",
      "1\n",
      "1\n",
      "1\n",
      "1\n",
      "1\n",
      "1\n",
      "1\n"
     ]
    }
   ],
   "source": [
    "class DSDS():\n",
    "    class Node():\n",
    "        def __init__(self, data, rank=0, parent=None):\n",
    "            self.rank = rank\n",
    "            self.data = data\n",
    "            self.parent = parent\n",
    "\n",
    "        def set_parent(self, parent):\n",
    "            self.parent = parent\n",
    "\n",
    "        def get_parent(self):\n",
    "            return self.parent\n",
    "\n",
    "        def get_data(self):\n",
    "            return self.data\n",
    "\n",
    "        def set_rank(self, rank):\n",
    "            self.rank = rank\n",
    "\n",
    "        def get_rank(self):\n",
    "            return self.rank\n",
    "\n",
    "    def __init__(self):\n",
    "        self.dictionary = {}\n",
    "\n",
    "    def makeSet(self, data):\n",
    "        node = self.Node(data)\n",
    "        node.set_parent(node)\n",
    "        self.dictionary[data] = node\n",
    "\n",
    "    def findSetCompressPath(self, node):\n",
    "        parent = node.get_parent()\n",
    "\n",
    "        if node is parent:\n",
    "            return parent\n",
    "\n",
    "        node.set_parent(self.findSetCompressPath(parent))\n",
    "\n",
    "        return node.get_parent()\n",
    "\n",
    "    def findSet(self, data):\n",
    "        return self.findSetCompressPath(self.dictionary[data])\n",
    "\n",
    "    def union(self, data1, data2):\n",
    "        # if both the nodes parents are equal then return otherwise make the union and decide the representative\n",
    "\n",
    "        parent1 = self.findSet(data1)\n",
    "        parent2 = self.findSet(data2)\n",
    "\n",
    "        if parent1 is parent2:\n",
    "            return\n",
    "\n",
    "        if parent1.get_rank() >= parent2.get_rank():\n",
    "\n",
    "            parent1.set_rank(parent1.get_rank() + 1 if parent1.get_rank() ==\n",
    "                             parent2.get_rank() else parent1.get_rank())\n",
    "            parent2.set_parent(parent1)\n",
    "\n",
    "        else:\n",
    "            parent1.set_parent(parent2)\n",
    "\n",
    "\n",
    "ds = DSDS()\n",
    "\n",
    "ds.makeSet(1)\n",
    "ds.makeSet(2)\n",
    "ds.makeSet(3)\n",
    "ds.makeSet(4)\n",
    "ds.makeSet(5)\n",
    "ds.makeSet(6)\n",
    "ds.makeSet(7)\n",
    "ds.findSet(1).get_data()\n",
    "\n",
    "ds.union(1, 2)\n",
    "ds.union(3, 4)\n",
    "ds.union(5, 6)\n",
    "\n",
    "print(ds.findSet(1).get_data())\n",
    "print(ds.findSet(2).get_data())\n",
    "print(ds.findSet(3).get_data())\n",
    "print(ds.findSet(4).get_data())\n",
    "print(ds.findSet(5).get_data())\n",
    "print(ds.findSet(6).get_data())\n",
    "print(ds.findSet(7).get_data())\n",
    "\n",
    "ds.union(5, 7)\n",
    "print(\"-\" * 20)\n",
    "print(ds.findSet(5).get_data())\n",
    "print(ds.findSet(6).get_data())\n",
    "print(ds.findSet(7).get_data())\n",
    "\n",
    "ds.union(1, 3)\n",
    "ds.union(1, 5)\n",
    "print(\"-\" * 20)\n",
    "print(ds.findSet(1).get_data())\n",
    "print(ds.findSet(2).get_data())\n",
    "print(ds.findSet(3).get_data())\n",
    "print(ds.findSet(4).get_data())\n",
    "print(ds.findSet(5).get_data())\n",
    "print(ds.findSet(6).get_data())\n",
    "print(ds.findSet(7).get_data())"
   ]
  },
  {
   "cell_type": "code",
   "execution_count": null,
   "metadata": {},
   "outputs": [],
   "source": []
  },
  {
   "cell_type": "code",
   "execution_count": null,
   "metadata": {},
   "outputs": [],
   "source": []
  }
 ],
 "metadata": {
  "kernelspec": {
   "display_name": "Python 3",
   "language": "python",
   "name": "python3"
  },
  "language_info": {
   "codemirror_mode": {
    "name": "ipython",
    "version": 3
   },
   "file_extension": ".py",
   "mimetype": "text/x-python",
   "name": "python",
   "nbconvert_exporter": "python",
   "pygments_lexer": "ipython3",
   "version": "3.7.2"
  },
  "varInspector": {
   "cols": {
    "lenName": 16,
    "lenType": 16,
    "lenVar": 40
   },
   "kernels_config": {
    "python": {
     "delete_cmd_postfix": "",
     "delete_cmd_prefix": "del ",
     "library": "var_list.py",
     "varRefreshCmd": "print(var_dic_list())"
    },
    "r": {
     "delete_cmd_postfix": ") ",
     "delete_cmd_prefix": "rm(",
     "library": "var_list.r",
     "varRefreshCmd": "cat(var_dic_list()) "
    }
   },
   "types_to_exclude": [
    "module",
    "function",
    "builtin_function_or_method",
    "instance",
    "_Feature"
   ],
   "window_display": false
  }
 },
 "nbformat": 4,
 "nbformat_minor": 2
}
