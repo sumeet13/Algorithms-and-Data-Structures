{
 "cells": [
  {
   "cell_type": "markdown",
   "metadata": {},
   "source": [
    "# Problem statement:\n",
    "\n",
    "Write a code to find least number of comparisons done to find min and max element in an array\n",
    "\n",
    "Time Complexity : O(n/2)"
   ]
  },
  {
   "cell_type": "code",
   "execution_count": 1,
   "metadata": {},
   "outputs": [
    {
     "data": {
      "text/plain": [
       "(90, -1)"
      ]
     },
     "execution_count": 1,
     "metadata": {},
     "output_type": "execute_result"
    }
   ],
   "source": [
    "def miniMax(arr):\n",
    "    n = len(arr)\n",
    "\n",
    "    large = max(arr[0], arr[1])\n",
    "    small = min(arr[0], arr[1])\n",
    "\n",
    "    for i in range(1, n // 2):\n",
    "        large = max(large, max(arr[2 * i], arr[2 * i + 1]))\n",
    "        small = min(small, min(arr[2 * i], arr[2 * i + 1]))\n",
    "\n",
    "    if n % 2 == 1:\n",
    "        large = max(large, arr[n - 1])\n",
    "        small = min(small, arr[n - 1])\n",
    "\n",
    "    return large, small\n",
    "\n",
    "\n",
    "miniMax([1, 4, 5, 11, 90, 2, -1])"
   ]
  }
 ],
 "metadata": {
  "kernelspec": {
   "display_name": "Python 3",
   "language": "python",
   "name": "python3"
  },
  "language_info": {
   "codemirror_mode": {
    "name": "ipython",
    "version": 3
   },
   "file_extension": ".py",
   "mimetype": "text/x-python",
   "name": "python",
   "nbconvert_exporter": "python",
   "pygments_lexer": "ipython3",
   "version": "3.7.2"
  },
  "varInspector": {
   "cols": {
    "lenName": 16,
    "lenType": 16,
    "lenVar": 40
   },
   "kernels_config": {
    "python": {
     "delete_cmd_postfix": "",
     "delete_cmd_prefix": "del ",
     "library": "var_list.py",
     "varRefreshCmd": "print(var_dic_list())"
    },
    "r": {
     "delete_cmd_postfix": ") ",
     "delete_cmd_prefix": "rm(",
     "library": "var_list.r",
     "varRefreshCmd": "cat(var_dic_list()) "
    }
   },
   "types_to_exclude": [
    "module",
    "function",
    "builtin_function_or_method",
    "instance",
    "_Feature"
   ],
   "window_display": false
  }
 },
 "nbformat": 4,
 "nbformat_minor": 2
}
