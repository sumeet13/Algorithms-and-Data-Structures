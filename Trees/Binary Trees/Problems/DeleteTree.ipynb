{
 "cells": [
  {
   "cell_type": "markdown",
   "metadata": {},
   "source": [
    "# Problem: Give an algorithm to delete the tree\n",
    "\n",
    "\n",
    "We would use the postorder traversal to delete the elements of the tree, because it traverses through the left and right children and then traverses the root while in other traversals root node is traversed before one or both of its child nodes.\n",
    "\n",
    "### Algorithm:\n",
    "\n",
    "1. Traverse using post order traversal\n",
    "2. Delete the child nodes\n",
    "3. Then delete the root node\n",
    "\n",
    "Time complexity : O(n) because we are traversing all nodes. <br>\n",
    "Space Complexity: O(n) because we need a stack and may be a set.\n"
   ]
  },
  {
   "cell_type": "code",
   "execution_count": 1,
   "metadata": {},
   "outputs": [],
   "source": [
    "from collections import deque\n",
    "\n",
    "def deleteTreeRecursively(root):\n",
    "    \n",
    "    if root is None:\n",
    "        return \n",
    "    \n",
    "    deleteTreeRecursively(root.getLeft())\n",
    "    deleteTreeRecursively(root.getRight())\n",
    "    root.setLeft(None)\n",
    "    root.setRight(None)\n",
    "    \n"
   ]
  },
  {
   "cell_type": "code",
   "execution_count": 2,
   "metadata": {},
   "outputs": [],
   "source": [
    "class TreeNode:\n",
    "    def __init__(self, data, left=None, right=None):\n",
    "        self.data = data\n",
    "        self.left = left\n",
    "        self.right = right\n",
    "\n",
    "    def getData(self):\n",
    "        return self.data\n",
    "\n",
    "    def setData(self, data):\n",
    "        self.data = data\n",
    "\n",
    "    def getLeft(self):\n",
    "        return self.left\n",
    "\n",
    "    def getRight(self):\n",
    "        return self.right\n",
    "\n",
    "    def setLeft(self, left):\n",
    "        self.left = left\n",
    "\n",
    "    def setRight(self, right):\n",
    "        self.right = right\n",
    "\n",
    "\n",
    "a = TreeNode(20)\n",
    "b = TreeNode(2)\n",
    "c = TreeNode(3)\n",
    "a.setLeft(b)\n",
    "a.setRight(c)\n",
    "\n",
    "d = TreeNode(4)\n",
    "e = TreeNode(5)\n",
    "x = TreeNode(8)\n",
    "y = TreeNode(9)\n",
    "\n",
    "e.setLeft(x)\n",
    "\n",
    "b.setLeft(d)\n",
    "b.setRight(e)\n",
    "\n",
    "f = TreeNode(6)\n",
    "g = TreeNode(7)\n",
    "\n",
    "f.setRight(y)\n",
    "c.setLeft(f)\n",
    "c.setRight(g)\n",
    "\n",
    "def inorderTraversal(root):\n",
    "\n",
    "    if not root:\n",
    "        return\n",
    "\n",
    "    inorderTraversal(root.getLeft())\n",
    "    print(root.getData())\n",
    "    inorderTraversal(root.getRight())"
   ]
  },
  {
   "cell_type": "code",
   "execution_count": 3,
   "metadata": {},
   "outputs": [
    {
     "name": "stdout",
     "output_type": "stream",
     "text": [
      "Inorder traversal of tree before deleting.\n",
      "4\n",
      "2\n",
      "8\n",
      "5\n",
      "20\n",
      "6\n",
      "9\n",
      "3\n",
      "7\n",
      "20\n",
      "\n",
      "Inorder traversal of tree after deleting.\n",
      "20\n"
     ]
    }
   ],
   "source": [
    "print(\"Inorder traversal of tree before deleting.\")\n",
    "\n",
    "inorderTraversal(a)\n",
    "\n",
    "deleteTreeRecursively(a)\n",
    "\n",
    "print(a.getData() )\n",
    "print(\"\\nInorder traversal of tree after deleting.\")\n",
    "\n",
    "inorderTraversal(a)\n",
    "# Make root None.\n",
    "a = None"
   ]
  }
 ],
 "metadata": {
  "kernelspec": {
   "display_name": "Python 3",
   "language": "python",
   "name": "python3"
  },
  "language_info": {
   "codemirror_mode": {
    "name": "ipython",
    "version": 3
   },
   "file_extension": ".py",
   "mimetype": "text/x-python",
   "name": "python",
   "nbconvert_exporter": "python",
   "pygments_lexer": "ipython3",
   "version": "3.7.2"
  },
  "varInspector": {
   "cols": {
    "lenName": 16,
    "lenType": 16,
    "lenVar": 40
   },
   "kernels_config": {
    "python": {
     "delete_cmd_postfix": "",
     "delete_cmd_prefix": "del ",
     "library": "var_list.py",
     "varRefreshCmd": "print(var_dic_list())"
    },
    "r": {
     "delete_cmd_postfix": ") ",
     "delete_cmd_prefix": "rm(",
     "library": "var_list.r",
     "varRefreshCmd": "cat(var_dic_list()) "
    }
   },
   "types_to_exclude": [
    "module",
    "function",
    "builtin_function_or_method",
    "instance",
    "_Feature"
   ],
   "window_display": false
  }
 },
 "nbformat": 4,
 "nbformat_minor": 2
}
