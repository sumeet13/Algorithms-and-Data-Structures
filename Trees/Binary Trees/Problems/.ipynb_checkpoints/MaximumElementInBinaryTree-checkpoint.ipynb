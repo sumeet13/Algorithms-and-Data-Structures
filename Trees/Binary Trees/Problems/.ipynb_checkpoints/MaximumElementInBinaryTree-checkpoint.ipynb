{
 "cells": [
  {
   "cell_type": "markdown",
   "metadata": {},
   "source": [
    "# Problem: Find Maximum Element in Binary Tree\n",
    "\n",
    "This can be solved using recursion.\n",
    "\n",
    "Algorithm:\n",
    "\n",
    "Find the maximum element in the left subtree and then find maximum element in right subtree.\n"
   ]
  },
  {
   "cell_type": "code",
   "execution_count": 1,
   "metadata": {},
   "outputs": [
    {
     "name": "stdout",
     "output_type": "stream",
     "text": [
      "-inf\n"
     ]
    }
   ],
   "source": [
    "maxData = float(\"-infinity\")\n",
    "print(maxData)\n",
    "def maximumElementRecursion(root):\n",
    "    global maxData\n",
    "    if root is None:\n",
    "        return\n",
    "       \n",
    "    if root.getData() > maxData:\n",
    "        maxData = root.getData()\n",
    "        \n",
    "    maximumElementRecursion(root.getLeft())    \n",
    "    maximumElementRecursion(root.getRight())\n",
    "        \n",
    "    return maxData"
   ]
  },
  {
   "cell_type": "code",
   "execution_count": 2,
   "metadata": {},
   "outputs": [],
   "source": [
    "class TreeNode:\n",
    "    def __init__(self, data, left=None, right=None):\n",
    "        self.data = data\n",
    "        self.left = left\n",
    "        self.right = right\n",
    "\n",
    "    def getData(self):\n",
    "        return self.data\n",
    "\n",
    "    def setData(self, data):\n",
    "        self.data = data\n",
    "\n",
    "    def getLeft(self):\n",
    "        return self.left\n",
    "\n",
    "    def getRight(self):\n",
    "        return self.right\n",
    "\n",
    "    def setLeft(self, left):\n",
    "        self.left = left\n",
    "\n",
    "    def setRight(self, right):\n",
    "        self.right = right\n",
    "\n",
    "\n",
    "def createTree(arr):\n",
    "\n",
    "    if arr is None:\n",
    "        print(\"Array is none\")"
   ]
  },
  {
   "cell_type": "code",
   "execution_count": 3,
   "metadata": {},
   "outputs": [],
   "source": [
    "a = TreeNode(20)\n",
    "b = TreeNode(2)\n",
    "c = TreeNode(3)\n",
    "a.setLeft(b)\n",
    "a.setRight(c)\n",
    "\n",
    "d = TreeNode(4)\n",
    "e = TreeNode(5)\n",
    "x = TreeNode(8)\n",
    "y = TreeNode(9)\n",
    "\n",
    "e.setLeft(x)\n",
    "\n",
    "\n",
    "b.setLeft(d)\n",
    "b.setRight(e)\n",
    "\n",
    "f = TreeNode(6)\n",
    "g = TreeNode(7)\n",
    "\n",
    "f.setRight(y)\n",
    "c.setLeft(f)\n",
    "c.setRight(g)"
   ]
  },
  {
   "cell_type": "code",
   "execution_count": 4,
   "metadata": {},
   "outputs": [
    {
     "data": {
      "text/plain": [
       "20"
      ]
     },
     "execution_count": 4,
     "metadata": {},
     "output_type": "execute_result"
    }
   ],
   "source": [
    "maximumElementRecursion(a)"
   ]
  },
  {
   "cell_type": "markdown",
   "metadata": {},
   "source": [
    "# Finding maximum element without recursion\n",
    "\n",
    "We can use level order traversal to find the maximum element.\n",
    "\n",
    "\n",
    "Time Complexity : O(n)\n",
    "Space Complexity : O(n) "
   ]
  },
  {
   "cell_type": "code",
   "execution_count": 5,
   "metadata": {},
   "outputs": [
    {
     "name": "stdout",
     "output_type": "stream",
     "text": [
      "Maximum data is binary tree is:  20\n"
     ]
    }
   ],
   "source": [
    "from collections import deque\n",
    "\n",
    "def findMaxElementIteratively(root):\n",
    "    \n",
    "    if root is None:\n",
    "        return\n",
    "    \n",
    "    queue = deque()\n",
    "    queue.append(root)\n",
    "    maxData = float(\"-infinity\")\n",
    "    \n",
    "    while queue:\n",
    "        element = queue.popleft()       \n",
    "        maxData = element.getData() if element.getData()>maxData else maxData\n",
    "        \n",
    "        if element.getLeft():\n",
    "            queue.append(element.getLeft())\n",
    "            \n",
    "        if element.getRight():\n",
    "            queue.append(element.getRight())\n",
    "            \n",
    "        return maxData\n",
    "            \n",
    "print(\"Maximum data is binary tree is: \", findMaxElementIteratively(a))"
   ]
  }
 ],
 "metadata": {
  "kernelspec": {
   "display_name": "Python 3",
   "language": "python",
   "name": "python3"
  },
  "language_info": {
   "codemirror_mode": {
    "name": "ipython",
    "version": 3
   },
   "file_extension": ".py",
   "mimetype": "text/x-python",
   "name": "python",
   "nbconvert_exporter": "python",
   "pygments_lexer": "ipython3",
   "version": "3.7.2"
  },
  "varInspector": {
   "cols": {
    "lenName": 16,
    "lenType": 16,
    "lenVar": 40
   },
   "kernels_config": {
    "python": {
     "delete_cmd_postfix": "",
     "delete_cmd_prefix": "del ",
     "library": "var_list.py",
     "varRefreshCmd": "print(var_dic_list())"
    },
    "r": {
     "delete_cmd_postfix": ") ",
     "delete_cmd_prefix": "rm(",
     "library": "var_list.r",
     "varRefreshCmd": "cat(var_dic_list()) "
    }
   },
   "types_to_exclude": [
    "module",
    "function",
    "builtin_function_or_method",
    "instance",
    "_Feature"
   ],
   "window_display": false
  }
 },
 "nbformat": 4,
 "nbformat_minor": 2
}
