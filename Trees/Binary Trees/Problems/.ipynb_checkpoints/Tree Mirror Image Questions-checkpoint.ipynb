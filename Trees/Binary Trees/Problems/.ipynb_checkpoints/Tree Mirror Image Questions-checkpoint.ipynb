{
 "cells": [
  {
   "cell_type": "markdown",
   "metadata": {},
   "source": [
    "# Problem : Convert a tree into its mirror image\n",
    "\n",
    "This is solved using postorder traversal because we have to return the root of the tree after we perform conversion.\n",
    "\n",
    "Algorithm:\n",
    "\n",
    "Swap the left and right children recursively by performing postorder traversal.\n",
    "\n",
    "Time Complexity : O(n)\n",
    "Space Complexity : O(n)"
   ]
  },
  {
   "cell_type": "code",
   "execution_count": 1,
   "metadata": {},
   "outputs": [],
   "source": [
    "def convertToMirrorImage(root):\n",
    "    \n",
    "    if root is None:\n",
    "        return\n",
    "    \n",
    "    convertToMirrorImage(root.getLeft())\n",
    "    convertToMirrorImage(root.getRight())\n",
    "    \n",
    "    temp =root.getLeft()\n",
    "    root.setLeft(root.getRight())\n",
    "    root.setRight(temp)\n",
    "    \n",
    "    return root"
   ]
  },
  {
   "cell_type": "code",
   "execution_count": 2,
   "metadata": {},
   "outputs": [
    {
     "name": "stdout",
     "output_type": "stream",
     "text": [
      "4\n",
      "2\n",
      "8\n",
      "5\n",
      "1\n",
      "6\n",
      "9\n",
      "3\n",
      "7\n"
     ]
    }
   ],
   "source": [
    "class TreeNode:\n",
    "    def __init__(self, data, left=None, right=None):\n",
    "        self.data = data\n",
    "        self.left = left\n",
    "        self.right = right\n",
    "\n",
    "    def getData(self):\n",
    "        return self.data\n",
    "\n",
    "    def setData(self, data):\n",
    "        self.data = data\n",
    "\n",
    "    def getLeft(self):\n",
    "        return self.left\n",
    "\n",
    "    def getRight(self):\n",
    "        return self.right\n",
    "\n",
    "    def setLeft(self, left):\n",
    "        self.left = left\n",
    "\n",
    "    def setRight(self, right):\n",
    "        self.right = right\n",
    "\n",
    "\n",
    "a = TreeNode(1)\n",
    "b = TreeNode(2)\n",
    "c = TreeNode(3)\n",
    "a.setLeft(b)\n",
    "a.setRight(c)\n",
    "\n",
    "d = TreeNode(4)\n",
    "e = TreeNode(5)\n",
    "x = TreeNode(8)\n",
    "y = TreeNode(9)\n",
    "\n",
    "e.setLeft(x)\n",
    "\n",
    "b.setLeft(d)\n",
    "b.setRight(e)\n",
    "\n",
    "f = TreeNode(6)\n",
    "g = TreeNode(7)\n",
    "\n",
    "f.setRight(y)\n",
    "c.setLeft(f)\n",
    "c.setRight(g)\n",
    "\n",
    "def inorderTraversal(root):\n",
    "    if root is None:\n",
    "        return\n",
    "    \n",
    "    inorderTraversal(root.getLeft())\n",
    "    print(root.getData())\n",
    "    inorderTraversal(root.getRight())\n",
    "    \n",
    "inorderTraversal(a)"
   ]
  },
  {
   "cell_type": "code",
   "execution_count": 3,
   "metadata": {},
   "outputs": [
    {
     "name": "stdout",
     "output_type": "stream",
     "text": [
      "7\n",
      "3\n",
      "9\n",
      "6\n",
      "1\n",
      "5\n",
      "8\n",
      "2\n",
      "4\n"
     ]
    }
   ],
   "source": [
    "z = convertToMirrorImage(a)\n",
    "inorderTraversal(z)"
   ]
  },
  {
   "cell_type": "markdown",
   "metadata": {},
   "source": [
    "# Problem : check if two trees are mirror images of each other.\n",
    "\n",
    "Algorithm:\n",
    "\n",
    "1. Check using post order traversal\n",
    "2. if data of root.left != root.right return false else true\n",
    "\n",
    "Time Complexity : O(n)\n",
    "Space Complexity : O(n)"
   ]
  },
  {
   "cell_type": "code",
   "execution_count": 4,
   "metadata": {},
   "outputs": [
    {
     "data": {
      "text/plain": [
       "True"
      ]
     },
     "execution_count": 4,
     "metadata": {},
     "output_type": "execute_result"
    }
   ],
   "source": [
    "def checkIfMirrorImage(root1, root2):\n",
    "    \n",
    "    if root1 == None and root2 == None:\n",
    "        return True\n",
    "\n",
    "    if root1 == None or root2 == None:        \n",
    "        return False\n",
    "\n",
    "    if root1.getData() != root2.getData():\n",
    "        return False\n",
    "    \n",
    "    return (checkIfMirrorImage(root1.getLeft(),root2.getRight()) and checkIfMirrorImage(root1.getRight(), root2.getLeft()))\n",
    "\n",
    "\n",
    "a = TreeNode(1)\n",
    "b = TreeNode(2)\n",
    "c = TreeNode(3)\n",
    "a.setLeft(b)\n",
    "a.setRight(c)\n",
    "\n",
    "\n",
    "z = TreeNode(1)\n",
    "x = TreeNode(2)\n",
    "y = TreeNode(3)\n",
    "z.setLeft(y)\n",
    "z.setRight(x)\n",
    "\n",
    "\n",
    "checkIfMirrorImage(a, z)"
   ]
  }
 ],
 "metadata": {
  "kernelspec": {
   "display_name": "Python 3",
   "language": "python",
   "name": "python3"
  },
  "language_info": {
   "codemirror_mode": {
    "name": "ipython",
    "version": 3
   },
   "file_extension": ".py",
   "mimetype": "text/x-python",
   "name": "python",
   "nbconvert_exporter": "python",
   "pygments_lexer": "ipython3",
   "version": "3.7.2"
  },
  "varInspector": {
   "cols": {
    "lenName": 16,
    "lenType": 16,
    "lenVar": 40
   },
   "kernels_config": {
    "python": {
     "delete_cmd_postfix": "",
     "delete_cmd_prefix": "del ",
     "library": "var_list.py",
     "varRefreshCmd": "print(var_dic_list())"
    },
    "r": {
     "delete_cmd_postfix": ") ",
     "delete_cmd_prefix": "rm(",
     "library": "var_list.r",
     "varRefreshCmd": "cat(var_dic_list()) "
    }
   },
   "types_to_exclude": [
    "module",
    "function",
    "builtin_function_or_method",
    "instance",
    "_Feature"
   ],
   "window_display": false
  }
 },
 "nbformat": 4,
 "nbformat_minor": 2
}
