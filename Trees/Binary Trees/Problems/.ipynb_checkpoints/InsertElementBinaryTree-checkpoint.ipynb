{
 "cells": [
  {
   "cell_type": "markdown",
   "metadata": {},
   "source": [
    "# Problem: Insert node in a binary tree.\n",
    "\n",
    "Algorithm: \n",
    "\n",
    "1. Perform any kind of traversal(InOrder, PreOrder, InOrder, LevelOrder)\n",
    "2. Check for each node if left or right node is empty\n",
    "3. Insert the node in empty space.\n",
    "\n",
    "Time Complexity: O(n)\n",
    "Space Complexity: O(n)\n",
    "\n"
   ]
  },
  {
   "cell_type": "code",
   "execution_count": 1,
   "metadata": {},
   "outputs": [],
   "source": [
    "from collections import deque\n",
    "\n",
    "def insertBinaryTree(new_node, root):\n",
    "    # I am doing inorder traversal to review my concepts\n",
    "    if root is None:\n",
    "        root= new_node\n",
    "        \n",
    "    else:\n",
    "        \n",
    "        node = root\n",
    "        stack = deque()\n",
    "        while node or stack:\n",
    "            if node:\n",
    "                stack.append(node)\n",
    "                node = node.getLeft()\n",
    "            else:\n",
    "                element = stack.pop()\n",
    "                if element.getLeft() is None:\n",
    "                    element.setLeft(new_node)\n",
    "                    break\n",
    "                if element.getRight():\n",
    "                    node = element.getRight()\n",
    "                    \n",
    "    return root"
   ]
  },
  {
   "cell_type": "code",
   "execution_count": 2,
   "metadata": {},
   "outputs": [],
   "source": [
    "class TreeNode:\n",
    "    def __init__(self, data, left=None, right=None):\n",
    "        self.data = data\n",
    "        self.left = left\n",
    "        self.right = right\n",
    "\n",
    "    def getData(self):\n",
    "        return self.data\n",
    "\n",
    "    def setData(self, data):\n",
    "        self.data = data\n",
    "\n",
    "    def getLeft(self):\n",
    "        return self.left\n",
    "\n",
    "    def getRight(self):\n",
    "        return self.right\n",
    "\n",
    "    def setLeft(self, left):\n",
    "        self.left = left\n",
    "\n",
    "    def setRight(self, right):\n",
    "        self.right = right"
   ]
  },
  {
   "cell_type": "code",
   "execution_count": 3,
   "metadata": {},
   "outputs": [],
   "source": [
    "a = TreeNode(20)\n",
    "b = TreeNode(2)\n",
    "c = TreeNode(3)\n",
    "a.setLeft(b)\n",
    "a.setRight(c)\n",
    "\n",
    "d = TreeNode(4)\n",
    "e = TreeNode(5)\n",
    "x = TreeNode(8)\n",
    "y = TreeNode(9)\n",
    "\n",
    "e.setLeft(x)\n",
    "\n",
    "\n",
    "b.setLeft(d)\n",
    "b.setRight(e)\n",
    "\n",
    "f = TreeNode(6)\n",
    "g = TreeNode(7)\n",
    "\n",
    "f.setRight(y)\n",
    "c.setLeft(f)\n",
    "c.setRight(g)\n",
    "\n"
   ]
  },
  {
   "cell_type": "code",
   "execution_count": 4,
   "metadata": {},
   "outputs": [
    {
     "name": "stdout",
     "output_type": "stream",
     "text": [
      "Data:  20\n",
      "Data:  2\n",
      "Data:  3\n",
      "Data:  4\n",
      "Data:  5\n",
      "Data:  6\n",
      "Data:  7\n",
      "Data:  8\n",
      "Data:  9\n"
     ]
    }
   ],
   "source": [
    "from collections import deque\n",
    "\n",
    "def levelOrderTraversal(root):\n",
    "    \n",
    "    if root is None:\n",
    "        raise ValueError(\"Input is Empty!\")\n",
    "        \n",
    "    queue = deque()\n",
    "    queue.append(root)\n",
    "    \n",
    "    while queue:\n",
    "        element = queue.popleft()\n",
    "        print(\"Data: \", element.getData())\n",
    "        if element.getLeft():\n",
    "            queue.append(element.getLeft())\n",
    "            \n",
    "        if element.getRight():\n",
    "            queue.append(element.getRight())\n",
    "            \n",
    "levelOrderTraversal(a)"
   ]
  },
  {
   "cell_type": "code",
   "execution_count": 5,
   "metadata": {},
   "outputs": [
    {
     "name": "stdout",
     "output_type": "stream",
     "text": [
      "Data:  20\n",
      "Data:  2\n",
      "Data:  3\n",
      "Data:  4\n",
      "Data:  5\n",
      "Data:  6\n",
      "Data:  7\n",
      "Data:  100\n",
      "Data:  8\n",
      "Data:  9\n"
     ]
    }
   ],
   "source": [
    "new_node = TreeNode(100)\n",
    "insertBinaryTree(new_node, a)\n",
    "\n",
    "levelOrderTraversal(a)"
   ]
  },
  {
   "cell_type": "code",
   "execution_count": null,
   "metadata": {},
   "outputs": [],
   "source": []
  }
 ],
 "metadata": {
  "kernelspec": {
   "display_name": "Python 3",
   "language": "python",
   "name": "python3"
  },
  "language_info": {
   "codemirror_mode": {
    "name": "ipython",
    "version": 3
   },
   "file_extension": ".py",
   "mimetype": "text/x-python",
   "name": "python",
   "nbconvert_exporter": "python",
   "pygments_lexer": "ipython3",
   "version": "3.7.2"
  },
  "varInspector": {
   "cols": {
    "lenName": 16,
    "lenType": 16,
    "lenVar": 40
   },
   "kernels_config": {
    "python": {
     "delete_cmd_postfix": "",
     "delete_cmd_prefix": "del ",
     "library": "var_list.py",
     "varRefreshCmd": "print(var_dic_list())"
    },
    "r": {
     "delete_cmd_postfix": ") ",
     "delete_cmd_prefix": "rm(",
     "library": "var_list.r",
     "varRefreshCmd": "cat(var_dic_list()) "
    }
   },
   "types_to_exclude": [
    "module",
    "function",
    "builtin_function_or_method",
    "instance",
    "_Feature"
   ],
   "window_display": false
  }
 },
 "nbformat": 4,
 "nbformat_minor": 2
}
