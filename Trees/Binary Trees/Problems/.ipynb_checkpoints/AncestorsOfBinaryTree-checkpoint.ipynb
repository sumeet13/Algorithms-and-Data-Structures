{
 "cells": [
  {
   "cell_type": "markdown",
   "metadata": {},
   "source": [
    "# Problem : Print all ancestors of binary tree.\n",
    "\n",
    "Algorithm:\n",
    "\n",
    "1. Check if root or node is None, if yes, return False\n",
    "2. Append the ancestor list with the root\n",
    "3. If the root equals node return True to the calling function\n",
    "4. Check the left and right subtree for node recursively\n",
    "5. If found return true else pop the node from the list and return False.\\\n",
    "\n",
    "Time Complexity: O(n)\n",
    "Space Complexity: O(n^2)"
   ]
  },
  {
   "cell_type": "code",
   "execution_count": 1,
   "metadata": {},
   "outputs": [],
   "source": [
    "def findAllAncestors(root, node, ancestors):\n",
    "\n",
    "    if root is None or node is None:\n",
    "        return False\n",
    "\n",
    "    ancestors.append(root.getData())\n",
    "\n",
    "    if root.getData() == node:\n",
    "        return True\n",
    "\n",
    "    if (findAllAncestors(root.getLeft(), node, ancestors)\n",
    "            or findAllAncestors(root.getRight(), node, ancestors)):\n",
    "        return True\n",
    "\n",
    "    ancestors.pop()\n",
    "    return False"
   ]
  },
  {
   "cell_type": "code",
   "execution_count": 2,
   "metadata": {},
   "outputs": [],
   "source": [
    "class TreeNode:\n",
    "    def __init__(self, data, left=None, right=None):\n",
    "        self.data = data\n",
    "        self.left = left\n",
    "        self.right = right\n",
    "\n",
    "    def getData(self):\n",
    "        return self.data\n",
    "\n",
    "    def setData(self, data):\n",
    "        self.data = data\n",
    "\n",
    "    def getLeft(self):\n",
    "        return self.left\n",
    "\n",
    "    def getRight(self):\n",
    "        return self.right\n",
    "\n",
    "    def setLeft(self, left):\n",
    "        self.left = left\n",
    "\n",
    "    def setRight(self, right):\n",
    "        self.right = right\n",
    "\n",
    "\n",
    "a = TreeNode(1)\n",
    "b = TreeNode(2)\n",
    "c = TreeNode(3)\n",
    "a.setLeft(b)\n",
    "a.setRight(c)\n",
    "\n",
    "d = TreeNode(4)\n",
    "e = TreeNode(5)\n",
    "x = TreeNode(8)\n",
    "y = TreeNode(9)\n",
    "\n",
    "e.setLeft(x)\n",
    "\n",
    "b.setLeft(d)\n",
    "b.setRight(e)\n",
    "\n",
    "f = TreeNode(6)\n",
    "g = TreeNode(7)\n",
    "\n",
    "f.setRight(y)\n",
    "c.setLeft(f)\n",
    "c.setRight(g)"
   ]
  },
  {
   "cell_type": "code",
   "execution_count": 3,
   "metadata": {},
   "outputs": [
    {
     "name": "stdout",
     "output_type": "stream",
     "text": [
      "[1, 3, 6, 9]\n"
     ]
    }
   ],
   "source": [
    "ans = []\n",
    "findAllAncestors(a, 9, ans)\n",
    "print(ans)"
   ]
  },
  {
   "cell_type": "markdown",
   "metadata": {},
   "source": [
    "# Alternative way of solving the problem"
   ]
  },
  {
   "cell_type": "code",
   "execution_count": 4,
   "metadata": {},
   "outputs": [
    {
     "name": "stdout",
     "output_type": "stream",
     "text": [
      "9\n",
      "6\n",
      "3\n",
      "1\n"
     ]
    },
    {
     "data": {
      "text/plain": [
       "True"
      ]
     },
     "execution_count": 4,
     "metadata": {},
     "output_type": "execute_result"
    }
   ],
   "source": [
    "def printAllAncestors(root, node):\n",
    "\n",
    "    if root is None or node is None:\n",
    "        return False\n",
    "    \n",
    "    \n",
    "    if ((root.getData() == node)\n",
    "            or printAllAncestors(root.getLeft(), node)\n",
    "            or printAllAncestors(root.getRight(), node)):\n",
    "        print(root.getData())\n",
    "        return True\n",
    "\n",
    "    return False\n",
    "printAllAncestors(a,9)"
   ]
  },
  {
   "cell_type": "markdown",
   "metadata": {},
   "source": [
    "# Solution without recursion.\n",
    "\n",
    "Use postorder traversal to solve this problem.\n",
    "\n"
   ]
  },
  {
   "cell_type": "code",
   "execution_count": 5,
   "metadata": {},
   "outputs": [
    {
     "name": "stdout",
     "output_type": "stream",
     "text": [
      "1\n",
      "3\n",
      "6\n",
      "9\n"
     ]
    }
   ],
   "source": [
    "def findAncestorsIteratively(root, target):\n",
    "\n",
    "    if root is None or target is None:\n",
    "        return False\n",
    "\n",
    "    stack = []\n",
    "    node = root\n",
    "    prev_right = None\n",
    "    while node or stack:\n",
    "\n",
    "        if node:\n",
    "            stack.append(node)\n",
    "            node = node.getLeft()\n",
    "            \n",
    "        else:\n",
    "            element = stack[-1]\n",
    "            \n",
    "            if element.getData() == target:\n",
    "                break\n",
    "           \n",
    "            if element.getRight() and prev_right!=element.getRight():\n",
    "                prev_right= node = element.getRight()\n",
    "                \n",
    "            else:\n",
    "                stack.pop()\n",
    "                \n",
    "    for i in stack:\n",
    "        print(i.getData())\n",
    "                \n",
    "                \n",
    "findAncestorsIteratively(a,9)"
   ]
  }
 ],
 "metadata": {
  "kernelspec": {
   "display_name": "Python 3",
   "language": "python",
   "name": "python3"
  },
  "language_info": {
   "codemirror_mode": {
    "name": "ipython",
    "version": 3
   },
   "file_extension": ".py",
   "mimetype": "text/x-python",
   "name": "python",
   "nbconvert_exporter": "python",
   "pygments_lexer": "ipython3",
   "version": "3.7.2"
  },
  "varInspector": {
   "cols": {
    "lenName": 16,
    "lenType": 16,
    "lenVar": 40
   },
   "kernels_config": {
    "python": {
     "delete_cmd_postfix": "",
     "delete_cmd_prefix": "del ",
     "library": "var_list.py",
     "varRefreshCmd": "print(var_dic_list())"
    },
    "r": {
     "delete_cmd_postfix": ") ",
     "delete_cmd_prefix": "rm(",
     "library": "var_list.r",
     "varRefreshCmd": "cat(var_dic_list()) "
    }
   },
   "types_to_exclude": [
    "module",
    "function",
    "builtin_function_or_method",
    "instance",
    "_Feature"
   ],
   "window_display": false
  }
 },
 "nbformat": 4,
 "nbformat_minor": 2
}
