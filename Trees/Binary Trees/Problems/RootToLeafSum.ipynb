{
 "cells": [
  {
   "cell_type": "markdown",
   "metadata": {},
   "source": [
    "# Problem : Find the total sum of all root to leaf numbers\n",
    "\n",
    "\n",
    "Problem Definition: Given a binary tree, each node represents a number from 0-9. Return the sum of each root to leaf path. \n",
    "\n",
    "We would use recursive post order traversal to solve this problem.\n",
    "\n",
    "Algorithm:\n",
    "\n",
    "1. Do a recursive post order traversal\n",
    "2. And store the numbers in a stack.\n",
    "3. If you encounter a leaf node then join the numbers and sum it.\n",
    "4. Return the sum after encountering all the leaf nodes.\n",
    "\n",
    "Time Complexity : O(n^2) <br>\n",
    "Space Complexity : O(n^2)"
   ]
  },
  {
   "cell_type": "code",
   "execution_count": 1,
   "metadata": {},
   "outputs": [],
   "source": [
    "from collections import deque\n",
    "\n",
    "stack = deque()\n",
    "sumLeafPaths = 0\n",
    "\n",
    "def sumOfAllRootToLeaf(root):\n",
    "    global sumLeafPaths\n",
    "    if root is None:\n",
    "        return\n",
    "\n",
    "    stack.append(root.getData())\n",
    "    sumOfAllRootToLeaf(root.getLeft())\n",
    "    sumOfAllRootToLeaf(root.getRight())\n",
    "\n",
    "    if root.getLeft() == None and root.getRight() == None:\n",
    "        temp = ''.join(str(i) for i in stack)\n",
    "        sumLeafPaths += int(temp)\n",
    "\n",
    "    stack.pop()\n",
    "    return sumLeafPaths"
   ]
  },
  {
   "cell_type": "code",
   "execution_count": 2,
   "metadata": {},
   "outputs": [],
   "source": [
    "class TreeNode:\n",
    "    def __init__(self, data, left=None, right=None):\n",
    "        self.data = data\n",
    "        self.left = left\n",
    "        self.right = right\n",
    "\n",
    "    def getData(self):\n",
    "        return self.data\n",
    "\n",
    "    def setData(self, data):\n",
    "        self.data = data\n",
    "\n",
    "    def getLeft(self):\n",
    "        return self.left\n",
    "\n",
    "    def getRight(self):\n",
    "        return self.right\n",
    "\n",
    "    def setLeft(self, left):\n",
    "        self.left = left\n",
    "\n",
    "    def setRight(self, right):\n",
    "        self.right = right\n",
    "\n",
    "\n",
    "a = TreeNode(1)\n",
    "b = TreeNode(2)\n",
    "c = TreeNode(3)\n",
    "a.setLeft(b)\n",
    "a.setRight(c)\n",
    "\n",
    "d = TreeNode(4)\n",
    "e = TreeNode(5)\n",
    "x = TreeNode(8)\n",
    "y = TreeNode(9)\n",
    "\n",
    "e.setLeft(x)\n",
    "\n",
    "b.setLeft(d)\n",
    "b.setRight(e)\n",
    "\n",
    "f = TreeNode(6)\n",
    "g = TreeNode(7)\n",
    "\n",
    "f.setRight(y)\n",
    "c.setLeft(f)\n",
    "c.setRight(g)"
   ]
  },
  {
   "cell_type": "code",
   "execution_count": 3,
   "metadata": {},
   "outputs": [
    {
     "data": {
      "text/plain": [
       "2888"
      ]
     },
     "execution_count": 3,
     "metadata": {},
     "output_type": "execute_result"
    }
   ],
   "source": [
    "sumOfAllRootToLeaf(a)"
   ]
  },
  {
   "cell_type": "markdown",
   "metadata": {},
   "source": [
    "# Another Approach: This can be solved using preorder traversal\n",
    "\n",
    "Algorithm:\n",
    "\n",
    "1. Do preorder traversal recursively\n",
    "2. Check multiply the current sum with 10 \n",
    "3. add it to the main sum if the root does not have leaf nodes\n",
    "\n",
    "Time Complexity : O(n)\n",
    "Space Complexity : O(n)"
   ]
  },
  {
   "cell_type": "code",
   "execution_count": 4,
   "metadata": {},
   "outputs": [
    {
     "data": {
      "text/plain": [
       "2888"
      ]
     },
     "execution_count": 4,
     "metadata": {},
     "output_type": "execute_result"
    }
   ],
   "source": [
    "\n",
    "total = 0\n",
    "\n",
    "def calAllLeafSum(root,current):\n",
    "    global  total\n",
    "    if root is None:\n",
    "        return\n",
    "\n",
    "    current = current * 10 + root.getData()\n",
    "    if root.getLeft() == None and root.getRight() == None:\n",
    "        total += current\n",
    "        \n",
    "    calAllLeafSum(root.getLeft(), current)\n",
    "    calAllLeafSum(root.getRight(),current)\n",
    "    \n",
    "    return total\n",
    "\n",
    "def rootLeafSumPreorder(root):\n",
    "    return calAllLeafSum(root,0)\n",
    "    \n",
    "rootLeafSumPreorder(a)"
   ]
  },
  {
   "cell_type": "code",
   "execution_count": null,
   "metadata": {},
   "outputs": [],
   "source": []
  }
 ],
 "metadata": {
  "kernelspec": {
   "display_name": "Python 3",
   "language": "python",
   "name": "python3"
  },
  "language_info": {
   "codemirror_mode": {
    "name": "ipython",
    "version": 3
   },
   "file_extension": ".py",
   "mimetype": "text/x-python",
   "name": "python",
   "nbconvert_exporter": "python",
   "pygments_lexer": "ipython3",
   "version": "3.7.2"
  },
  "varInspector": {
   "cols": {
    "lenName": 16,
    "lenType": 16,
    "lenVar": 40
   },
   "kernels_config": {
    "python": {
     "delete_cmd_postfix": "",
     "delete_cmd_prefix": "del ",
     "library": "var_list.py",
     "varRefreshCmd": "print(var_dic_list())"
    },
    "r": {
     "delete_cmd_postfix": ") ",
     "delete_cmd_prefix": "rm(",
     "library": "var_list.r",
     "varRefreshCmd": "cat(var_dic_list()) "
    }
   },
   "types_to_exclude": [
    "module",
    "function",
    "builtin_function_or_method",
    "instance",
    "_Feature"
   ],
   "window_display": false
  }
 },
 "nbformat": 4,
 "nbformat_minor": 2
}
