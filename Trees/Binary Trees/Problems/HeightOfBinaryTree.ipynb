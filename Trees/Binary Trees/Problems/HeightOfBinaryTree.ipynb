{
 "cells": [
  {
   "cell_type": "markdown",
   "metadata": {},
   "source": [
    "# Problem: Find height or depth of binary tree\n",
    "\n",
    "I would try to solve this recursively.\n",
    "\n",
    "Algorithm:\n",
    "\n",
    "1. Find the height of left subtree and right subtree.\n",
    "2. Take max height of both."
   ]
  },
  {
   "cell_type": "code",
   "execution_count": 1,
   "metadata": {},
   "outputs": [],
   "source": [
    "def findHeightRecursively(root):\n",
    "\n",
    "    if root is None:\n",
    "        return 0\n",
    "\n",
    "    return max(findHeightRecursively(root.left), findHeightRecursively(root.right)) + 1"
   ]
  },
  {
   "cell_type": "code",
   "execution_count": 2,
   "metadata": {},
   "outputs": [],
   "source": [
    "class TreeNode:\n",
    "    def __init__(self, data, left=None, right=None):\n",
    "        self.data = data\n",
    "        self.left = left\n",
    "        self.right = right\n",
    "\n",
    "    def getData(self):\n",
    "        return self.data\n",
    "\n",
    "    def setData(self, data):\n",
    "        self.data = data\n",
    "\n",
    "    def getLeft(self):\n",
    "        return self.left\n",
    "\n",
    "    def getRight(self):\n",
    "        return self.right\n",
    "\n",
    "    def setLeft(self, left):\n",
    "        self.left = left\n",
    "\n",
    "    def setRight(self, right):\n",
    "        self.right = right\n",
    "\n",
    "\n",
    "a = TreeNode(20)\n",
    "b = TreeNode(2)\n",
    "c = TreeNode(3)\n",
    "a.setLeft(b)\n",
    "a.setRight(c)\n",
    "\n",
    "d = TreeNode(4)\n",
    "e = TreeNode(5)\n",
    "x = TreeNode(8)\n",
    "y = TreeNode(9)\n",
    "\n",
    "e.setLeft(x)\n",
    "\n",
    "b.setLeft(d)\n",
    "b.setRight(e)\n",
    "\n",
    "f = TreeNode(6)\n",
    "g = TreeNode(7)\n",
    "\n",
    "f.setRight(y)\n",
    "c.setLeft(f)\n",
    "c.setRight(g)"
   ]
  },
  {
   "cell_type": "code",
   "execution_count": 3,
   "metadata": {},
   "outputs": [
    {
     "data": {
      "text/plain": [
       "4"
      ]
     },
     "execution_count": 3,
     "metadata": {},
     "output_type": "execute_result"
    }
   ],
   "source": [
    "findHeightRecursively(a)"
   ]
  },
  {
   "cell_type": "markdown",
   "metadata": {},
   "source": [
    "# This can also be solved non-recursively using level order traversal\n",
    "\n",
    "Algorithm:\n",
    "\n",
    "1. Add none while adding every level.\n",
    "2. Count the number of none values.\n",
    "3. Return count +1 considering root."
   ]
  },
  {
   "cell_type": "code",
   "execution_count": 4,
   "metadata": {},
   "outputs": [],
   "source": [
    "from collections import deque\n",
    "\n",
    "\n",
    "def findHeightOfBinaryTree(root):\n",
    "\n",
    "    if root is None:\n",
    "        return 0\n",
    "\n",
    "    queue = deque()\n",
    "    queue.append(root)\n",
    "    queue.append(None)\n",
    "    count = 1\n",
    "    while queue:\n",
    "\n",
    "        element = queue.popleft()\n",
    "\n",
    "        if element != None and element.getLeft():\n",
    "            queue.append(element.getLeft())\n",
    "\n",
    "        if element != None and element.getRight():\n",
    "            queue.append(element.getRight())\n",
    "\n",
    "        if element is None and queue:\n",
    "            count = count + 1\n",
    "            queue.append(None)\n",
    "\n",
    "    return count"
   ]
  },
  {
   "cell_type": "code",
   "execution_count": 5,
   "metadata": {},
   "outputs": [
    {
     "data": {
      "text/plain": [
       "4"
      ]
     },
     "execution_count": 5,
     "metadata": {},
     "output_type": "execute_result"
    }
   ],
   "source": [
    "findHeightOfBinaryTree(a)"
   ]
  },
  {
   "cell_type": "markdown",
   "metadata": {},
   "source": [
    "# Another method of solving\n",
    "\n",
    "Algorithm:\n",
    "\n",
    "1. Define a queue that takes an array of node and depth\n",
    "2. Declare a temp variable that stores max of the temp and depth.\n",
    "3. For node, check if left or right child exists.\n",
    "4. If yes, then store it in the queue with current depth +1\n",
    "5. Return the temp variable.\n",
    "\n",
    "Time Complexity : O(n) <br>\n",
    "Space Complexity : O(n)\n"
   ]
  },
  {
   "cell_type": "code",
   "execution_count": 6,
   "metadata": {},
   "outputs": [
    {
     "data": {
      "text/plain": [
       "4"
      ]
     },
     "execution_count": 6,
     "metadata": {},
     "output_type": "execute_result"
    }
   ],
   "source": [
    "from collections import deque\n",
    "\n",
    "def findMaxDepth(root):\n",
    "    \n",
    "    if root is None:\n",
    "        return 0\n",
    "    \n",
    "    queue = deque()\n",
    "    queue.append([root,1])\n",
    "    maxDepth = 0\n",
    "    \n",
    "    while queue:\n",
    "        \n",
    "        node, depth = queue.popleft()\n",
    "        maxDepth = max(maxDepth,depth)\n",
    "        \n",
    "        if node.getLeft():\n",
    "            queue.append([node.getLeft(), depth+1])\n",
    "            \n",
    "        if node.getRight():\n",
    "            queue.append([node.getRight(), depth+1])\n",
    "            \n",
    "    return maxDepth\n",
    "            \n",
    "findMaxDepth(a)      "
   ]
  }
 ],
 "metadata": {
  "kernelspec": {
   "display_name": "Python 3",
   "language": "python",
   "name": "python3"
  },
  "language_info": {
   "codemirror_mode": {
    "name": "ipython",
    "version": 3
   },
   "file_extension": ".py",
   "mimetype": "text/x-python",
   "name": "python",
   "nbconvert_exporter": "python",
   "pygments_lexer": "ipython3",
   "version": "3.7.2"
  },
  "varInspector": {
   "cols": {
    "lenName": 16,
    "lenType": 16,
    "lenVar": 40
   },
   "kernels_config": {
    "python": {
     "delete_cmd_postfix": "",
     "delete_cmd_prefix": "del ",
     "library": "var_list.py",
     "varRefreshCmd": "print(var_dic_list())"
    },
    "r": {
     "delete_cmd_postfix": ") ",
     "delete_cmd_prefix": "rm(",
     "library": "var_list.r",
     "varRefreshCmd": "cat(var_dic_list()) "
    }
   },
   "types_to_exclude": [
    "module",
    "function",
    "builtin_function_or_method",
    "instance",
    "_Feature"
   ],
   "window_display": false
  }
 },
 "nbformat": 4,
 "nbformat_minor": 2
}
