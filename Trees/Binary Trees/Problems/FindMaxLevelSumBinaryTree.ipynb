{
 "cells": [
  {
   "cell_type": "markdown",
   "metadata": {},
   "source": [
    "# Problem: Find maximum sum of level of binary tree\n",
    "\n",
    "Algorithm:\n",
    "\n",
    "1. Declare a queue and separate each level with a None.\n",
    "2. When encounter None check the max sum.\n",
    "3. Return it."
   ]
  },
  {
   "cell_type": "code",
   "execution_count": 1,
   "metadata": {},
   "outputs": [],
   "source": [
    "from collections import deque\n",
    "\n",
    "\n",
    "def findMaxLevelSumBinaryTree(root):\n",
    "\n",
    "    if root is None:\n",
    "        return 0\n",
    "\n",
    "    queue = deque()\n",
    "    queue.append(root)\n",
    "    queue.append(None)\n",
    "    maxSum = 0\n",
    "    levelSum = 0\n",
    "\n",
    "    while queue:\n",
    "\n",
    "        node = queue.popleft()\n",
    "        if node:\n",
    "            levelSum += node.getData()\n",
    "\n",
    "        if node and node.getLeft():\n",
    "            queue.append(node.getLeft())\n",
    "\n",
    "        if node and node.getRight():\n",
    "            queue.append(node.getRight())\n",
    "\n",
    "        if queue and node == None:\n",
    "            queue.append(None)\n",
    "            maxSum = max(maxSum, levelSum)\n",
    "            levelSum = 0\n",
    "            \n",
    "    return maxSum"
   ]
  },
  {
   "cell_type": "code",
   "execution_count": 2,
   "metadata": {},
   "outputs": [],
   "source": [
    "class TreeNode:\n",
    "    def __init__(self, data, left=None, right=None):\n",
    "        self.data = data\n",
    "        self.left = left\n",
    "        self.right = right\n",
    "\n",
    "    def getData(self):\n",
    "        return self.data\n",
    "\n",
    "    def setData(self, data):\n",
    "        self.data = data\n",
    "\n",
    "    def getLeft(self):\n",
    "        return self.left\n",
    "\n",
    "    def getRight(self):\n",
    "        return self.right\n",
    "\n",
    "    def setLeft(self, left):\n",
    "        self.left = left\n",
    "\n",
    "    def setRight(self, right):\n",
    "        self.right = right\n",
    "\n",
    "\n",
    "a = TreeNode(20)\n",
    "b = TreeNode(2)\n",
    "c = TreeNode(3)\n",
    "a.setLeft(b)\n",
    "a.setRight(c)\n",
    "\n",
    "d = TreeNode(4)\n",
    "e = TreeNode(5)\n",
    "x = TreeNode(8)\n",
    "y = TreeNode(9)\n",
    "\n",
    "e.setLeft(x)\n",
    "\n",
    "b.setLeft(d)\n",
    "b.setRight(e)\n",
    "\n",
    "f = TreeNode(6)\n",
    "g = TreeNode(7)\n",
    "\n",
    "f.setRight(y)\n",
    "c.setLeft(f)\n",
    "c.setRight(g)"
   ]
  },
  {
   "cell_type": "code",
   "execution_count": 3,
   "metadata": {},
   "outputs": [
    {
     "data": {
      "text/plain": [
       "22"
      ]
     },
     "execution_count": 3,
     "metadata": {},
     "output_type": "execute_result"
    }
   ],
   "source": [
    "findMaxLevelSumBinaryTree(a)"
   ]
  }
 ],
 "metadata": {
  "kernelspec": {
   "display_name": "Python 3",
   "language": "python",
   "name": "python3"
  },
  "language_info": {
   "codemirror_mode": {
    "name": "ipython",
    "version": 3
   },
   "file_extension": ".py",
   "mimetype": "text/x-python",
   "name": "python",
   "nbconvert_exporter": "python",
   "pygments_lexer": "ipython3",
   "version": "3.7.2"
  },
  "varInspector": {
   "cols": {
    "lenName": 16,
    "lenType": 16,
    "lenVar": 40
   },
   "kernels_config": {
    "python": {
     "delete_cmd_postfix": "",
     "delete_cmd_prefix": "del ",
     "library": "var_list.py",
     "varRefreshCmd": "print(var_dic_list())"
    },
    "r": {
     "delete_cmd_postfix": ") ",
     "delete_cmd_prefix": "rm(",
     "library": "var_list.r",
     "varRefreshCmd": "cat(var_dic_list()) "
    }
   },
   "types_to_exclude": [
    "module",
    "function",
    "builtin_function_or_method",
    "instance",
    "_Feature"
   ],
   "window_display": false
  }
 },
 "nbformat": 4,
 "nbformat_minor": 2
}
