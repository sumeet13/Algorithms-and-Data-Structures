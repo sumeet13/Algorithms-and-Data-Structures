{
 "cells": [
  {
   "cell_type": "markdown",
   "metadata": {},
   "source": [
    "# Problem : Check if path exists in binary tree given sum\n",
    "\n",
    "For this problem, we would check that after we explore all leaves does the sum becomes 0.\n",
    "\n",
    "Algorithm:\n",
    "\n",
    "1. Check if the root is null, if yes return false\n",
    "2. Check if the root is a tree node, if yes add it to the result list and return true\n",
    "3. Call the function recursively on the left and right of the tree, decreasing the sum by the root data.\n",
    "4. If tree append the result path list.\n",
    "\n",
    "Time Complexity : O(n) <br>\n",
    "Space Complexity : O(n^2) because of n recursive calls and stack of n size incase it is a skew tree.\n"
   ]
  },
  {
   "cell_type": "code",
   "execution_count": 1,
   "metadata": {},
   "outputs": [],
   "source": [
    "def checkIfPathExists(root, pathSum, paths):\n",
    "\n",
    "    if root is None:\n",
    "        return False\n",
    "\n",
    "    if root.getLeft() == None and root.getRight() == None:\n",
    "        if pathSum == root.getData():\n",
    "            paths.append(root.getData())\n",
    "            return True\n",
    "        else:\n",
    "            return False\n",
    "\n",
    "    if checkIfPathExists(root.getLeft(), pathSum - root.getData(), paths):\n",
    "        paths.append(root.getData())\n",
    "        return True\n",
    "\n",
    "    if checkIfPathExists(root.getRight(), pathSum - root.getData(), paths):\n",
    "        paths.append(root.getData())\n",
    "        return True\n",
    "\n",
    "    return False\n",
    "\n",
    "\n",
    "def pathFinder(root, total):\n",
    "    paths = []\n",
    "    checkIfPathExists(root, total, paths)\n",
    "    \n",
    "    if len(paths) == 0:\n",
    "        print(\"There is no path in the binary tree whose sum equals given sum\")\n",
    "        \n",
    "    else:\n",
    "        print(\"There is a path in the binary tree whose sum equals given sum\")\n",
    "        print(\"Path is: \", paths)"
   ]
  },
  {
   "cell_type": "code",
   "execution_count": 2,
   "metadata": {},
   "outputs": [],
   "source": [
    "class TreeNode:\n",
    "    def __init__(self, data, left=None, right=None):\n",
    "        self.data = data\n",
    "        self.left = left\n",
    "        self.right = right\n",
    "\n",
    "    def getData(self):\n",
    "        return self.data\n",
    "\n",
    "    def setData(self, data):\n",
    "        self.data = data\n",
    "\n",
    "    def getLeft(self):\n",
    "        return self.left\n",
    "\n",
    "    def getRight(self):\n",
    "        return self.right\n",
    "\n",
    "    def setLeft(self, left):\n",
    "        self.left = left\n",
    "\n",
    "    def setRight(self, right):\n",
    "        self.right = right\n",
    "\n",
    "\n",
    "a = TreeNode(1)\n",
    "b = TreeNode(2)\n",
    "c = TreeNode(3)\n",
    "a.setLeft(b)\n",
    "a.setRight(c)\n",
    "\n",
    "d = TreeNode(4)\n",
    "e = TreeNode(5)\n",
    "x = TreeNode(8)\n",
    "y = TreeNode(9)\n",
    "\n",
    "e.setLeft(x)\n",
    "\n",
    "b.setLeft(d)\n",
    "b.setRight(e)\n",
    "\n",
    "f = TreeNode(6)\n",
    "g = TreeNode(7)\n",
    "\n",
    "f.setRight(y)\n",
    "c.setLeft(f)\n",
    "c.setRight(g)"
   ]
  },
  {
   "cell_type": "code",
   "execution_count": 3,
   "metadata": {},
   "outputs": [
    {
     "name": "stdout",
     "output_type": "stream",
     "text": [
      "There is a path in the binary tree whose sum equals given sum\n",
      "Path is:  [7, 3, 1]\n"
     ]
    }
   ],
   "source": [
    "pathFinder(a, 11)"
   ]
  }
 ],
 "metadata": {
  "kernelspec": {
   "display_name": "Python 3",
   "language": "python",
   "name": "python3"
  },
  "language_info": {
   "codemirror_mode": {
    "name": "ipython",
    "version": 3
   },
   "file_extension": ".py",
   "mimetype": "text/x-python",
   "name": "python",
   "nbconvert_exporter": "python",
   "pygments_lexer": "ipython3",
   "version": "3.7.2"
  },
  "varInspector": {
   "cols": {
    "lenName": 16,
    "lenType": 16,
    "lenVar": 40
   },
   "kernels_config": {
    "python": {
     "delete_cmd_postfix": "",
     "delete_cmd_prefix": "del ",
     "library": "var_list.py",
     "varRefreshCmd": "print(var_dic_list())"
    },
    "r": {
     "delete_cmd_postfix": ") ",
     "delete_cmd_prefix": "rm(",
     "library": "var_list.r",
     "varRefreshCmd": "cat(var_dic_list()) "
    }
   },
   "types_to_exclude": [
    "module",
    "function",
    "builtin_function_or_method",
    "instance",
    "_Feature"
   ],
   "window_display": false
  }
 },
 "nbformat": 4,
 "nbformat_minor": 2
}
