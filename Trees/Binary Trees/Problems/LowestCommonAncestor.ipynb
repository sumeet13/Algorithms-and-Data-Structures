{
 "cells": [
  {
   "cell_type": "markdown",
   "metadata": {},
   "source": [
    "# Problem: Find lowest common ancestor of binary tree.\n",
    "\n",
    "Definition: Lowest common ancestor of two nodes of the same binary tree would be the lowest node with which both the nodes would be hanging.\n",
    "\n",
    "Algorithm:\n",
    "\n",
    "1. First find the ancestor list of both the nodes.\n",
    "2. Store them in any array\n",
    "3. If both the array are equal then return the last element of the array\n",
    "4. Else find the minimum length of array and check where the elements become unequal and return the previous element of that.\n",
    "\n",
    "Time Complexity : O(n) <br>\n",
    "Space Complexity : O(n) + O(n) ~ O(n)"
   ]
  },
  {
   "cell_type": "code",
   "execution_count": 1,
   "metadata": {},
   "outputs": [],
   "source": [
    "def findPath(root, node, path):\n",
    "\n",
    "    if root is None or node is None:\n",
    "        return False\n",
    "\n",
    "    path.append(root.getData())\n",
    "\n",
    "    if root.getData() == node:\n",
    "        return True\n",
    "\n",
    "    if ((root.getLeft() != None and findPath(root.getLeft(), node, path)) or\n",
    "        (root.getRight() != None and findPath(root.getRight(), node, path))):\n",
    "        return True\n",
    "\n",
    "    path.pop()\n",
    "    return False\n",
    "\n",
    "\n",
    "def lowestCommonAncestor(root, alpha, beta):\n",
    "\n",
    "    path1, path2 = [], []\n",
    "\n",
    "    if root == None and alpha is None and beta is None:\n",
    "        return False\n",
    "    findPath(root, alpha, path1)\n",
    "    findPath(root, beta, path2)\n",
    "    # pop the elements and check until the elements become equal.\n",
    "    print(\"Path for node 1\", path1)\n",
    "    print(\"Path for node 1\", path2)\n",
    "\n",
    "    if path1 == path2:\n",
    "        return path1[-1]\n",
    "\n",
    "    min_length = min(len(path1), len(path2))\n",
    "    \n",
    "    for i in range(min_length):\n",
    "        if path1[i] != path2[i]:\n",
    "            return path1[i - 1]\n",
    "\n",
    "    return \"LCA does not exist because one of the node is not in tree\""
   ]
  },
  {
   "cell_type": "code",
   "execution_count": 2,
   "metadata": {},
   "outputs": [],
   "source": [
    "class TreeNode:\n",
    "    def __init__(self, data, left=None, right=None):\n",
    "        self.data = data\n",
    "        self.left = left\n",
    "        self.right = right\n",
    "\n",
    "    def getData(self):\n",
    "        return self.data\n",
    "\n",
    "    def setData(self, data):\n",
    "        self.data = data\n",
    "\n",
    "    def getLeft(self):\n",
    "        return self.left\n",
    "\n",
    "    def getRight(self):\n",
    "        return self.right\n",
    "\n",
    "    def setLeft(self, left):\n",
    "        self.left = left\n",
    "\n",
    "    def setRight(self, right):\n",
    "        self.right = right\n",
    "\n",
    "\n",
    "a = TreeNode(1)\n",
    "b = TreeNode(2)\n",
    "c = TreeNode(3)\n",
    "a.setLeft(b)\n",
    "a.setRight(c)\n",
    "\n",
    "d = TreeNode(4)\n",
    "e = TreeNode(5)\n",
    "x = TreeNode(8)\n",
    "y = TreeNode(9)\n",
    "\n",
    "e.setLeft(x)\n",
    "\n",
    "b.setLeft(d)\n",
    "b.setRight(e)\n",
    "\n",
    "f = TreeNode(6)\n",
    "g = TreeNode(7)\n",
    "\n",
    "f.setRight(y)\n",
    "c.setLeft(f)\n",
    "c.setRight(g)"
   ]
  },
  {
   "cell_type": "code",
   "execution_count": 3,
   "metadata": {},
   "outputs": [
    {
     "name": "stdout",
     "output_type": "stream",
     "text": [
      "Path for node 1 [1, 3, 6, 9]\n",
      "Path for node 1 [1, 3, 6, 9]\n"
     ]
    },
    {
     "data": {
      "text/plain": [
       "9"
      ]
     },
     "execution_count": 3,
     "metadata": {},
     "output_type": "execute_result"
    }
   ],
   "source": [
    "lowestCommonAncestor(a,9,9)"
   ]
  },
  {
   "cell_type": "markdown",
   "metadata": {},
   "source": [
    "# Alternate Solution:\n",
    "\n",
    "Since, the space complexity of the solution was higher. We can use a dictionary to store the paths.\n",
    "\n",
    "1. Find the path for first node and store it in a dictionary with value as none.\n",
    "2. Find the path for second node and keep storing in the value.\n",
    "3. For any point if the value is None break returning the prev dictionary key.\n",
    "\n"
   ]
  },
  {
   "cell_type": "markdown",
   "metadata": {},
   "source": [
    "# Alternate solution using recursion.\n",
    "\n",
    "We would use postorder traversal to find LCA.\n",
    "\n",
    "Only thing is that it does not take into account whether the node exists or not. It would fail if the node does not exists."
   ]
  },
  {
   "cell_type": "code",
   "execution_count": 4,
   "metadata": {},
   "outputs": [
    {
     "name": "stdout",
     "output_type": "stream",
     "text": [
      "1\n"
     ]
    }
   ],
   "source": [
    "def lowestCommonAncestorRecursion(root, alpha, beta):\n",
    "    \n",
    "    if root is None:\n",
    "        return None\n",
    "    \n",
    "    if root.getData() == alpha or root.getData() == beta:\n",
    "        return root\n",
    "    \n",
    "    left = lowestCommonAncestorRecursion(root.getLeft(), alpha, beta)\n",
    "    right = lowestCommonAncestorRecursion(root.getRight(), alpha, beta)\n",
    "    \n",
    "    if left and right:\n",
    "        return root\n",
    "    \n",
    "    return left if left else right\n",
    "\n",
    "print(lowestCommonAncestorRecursion(a,2,7).getData())"
   ]
  }
 ],
 "metadata": {
  "kernelspec": {
   "display_name": "Python 3",
   "language": "python",
   "name": "python3"
  },
  "language_info": {
   "codemirror_mode": {
    "name": "ipython",
    "version": 3
   },
   "file_extension": ".py",
   "mimetype": "text/x-python",
   "name": "python",
   "nbconvert_exporter": "python",
   "pygments_lexer": "ipython3",
   "version": "3.7.2"
  },
  "varInspector": {
   "cols": {
    "lenName": 16,
    "lenType": 16,
    "lenVar": 40
   },
   "kernels_config": {
    "python": {
     "delete_cmd_postfix": "",
     "delete_cmd_prefix": "del ",
     "library": "var_list.py",
     "varRefreshCmd": "print(var_dic_list())"
    },
    "r": {
     "delete_cmd_postfix": ") ",
     "delete_cmd_prefix": "rm(",
     "library": "var_list.r",
     "varRefreshCmd": "cat(var_dic_list()) "
    }
   },
   "types_to_exclude": [
    "module",
    "function",
    "builtin_function_or_method",
    "instance",
    "_Feature"
   ],
   "window_display": false
  }
 },
 "nbformat": 4,
 "nbformat_minor": 2
}
