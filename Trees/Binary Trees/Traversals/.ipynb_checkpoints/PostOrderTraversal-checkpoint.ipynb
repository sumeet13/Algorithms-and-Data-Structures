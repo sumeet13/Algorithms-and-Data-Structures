{
 "cells": [
  {
   "cell_type": "markdown",
   "metadata": {},
   "source": [
    "# Postorder Traversal:\n",
    "\n",
    "The nodes in which the traversal is done is LRD(Left, Right and Root)\n",
    "\n",
    "There are two ways to do this:\n",
    "\n",
    "# Recursion"
   ]
  },
  {
   "cell_type": "code",
   "execution_count": 1,
   "metadata": {},
   "outputs": [],
   "source": [
    "def postOrderTraversalRecursion(root):\n",
    "    \n",
    "    if root is None:\n",
    "        return\n",
    "    \n",
    "    postOrderTraversalRecursion(root.getLeft())\n",
    "    postOrderTraversalRecursion(root.getRight())\n",
    "    print(root.getData())\n",
    "    \n"
   ]
  },
  {
   "cell_type": "code",
   "execution_count": 2,
   "metadata": {},
   "outputs": [],
   "source": [
    "class TreeNode:\n",
    "    def __init__(self, data, left=None, right=None):\n",
    "        self.data = data\n",
    "        self.left = left\n",
    "        self.right = right\n",
    "\n",
    "    def getData(self):\n",
    "        return self.data\n",
    "\n",
    "    def setData(self, data):\n",
    "        self.data = data\n",
    "\n",
    "    def getLeft(self):\n",
    "        return self.left\n",
    "\n",
    "    def getRight(self):\n",
    "        return self.right\n",
    "\n",
    "    def setLeft(self, left):\n",
    "        self.left = left\n",
    "\n",
    "    def setRight(self, right):\n",
    "        self.right = right\n",
    "\n",
    "\n",
    "def createTree(arr):\n",
    "\n",
    "    if arr is None:\n",
    "        print(\"Array is none\")"
   ]
  },
  {
   "cell_type": "code",
   "execution_count": 3,
   "metadata": {},
   "outputs": [],
   "source": [
    "a = TreeNode(1)\n",
    "b = TreeNode(2)\n",
    "c = TreeNode(3)\n",
    "a.setLeft(b)\n",
    "a.setRight(c)\n",
    "\n",
    "d = TreeNode(4)\n",
    "e = TreeNode(5)\n",
    "x = TreeNode(8)\n",
    "y = TreeNode(9)\n",
    "\n",
    "e.setLeft(x)\n",
    "\n",
    "\n",
    "b.setLeft(d)\n",
    "b.setRight(e)\n",
    "\n",
    "f = TreeNode(6)\n",
    "g = TreeNode(7)\n",
    "\n",
    "f.setRight(y)\n",
    "c.setLeft(f)\n",
    "c.setRight(g)"
   ]
  },
  {
   "cell_type": "code",
   "execution_count": 4,
   "metadata": {},
   "outputs": [
    {
     "name": "stdout",
     "output_type": "stream",
     "text": [
      "4\n",
      "8\n",
      "5\n",
      "2\n",
      "9\n",
      "6\n",
      "7\n",
      "3\n",
      "1\n"
     ]
    }
   ],
   "source": [
    "postOrderTraversalRecursion(a)"
   ]
  },
  {
   "cell_type": "code",
   "execution_count": 5,
   "metadata": {},
   "outputs": [
    {
     "name": "stdout",
     "output_type": "stream",
     "text": [
      "Data:  4\n",
      "Data:  8\n",
      "Data:  5\n",
      "Data:  2\n",
      "Data:  9\n",
      "Data:  6\n",
      "Data:  7\n",
      "Data:  3\n",
      "Data:  1\n"
     ]
    }
   ],
   "source": [
    "from collections import deque\n",
    "\n",
    "\n",
    "def postOrderTraversalIteratively(root):\n",
    "\n",
    "    if root is None:\n",
    "        return \"Tree is Empty!\"\n",
    "\n",
    "    result = \"\"\n",
    "\n",
    "    stack = deque()\n",
    "    node = root\n",
    "    prevRight = None\n",
    "    while node or stack:\n",
    "        \n",
    "        if node:\n",
    "            stack.append(node)\n",
    "            node = node.getLeft()\n",
    "\n",
    "        else:\n",
    "            element = stack[-1]\n",
    "            currentRight = stack[-1].getRight()\n",
    "\n",
    "            if currentRight and prevRight != currentRight:\n",
    "                node = currentRight\n",
    "            else:\n",
    "                stack.pop()\n",
    "                print(\"Data: \", element.getData())\n",
    "\n",
    "            prevRight = element\n",
    "            \n",
    "postOrderTraversalIteratively(a)"
   ]
  },
  {
   "cell_type": "code",
   "execution_count": null,
   "metadata": {},
   "outputs": [],
   "source": []
  }
 ],
 "metadata": {
  "kernelspec": {
   "display_name": "Python 3",
   "language": "python",
   "name": "python3"
  },
  "language_info": {
   "codemirror_mode": {
    "name": "ipython",
    "version": 3
   },
   "file_extension": ".py",
   "mimetype": "text/x-python",
   "name": "python",
   "nbconvert_exporter": "python",
   "pygments_lexer": "ipython3",
   "version": "3.7.2"
  },
  "varInspector": {
   "cols": {
    "lenName": 16,
    "lenType": 16,
    "lenVar": 40
   },
   "kernels_config": {
    "python": {
     "delete_cmd_postfix": "",
     "delete_cmd_prefix": "del ",
     "library": "var_list.py",
     "varRefreshCmd": "print(var_dic_list())"
    },
    "r": {
     "delete_cmd_postfix": ") ",
     "delete_cmd_prefix": "rm(",
     "library": "var_list.r",
     "varRefreshCmd": "cat(var_dic_list()) "
    }
   },
   "types_to_exclude": [
    "module",
    "function",
    "builtin_function_or_method",
    "instance",
    "_Feature"
   ],
   "window_display": false
  }
 },
 "nbformat": 4,
 "nbformat_minor": 2
}
