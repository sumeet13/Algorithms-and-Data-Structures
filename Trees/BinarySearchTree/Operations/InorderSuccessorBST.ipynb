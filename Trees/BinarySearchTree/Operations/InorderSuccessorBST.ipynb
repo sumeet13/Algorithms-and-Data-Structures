{
 "cells": [
  {
   "cell_type": "markdown",
   "metadata": {},
   "source": [
    "# Find Inorder Successor of node in BST\n",
    "\n",
    "Definition:\n",
    "\n",
    "Inorder successor of a node is next node while traversing inorder way.\n",
    "\n",
    "Inorder Successor is the minimum value in the right subtree. If the node does not have a right child, then the inorder Successor does not exists for that node.\n",
    "\n",
    "\n",
    "Time Complexity : O(n) worst case if the tree is a skew tree.\n"
   ]
  },
  {
   "cell_type": "code",
   "execution_count": 1,
   "metadata": {},
   "outputs": [],
   "source": [
    "def findNodeRecursively(root, node):\n",
    "\n",
    "    if root is None or root.getData()==node:\n",
    "        return root\n",
    "\n",
    "    if root.getData() < node:\n",
    "        return findNodeRecursively(root.getRight(), node)\n",
    "\n",
    "    return findNodeRecursively(root.getLeft(), node)\n",
    "\n",
    "\n",
    "\n",
    "\n",
    "def inorderSuccessor(root, node):\n",
    "    \n",
    "    if root==None or node==None:\n",
    "        return\n",
    "    \n",
    "    found = findNodeRecursively(root, node)\n",
    "    \n",
    "    if not found:\n",
    "        return \"Node not found in tree\"\n",
    "    \n",
    "    else:\n",
    "        temp = found.getRight()\n",
    "        \n",
    "        if not temp:\n",
    "            return \"Inorder Successor for the node does not exists.\"\n",
    "        \n",
    "        while temp.getLeft():\n",
    "            temp = temp.getLeft()\n",
    "            \n",
    "        return temp.getData()\n",
    "    "
   ]
  },
  {
   "cell_type": "code",
   "execution_count": 2,
   "metadata": {},
   "outputs": [],
   "source": [
    "class TreeNode:\n",
    "    def __init__(self, data, left=None, right=None):\n",
    "        self.data = data\n",
    "        self.left = left\n",
    "        self.right = right\n",
    "\n",
    "    def getData(self):\n",
    "        return self.data\n",
    "\n",
    "    def setData(self, data):\n",
    "        self.data = data\n",
    "\n",
    "    def getLeft(self):\n",
    "        return self.left\n",
    "\n",
    "    def getRight(self):\n",
    "        return self.right\n",
    "\n",
    "    def setLeft(self, left):\n",
    "        self.left = left\n",
    "\n",
    "    def setRight(self, right):\n",
    "        self.right = right\n",
    "\n",
    "\n",
    "a = TreeNode(6)\n",
    "b = TreeNode(3)\n",
    "c = TreeNode(10)\n",
    "a.setLeft(b)\n",
    "a.setRight(c)\n",
    "\n",
    "d = TreeNode(1)\n",
    "e = TreeNode(5)\n",
    "x = TreeNode(4)\n",
    "y = TreeNode(9)\n",
    "\n",
    "e.setLeft(x)\n",
    "\n",
    "b.setLeft(d)\n",
    "b.setRight(e)\n",
    "\n",
    "f = TreeNode(8)\n",
    "g = TreeNode(12)\n",
    "\n",
    "f.setRight(y)\n",
    "c.setLeft(f)\n",
    "c.setRight(g)"
   ]
  },
  {
   "cell_type": "code",
   "execution_count": 3,
   "metadata": {},
   "outputs": [
    {
     "data": {
      "text/plain": [
       "8"
      ]
     },
     "execution_count": 3,
     "metadata": {},
     "output_type": "execute_result"
    }
   ],
   "source": [
    "inorderSuccessor(a,6)"
   ]
  }
 ],
 "metadata": {
  "kernelspec": {
   "display_name": "Python 3",
   "language": "python",
   "name": "python3"
  },
  "language_info": {
   "codemirror_mode": {
    "name": "ipython",
    "version": 3
   },
   "file_extension": ".py",
   "mimetype": "text/x-python",
   "name": "python",
   "nbconvert_exporter": "python",
   "pygments_lexer": "ipython3",
   "version": "3.7.2"
  },
  "varInspector": {
   "cols": {
    "lenName": 16,
    "lenType": 16,
    "lenVar": 40
   },
   "kernels_config": {
    "python": {
     "delete_cmd_postfix": "",
     "delete_cmd_prefix": "del ",
     "library": "var_list.py",
     "varRefreshCmd": "print(var_dic_list())"
    },
    "r": {
     "delete_cmd_postfix": ") ",
     "delete_cmd_prefix": "rm(",
     "library": "var_list.r",
     "varRefreshCmd": "cat(var_dic_list()) "
    }
   },
   "types_to_exclude": [
    "module",
    "function",
    "builtin_function_or_method",
    "instance",
    "_Feature"
   ],
   "window_display": false
  }
 },
 "nbformat": 4,
 "nbformat_minor": 2
}
