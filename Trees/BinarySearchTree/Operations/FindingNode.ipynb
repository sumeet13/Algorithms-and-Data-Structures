{
 "cells": [
  {
   "cell_type": "markdown",
   "metadata": {},
   "source": [
    "# Finding a node in a BST. \n",
    "\n",
    "Since, the balanced binary search tree is designed such that the left side should be less than root and right side should be greater than the root.\n",
    "\n",
    "Time Complexity: O(log(n)) for average case and O(n) worst case if the tree is a skew tree. <br>\n",
    "Space Complexity : O(1)"
   ]
  },
  {
   "cell_type": "code",
   "execution_count": 1,
   "metadata": {},
   "outputs": [],
   "source": [
    "def findNodeBST(root, node):\n",
    "\n",
    "    if root == None or node is None:\n",
    "        raise ValueError(\"Incorrect parameters\")\n",
    "        return\n",
    "\n",
    "    current = root\n",
    "    print(\"Let's check the path it takes for fun.\")\n",
    "    while current:\n",
    "        print(current.getData())\n",
    "        if current.getData() == node:\n",
    "            return \"Node exists in tree.\"\n",
    "\n",
    "        elif current.getData() < node:\n",
    "            current = current.getRight()\n",
    "\n",
    "        else:\n",
    "            current = current.getLeft()\n",
    "\n",
    "    return \"Node does not exists in tree.\""
   ]
  },
  {
   "cell_type": "code",
   "execution_count": 2,
   "metadata": {},
   "outputs": [],
   "source": [
    "def findReturnNodeBST(root, node):\n",
    "\n",
    "    if root == None or node is None:\n",
    "        return\n",
    "\n",
    "    current = root\n",
    "\n",
    "    while current and current.getData()!=node:\n",
    "        print(current.getData())\n",
    "        if current.getData() < node:\n",
    "            current = current.getRight()\n",
    "\n",
    "        else:\n",
    "            current = current.getLeft()\n",
    "\n",
    "    return current.getData()"
   ]
  },
  {
   "cell_type": "markdown",
   "metadata": {},
   "source": [
    "# Creating a BST"
   ]
  },
  {
   "cell_type": "code",
   "execution_count": 3,
   "metadata": {},
   "outputs": [],
   "source": [
    "class TreeNode:\n",
    "    def __init__(self, data, left=None, right=None):\n",
    "        self.data = data\n",
    "        self.left = left\n",
    "        self.right = right\n",
    "\n",
    "    def getData(self):\n",
    "        return self.data\n",
    "\n",
    "    def setData(self, data):\n",
    "        self.data = data\n",
    "\n",
    "    def getLeft(self):\n",
    "        return self.left\n",
    "\n",
    "    def getRight(self):\n",
    "        return self.right\n",
    "\n",
    "    def setLeft(self, left):\n",
    "        self.left = left\n",
    "\n",
    "    def setRight(self, right):\n",
    "        self.right = right\n",
    "\n",
    "\n",
    "a = TreeNode(6)\n",
    "b = TreeNode(3)\n",
    "c = TreeNode(10)\n",
    "a.setLeft(b)\n",
    "a.setRight(c)\n",
    "\n",
    "d = TreeNode(1)\n",
    "e = TreeNode(5)\n",
    "x = TreeNode(4)\n",
    "y = TreeNode(9)\n",
    "\n",
    "e.setLeft(x)\n",
    "\n",
    "b.setLeft(d)\n",
    "b.setRight(e)\n",
    "\n",
    "f = TreeNode(8)\n",
    "g = TreeNode(12)\n",
    "\n",
    "f.setRight(y)\n",
    "c.setLeft(f)\n",
    "c.setRight(g)"
   ]
  },
  {
   "cell_type": "code",
   "execution_count": 4,
   "metadata": {},
   "outputs": [
    {
     "name": "stdout",
     "output_type": "stream",
     "text": [
      "Let's check the path it takes for fun.\n",
      "6\n",
      "3\n",
      "5\n"
     ]
    },
    {
     "data": {
      "text/plain": [
       "'Node exists in tree.'"
      ]
     },
     "execution_count": 4,
     "metadata": {},
     "output_type": "execute_result"
    }
   ],
   "source": [
    "findNodeBST(a, 5)"
   ]
  },
  {
   "cell_type": "code",
   "execution_count": 5,
   "metadata": {},
   "outputs": [
    {
     "name": "stdout",
     "output_type": "stream",
     "text": [
      "6\n"
     ]
    },
    {
     "data": {
      "text/plain": [
       "10"
      ]
     },
     "execution_count": 5,
     "metadata": {},
     "output_type": "execute_result"
    }
   ],
   "source": [
    "findReturnNodeBST(a,10)"
   ]
  },
  {
   "cell_type": "markdown",
   "metadata": {},
   "source": [
    "# Recursive way\n",
    "\n",
    "Time Complexity: O(log(n)) for average case and O(n) worst case if the tree is a skew tree. <br>\n",
    "Space Complexity : O(n) for the recursive stack"
   ]
  },
  {
   "cell_type": "code",
   "execution_count": 6,
   "metadata": {},
   "outputs": [],
   "source": [
    "def findNodeRecursively(root, node):\n",
    "\n",
    "    if root is None or root.getData()==node:\n",
    "        return root\n",
    "\n",
    "    if root.getData() < node:\n",
    "        return findNodeRecursively(root.getRight(), node)\n",
    "\n",
    "    return findNodeRecursively(root.getLeft(), node)\n"
   ]
  },
  {
   "cell_type": "code",
   "execution_count": 7,
   "metadata": {},
   "outputs": [
    {
     "data": {
      "text/plain": [
       "10"
      ]
     },
     "execution_count": 7,
     "metadata": {},
     "output_type": "execute_result"
    }
   ],
   "source": [
    "findNodeRecursively(a,10).getData()"
   ]
  }
 ],
 "metadata": {
  "kernelspec": {
   "display_name": "Python 3",
   "language": "python",
   "name": "python3"
  },
  "language_info": {
   "codemirror_mode": {
    "name": "ipython",
    "version": 3
   },
   "file_extension": ".py",
   "mimetype": "text/x-python",
   "name": "python",
   "nbconvert_exporter": "python",
   "pygments_lexer": "ipython3",
   "version": "3.7.2"
  },
  "varInspector": {
   "cols": {
    "lenName": 16,
    "lenType": 16,
    "lenVar": 40
   },
   "kernels_config": {
    "python": {
     "delete_cmd_postfix": "",
     "delete_cmd_prefix": "del ",
     "library": "var_list.py",
     "varRefreshCmd": "print(var_dic_list())"
    },
    "r": {
     "delete_cmd_postfix": ") ",
     "delete_cmd_prefix": "rm(",
     "library": "var_list.r",
     "varRefreshCmd": "cat(var_dic_list()) "
    }
   },
   "types_to_exclude": [
    "module",
    "function",
    "builtin_function_or_method",
    "instance",
    "_Feature"
   ],
   "window_display": false
  }
 },
 "nbformat": 4,
 "nbformat_minor": 2
}
