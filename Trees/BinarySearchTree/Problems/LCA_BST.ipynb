{
 "cells": [
  {
   "cell_type": "markdown",
   "metadata": {},
   "source": [
    "# Problem: find the LCA of BST:\n",
    "\n",
    "Let the nodes whose LCA is to be found be alpha and beta.\n",
    "\n",
    "Algorithm:\n",
    "1. If a <= root and b >= root return root or vice versa return root.(We are checking equals because there could be a case where the elements could be equal.)\n",
    "2. If a and b are less than root then go to the left side of the tree.\n",
    "3. Else right."
   ]
  },
  {
   "cell_type": "code",
   "execution_count": 1,
   "metadata": {},
   "outputs": [],
   "source": [
    "def LCA_BST(root, alpha, beta):\n",
    "\n",
    "    if root is None:\n",
    "        return\n",
    "\n",
    "    if (alpha <= root.getData()\n",
    "            and beta >= root.getData()) or (alpha >= root.getData()\n",
    "                                           and beta <= root.getData()):\n",
    "        return root\n",
    "\n",
    "    if alpha < root.getData():\n",
    "        return LCA_BST(root.getLeft(), alpha, beta)\n",
    "\n",
    "    else:\n",
    "        return LCA_BST(root.getRight(), alpha, beta)\n",
    "    \n",
    "    "
   ]
  },
  {
   "cell_type": "code",
   "execution_count": 2,
   "metadata": {},
   "outputs": [],
   "source": [
    "class TreeNode:\n",
    "    def __init__(self, data, left=None, right=None):\n",
    "        self.data = data\n",
    "        self.left = left\n",
    "        self.right = right\n",
    "\n",
    "    def getData(self):\n",
    "        return self.data\n",
    "\n",
    "    def setData(self, data):\n",
    "        self.data = data\n",
    "\n",
    "    def getLeft(self):\n",
    "        return self.left\n",
    "\n",
    "    def getRight(self):\n",
    "        return self.right\n",
    "\n",
    "    def setLeft(self, left):\n",
    "        self.left = left\n",
    "\n",
    "    def setRight(self, right):\n",
    "        self.right = right\n",
    "\n",
    "\n",
    "a = TreeNode(6)\n",
    "b = TreeNode(3)\n",
    "c = TreeNode(10)\n",
    "a.setLeft(b)\n",
    "a.setRight(c)\n",
    "\n",
    "d = TreeNode(1)\n",
    "e = TreeNode(5)\n",
    "x = TreeNode(4)\n",
    "y = TreeNode(9)\n",
    "\n",
    "e.setLeft(x)\n",
    "\n",
    "b.setLeft(d)\n",
    "b.setRight(e)\n",
    "\n",
    "f = TreeNode(8)\n",
    "g = TreeNode(12)\n",
    "\n",
    "f.setRight(y)\n",
    "c.setLeft(f)\n",
    "c.setRight(g)"
   ]
  },
  {
   "cell_type": "code",
   "execution_count": 3,
   "metadata": {},
   "outputs": [
    {
     "data": {
      "text/plain": [
       "3"
      ]
     },
     "execution_count": 3,
     "metadata": {},
     "output_type": "execute_result"
    }
   ],
   "source": [
    "LCA_BST(a,1,5).getData()"
   ]
  },
  {
   "cell_type": "markdown",
   "metadata": {},
   "source": [
    "# Non recursive solution\n",
    "\n",
    "Algorithm:\n",
    "\n",
    "1. Check the condition if alpha and beta are greater than or less than root respectively and vice versa then return root.\n",
    "2. If not then which means that either both are less or greater than the root.\n",
    "3. Check alpha < root, then move to the left subtree else to the right.\n",
    "\n",
    "Time Complexity : O(n) <br>\n",
    "Space Complexity : O(1)\n",
    "\n",
    "Problem: It does not check whether the node exists in tree or not."
   ]
  },
  {
   "cell_type": "code",
   "execution_count": 4,
   "metadata": {},
   "outputs": [
    {
     "data": {
      "text/plain": [
       "3"
      ]
     },
     "execution_count": 4,
     "metadata": {},
     "output_type": "execute_result"
    }
   ],
   "source": [
    "def LCA_BST_Iterative(root, alpha, beta):\n",
    "\n",
    "    while root:\n",
    "        if (alpha <= root.getData()\n",
    "                and beta >= root.getData()) or (alpha >= root.getData()\n",
    "                                                and beta <= root.getData()):\n",
    "            return root\n",
    "\n",
    "        if alpha < root.getData():\n",
    "            root = root.getLeft()\n",
    "\n",
    "        else:\n",
    "            root = root.getRight()\n",
    "\n",
    "    return \"Node does not exists.\"\n",
    "\n",
    "LCA_BST_Iterative(a,1,5).getData()"
   ]
  }
 ],
 "metadata": {
  "kernelspec": {
   "display_name": "Python 3",
   "language": "python",
   "name": "python3"
  },
  "language_info": {
   "codemirror_mode": {
    "name": "ipython",
    "version": 3
   },
   "file_extension": ".py",
   "mimetype": "text/x-python",
   "name": "python",
   "nbconvert_exporter": "python",
   "pygments_lexer": "ipython3",
   "version": "3.7.2"
  },
  "varInspector": {
   "cols": {
    "lenName": 16,
    "lenType": 16,
    "lenVar": 40
   },
   "kernels_config": {
    "python": {
     "delete_cmd_postfix": "",
     "delete_cmd_prefix": "del ",
     "library": "var_list.py",
     "varRefreshCmd": "print(var_dic_list())"
    },
    "r": {
     "delete_cmd_postfix": ") ",
     "delete_cmd_prefix": "rm(",
     "library": "var_list.r",
     "varRefreshCmd": "cat(var_dic_list()) "
    }
   },
   "types_to_exclude": [
    "module",
    "function",
    "builtin_function_or_method",
    "instance",
    "_Feature"
   ],
   "window_display": false
  }
 },
 "nbformat": 4,
 "nbformat_minor": 2
}
