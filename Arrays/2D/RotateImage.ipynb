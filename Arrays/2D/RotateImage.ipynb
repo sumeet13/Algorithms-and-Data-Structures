{
 "cells": [
  {
   "cell_type": "markdown",
   "metadata": {},
   "source": [
    "# Problem: Given a 2D matrix rotate it clockwise 90 degrees.\n",
    "\n"
   ]
  },
  {
   "cell_type": "code",
   "execution_count": 13,
   "metadata": {},
   "outputs": [
    {
     "name": "stdout",
     "output_type": "stream",
     "text": [
      "[[1, 5, 9, 13], [2, 6, 10, 14], [3, 7, 11, 15], [4, 8, 12, 16]]\n",
      "[1, 5, 9, 13]\n",
      "[2, 6, 10, 14]\n",
      "[3, 7, 11, 15]\n",
      "[4, 8, 12, 16]\n",
      "[[13, 9, 5, 1], [14, 10, 6, 2], [15, 11, 7, 3], [16, 12, 8, 4]]\n"
     ]
    }
   ],
   "source": [
    "def rotate(image):\n",
    "    # transpose the image\n",
    "    \n",
    "    size = len(image[0])\n",
    "    for i in range(size):\n",
    "        for j in range(i,size):\n",
    "            image[i][j],image[j][i]= image[j][i], image[i][j]\n",
    "            \n",
    "    print(image)\n",
    "\n",
    "    for i in range(size):\n",
    "        \n",
    "        image[i].reverse()\n",
    "        \n",
    "    print(image)\n",
    "        \n",
    "arr = [[1,2,3,4],[5,6,7,8],[9,10,11,12],[13,14,15,16]]    \n",
    "rotate(arr)\n",
    "        "
   ]
  },
  {
   "cell_type": "markdown",
   "metadata": {},
   "source": [
    "### Approach 2:  Rotate bit by bit"
   ]
  },
  {
   "cell_type": "code",
   "execution_count": 25,
   "metadata": {},
   "outputs": [
    {
     "name": "stdout",
     "output_type": "stream",
     "text": [
      "top:  1 0\n",
      "4 [[1, 2, 3, 1], [5, 6, 7, 8], [9, 10, 11, 12], [13, 14, 15, 16]]\n",
      "16 [[1, 2, 3, 1], [5, 6, 7, 8], [9, 10, 11, 12], [13, 14, 15, 4]]\n",
      "13 [[1, 2, 3, 1], [5, 6, 7, 8], [9, 10, 11, 12], [16, 14, 15, 4]]\n",
      "1 [[13, 2, 3, 1], [5, 6, 7, 8], [9, 10, 11, 12], [16, 14, 15, 4]]\n",
      "------------------------------\n",
      "8 [[13, 2, 3, 1], [5, 6, 7, 2], [9, 10, 11, 12], [16, 14, 15, 4]]\n",
      "4 [[13, 2, 3, 1], [5, 6, 7, 2], [9, 10, 11, 12], [16, 14, 15, 8]]\n",
      "14 [[13, 2, 3, 1], [5, 6, 7, 2], [9, 10, 11, 12], [16, 4, 15, 8]]\n",
      "2 [[13, 14, 3, 1], [5, 6, 7, 2], [9, 10, 11, 12], [16, 4, 15, 8]]\n",
      "------------------------------\n",
      "12 [[13, 14, 3, 1], [5, 6, 7, 2], [9, 10, 11, 3], [16, 4, 15, 8]]\n",
      "8 [[13, 14, 3, 1], [5, 6, 7, 2], [9, 10, 11, 3], [16, 4, 15, 12]]\n",
      "15 [[13, 14, 3, 1], [5, 6, 7, 2], [9, 10, 11, 3], [16, 4, 8, 12]]\n",
      "3 [[13, 14, 15, 1], [5, 6, 7, 2], [9, 10, 11, 3], [16, 4, 8, 12]]\n",
      "------------------------------\n"
     ]
    }
   ],
   "source": [
    "def rotate_index(matrix):\n",
    "\n",
    "    if not matrix or len(matrix) != len(matrix[0]):\n",
    "        return\n",
    "    layers = len(matrix) // 2\n",
    "    size = len(matrix)\n",
    "\n",
    "    for l in range(layers):\n",
    "\n",
    "        # top row\n",
    "        top = matrix[l][l]\n",
    "        print(\"top: \", top,l)\n",
    "        for i in range(l, size - 1 - l):\n",
    "\n",
    "            #save top\n",
    "            top = matrix[l][i]\n",
    "            top, matrix[i][size - 1] = matrix[i][size - 1], top\n",
    "            print(top,matrix)\n",
    "            top, matrix[size - 1][size-1] = matrix[size - 1][size - 1], top\n",
    "            print(top,matrix)\n",
    "            top, matrix[size - 1][i] = matrix[size - 1][i], top\n",
    "            print(top,matrix)\n",
    "            top, matrix[l][i] = matrix[l][i], top\n",
    "            print(top,matrix)\n",
    "            print('-'*30)\n",
    "            \n",
    "        break     \n",
    "arr = [[1,2,3,4],[5,6,7,8],[9,10,11,12],[13,14,15,16]]   \n",
    "rotate_index(arr)"
   ]
  },
  {
   "cell_type": "code",
   "execution_count": null,
   "metadata": {},
   "outputs": [],
   "source": []
  }
 ],
 "metadata": {
  "kernelspec": {
   "display_name": "Python 3",
   "language": "python",
   "name": "python3"
  },
  "language_info": {
   "codemirror_mode": {
    "name": "ipython",
    "version": 3
   },
   "file_extension": ".py",
   "mimetype": "text/x-python",
   "name": "python",
   "nbconvert_exporter": "python",
   "pygments_lexer": "ipython3",
   "version": "3.7.2"
  },
  "varInspector": {
   "cols": {
    "lenName": 16,
    "lenType": 16,
    "lenVar": 40
   },
   "kernels_config": {
    "python": {
     "delete_cmd_postfix": "",
     "delete_cmd_prefix": "del ",
     "library": "var_list.py",
     "varRefreshCmd": "print(var_dic_list())"
    },
    "r": {
     "delete_cmd_postfix": ") ",
     "delete_cmd_prefix": "rm(",
     "library": "var_list.r",
     "varRefreshCmd": "cat(var_dic_list()) "
    }
   },
   "types_to_exclude": [
    "module",
    "function",
    "builtin_function_or_method",
    "instance",
    "_Feature"
   ],
   "window_display": false
  }
 },
 "nbformat": 4,
 "nbformat_minor": 2
}
