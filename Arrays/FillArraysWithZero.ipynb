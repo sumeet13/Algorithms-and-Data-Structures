{
 "cells": [
  {
   "cell_type": "markdown",
   "metadata": {},
   "source": [
    "Fill column and row with 0 wherever you find one\n",
    "\n",
    "# Approach 1\n",
    "Maintain an extra array of same length to track the rows and columns where there is 0. Iterate and fill the row and columns with 0\n"
   ]
  },
  {
   "cell_type": "code",
   "execution_count": 37,
   "metadata": {},
   "outputs": [
    {
     "name": "stdout",
     "output_type": "stream",
     "text": [
      "[[ 0 -1 -1]\n",
      " [-1 -1 -1]\n",
      " [-1 -1  0]]\n"
     ]
    }
   ],
   "source": [
    "def fillRowColumnWithZeroV1(arr):\n",
    "\n",
    "    store = np.array([[-1] * len(arr[0]) for i in range(len(arr))])\n",
    "    for i in range(len(arr)):\n",
    "        for j in range(len(arr[0])):\n",
    "\n",
    "            if arr[i, j] == 0:\n",
    "                store[i, j] = 0\n",
    "    print(store)\n",
    "    for i in range(len(store)):\n",
    "        for j in range(len(store[0])):\n",
    "\n",
    "            if store[i, j] == 0:\n",
    "                arr[i, :] = 0\n",
    "                arr[:, j] = 0\n",
    "\n",
    "    return arr\n",
    "\n",
    "\n",
    "import numpy as np\n",
    "arr = np.array([[-1] * 3 for i in range(3)])\n",
    "arr[0, 0] = arr[2, 2] = 0\n",
    "print(arr)\n",
    "# print(fillRowColumnWithZero(arr))"
   ]
  },
  {
   "cell_type": "markdown",
   "metadata": {},
   "source": [
    "# Approach 2\n",
    "\n",
    "We can only store one array for row and one for columns. <br>\n",
    "Because it is sufficient for us to know that the row and column make the whole row and column zero.\n"
   ]
  },
  {
   "cell_type": "code",
   "execution_count": 38,
   "metadata": {},
   "outputs": [
    {
     "name": "stdout",
     "output_type": "stream",
     "text": [
      "[[ 0  0  0]\n",
      " [ 0 -1  0]\n",
      " [ 0  0  0]]\n"
     ]
    }
   ],
   "source": [
    "def fillRowsAndColumnsV2(arr):\n",
    "\n",
    "    rows = np.ones((arr.shape[0],),dtype= int)\n",
    "    cols = np.ones((arr.shape[1],),dtype= int)\n",
    "    \n",
    "    for i in range(arr.shape[0]):\n",
    "        for j in range(arr.shape[1]):\n",
    "            \n",
    "            if arr[i,j] == 0:\n",
    "                rows[i] = cols[j] = 0\n",
    "                \n",
    "    \n",
    "    for i in range(arr.shape[0]):\n",
    "        if rows[i]==0 :\n",
    "            arr[i,:] = 0 \n",
    "        \n",
    "    for j in range(arr.shape[1]):\n",
    "        if cols[j]==0: \n",
    "            arr[:,j]=0\n",
    "    print(arr)\n",
    "fillRowsAndColumnsV2(arr)"
   ]
  },
  {
   "cell_type": "code",
   "execution_count": null,
   "metadata": {},
   "outputs": [],
   "source": [
    "\n",
    "\n"
   ]
  }
 ],
 "metadata": {
  "kernelspec": {
   "display_name": "Python 3",
   "language": "python",
   "name": "python3"
  },
  "language_info": {
   "codemirror_mode": {
    "name": "ipython",
    "version": 3
   },
   "file_extension": ".py",
   "mimetype": "text/x-python",
   "name": "python",
   "nbconvert_exporter": "python",
   "pygments_lexer": "ipython3",
   "version": "3.7.2"
  },
  "varInspector": {
   "cols": {
    "lenName": 16,
    "lenType": 16,
    "lenVar": 40
   },
   "kernels_config": {
    "python": {
     "delete_cmd_postfix": "",
     "delete_cmd_prefix": "del ",
     "library": "var_list.py",
     "varRefreshCmd": "print(var_dic_list())"
    },
    "r": {
     "delete_cmd_postfix": ") ",
     "delete_cmd_prefix": "rm(",
     "library": "var_list.r",
     "varRefreshCmd": "cat(var_dic_list()) "
    }
   },
   "types_to_exclude": [
    "module",
    "function",
    "builtin_function_or_method",
    "instance",
    "_Feature"
   ],
   "window_display": false
  }
 },
 "nbformat": 4,
 "nbformat_minor": 2
}
