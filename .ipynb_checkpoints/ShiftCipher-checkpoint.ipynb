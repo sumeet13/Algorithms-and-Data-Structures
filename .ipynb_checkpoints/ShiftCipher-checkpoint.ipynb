{
 "cells": [
  {
   "cell_type": "code",
   "execution_count": 4,
   "metadata": {},
   "outputs": [
    {
     "name": "stdout",
     "output_type": "stream",
     "text": [
      "1 znkmyioktzoloimznkuxemomroqkmhkyzmoymzngzmznkmxotmymulmygzaxtmgxkmiusvuykjmktzoxkremulmruyzmgoxrotkmrammgmk\n",
      "2 ymjlxhnjsynknhlymjtwdlnlqnpjlgjxylnxlymfylymjlwnslxltklxfyzwslfwjlhtrutxjiljsynwjqdltklqtxylfnwqnsjlqzllflj\n",
      "3 xlikwgmirxmjmgkxlisvckmkpmoikfiwxkmwkxlexkxlikvmrkwksjkwexyvrkevikgsqtswihkirxmvipcksjkpswxkemvpmrikpykkeki\n",
      "4 wkhjvflhqwlilfjwkhrubjljolnhjehvwjlvjwkdwjwkhjulqjvjrijvdwxuqjduhjfrpsrvhgjhqwluhobjrijorvwjdluolqhjoxjjdjh\n",
      "5 vjgiuekgpvkhkeivjgqtaikinkmgidguvikuivjcvivjgitkpiuiqhiucvwtpictgieqorqugfigpvktgnaiqhinquvicktnkpginwiicig\n",
      "6 uifhtdjfoujgjdhuifpszhjhmjlfhcftuhjthuibuhuifhsjohthpghtbuvsohbsfhdpnqptfehfoujsfmzhpghmptuhbjsmjofhmvhhbhf\n",
      "7 thegscientificgtheorygiglikegbestgisgthatgthegringsgofgsaturngaregcomposedgentirelygofglostgairlinegluggage\n",
      "8 sgdfrbhdmshehbfsgdnqxfhfkhjdfadrsfhrfsgzsfsgdfqhmfrfnefrzstqmfzqdfbnlonrdcfdmshqdkxfnefknrsfzhqkhmdfktffzfd\n",
      "9 rfceqagclrgdgaerfcmpwegejgicezcqregqerfyrerfcepgleqemdeqyrspleypceamknmqcbeclrgpcjwemdejmqreygpjglcejseeyec\n",
      "10 qebdpzfbkqfcfzdqeblovdfdifhbdybpqdfpdqexqdqebdofkdpdlcdpxqrokdxobdzljmlpbadbkqfobivdlcdilpqdxfoifkbdirddxdb\n",
      "11 pdacoyeajpebeycpdaknucechegacxaopceocpdwpcpdacnejcockbcowpqnjcwnacykilkoazcajpenahuckbchkopcwenhejachqccwca\n",
      "12 oczbnxdziodadxboczjmtbdbgdfzbwznobdnbocvoboczbmdibnbjabnvopmibvmzbxjhkjnzybziodmzgtbjabgjnobvdmgdizbgpbbvbz\n",
      "13 nbyamwcyhnczcwanbyilsacafceyavymnacmanbunanbyalchamaizamunolhaulyawigjimyxayhnclyfsaizafimnauclfchyafoaauay\n",
      "14 maxzlvbxgmbybvzmaxhkrzbzebdxzuxlmzblzmatmzmaxzkbgzlzhyzltmnkgztkxzvhfihlxwzxgmbkxerzhyzehlmztbkebgxzenzztzx\n",
      "15 lzwykuawflaxauylzwgjqyaydacwytwklyakylzslylzwyjafykygxykslmjfysjwyugehgkwvywflajwdqygxydgklysajdafwydmyysyw\n",
      "16 kyvxjtzvekzwztxkyvfipxzxczbvxsvjkxzjxkyrkxkyvxizexjxfwxjrkliexrivxtfdgfjvuxvekzivcpxfwxcfjkxrziczevxclxxrxv\n",
      "17 jxuwisyudjyvyswjxuehowywbyauwruijwyiwjxqjwjxuwhydwiwevwiqjkhdwqhuwsecfeiutwudjyhubowevwbeijwqyhbyduwbkwwqwu\n",
      "18 iwtvhrxtcixuxrviwtdgnvxvaxztvqthivxhviwpiviwtvgxcvhvduvhpijgcvpgtvrdbedhtsvtcixgtanvduvadhivpxgaxctvajvvpvt\n",
      "19 hvsugqwsbhwtwquhvscfmuwuzwysupsghuwguhvohuhvsufwbuguctugohifbuofsuqcadcgsrusbhwfszmuctuzcghuowfzwbsuziuuous\n",
      "20 gurtfpvragvsvptgurbeltvtyvxrtorfgtvftgungtgurtevatftbstfngheatnertpbzcbfrqtragveryltbstybfgtnveyvartyhttntr\n",
      "21 ftqseouqzfuruosftqadksusxuwqsnqefsuesftmfsftqsduzsesarsemfgdzsmdqsoaybaeqpsqzfudqxksarsxaefsmudxuzqsxgssmsq\n",
      "22 esprdntpyetqtnrespzcjrtrwtvprmpdertdresleresprctyrdrzqrdlefcyrlcprnzxazdporpyetcpwjrzqrwzderltcwtyprwfrrlrp\n",
      "23 droqcmsoxdspsmqdroybiqsqvsuoqlocdqscqdrkdqdroqbsxqcqypqckdebxqkboqmywzyconqoxdsboviqypqvycdqksbvsxoqveqqkqo\n",
      "24 cqnpblrnwcrorlpcqnxahprpurtnpknbcprbpcqjcpcqnparwpbpxopbjcdawpjanplxvyxbnmpnwcranuhpxopuxbcpjraurwnpudppjpn\n",
      "25 bpmoakqmvbqnqkobpmwzgoqotqsmojmaboqaobpibobpmozqvoaownoaibczvoizmokwuxwamlomvbqzmtgownotwaboiqztqvmotcooiom\n",
      "None\n"
     ]
    }
   ],
   "source": [
    "def decryptShiftCipher(cipher):\n",
    "    for i in range(1,26):\n",
    "        result = \"\"\n",
    "        for j in range(len(cipher)):\n",
    "            \n",
    "            result += chr((ord(cipher[j])-97-i)%26 +97)\n",
    "            \n",
    "        print(i, result)\n",
    "    \n",
    "cipher = \"GUR FPVRAGVSVP GURBEL V YVXR ORFG VF GUNG GUR EVATF BS FNGHEA NER PBZCBFRQ RAGVERYL BS YBFG NVEYVAR YHTTNTR\"\n",
    "print(decryptShiftCipher(cipher))\n"
   ]
  },
  {
   "cell_type": "code",
   "execution_count": null,
   "metadata": {},
   "outputs": [],
   "source": []
  }
 ],
 "metadata": {
  "kernelspec": {
   "display_name": "Python 3",
   "language": "python",
   "name": "python3"
  },
  "language_info": {
   "codemirror_mode": {
    "name": "ipython",
    "version": 3
   },
   "file_extension": ".py",
   "mimetype": "text/x-python",
   "name": "python",
   "nbconvert_exporter": "python",
   "pygments_lexer": "ipython3",
   "version": "3.7.2"
  },
  "varInspector": {
   "cols": {
    "lenName": 16,
    "lenType": 16,
    "lenVar": 40
   },
   "kernels_config": {
    "python": {
     "delete_cmd_postfix": "",
     "delete_cmd_prefix": "del ",
     "library": "var_list.py",
     "varRefreshCmd": "print(var_dic_list())"
    },
    "r": {
     "delete_cmd_postfix": ") ",
     "delete_cmd_prefix": "rm(",
     "library": "var_list.r",
     "varRefreshCmd": "cat(var_dic_list()) "
    }
   },
   "types_to_exclude": [
    "module",
    "function",
    "builtin_function_or_method",
    "instance",
    "_Feature"
   ],
   "window_display": false
  }
 },
 "nbformat": 4,
 "nbformat_minor": 2
}
