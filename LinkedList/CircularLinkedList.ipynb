{
 "cells": [
  {
   "cell_type": "code",
   "execution_count": 1,
   "metadata": {},
   "outputs": [],
   "source": [
    "class CircularNode:\n",
    "    def __init__(self, nexti=None, data=None):\n",
    "        self.data = data\n",
    "        self.next = nexti\n",
    "\n",
    "    def set_data(self, data):\n",
    "        self.data = data\n",
    "\n",
    "    def get_data(self):\n",
    "        return self.data\n",
    "\n",
    "    def set_next(self, nexti):\n",
    "        self.next = nexti\n",
    "\n",
    "    def get_next(self):\n",
    "        return self.next\n",
    "\n",
    "    def has_next(self):\n",
    "        return self.next != None"
   ]
  },
  {
   "cell_type": "code",
   "execution_count": 2,
   "metadata": {},
   "outputs": [],
   "source": [
    "class CircularLinkedList:\n",
    "    def circular_length_list(self):\n",
    "        current = self.head.get_next()\n",
    "        count = 1\n",
    "\n",
    "        while current is not self.head:\n",
    "            current = current.get_next()\n",
    "            count += 1\n",
    "\n",
    "        return count\n",
    "\n",
    "    def __init__(self, tail=None):\n",
    "        self.head = tail.get_next()\n",
    "        self.tail = tail\n",
    "        self.length = self.circular_length_list()\n",
    "\n",
    "    def get_node(index):\n",
    "\n",
    "        if index == 1:\n",
    "            return self.head\n",
    "\n",
    "        else:\n",
    "\n",
    "            count = 1\n",
    "            current = self.head.get_next()\n",
    "\n",
    "            while count < index:\n",
    "                count += 1\n",
    "                current = current.get_next()\n",
    "\n",
    "            return current\n",
    "\n",
    "    def insertion_at_beginning(self, data):\n",
    "\n",
    "        if self.length == 0:\n",
    "            self.head = CircularNode(None, data)\n",
    "\n",
    "        elif self.length == 1:\n",
    "\n",
    "            new_node = CircularNode(self.head, data)\n",
    "            self.head.set_next(new_node)\n",
    "            self.head = new_node\n",
    "\n",
    "        else:\n",
    "            new_node = CircularNode(self.head, data)\n",
    "            self.tail.set_next(new_node)\n",
    "            self.head = new_node\n",
    "\n",
    "        self.length += 1\n",
    "\n",
    "    def insertion_at_end(self, data):\n",
    "\n",
    "        if self.length == 0:\n",
    "            self.head = CircularNode(None, data)\n",
    "\n",
    "        elif self.length == 1:\n",
    "\n",
    "            new_node = CircularNode(self.head, data)\n",
    "            self.head.set_next(new_node)\n",
    "        else:\n",
    "\n",
    "            new_node = CircularNode(self.head, data)\n",
    "            self.tail.set_next(new_node)\n",
    "            self.tail = new_node\n",
    "\n",
    "        self.length += 1\n",
    "\n",
    "    def deletion_at_beginning(self):\n",
    "\n",
    "        if self.head == None:\n",
    "            return\n",
    "\n",
    "        elif self.length == 1:\n",
    "            self.head == self.tail == None\n",
    "\n",
    "        else:\n",
    "            self.head = self.head.get_next()\n",
    "            self.tail.set_next(self.head)\n",
    "\n",
    "        self.length -= 1\n",
    "\n",
    "    def deletion_at_end(self):\n",
    "\n",
    "        if self.head == None:\n",
    "            return\n",
    "\n",
    "        elif self.length == 1:\n",
    "            self.head = None\n",
    "\n",
    "        else:\n",
    "\n",
    "            current = self.head\n",
    "            while current.get_next().get_next() is not self.head:\n",
    "                current = current.get_next()\n",
    "\n",
    "            current.set_next(self.head)\n",
    "\n",
    "        self.length -= 1\n",
    "\n",
    "    def deletion_at_given_pos(self, index):\n",
    "\n",
    "        if index == 0:\n",
    "            self.deletion_at_beginning()\n",
    "\n",
    "        elif index == self.length:\n",
    "            self.deletion_at_end()\n",
    "\n",
    "        else:\n",
    "            count = 0\n",
    "            current = self.head\n",
    "\n",
    "            while count < index - 1:\n",
    "                current = current.get_next()\n",
    "                count += 1\n",
    "\n",
    "            current.set_next(current.get_next().get_next())\n",
    "            self.length -= 1\n",
    "\n",
    "    def print_circular_linked_list(self):\n",
    "\n",
    "        if self.length == 0:\n",
    "            raise ValueError(\"List is empty!\")\n",
    "\n",
    "        elif self.length == 1:\n",
    "            print(\"Data:\", self.head.get_data())\n",
    "\n",
    "        else:\n",
    "\n",
    "            current = self.head\n",
    "            while current.get_next() is not self.head:\n",
    "                print(\"Data:\", current.get_data())\n",
    "                current = current.get_next()\n",
    "\n",
    "            print(\"Data:\", current.get_data())"
   ]
  },
  {
   "cell_type": "code",
   "execution_count": 3,
   "metadata": {},
   "outputs": [],
   "source": [
    "def convert_array_to_circular_linked_list(arr):\n",
    "\n",
    "    if len(arr) == 0:\n",
    "        raise ValueError(\"Array is Empty!\")\n",
    "\n",
    "    elif len(arr) == 1:\n",
    "        cir = CircularNode(None, arr[0])\n",
    "        cir.set_next(cir)\n",
    "        return cir\n",
    "\n",
    "    else:\n",
    "        current = head = CircularNode(None, arr[0])\n",
    "\n",
    "        for i in range(1, len(arr)):\n",
    "\n",
    "            next_node = CircularNode(None, arr[i])\n",
    "            current.set_next(next_node)\n",
    "            current = next_node\n",
    "\n",
    "        current.set_next(head)\n",
    "\n",
    "        return current"
   ]
  },
  {
   "cell_type": "code",
   "execution_count": 4,
   "metadata": {},
   "outputs": [
    {
     "name": "stdout",
     "output_type": "stream",
     "text": [
      "Data: 1\n",
      "Data: 2\n",
      "Data: 4\n",
      "Data: 5\n",
      "Data: 6\n"
     ]
    }
   ],
   "source": [
    "cir_linked_list = convert_array_to_circular_linked_list([1, 2, 4, 5, 6])\n",
    "cl = CircularLinkedList(cir_linked_list)\n",
    "cl.print_circular_linked_list()"
   ]
  },
  {
   "cell_type": "code",
   "execution_count": 5,
   "metadata": {},
   "outputs": [
    {
     "name": "stdout",
     "output_type": "stream",
     "text": [
      "Data: 20\n",
      "Data: 1\n",
      "Data: 2\n",
      "Data: 4\n",
      "Data: 5\n",
      "Data: 6\n"
     ]
    }
   ],
   "source": [
    "cl.insertion_at_beginning(20)\n",
    "cl.print_circular_linked_list()"
   ]
  },
  {
   "cell_type": "code",
   "execution_count": 6,
   "metadata": {},
   "outputs": [
    {
     "name": "stdout",
     "output_type": "stream",
     "text": [
      "Data: 20\n",
      "Data: 1\n",
      "Data: 2\n",
      "Data: 4\n",
      "Data: 5\n",
      "Data: 6\n",
      "Data: 27\n"
     ]
    }
   ],
   "source": [
    "cl.insertion_at_end(27)\n",
    "cl.print_circular_linked_list()"
   ]
  },
  {
   "cell_type": "code",
   "execution_count": 7,
   "metadata": {},
   "outputs": [
    {
     "name": "stdout",
     "output_type": "stream",
     "text": [
      "Data: 1\n",
      "Data: 2\n",
      "Data: 4\n",
      "Data: 5\n",
      "Data: 6\n",
      "Data: 27\n"
     ]
    }
   ],
   "source": [
    "cl.deletion_at_beginning()\n",
    "cl.print_circular_linked_list()"
   ]
  },
  {
   "cell_type": "code",
   "execution_count": 8,
   "metadata": {},
   "outputs": [
    {
     "name": "stdout",
     "output_type": "stream",
     "text": [
      "Data: 1\n",
      "Data: 2\n",
      "Data: 4\n",
      "Data: 6\n",
      "Data: 27\n"
     ]
    }
   ],
   "source": [
    "cl.deletion_at_given_pos(3)\n",
    "cl.print_circular_linked_list()"
   ]
  },
  {
   "cell_type": "code",
   "execution_count": 9,
   "metadata": {},
   "outputs": [
    {
     "name": "stdout",
     "output_type": "stream",
     "text": [
      "Data: 1\n",
      "Data: 2\n",
      "Data: 4\n",
      "Data: 6\n"
     ]
    }
   ],
   "source": [
    "cl.deletion_at_end()\n",
    "cl.print_circular_linked_list()"
   ]
  },
  {
   "cell_type": "code",
   "execution_count": null,
   "metadata": {},
   "outputs": [],
   "source": []
  }
 ],
 "metadata": {
  "kernelspec": {
   "display_name": "Python 3",
   "language": "python",
   "name": "python3"
  },
  "language_info": {
   "codemirror_mode": {
    "name": "ipython",
    "version": 3
   },
   "file_extension": ".py",
   "mimetype": "text/x-python",
   "name": "python",
   "nbconvert_exporter": "python",
   "pygments_lexer": "ipython3",
   "version": "3.7.2"
  }
 },
 "nbformat": 4,
 "nbformat_minor": 2
}
