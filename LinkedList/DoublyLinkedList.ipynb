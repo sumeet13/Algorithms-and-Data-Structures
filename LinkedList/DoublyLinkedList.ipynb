{
 "cells": [
  {
   "cell_type": "code",
   "execution_count": 1,
   "metadata": {},
   "outputs": [],
   "source": [
    "class DoubleNode:\n",
    "    def __init__(self, prev=None, next=None, data=None):\n",
    "        self.data = data\n",
    "        self.prev = prev\n",
    "        self.next = next\n",
    "\n",
    "    def get_next(self):\n",
    "        return self.next\n",
    "\n",
    "    def set_next(self, next):\n",
    "        self.next = next\n",
    "\n",
    "    def get_data(self):\n",
    "        return self.data\n",
    "\n",
    "    def set_data(self, data):\n",
    "        self.data = data\n",
    "\n",
    "    def get_prev(self):\n",
    "        return self.prev\n",
    "\n",
    "    def set_prev(self, prev):\n",
    "        self.prev = prev\n",
    "\n",
    "    def has_prev(self):\n",
    "        return self.prev != None\n",
    "\n",
    "    def has_next(self):\n",
    "        return self.next != None\n",
    "\n",
    "    def __str__(self):\n",
    "        pass"
   ]
  },
  {
   "cell_type": "code",
   "execution_count": 2,
   "metadata": {},
   "outputs": [],
   "source": [
    "class DoublyLinkedList():\n",
    "    def calculate_length_of_doubly_linked_list(self):\n",
    "\n",
    "        current = self.head\n",
    "        count = 0\n",
    "\n",
    "        while current is not None:\n",
    "            current = current.get_next()\n",
    "            count += 1\n",
    "\n",
    "        return count\n",
    "\n",
    "    def __init__(self, head=None):\n",
    "        self.head = head\n",
    "        self.length = 0\n",
    "        self.length = self.calculate_length_of_doubly_linked_list()\n",
    "\n",
    "    def return_length(self):\n",
    "        return self.length\n",
    "\n",
    "    \"\"\"Insertion in the Doubly Linked list\n",
    "\n",
    "        It has three cases:\n",
    "        1. Insertion at the beginning\n",
    "        2. Inserting at the end of the linked list\n",
    "        3. Inserting in the middle at any given position\n",
    "\"\"\"\n",
    "    def insertion_at_beginning(self, data):\n",
    "\n",
    "        new_node = DoubleNode(None, None, data)\n",
    "\n",
    "        if self.head is None:\n",
    "            self.head = new_node\n",
    "\n",
    "        else:\n",
    "            new_node.set_next(self.head)\n",
    "            self.head.set_prev(new_node)\n",
    "            self.head = new_node\n",
    "        self.length += 1\n",
    "\n",
    "    def insertion_at_end(self, data):\n",
    "\n",
    "        new_node = DoubleNode(None, None, data)\n",
    "\n",
    "        if self.head is None:\n",
    "            self.head = new_node\n",
    "\n",
    "        else:\n",
    "            current = self.head\n",
    "\n",
    "            while current.get_next() is not None:\n",
    "                current = current.get_next()\n",
    "\n",
    "            current.set_next(new_node)\n",
    "            new_node.set_prev(current)\n",
    "\n",
    "        self.length += 1\n",
    "\n",
    "    def insertion_in_the_middle(self, pos, data):\n",
    "\n",
    "        if pos < 0:\n",
    "            pos = 0\n",
    "\n",
    "        elif pos > self.length:\n",
    "            pos = self.length\n",
    "\n",
    "        elif pos == 0:\n",
    "            insertion_at_beginning(data)\n",
    "\n",
    "        elif pos == self.length:\n",
    "            insertion_at_end(data)\n",
    "\n",
    "        else:\n",
    "\n",
    "            current = self.head\n",
    "            count = 0\n",
    "\n",
    "            while current.get_next() is not None:\n",
    "\n",
    "                if count == pos:\n",
    "                    new_node = DoubleNode(None, None, data)\n",
    "                    new_node.set_next(current)\n",
    "                    current.get_prev().set_next(new_node)\n",
    "                    new_node.set_prev(current.get_prev())\n",
    "                    current.set_prev(new_node)\n",
    "                    self.length += 1\n",
    "                    return\n",
    "\n",
    "                else:\n",
    "                    current = current.get_next()\n",
    "                    count += 1\n",
    "\n",
    "            print(\"Incorrect position entered\")\n",
    "        \"\"\"Deletion in the Doubly Linked list\n",
    "\n",
    "            It has three cases:\n",
    "            1. Deletion at the beginning\n",
    "            2. Deletion at the end of the linked list\n",
    "            3. Deletion in the middle\"\"\"\n",
    "\n",
    "    def deletion_at_beginning(self):\n",
    "\n",
    "        if self.head == None:\n",
    "            raise ValueError(\"List is Empty!\")\n",
    "\n",
    "        else:\n",
    "            self.head = self.head.get_next()\n",
    "            self.head.set_prev(None)\n",
    "\n",
    "        self.length -= 1\n",
    "\n",
    "    def deletion_at_end(self):\n",
    "\n",
    "        if self.head == None:\n",
    "            raise ValueError(\"List is Empty!\")\n",
    "\n",
    "        if self.head.get_next is None:\n",
    "            self.head = None\n",
    "\n",
    "        else:\n",
    "\n",
    "            current = self.head\n",
    "\n",
    "            while current.get_next() is not None:\n",
    "                current = current.get_next()\n",
    "\n",
    "            current.get_prev().set_next(None)\n",
    "            current.set_prev(None)\n",
    "\n",
    "        self.length -= 1\n",
    "\n",
    "    def get_node(self, pos):\n",
    "\n",
    "        if pos == 0:\n",
    "            return self.head\n",
    "\n",
    "        else:\n",
    "            current = self.head\n",
    "            count = 0\n",
    "\n",
    "            while count < pos - 1:\n",
    "                current = current.get_next()\n",
    "                count += 1\n",
    "\n",
    "        return current\n",
    "\n",
    "    def delete_at_given_position(self, pos):\n",
    "\n",
    "        if pos < 0:\n",
    "            pos = 0\n",
    "\n",
    "        elif pos > self.length:\n",
    "            pos = self.length\n",
    "\n",
    "        elif pos == 0:\n",
    "            deletion_at_beginning()\n",
    "\n",
    "        elif pos == self.length:\n",
    "            deletion_at_end()\n",
    "\n",
    "        else:\n",
    "\n",
    "            print(\"I have entered the last else\")\n",
    "\n",
    "            node = self.get_node(pos)\n",
    "            print(node.get_data())\n",
    "            node.set_next(node.get_next().get_next())\n",
    "            node.get_next().get_next().set_prev(node)\n",
    "            #             node.get_next().set_prev(None)\n",
    "            #             node.get_next().set_next(None)\n",
    "            self.length -= 1\n",
    "\n",
    "    def print_doubly_linked_list(self):\n",
    "\n",
    "        current = self.head\n",
    "        while current is not None:\n",
    "\n",
    "            print(\"Data:\", current.get_data())\n",
    "            current = current.get_next()"
   ]
  },
  {
   "cell_type": "code",
   "execution_count": 3,
   "metadata": {},
   "outputs": [],
   "source": [
    "def convert_array_to_doubly_linked_list(arr):\n",
    "\n",
    "    if len(arr) == 0:\n",
    "        return\n",
    "\n",
    "    else:\n",
    "        prev_node = DoubleNode(None, None, arr[0])\n",
    "        head = prev_node\n",
    "        for index in range(1, len(arr)):\n",
    "\n",
    "            current_node = DoubleNode(prev_node, None, arr[index])\n",
    "            prev_node.set_next(current_node)\n",
    "            #next_node = DoubleNode(current_node, None, arr[index+1])\n",
    "            #current_node.set_next(next_node)\n",
    "            prev_node = current_node\n",
    "\n",
    "    return head"
   ]
  },
  {
   "cell_type": "code",
   "execution_count": 4,
   "metadata": {},
   "outputs": [],
   "source": [
    "arr = [1, 2, 3, 4, 5]\n",
    "linked_list = convert_array_to_doubly_linked_list(arr)\n",
    "\n",
    "dl = DoublyLinkedList(linked_list)\n",
    "dl.print_doubly_linked_list()"
   ]
  },
  {
   "cell_type": "code",
   "execution_count": 5,
   "metadata": {},
   "outputs": [
    {
     "name": "stdout",
     "output_type": "stream",
     "text": [
      "Data: 2\n",
      "Data: 3\n",
      "Data: 4\n",
      "Data: 5\n"
     ]
    }
   ],
   "source": [
    "dl.deletion_at_beginning()\n",
    "dl.print_doubly_linked_list()"
   ]
  },
  {
   "cell_type": "code",
   "execution_count": 6,
   "metadata": {},
   "outputs": [
    {
     "name": "stdout",
     "output_type": "stream",
     "text": [
      "Data: 2\n",
      "Data: 3\n",
      "Data: 4\n"
     ]
    }
   ],
   "source": [
    "dl.deletion_at_end()\n",
    "dl.print_doubly_linked_list()"
   ]
  },
  {
   "cell_type": "code",
   "execution_count": 7,
   "metadata": {},
   "outputs": [
    {
     "name": "stdout",
     "output_type": "stream",
     "text": [
      "Data: 8\n",
      "Data: 2\n",
      "Data: 3\n",
      "Data: 4\n"
     ]
    }
   ],
   "source": [
    "dl.insertion_at_beginning(8)\n",
    "dl.print_doubly_linked_list()\n"
   ]
  },
  {
   "cell_type": "code",
   "execution_count": 8,
   "metadata": {},
   "outputs": [
    {
     "name": "stdout",
     "output_type": "stream",
     "text": [
      "Data: 8\n",
      "Data: 2\n",
      "Data: 3\n",
      "Data: 4\n",
      "Data: 20\n"
     ]
    }
   ],
   "source": [
    "dl.insertion_at_end(20)\n",
    "dl.print_doubly_linked_list()"
   ]
  },
  {
   "cell_type": "code",
   "execution_count": 9,
   "metadata": {},
   "outputs": [
    {
     "name": "stdout",
     "output_type": "stream",
     "text": [
      "Data: 8\n",
      "Data: 100\n",
      "Data: 2\n",
      "Data: 3\n",
      "Data: 4\n",
      "Data: 20\n"
     ]
    }
   ],
   "source": [
    "dl.insertion_in_the_middle(1,100)\n",
    "dl.print_doubly_linked_list()"
   ]
  },
  {
   "cell_type": "code",
   "execution_count": 10,
   "metadata": {},
   "outputs": [
    {
     "name": "stdout",
     "output_type": "stream",
     "text": [
      "I have entered the last else\n",
      "100\n",
      "node.get_next() 2\n",
      "node.get_next().get_next(): 3\n",
      "Data: 8\n",
      "Data: 100\n",
      "Data: 3\n",
      "Data: 4\n",
      "Data: 20\n"
     ]
    }
   ],
   "source": [
    "dl.delete_at_given_position(2)\n",
    "dl.print_doubly_linked_list()"
   ]
  },
  {
   "cell_type": "code",
   "execution_count": null,
   "metadata": {},
   "outputs": [],
   "source": []
  }
 ],
 "metadata": {
  "kernelspec": {
   "display_name": "Python 3",
   "language": "python",
   "name": "python3"
  },
  "language_info": {
   "codemirror_mode": {
    "name": "ipython",
    "version": 3
   },
   "file_extension": ".py",
   "mimetype": "text/x-python",
   "name": "python",
   "nbconvert_exporter": "python",
   "pygments_lexer": "ipython3",
   "version": "3.7.2"
  }
 },
 "nbformat": 4,
 "nbformat_minor": 2
}
