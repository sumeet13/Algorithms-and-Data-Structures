{
 "cells": [
  {
   "cell_type": "markdown",
   "metadata": {},
   "source": [
    "# Singly Linked List"
   ]
  },
  {
   "cell_type": "markdown",
   "metadata": {},
   "source": [
    "### Declaration for Singly LinkedList"
   ]
  },
  {
   "cell_type": "code",
   "execution_count": 1,
   "metadata": {},
   "outputs": [],
   "source": [
    "class Node:\n",
    "    def __init__(self, nexti=None, data=None):\n",
    "        self.data = data\n",
    "        self.next = nexti\n",
    "\n",
    "    def set_data(self, data):\n",
    "        self.data = data\n",
    "\n",
    "    def get_data(self):\n",
    "        return self.data\n",
    "\n",
    "    def set_next(self, nexti):\n",
    "        self.next = nexti\n",
    "\n",
    "    def get_next(self):\n",
    "        return self.next\n",
    "\n",
    "    def has_next(self):\n",
    "        return self.next != None"
   ]
  },
  {
   "cell_type": "markdown",
   "metadata": {},
   "source": [
    "### Implementing Singly list functions"
   ]
  },
  {
   "cell_type": "code",
   "execution_count": 2,
   "metadata": {
    "scrolled": true
   },
   "outputs": [],
   "source": [
    "class LinkedList:\n",
    "    \n",
    "    def list_length(self):\n",
    "        current = self.head\n",
    "        count = 0\n",
    "\n",
    "        while current != None:\n",
    "            count = count + 1\n",
    "            current = current.get_next()\n",
    "\n",
    "        return count\n",
    "\n",
    "    def __init__(self, head=None):\n",
    "        self.head = head\n",
    "        self.length = self.list_length()\n",
    "\n",
    "    #finding the length of the list\n",
    "\n",
    "    def get_length(self):\n",
    "        return self.length\n",
    "\n",
    "    # time  complexity of finding the length is O(n) where n is number of items in the linked list\n",
    "    \"\"\"Insertion in the Linked list\n",
    "\n",
    "        It has three cases:\n",
    "        1. Insertion at the beginning\n",
    "        2. Inserting at the end of the linked list\n",
    "        3. Inserting in the middle at any given position\"\"\"\n",
    "\n",
    "    def insertion_at_beginning(self, data):\n",
    "        new_node = Node()\n",
    "        new_node.set_data(data)\n",
    "\n",
    "        if self.length == 0:\n",
    "            self.head = new_node\n",
    "\n",
    "        else:\n",
    "            new_node.set_next(self.head)\n",
    "            self.head = new_node\n",
    "\n",
    "        self.length += 1\n",
    "\n",
    "    def insertion_at_end(self, data):\n",
    "\n",
    "        new_node = Node()\n",
    "        new_node.set_data(data)\n",
    "\n",
    "        if self.head == None:\n",
    "            self.head = new_node\n",
    "\n",
    "        else:\n",
    "            current = self.head\n",
    "\n",
    "            while current.get_next() != None:\n",
    "                current = current.get_next()\n",
    "\n",
    "            current.set_next(new_node)\n",
    "\n",
    "        self.length += 1\n",
    "\n",
    "    def insertion_at_given_position(self, pos, data):\n",
    "\n",
    "        # Edge cases\n",
    "        if pos > self.length or pos < 0:\n",
    "            print(\"Length is not correct\")\n",
    "            return\n",
    "\n",
    "        if pos == 0:\n",
    "            self.insertion_at_beginning(data)\n",
    "\n",
    "        elif pos == self.length:\n",
    "            self.insertion_at_end(data)\n",
    "\n",
    "        else:\n",
    "            new_node = Node()\n",
    "            new_node.set_data(data)\n",
    "            '''Finding the position before the node and assuming that list starts from count 0'''\n",
    "            current = self.head\n",
    "            count = 0\n",
    "\n",
    "            while count < pos - 1:\n",
    "                current = current.get_next()\n",
    "                count += 1\n",
    "\n",
    "            new_node.set_next(current.get_next())\n",
    "            current.set_next(new_node)\n",
    "\n",
    "        self.length += 1\n",
    "        \"\"\"Deletion in the Linked list\n",
    "\n",
    "            It has three cases:\n",
    "            1. Deletion at the beginning\n",
    "            2. Deletion at the end of the linked list\n",
    "            3. Deletion in the middle\"\"\"\n",
    "\n",
    "    def deletion_from_beginning(self):\n",
    "\n",
    "        if self.head is not None:\n",
    "\n",
    "            temp = self.head\n",
    "            self.head = temp.get_next()\n",
    "            temp.set_next(None)\n",
    "            self.length -= 1\n",
    "\n",
    "        else:\n",
    "            print(\"List is empty!\")\n",
    "\n",
    "    def deletion_at_end(self):\n",
    "\n",
    "        if self.head is not None:\n",
    "\n",
    "            current = self.head\n",
    "            prev = self.head\n",
    "\n",
    "            while current.get_next() is not None:\n",
    "                prev = current\n",
    "                current = current.get_next()\n",
    "\n",
    "            prev.set_next(None)\n",
    "            self.length -= 1\n",
    "\n",
    "        else:\n",
    "            print(\"List is empty\")\n",
    "\n",
    "    def deletion_by_data(self, data):\n",
    "\n",
    "        if self.head.get_next() is None and self.head.get_data() == data:\n",
    "            self.head = None\n",
    "            self.length -= 1\n",
    "\n",
    "        elif self.head.get_data() == data:\n",
    "            self.head = self.head.get_next()\n",
    "            self.length -= 1\n",
    "\n",
    "        elif self.head is not None:\n",
    "\n",
    "            prev = current = self.head\n",
    "\n",
    "            while current != None:\n",
    "\n",
    "                if current.get_data() == data:\n",
    "\n",
    "                    prev.set_next(current.get_next())\n",
    "                    self.length -= 1\n",
    "                    return\n",
    "\n",
    "                else:\n",
    "                    prev = current\n",
    "                    current = current.get_next()\n",
    "\n",
    "            print(\"The value of data is not provided\")\n",
    "\n",
    "        else:\n",
    "            raise ValueError(\"List is Empty!\")\n",
    "\n",
    "    def deletion_by_position(self, pos):\n",
    "\n",
    "        if pos > self.length:\n",
    "            pos = self.length\n",
    "\n",
    "        elif pos < 0:\n",
    "            pos = 0\n",
    "\n",
    "        elif pos == 0:\n",
    "            self.deletion_from_beginning()\n",
    "\n",
    "        elif self.length == pos:\n",
    "            self.deletion_at_end()\n",
    "\n",
    "        else:\n",
    "\n",
    "            count = 0\n",
    "            current = self.head\n",
    "            prev = self.head\n",
    "\n",
    "            while count != pos:\n",
    "\n",
    "                prev = current\n",
    "                current = current.get_next()\n",
    "                count += 1\n",
    "\n",
    "            prev.set_next(current.get_next())\n",
    "            self.length -= 1\n",
    "\n",
    "\n",
    "#             # Alternative\n",
    "\n",
    "#             while count != pos-1:\n",
    "#                 current = current.get_next()\n",
    "\n",
    "#             current.set_next(current.get_next().get_next())\n",
    "#             self.length -= 1\n",
    "\n",
    "    def clear(self):\n",
    "        self.head = None\n",
    "        \n",
    "    def get_head(self):\n",
    "        return self.head\n",
    "\n",
    "    def print_linked_list(self):\n",
    "\n",
    "        current = self.head\n",
    "\n",
    "        while current is not None:\n",
    "            print(\"Data: \", current.get_data())\n",
    "            current = current.get_next()\n",
    "            \n",
    "    def get_node_by_index(self, index):\n",
    "        \n",
    "        count = 1\n",
    "        current = self.head\n",
    "        \n",
    "        while count != index:\n",
    "            \n",
    "            current = current.get_next()\n",
    "            count += 1\n",
    "            \n",
    "        return current\n",
    "        \n",
    "    \n",
    "    \n",
    "            "
   ]
  },
  {
   "cell_type": "code",
   "execution_count": 3,
   "metadata": {},
   "outputs": [
    {
     "name": "stdout",
     "output_type": "stream",
     "text": [
      "Data:  2\n",
      "Data:  5\n",
      "Data:  6\n",
      "Data:  7\n",
      "Data:  8\n",
      "Data:  9\n"
     ]
    }
   ],
   "source": [
    "def convert_array_to_linked_list(arr):\n",
    "\n",
    "    if arr is not None:\n",
    "\n",
    "        head = prev_node = Node(None, arr[0])\n",
    "\n",
    "        for index in range(1, len(arr)):\n",
    "\n",
    "            current_node = Node(None, arr[index])\n",
    "            prev_node.set_next(current_node)\n",
    "            prev_node = current_node\n",
    "\n",
    "        return head\n",
    "    \n",
    "def print_linked_list(head):\n",
    "\n",
    "    current = head\n",
    "\n",
    "    while current is not None:\n",
    "        print(\"Data: \", current.get_data())\n",
    "        current = current.get_next()\n",
    "\n",
    "\n",
    "arr = convert_array_to_linked_list([2, 5, 6, 7, 8, 9])\n",
    "\n",
    "singly_linked_list = LinkedList(arr)\n",
    "singly_linked_list.print_linked_list()\n",
    "\n"
   ]
  },
  {
   "cell_type": "code",
   "execution_count": 4,
   "metadata": {},
   "outputs": [
    {
     "name": "stdout",
     "output_type": "stream",
     "text": [
      "Data:  2\n",
      "Data:  5\n",
      "Data:  6\n",
      "Data:  7\n",
      "Data:  8\n"
     ]
    }
   ],
   "source": [
    "singly_linked_list.deletion_at_end()\n",
    "singly_linked_list.print_linked_list()"
   ]
  },
  {
   "cell_type": "code",
   "execution_count": 5,
   "metadata": {},
   "outputs": [
    {
     "name": "stdout",
     "output_type": "stream",
     "text": [
      "Data:  5\n",
      "Data:  6\n",
      "Data:  7\n",
      "Data:  8\n"
     ]
    }
   ],
   "source": [
    "singly_linked_list.deletion_from_beginning()\n",
    "singly_linked_list.print_linked_list()"
   ]
  },
  {
   "cell_type": "code",
   "execution_count": 6,
   "metadata": {},
   "outputs": [
    {
     "name": "stdout",
     "output_type": "stream",
     "text": [
      "Data:  5\n",
      "Data:  6\n",
      "Data:  8\n"
     ]
    }
   ],
   "source": [
    "singly_linked_list.deletion_by_position(2)\n",
    "singly_linked_list.print_linked_list()"
   ]
  },
  {
   "cell_type": "code",
   "execution_count": 7,
   "metadata": {},
   "outputs": [
    {
     "name": "stdout",
     "output_type": "stream",
     "text": [
      "The value of data is not provided\n",
      "Data:  5\n",
      "Data:  6\n",
      "Data:  8\n"
     ]
    }
   ],
   "source": [
    "singly_linked_list.deletion_by_data(7)\n",
    "singly_linked_list.print_linked_list()"
   ]
  },
  {
   "cell_type": "code",
   "execution_count": 8,
   "metadata": {},
   "outputs": [
    {
     "name": "stdout",
     "output_type": "stream",
     "text": [
      "Data:  7\n",
      "Data:  5\n",
      "Data:  6\n",
      "Data:  8\n"
     ]
    }
   ],
   "source": [
    "singly_linked_list.insertion_at_beginning(7)\n",
    "singly_linked_list.print_linked_list()"
   ]
  },
  {
   "cell_type": "code",
   "execution_count": 9,
   "metadata": {},
   "outputs": [
    {
     "name": "stdout",
     "output_type": "stream",
     "text": [
      "Data:  7\n",
      "Data:  5\n",
      "Data:  6\n",
      "Data:  8\n",
      "Data:  17\n"
     ]
    }
   ],
   "source": [
    "singly_linked_list.insertion_at_end(17)\n",
    "singly_linked_list.print_linked_list()"
   ]
  },
  {
   "cell_type": "code",
   "execution_count": 10,
   "metadata": {},
   "outputs": [
    {
     "name": "stdout",
     "output_type": "stream",
     "text": [
      "Length is not correct\n",
      "Data:  7\n",
      "Data:  5\n",
      "Data:  6\n",
      "Data:  8\n",
      "Data:  17\n"
     ]
    }
   ],
   "source": [
    "singly_linked_list.insertion_at_given_position(90, 90)\n",
    "singly_linked_list.print_linked_list()"
   ]
  },
  {
   "cell_type": "code",
   "execution_count": 11,
   "metadata": {},
   "outputs": [
    {
     "name": "stdout",
     "output_type": "stream",
     "text": [
      "5\n"
     ]
    }
   ],
   "source": [
    "print(singly_linked_list.get_length())\n",
    "head = singly_linked_list.get_head()"
   ]
  },
  {
   "cell_type": "markdown",
   "metadata": {},
   "source": [
    "# Singly Linked List Questions"
   ]
  },
  {
   "cell_type": "markdown",
   "metadata": {},
   "source": [
    "### Find the nth node from the end of LinkedList\n",
    "\n",
    "One way could be to find the length of the linked list and then to find the M - n + 1 node.\n",
    "\n",
    "Time complexity for finding the length of the linked list is O(n)\n",
    "Time complexity for finding the nth node would be O(n)\n",
    "\n",
    "Final complexity would be O(n)"
   ]
  },
  {
   "cell_type": "code",
   "execution_count": 12,
   "metadata": {},
   "outputs": [],
   "source": [
    "def find_the_node_at_pos_from_end(head, pos):\n",
    "\n",
    "    # base cases\n",
    "\n",
    "    if head is None:\n",
    "        return\n",
    "\n",
    "    elif pos < 0:\n",
    "        return\n",
    "\n",
    "    # find the length of the list\n",
    "\n",
    "    current = head\n",
    "    length = 0\n",
    "\n",
    "    while current is not None:\n",
    "        current = current.get_next()\n",
    "        length += 1\n",
    "\n",
    "    if pos > length:\n",
    "        return\n",
    "\n",
    "    node_from_end_pos = length - pos + 1\n",
    "    current = head\n",
    "    count = 1\n",
    "\n",
    "    while count < node_from_end_pos:\n",
    "        current = current.get_next()\n",
    "        count += 1\n",
    "\n",
    "    return current"
   ]
  },
  {
   "cell_type": "code",
   "execution_count": 13,
   "metadata": {},
   "outputs": [
    {
     "name": "stdout",
     "output_type": "stream",
     "text": [
      "Data:  7\n",
      "Data:  5\n",
      "Data:  6\n",
      "Data:  8\n",
      "Data:  17\n",
      "The node at position 2 from end is 8\n"
     ]
    }
   ],
   "source": [
    "pos = 2\n",
    "singly_linked_list.print_linked_list()\n",
    "node = find_the_node_at_pos_from_end(head, pos)\n",
    "print(\"The node at position %d from end is %d\" % (pos, node.get_data()))"
   ]
  },
  {
   "cell_type": "markdown",
   "metadata": {},
   "source": [
    "### If we have to execute the algorithm in one scan without finding the length of the list. \n",
    "For example, if we have to find the 2nd node in any list.\n",
    "We can do it by keeping two pointers temp and nth pointers. Move the temp pointer 2 steps and then move both the pointers until we get the end of the list for temp pointer.  Then the nth pointer will be at the 2nd last node of the list."
   ]
  },
  {
   "cell_type": "code",
   "execution_count": 14,
   "metadata": {},
   "outputs": [
    {
     "name": "stdout",
     "output_type": "stream",
     "text": [
      "Data:  7\n",
      "Data:  5\n",
      "Data:  6\n",
      "Data:  8\n",
      "Data:  17\n",
      "The node at position 5 from end is 7\n"
     ]
    }
   ],
   "source": [
    "def find_node_at_pos_from_end_one_scan(head, pos):\n",
    "    # base cases\n",
    "\n",
    "    if pos < 0:\n",
    "        return\n",
    "\n",
    "    # list is empty\n",
    "    elif head is None:\n",
    "        return\n",
    "\n",
    "    temp = nth = head\n",
    "\n",
    "    # first lets move the temp pointer\n",
    "    count = 1\n",
    "    while count < pos:\n",
    "        count += 1\n",
    "        temp = temp.get_next()\n",
    "\n",
    "    while temp.get_next() is not None:\n",
    "\n",
    "        temp = temp.get_next()\n",
    "        nth = nth.get_next()\n",
    "\n",
    "    return nth.get_data()\n",
    "\n",
    "\n",
    "pos = 5\n",
    "singly_linked_list.print_linked_list()\n",
    "node = find_node_at_pos_from_end_one_scan(head, pos)\n",
    "print(\"The node at position %d from end is %d\" % (pos, node))"
   ]
  },
  {
   "cell_type": "markdown",
   "metadata": {},
   "source": [
    "# Problem: Check whether the linkedlist has a cycle or not\n",
    "\n",
    "Solution: Floyd's cycle detection algorithm\n",
    "\n",
    "Use two pointer's slow and fast. Let the slow pointer take one step at a time and the fast one take 2 steps at a time. If they both meet, then the linkedlist has a cycle else not"
   ]
  },
  {
   "cell_type": "code",
   "execution_count": 15,
   "metadata": {},
   "outputs": [],
   "source": [
    "def check_for_loops_with_floyd(head):\n",
    "\n",
    "    # base cases\n",
    "    if head == None or head.get_next() == None:\n",
    "        return\n",
    "\n",
    "    try:\n",
    "        slow = head.get_next()\n",
    "        fast = head.get_next().get_next()\n",
    "\n",
    "        while slow != fast:\n",
    "            slow = slow.get_next()\n",
    "            fast = fast.get_next().get_next()\n",
    "\n",
    "        print(\"Cycle exists!\")\n",
    "\n",
    "        #finding the length of the cycle\n",
    "        # keep the fast pointer as is and move the slow pointer until it meets the fast pointer\n",
    "        slow = slow.get_next()\n",
    "        count = 1\n",
    "        \n",
    "        while slow != fast:\n",
    "            slow = slow.get_next()\n",
    "            count = count + 1\n",
    "\n",
    "        # finding the start node of the cycle\n",
    "        # Initialize slow to head and move one step at a time. Wherever both the pointers meet is the start node of the cycle\n",
    "\n",
    "        slow = head\n",
    "\n",
    "        while slow != fast:\n",
    "\n",
    "            slow = slow.get_next()\n",
    "            fast = fast.get_next()\n",
    "\n",
    "        return slow.get_data(), count\n",
    "\n",
    "    except:\n",
    "        print(\"Cycle does not exists\")"
   ]
  },
  {
   "cell_type": "code",
   "execution_count": 16,
   "metadata": {},
   "outputs": [
    {
     "name": "stdout",
     "output_type": "stream",
     "text": [
      "3rd node 7\n",
      "7th node 4\n"
     ]
    }
   ],
   "source": [
    "# Create a linked list with cycle\n",
    "\n",
    "loop_list = convert_array_to_linked_list([9,8,7,61,6,5,4])\n",
    "single_list = LinkedList(loop_list)\n",
    "\n",
    "looped_node = single_list.get_node_by_index(3)\n",
    "print(\"3rd node\", looped_node.get_data())\n",
    "\n",
    "last_node = single_list.get_node_by_index(7)\n",
    "print(\"7th node\", last_node.get_data())\n",
    "\n",
    "last_node.set_next(looped_node)"
   ]
  },
  {
   "cell_type": "code",
   "execution_count": 17,
   "metadata": {},
   "outputs": [
    {
     "name": "stdout",
     "output_type": "stream",
     "text": [
      "Cycle exists!\n",
      "The start node of the cycle is  7\n",
      "The length of the cycle is  5\n"
     ]
    }
   ],
   "source": [
    "data, count = check_for_loops_with_floyd(loop_list)\n",
    "print(\"The start node of the cycle is \", data)\n",
    "print(\"The length of the cycle is \", count)"
   ]
  },
  {
   "cell_type": "markdown",
   "metadata": {},
   "source": [
    "### Problem: Insert a node in a sorted linked list"
   ]
  },
  {
   "cell_type": "code",
   "execution_count": 18,
   "metadata": {},
   "outputs": [
    {
     "name": "stdout",
     "output_type": "stream",
     "text": [
      "Data:  1\n",
      "Data:  2\n",
      "Data:  3\n",
      "Data:  4\n",
      "Data:  5\n",
      "Data:  6\n",
      "Data:  7\n"
     ]
    }
   ],
   "source": [
    "def insert_node_in_sorted_linked_list(data):\n",
    "    \n",
    "    if head == None:\n",
    "        return\n",
    "    \n",
    "    prev = current= head\n",
    "    \n",
    "    while current.get_data() < data:\n",
    "        prev = current\n",
    "        current= current.get_next()\n",
    "        \n",
    "    new_node = Node(current,data) \n",
    "    prev.set_next(new_node)\n",
    "    \n",
    "    return head\n",
    "\n",
    "head = convert_array_to_linked_list([1,2,3,5,6,7])\n",
    "head = insert_node_in_sorted_linked_list(4)\n",
    "\n",
    "s = LinkedList(head)\n",
    "s.print_linked_list()\n",
    "\n",
    "        \n",
    "        "
   ]
  },
  {
   "cell_type": "markdown",
   "metadata": {},
   "source": [
    "# Problem: Finding if two lists are merged and finding the merge point"
   ]
  },
  {
   "cell_type": "code",
   "execution_count": 19,
   "metadata": {},
   "outputs": [],
   "source": [
    "def find_if_two_lists_are_merged(list1, list2):\n",
    "\n",
    "    if list1 == None or list2 == None:\n",
    "        return\n",
    "\n",
    "    dictionary = {}\n",
    "    current = list1\n",
    "\n",
    "    while current != None:\n",
    "\n",
    "        dictionary[current] = True\n",
    "        current = current.get_next()\n",
    "\n",
    "    current = list2\n",
    "\n",
    "    while None != current:\n",
    "\n",
    "        if dictionary.get(current) == True:\n",
    "            print(\"Lists merging point is %d\" % (current.get_data()))\n",
    "            break\n",
    "            \n",
    "        current = current.get_next()\n",
    "        \n",
    "\n",
    "            "
   ]
  },
  {
   "cell_type": "code",
   "execution_count": 20,
   "metadata": {},
   "outputs": [
    {
     "name": "stdout",
     "output_type": "stream",
     "text": [
      "Last node:  5\n",
      "Last node:  9\n",
      "Data:  10\n",
      "Data:  2\n",
      "Data:  90\n",
      "Data:  9\n",
      "Data:  99\n",
      "Data:  100\n"
     ]
    }
   ],
   "source": [
    "# creating 2 merged list\n",
    "\n",
    "list1 = convert_array_to_linked_list([2,3,4,5])\n",
    "list2 = convert_array_to_linked_list([10,2,90,9])\n",
    "new_node = Node(None, 99)\n",
    "\n",
    "\n",
    "first_list = LinkedList(list1)\n",
    "first_list_last_node = first_list.get_node_by_index(4)\n",
    "first_list_last_node.set_next(new_node)\n",
    "print(\"Last node: \", first_list_last_node.get_data())\n",
    "\n",
    "second_list = LinkedList(list2)\n",
    "second_list_last_node = second_list.get_node_by_index(4)\n",
    "print(\"Last node: \", second_list_last_node.get_data())\n",
    "second_list_last_node.set_next(new_node)\n",
    "\n",
    "next_node = Node(None, 100)\n",
    "new_node.set_next(next_node)\n",
    "\n",
    "second_list.print_linked_list()"
   ]
  },
  {
   "cell_type": "code",
   "execution_count": 21,
   "metadata": {},
   "outputs": [
    {
     "name": "stdout",
     "output_type": "stream",
     "text": [
      "Lists merging point is 99\n"
     ]
    }
   ],
   "source": [
    "find_if_two_lists_are_merged(list1, list2)"
   ]
  },
  {
   "cell_type": "code",
   "execution_count": 22,
   "metadata": {},
   "outputs": [
    {
     "name": "stdout",
     "output_type": "stream",
     "text": [
      "The merging point is 99\n"
     ]
    }
   ],
   "source": [
    "def find_if_two_lists_are_merged_by_dsteps(list1, list2):\n",
    "\n",
    "    current = list1\n",
    "    count1 = 0\n",
    "\n",
    "    while current is not None:\n",
    "        current = current.get_next()\n",
    "        count1 += 1\n",
    "\n",
    "    count2 = 0\n",
    "    current = list2\n",
    "\n",
    "    while current is not None:\n",
    "        current = current.get_next()\n",
    "        count2 += 1\n",
    "\n",
    "    if count1 > count2:\n",
    "        longer = list1\n",
    "        shorter = list2\n",
    "\n",
    "    else:\n",
    "        longer = list2\n",
    "        shorter = list1\n",
    "\n",
    "    diff = abs(count1 - count2)\n",
    "\n",
    "    count = 1\n",
    "    current = longer\n",
    "\n",
    "    while count < diff:\n",
    "        count += 1\n",
    "        current = current.get_next()\n",
    "\n",
    "    while current is not None or shorter is not None:\n",
    "\n",
    "        if current is shorter:\n",
    "            print(\"The merging point is %d\" % (current.get_data()))\n",
    "            break\n",
    "\n",
    "        current = current.get_next()\n",
    "        shorter = shorter.get_next()\n",
    "\n",
    "\n",
    "find_if_two_lists_are_merged_by_dsteps(list1, list2)"
   ]
  },
  {
   "cell_type": "markdown",
   "metadata": {},
   "source": [
    "# Find the middle point of the list\n",
    "\n",
    "One way is to find the length of the list and then traverse till the n/2 node. \n",
    "Time Complexity for traversing the list O(n) and locating the node is O(n)\n",
    "Space Complexity for O(1)\n",
    "\n",
    "Another way is to use two pointers. One is slow and one is fast pointer.\n",
    "Slow pointer takes one step at a time and fast pointer moves two steps at a time.\n",
    "\n",
    "\n"
   ]
  },
  {
   "cell_type": "code",
   "execution_count": 23,
   "metadata": {},
   "outputs": [
    {
     "name": "stdout",
     "output_type": "stream",
     "text": [
      "The middle point is  3\n"
     ]
    }
   ],
   "source": [
    "def find_mid_point_of_linked_list(list1):\n",
    "\n",
    "    # base cases\n",
    "\n",
    "    if list1 is None:\n",
    "        print(\"List is empty!\")\n",
    "        return\n",
    "\n",
    "    slow = fast = list1\n",
    "    \n",
    "    try:\n",
    "        while fast.get_next() is not None:\n",
    "\n",
    "            slow = slow.get_next()\n",
    "            fast = fast.get_next().get_next()\n",
    "\n",
    "    except:\n",
    "        pass\n",
    "\n",
    "    finally:\n",
    "        print(\"The middle point is \", slow.get_data())\n",
    "        \n",
    "list1 = convert_array_to_linked_list([1,2,3,4,5])\n",
    "find_mid_point_of_linked_list(list1)"
   ]
  },
  {
   "cell_type": "markdown",
   "metadata": {},
   "source": [
    "# Display linked list from the end\n",
    "\n",
    "I would like to solve this by recursion.\n",
    "Time Complexity O(n)\n",
    "Space Complexity O(n) of the stacks in memory"
   ]
  },
  {
   "cell_type": "code",
   "execution_count": 24,
   "metadata": {},
   "outputs": [
    {
     "name": "stdout",
     "output_type": "stream",
     "text": [
      "5\n",
      "4\n",
      "3\n",
      "2\n",
      "1\n"
     ]
    }
   ],
   "source": [
    "def display_linked_list_from_end(head):\n",
    "    \n",
    "    if head is None:\n",
    "        return\n",
    "    \n",
    "    display_linked_list_from_end(head.get_next())\n",
    "    print(head.get_data())\n",
    "    \n",
    "\n",
    "list1 = convert_array_to_linked_list([1,2,3,4,5])\n",
    "display_linked_list_from_end(list1)"
   ]
  },
  {
   "cell_type": "markdown",
   "metadata": {},
   "source": [
    "# Check whether given linked list is even or odd"
   ]
  },
  {
   "cell_type": "code",
   "execution_count": 25,
   "metadata": {},
   "outputs": [
    {
     "name": "stdout",
     "output_type": "stream",
     "text": [
      "List is even\n"
     ]
    }
   ],
   "source": [
    "def check_if_list_is_even_or_odd(head):\n",
    "\n",
    "    if head == None:\n",
    "        print(\"List is empty!\")\n",
    "        return\n",
    "\n",
    "    current = head\n",
    "\n",
    "    while current is not None and current.get_next() is not None:\n",
    "\n",
    "        current = current.get_next().get_next()\n",
    "\n",
    "    if current is None:\n",
    "        print(\"List is even\")\n",
    "    else:\n",
    "        print(\"List is odd\")\n",
    "\n",
    "\n",
    "head = convert_array_to_linked_list([1, 2, 3, 4])\n",
    "check_if_list_is_even_or_odd(head)"
   ]
  },
  {
   "cell_type": "markdown",
   "metadata": {},
   "source": [
    "# Given two sorted linkedlist. Merge them into a third list which should be sorted"
   ]
  },
  {
   "cell_type": "code",
   "execution_count": 26,
   "metadata": {},
   "outputs": [
    {
     "name": "stdout",
     "output_type": "stream",
     "text": [
      "Data:  1\n",
      "Data:  2\n",
      "Data:  2\n",
      "Data:  3\n",
      "Data:  4\n",
      "Data:  6\n",
      "Data:  7\n"
     ]
    }
   ],
   "source": [
    "def merge_into_sorted_linked_list(list1, list2):\n",
    "\n",
    "    if list1 is None:\n",
    "        return list2\n",
    "\n",
    "    elif list2 is None:\n",
    "        return list2\n",
    "\n",
    "    elif list1 is None and list2 is None:\n",
    "        return\n",
    "\n",
    "    head1 = list1\n",
    "    head2 = list2\n",
    "    head3 = Node(None, 0)  # maintaining the head\n",
    "    temp = head3\n",
    "\n",
    "    while head1 != None and head2 != None:\n",
    "        \n",
    "        if head1.get_data() < head2.get_data():\n",
    "            \n",
    "            curr = head1\n",
    "            \n",
    "            head1 = head1.get_next()\n",
    "            \n",
    "        else:\n",
    "            curr = head2\n",
    "           \n",
    "            head2 = head2.get_next()\n",
    "            \n",
    "        head3.set_next(curr)\n",
    "        head3 = head3.get_next() #move the third list pointer as well\n",
    "        \n",
    "    if head1:\n",
    "        head3.set_next(head1)\n",
    "\n",
    "    else:\n",
    "        head3.set_next(head2)\n",
    "\n",
    "    return temp.get_next()\n",
    "\n",
    "list1 = convert_array_to_linked_list([2,3,6,7])\n",
    "list2 = convert_array_to_linked_list([1,2,4])\n",
    "\n",
    "list3 = merge_into_sorted_linked_list(list1, list2)\n",
    "print_linked_list(list3)"
   ]
  },
  {
   "cell_type": "markdown",
   "metadata": {},
   "source": [
    "# Reverse a Singly Linked List"
   ]
  },
  {
   "cell_type": "code",
   "execution_count": 27,
   "metadata": {},
   "outputs": [
    {
     "name": "stdout",
     "output_type": "stream",
     "text": [
      "Data:  5\n",
      "Data:  4\n",
      "Data:  3\n",
      "Data:  2\n",
      "Data:  1\n"
     ]
    }
   ],
   "source": [
    "def reverse_singly_linked_list(head):\n",
    "    \n",
    "    if head is None:\n",
    "        return\n",
    "    \n",
    "    prev = None\n",
    "    current = head\n",
    "    nexti = head.get_next()\n",
    "    \n",
    "    while current is not None:\n",
    "        nexti = current.get_next()\n",
    "        current.set_next(prev)\n",
    "        prev = current\n",
    "        current = nexti\n",
    "        \n",
    "    return prev\n",
    "\n",
    "arr = convert_array_to_linked_list([1,2,3,4,5])\n",
    "print_linked_list(reverse_singly_linked_list(arr))\n",
    "        "
   ]
  },
  {
   "cell_type": "markdown",
   "metadata": {},
   "source": [
    "# Reverse a linked list in pairs "
   ]
  },
  {
   "cell_type": "code",
   "execution_count": 28,
   "metadata": {},
   "outputs": [
    {
     "name": "stdout",
     "output_type": "stream",
     "text": [
      "Data:  2\n",
      "Data:  1\n",
      "Data:  4\n",
      "Data:  3\n",
      "Data:  5\n"
     ]
    }
   ],
   "source": [
    "def swap(a, b):\n",
    "    temp = a.get_data()\n",
    "    a.set_data(b.get_data())\n",
    "    b.set_data(temp)\n",
    "    return a\n",
    "\n",
    "\n",
    "def reverse_pairs(head):\n",
    "\n",
    "    if head is None:\n",
    "        return\n",
    "    \n",
    "    temp = head\n",
    "    \n",
    "    while temp is not None and temp.get_next() is not None:\n",
    "        temp = swap(temp, temp.get_next())\n",
    "        temp = temp.get_next().get_next()\n",
    "        \n",
    "    return head\n",
    "\n",
    "arr = convert_array_to_linked_list([1,2,3,4,5])\n",
    "print_linked_list(reverse_pairs(arr))\n",
    "        "
   ]
  },
  {
   "cell_type": "markdown",
   "metadata": {},
   "source": [
    "# Spilt a singly Linked List in two parts. If the list is odd, middle should be one extra.\n"
   ]
  },
  {
   "cell_type": "code",
   "execution_count": 29,
   "metadata": {},
   "outputs": [
    {
     "name": "stdout",
     "output_type": "stream",
     "text": [
      "Data:  1\n",
      "Data:  2\n",
      "Data:  3\n",
      "-----\n",
      "Data:  4\n",
      "Data:  5\n"
     ]
    }
   ],
   "source": [
    "def split_the_list(head):\n",
    "\n",
    "    if head is None:\n",
    "        return\n",
    "\n",
    "    fast = slow = head\n",
    "    prev = head\n",
    "\n",
    "    while fast is not None and fast.get_next() is not None:\n",
    "        prev = slow\n",
    "        slow = slow.get_next()\n",
    "        fast = fast.get_next().get_next()\n",
    "\n",
    "    if fast:\n",
    "        middle = slow.get_next()\n",
    "        slow.set_next(None)\n",
    "\n",
    "    else:\n",
    "        middle = slow\n",
    "        prev.set_next(None)\n",
    "\n",
    "    return head, middle\n",
    "\n",
    "\n",
    "head = convert_array_to_linked_list([1, 2, 3, 4, 5])\n",
    "head, middle = split_the_list(head)\n",
    "print_linked_list(head)\n",
    "print(\"-----\")\n",
    "print_linked_list(middle)\n",
    "\n",
    "# Time complexity is O(n)"
   ]
  },
  {
   "cell_type": "markdown",
   "metadata": {},
   "source": [
    "# Check if a linkedlist is palindrome or not\n",
    "\n",
    "Break the list into two parts. If the list is odd remove the middle element. Reverse the second half and compare both lists one by one.\n",
    "\n",
    "if both are equal, then it is a palindrome"
   ]
  },
  {
   "cell_type": "code",
   "execution_count": 30,
   "metadata": {},
   "outputs": [
    {
     "name": "stdout",
     "output_type": "stream",
     "text": [
      "List is Palindrome\n"
     ]
    }
   ],
   "source": [
    "def check_if_palindrome_list(head):\n",
    "\n",
    "    if head is None:\n",
    "        return\n",
    "\n",
    "    slow = fast = prev = head\n",
    "\n",
    "    while fast is not None and fast.get_next() is not None:\n",
    "\n",
    "        prev = slow\n",
    "        slow = slow.get_next()\n",
    "        fast = fast.get_next().get_next()\n",
    "\n",
    "    # check whether list is even or odd\n",
    "    if fast:\n",
    "\n",
    "        middle = slow.get_next()\n",
    "        prev.set_next(None)\n",
    "\n",
    "    else:\n",
    "        middle = slow\n",
    "        prev.set_next(None)\n",
    "\n",
    "    head2 = reverse_singly_linked_list(middle)\n",
    "\n",
    "    temp = head\n",
    "    while temp.get_next():\n",
    "\n",
    "        if temp.get_data() != head2.get_data():\n",
    "            return False\n",
    "        temp = temp.get_next()\n",
    "    return True\n",
    "\n",
    "\n",
    "arr = convert_array_to_linked_list([1, 2, 2, 1])\n",
    "flag = check_if_palindrome_list(arr)\n",
    "print(\"List is Palindrome\" if flag else \"List is not Palindrome!\")"
   ]
  },
  {
   "cell_type": "markdown",
   "metadata": {},
   "source": [
    "# Reverse k blocks of the Linked List\n"
   ]
  },
  {
   "cell_type": "code",
   "execution_count": 31,
   "metadata": {},
   "outputs": [
    {
     "name": "stdout",
     "output_type": "stream",
     "text": [
      "Data:  10\n",
      "Data:  9\n",
      "Data:  8\n",
      "Data:  7\n",
      "Data:  6\n",
      "Data:  5\n",
      "Data:  4\n",
      "Data:  3\n",
      "Data:  2\n",
      "Data:  1\n"
     ]
    }
   ],
   "source": [
    "def get_node(head, k):\n",
    "\n",
    "    current = head\n",
    "    count = 1\n",
    "\n",
    "    while count < k and current.get_next() is not None:\n",
    "        count += 1\n",
    "        current = current.get_next()\n",
    "\n",
    "    return current\n",
    "\n",
    "\n",
    "def reverse_kblocks_of_linked_list(head, k):\n",
    "\n",
    "    if head is None:\n",
    "        return\n",
    "    first_node = Node(head, 0)\n",
    "\n",
    "    current = first_node.get_next()\n",
    "    prev = first_node # to maintain the copy of the prev node\n",
    "    \n",
    "    while current is not None and current.get_next() is not None:\n",
    "\n",
    "        temp = get_node(current, k)\n",
    "\n",
    "        next_node = temp.get_next()\n",
    "        temp.set_next(None)\n",
    "\n",
    "        new_head = reverse_singly_linked_list(current)\n",
    "        prev.set_next(new_head)\n",
    "\n",
    "        last_node = get_node(new_head, k)\n",
    "        last_node.set_next(next_node)\n",
    "        prev = last_node\n",
    "        current = next_node\n",
    "\n",
    "    return first_node.get_next()\n",
    "\n",
    "\n",
    "arr = convert_array_to_linked_list([1, 2, 3, 4, 5, 6, 7, 8, 9, 10])\n",
    "head = reverse_kblocks_of_linked_list(arr, 11)\n",
    "print_linked_list(head)"
   ]
  },
  {
   "cell_type": "markdown",
   "metadata": {},
   "source": [
    "# Write an algorithm such that all even numbers in the list appear in the beginning\n"
   ]
  },
  {
   "cell_type": "code",
   "execution_count": 32,
   "metadata": {},
   "outputs": [
    {
     "name": "stdout",
     "output_type": "stream",
     "text": [
      "Data:  8\n",
      "Data:  6\n",
      "Data:  4\n",
      "Data:  2\n",
      "Data:  3\n",
      "Data:  5\n",
      "Data:  7\n",
      "Data:  9\n"
     ]
    }
   ],
   "source": [
    "def even_numbers_at_beginning(head):\n",
    "\n",
    "    if head is None:\n",
    "        return\n",
    "\n",
    "    current = head\n",
    "    prev = None\n",
    "    count = 0\n",
    "\n",
    "    while current is not None:\n",
    "        if current.get_data() % 2 == 0 and count != 0:\n",
    "            # list is even\n",
    "            # 1. delete the node\n",
    "            temp = Node(None, current.get_data())\n",
    "            # I made a new node because the temp was pointing to the same address as current. Later we made\n",
    "            # temp head\n",
    "            prev.set_next(current.get_next())\n",
    "\n",
    "            # 2. Insert at beginning\n",
    "            temp.set_next(head)\n",
    "            head = temp\n",
    "\n",
    "        count += 1\n",
    "        prev = current\n",
    "        current = current.get_next()\n",
    "\n",
    "    return head\n",
    "\n",
    "\n",
    "arr = convert_array_to_linked_list([2, 3, 4, 5, 6, 7, 8, 9])\n",
    "print_linked_list(even_numbers_at_beginning(arr))"
   ]
  },
  {
   "cell_type": "markdown",
   "metadata": {},
   "source": [
    "# Find the last element from the beginning whose n%k ==0\n",
    "where n is total number of elements and k is an integer. For example,if n = 19 and k is 3 , then it is the 18th node\n"
   ]
  },
  {
   "cell_type": "code",
   "execution_count": 33,
   "metadata": {},
   "outputs": [
    {
     "name": "stdout",
     "output_type": "stream",
     "text": [
      "8\n"
     ]
    }
   ],
   "source": [
    "def modular_node_from_begin(head, k):\n",
    "    if head is None or k <= 0:\n",
    "        return\n",
    "\n",
    "    current = head\n",
    "    modular_node = None\n",
    "    count = 1\n",
    "    \n",
    "    while current is not None:\n",
    "        \n",
    "        if count % k == 0:\n",
    "            modular_node = current\n",
    "\n",
    "        current = current.get_next()\n",
    "        count += 1\n",
    "        \n",
    "    return modular_node.get_data()\n",
    "\n",
    "\n",
    "arr = convert_array_to_linked_list([1, 2, 3, 4, 5, 6, 7, 8])\n",
    "print(modular_node_from_begin(arr,4))\n",
    "\n",
    "# Time complexity is O(n) for traversing the whole list and space complexity is O(1)"
   ]
  },
  {
   "cell_type": "markdown",
   "metadata": {},
   "source": [
    "# Find the first element from the end whose n%k ==0\n",
    "For example, if n = 19 and n = 3, the first node would be the 16th node\n"
   ]
  },
  {
   "cell_type": "code",
   "execution_count": 34,
   "metadata": {},
   "outputs": [
    {
     "name": "stdout",
     "output_type": "stream",
     "text": [
      "7\n"
     ]
    }
   ],
   "source": [
    "def modular_node_from_end(head, k):\n",
    "\n",
    "    if head is None or k <= 0:\n",
    "        return\n",
    "\n",
    "    current = head\n",
    "    prev_modular_node = next_modular_node = head\n",
    "    count = 1\n",
    "\n",
    "    while current is not None:\n",
    "\n",
    "        if count % k == 0:\n",
    "            prev_modular_node = next_modular_node\n",
    "            next_modular_node = current.get_next()\n",
    "\n",
    "        current = current.get_next()\n",
    "        count += 1\n",
    "\n",
    "    return prev_modular_node.get_data()\n",
    "\n",
    "\n",
    "arr = convert_array_to_linked_list([1, 2, 3, 4, 5, 6, 7, 8, 9])\n",
    "print(modular_node_from_end(arr, 3))\n",
    "\n",
    "# Time complexity is O(n) for traversing the whole list and space complexity is O(1)"
   ]
  },
  {
   "cell_type": "markdown",
   "metadata": {},
   "source": [
    "# Find the fractional node i.e n/kth node."
   ]
  },
  {
   "cell_type": "code",
   "execution_count": 35,
   "metadata": {},
   "outputs": [
    {
     "name": "stdout",
     "output_type": "stream",
     "text": [
      "2\n"
     ]
    }
   ],
   "source": [
    "def fractional_node(head, k):\n",
    "    \n",
    "    if head is None or k <= 0:\n",
    "        return\n",
    "    \n",
    "    current = head\n",
    "    count = 1\n",
    "    fractional_node = None\n",
    "    \n",
    "    while current is not None:\n",
    "        \n",
    "        if count % k ==0:\n",
    "            fractional_node = head if fractional_node is None else fractional_node.get_next()\n",
    "            \n",
    "        current = current.get_next()\n",
    "        count +=1\n",
    "        \n",
    "    return fractional_node.get_data()\n",
    "\n",
    "arr = convert_array_to_linked_list([1,2,3,4,5,6,7,8])\n",
    "print(fractional_node(arr,3))\n",
    "\n"
   ]
  },
  {
   "cell_type": "markdown",
   "metadata": {},
   "source": [
    "# Find the square root node of linked list. \n",
    "Length is not known in advance"
   ]
  },
  {
   "cell_type": "code",
   "execution_count": 36,
   "metadata": {},
   "outputs": [
    {
     "name": "stdout",
     "output_type": "stream",
     "text": [
      "2\n"
     ]
    }
   ],
   "source": [
    "def sqrt_nth_node(head):\n",
    "\n",
    "    if head is None:\n",
    "        return\n",
    "\n",
    "    current = head\n",
    "    i = j = 1\n",
    "    sqrt_node = None\n",
    "\n",
    "    while current is not None:\n",
    "\n",
    "        if i == j * j:\n",
    "            if sqrt_node == None:\n",
    "                sqrt_node = head\n",
    "\n",
    "            else:\n",
    "                sqrt_node = sqrt_node.get_next()\n",
    "            j += 1\n",
    "\n",
    "        i += 1\n",
    "        current = current.get_next()\n",
    "\n",
    "    return sqrt_node.get_data()\n",
    "\n",
    "\n",
    "arr = convert_array_to_linked_list([1, 2, 3, 4])\n",
    "print(sqrt_nth_node(arr))"
   ]
  },
  {
   "cell_type": "markdown",
   "metadata": {},
   "source": [
    "# Sum of data of linked list with recursion"
   ]
  },
  {
   "cell_type": "code",
   "execution_count": 37,
   "metadata": {},
   "outputs": [
    {
     "name": "stdout",
     "output_type": "stream",
     "text": [
      "10\n"
     ]
    }
   ],
   "source": [
    "def recursive_sum(head):\n",
    "\n",
    "    if head is None:\n",
    "        return 0\n",
    "\n",
    "    return head.get_data() + recursive_sum(head.get_next())\n",
    "\n",
    "\n",
    "arr = convert_array_to_linked_list([1, 2, 3, 4])\n",
    "print(recursive_sum(arr))\n",
    "\n",
    "# Time Complexity = O(n)\n",
    "# Space Complexity = O(n)"
   ]
  },
  {
   "cell_type": "code",
   "execution_count": 38,
   "metadata": {},
   "outputs": [
    {
     "name": "stdout",
     "output_type": "stream",
     "text": [
      "4\n"
     ]
    }
   ],
   "source": [
    "def recursive_length(head):\n",
    "    if head is None:\n",
    "        return 0\n",
    "\n",
    "    return 1 + recursive_length(head.get_next())\n",
    "\n",
    "\n",
    "arr = convert_array_to_linked_list([1, 2, 3, 4])\n",
    "print(recursive_length(arr))\n",
    "\n",
    "# Time Complexity = O(n)\n",
    "# Space Complexity = O(n)"
   ]
  },
  {
   "cell_type": "markdown",
   "metadata": {},
   "source": [
    "# Remove duplicates from a sorted linked list"
   ]
  },
  {
   "cell_type": "code",
   "execution_count": 39,
   "metadata": {},
   "outputs": [
    {
     "name": "stdout",
     "output_type": "stream",
     "text": [
      "Data:  1\n",
      "Data:  2\n",
      "Data:  3\n",
      "Data:  4\n"
     ]
    }
   ],
   "source": [
    "def remove_duplicates(head):\n",
    "\n",
    "    if head is None:\n",
    "        return\n",
    "\n",
    "    current = head.get_next()\n",
    "    prev = head\n",
    "\n",
    "    while current is not None:\n",
    "\n",
    "        if prev.get_data() == current.get_data():\n",
    "            # delete the current node\n",
    "            prev.set_next(current.get_next())\n",
    "            \n",
    "        else:\n",
    "            prev = current\n",
    "\n",
    "        current = current.get_next()\n",
    "\n",
    "    return head\n",
    "\n",
    "\n",
    "arr = convert_array_to_linked_list([1, 2, 2, 3, 3, 4, 4, 4, 4, 4, 4, 4, 4])\n",
    "print_linked_list(remove_duplicates(arr))\n",
    "\n",
    "# Time Complexity = O(n)\n",
    "# Space Complexity = O(1)"
   ]
  },
  {
   "cell_type": "markdown",
   "metadata": {},
   "source": [
    "# Create a list in the following manner\n",
    "A1,A2, A3, A4, An-1, An.\n",
    "\n",
    "New list: A1,An,A2,An-1,..."
   ]
  },
  {
   "cell_type": "code",
   "execution_count": null,
   "metadata": {},
   "outputs": [],
   "source": [
    "def create_list_pattern(head):\n",
    "    \n",
    "    if head is None:\n",
    "        return\n",
    "    \n",
    "\n",
    "    \n",
    "def "
   ]
  }
 ],
 "metadata": {
  "kernelspec": {
   "display_name": "Python 3",
   "language": "python",
   "name": "python3"
  },
  "language_info": {
   "codemirror_mode": {
    "name": "ipython",
    "version": 3
   },
   "file_extension": ".py",
   "mimetype": "text/x-python",
   "name": "python",
   "nbconvert_exporter": "python",
   "pygments_lexer": "ipython3",
   "version": "3.7.2"
  },
  "varInspector": {
   "cols": {
    "lenName": 16,
    "lenType": 16,
    "lenVar": 40
   },
   "kernels_config": {
    "python": {
     "delete_cmd_postfix": "",
     "delete_cmd_prefix": "del ",
     "library": "var_list.py",
     "varRefreshCmd": "print(var_dic_list())"
    },
    "r": {
     "delete_cmd_postfix": ") ",
     "delete_cmd_prefix": "rm(",
     "library": "var_list.r",
     "varRefreshCmd": "cat(var_dic_list()) "
    }
   },
   "types_to_exclude": [
    "module",
    "function",
    "builtin_function_or_method",
    "instance",
    "_Feature"
   ],
   "window_display": false
  }
 },
 "nbformat": 4,
 "nbformat_minor": 2
}
