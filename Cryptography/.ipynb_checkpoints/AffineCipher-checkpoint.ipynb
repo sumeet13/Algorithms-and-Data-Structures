{
 "cells": [
  {
   "cell_type": "code",
   "execution_count": 14,
   "metadata": {},
   "outputs": [
    {
     "name": "stdout",
     "output_type": "stream",
     "text": [
      "[50, 16, 37, 37, 46, '!', 1, 33, 25, 28, 5, 1, 28, 5, 1, 4, 1, 8, 16, 5, 8]\n",
      "YqLLU!bHzCfbCfbebiqfi\n"
     ]
    }
   ],
   "source": [
    "a = 3\n",
    "b = 4\n",
    "m = 53\n",
    "text = \"Hello This is a test\"\n",
    "\n",
    "encrypted = []\n",
    "\n",
    "for t in text:\n",
    "    s = 0\n",
    "    if t.isupper():\n",
    "        s = (a*(ord(t)-ord('A') + 26)+b)%m\n",
    "        \n",
    "    elif t.islower():\n",
    "        s = (a*(ord(t)-ord('a'))+b)%m\n",
    "        \n",
    "    elif t==\" \":\n",
    "        s =(a*(52)+b)%m\n",
    "        \n",
    "    else:\n",
    "        s= t\n",
    "    \n",
    "    encrypted.append(s)\n",
    "    \n",
    "print(encrypted)\n",
    "\n",
    "result = \"\"\n",
    "for e in encrypted:\n",
    "    if str(e).isnumeric():\n",
    "        if e>25:\n",
    "            result+=chr(65+e-26)\n",
    "\n",
    "        elif e<26:\n",
    "            result+=chr(97+e)\n",
    "\n",
    "        elif e==52:\n",
    "            result+=\" \"\n",
    "        \n",
    "    else:\n",
    "        result+=e\n",
    " \n",
    "print(result)"
   ]
  },
  {
   "cell_type": "code",
   "execution_count": 9,
   "metadata": {},
   "outputs": [
    {
     "data": {
      "text/plain": [
       "'Y'"
      ]
     },
     "execution_count": 9,
     "metadata": {},
     "output_type": "execute_result"
    }
   ],
   "source": [
    "YqLLUbHzCfbCfbebiqfi"
   ]
  },
  {
   "cell_type": "code",
   "execution_count": null,
   "metadata": {},
   "outputs": [],
   "source": []
  }
 ],
 "metadata": {
  "kernelspec": {
   "display_name": "Python 3",
   "language": "python",
   "name": "python3"
  },
  "language_info": {
   "codemirror_mode": {
    "name": "ipython",
    "version": 3
   },
   "file_extension": ".py",
   "mimetype": "text/x-python",
   "name": "python",
   "nbconvert_exporter": "python",
   "pygments_lexer": "ipython3",
   "version": "3.7.2"
  },
  "varInspector": {
   "cols": {
    "lenName": 16,
    "lenType": 16,
    "lenVar": 40
   },
   "kernels_config": {
    "python": {
     "delete_cmd_postfix": "",
     "delete_cmd_prefix": "del ",
     "library": "var_list.py",
     "varRefreshCmd": "print(var_dic_list())"
    },
    "r": {
     "delete_cmd_postfix": ") ",
     "delete_cmd_prefix": "rm(",
     "library": "var_list.r",
     "varRefreshCmd": "cat(var_dic_list()) "
    }
   },
   "types_to_exclude": [
    "module",
    "function",
    "builtin_function_or_method",
    "instance",
    "_Feature"
   ],
   "window_display": false
  }
 },
 "nbformat": 4,
 "nbformat_minor": 2
}
