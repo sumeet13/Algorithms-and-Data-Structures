{
 "cells": [
  {
   "cell_type": "code",
   "execution_count": 29,
   "metadata": {},
   "outputs": [
    {
     "name": "stdout",
     "output_type": "stream",
     "text": [
      "deque([])\n",
      "deque([])\n"
     ]
    },
    {
     "data": {
      "text/plain": [
       "True"
      ]
     },
     "execution_count": 29,
     "metadata": {},
     "output_type": "execute_result"
    }
   ],
   "source": [
    "from collections import deque\n",
    "\n",
    "def isValid( s: str):\n",
    "    paranthesis = deque()\n",
    "\n",
    "    for i in s:\n",
    "        print(paranthesis)\n",
    "\n",
    "\n",
    "        if paranthesis and paranthesis[-1] =='(' and i == ')':\n",
    "            paranthesis.pop()\n",
    "\n",
    "        if paranthesis and paranthesis[-1] =='[' and i == ']':\n",
    "            paranthesis.pop() \n",
    "\n",
    "        if paranthesis and paranthesis[-1] =='{' and i == '}':\n",
    "            paranthesis.pop()\n",
    "            \n",
    "        if i in ('(','{','['):\n",
    "            paranthesis.append(i)\n",
    "\n",
    "    print(paranthesis)\n",
    "    return False if paranthesis else True\n",
    "\n",
    "\n",
    "isValid(']')"
   ]
  },
  {
   "cell_type": "code",
   "execution_count": null,
   "metadata": {},
   "outputs": [],
   "source": []
  }
 ],
 "metadata": {
  "kernelspec": {
   "display_name": "Python 3",
   "language": "python",
   "name": "python3"
  },
  "language_info": {
   "codemirror_mode": {
    "name": "ipython",
    "version": 3
   },
   "file_extension": ".py",
   "mimetype": "text/x-python",
   "name": "python",
   "nbconvert_exporter": "python",
   "pygments_lexer": "ipython3",
   "version": "3.7.2"
  },
  "varInspector": {
   "cols": {
    "lenName": 16,
    "lenType": 16,
    "lenVar": 40
   },
   "kernels_config": {
    "python": {
     "delete_cmd_postfix": "",
     "delete_cmd_prefix": "del ",
     "library": "var_list.py",
     "varRefreshCmd": "print(var_dic_list())"
    },
    "r": {
     "delete_cmd_postfix": ") ",
     "delete_cmd_prefix": "rm(",
     "library": "var_list.r",
     "varRefreshCmd": "cat(var_dic_list()) "
    }
   },
   "types_to_exclude": [
    "module",
    "function",
    "builtin_function_or_method",
    "instance",
    "_Feature"
   ],
   "window_display": false
  }
 },
 "nbformat": 4,
 "nbformat_minor": 2
}
